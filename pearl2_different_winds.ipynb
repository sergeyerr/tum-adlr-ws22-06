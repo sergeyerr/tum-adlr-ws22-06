{
 "cells": [
  {
   "cell_type": "code",
   "execution_count": 8,
   "metadata": {},
   "outputs": [
    {
     "name": "stdout",
     "output_type": "stream",
     "text": [
      "The autoreload extension is already loaded. To reload it, use:\n",
      "  %reload_ext autoreload\n"
     ]
    }
   ],
   "source": [
    "%load_ext autoreload\n",
    "%autoreload 2\n",
    "import ipywidgets as widgets\n",
    "from ipywidgets import HBox, VBox\n",
    "import gymnasium as gym\n",
    "from agents import SACAgent2\n",
    "from omegaconf import DictConfig, OmegaConf\n",
    "from hydra import compose, initialize\n",
    "import matplotlib.pyplot as plt\n",
    "from IPython.display import clear_output\n",
    "import os\n",
    "import wandb\n",
    "import torch as T\n",
    "from gymnasium.wrappers import RecordVideo\n",
    "from EnvironmentUtils import LunarEnvHypercubeFabric, LunarEnvRandomFabric, LunarEnvFixedFabric, ValidationHypercube, DetermenisticResetWrapper, RandomWindOnResetWrapper\n",
    "from agents import SACAgent2, DDPGAgent, SACAgent, PEARLAgent\n",
    "import numpy as np\n",
    "from utils import *\n",
    "os.environ[\"SDL_VIDEODRIVER\"] = \"dummy\"\n",
    "import plotly.express as px\n",
    "import pandas as pd\n",
    "import shutil\n",
    "import seaborn as sns\n",
    "sns.set(rc={'figure.figsize':(11.7,8.27)})"
   ]
  },
  {
   "cell_type": "code",
   "execution_count": 2,
   "metadata": {},
   "outputs": [],
   "source": [
    "import wandb\n",
    "api = wandb.Api()\n",
    "# vanilla pearl best run\n",
    "#run = api.run(\"tum-adlr-ws22-06/ADLR randomized envs/2eqd07v7\")"
   ]
  },
  {
   "cell_type": "code",
   "execution_count": 3,
   "metadata": {},
   "outputs": [],
   "source": [
    "#runs = [...]\n",
    "# for each run:\n",
    "#     download best model\n",
    "#     create directory with validation/run_name\n",
    "#     create hypercube with 5 points\n",
    "#     for each hypercube point:\n",
    "#          create subdirectory\n",
    "#          make run, record video\n",
    "#          store reward in result array\n",
    "# make 3d plotly plots with reward as point color\n",
    "# make nice gifs, comparing sac2 with and without domain parameters"
   ]
  },
  {
   "cell_type": "code",
   "execution_count": 4,
   "metadata": {},
   "outputs": [],
   "source": [
    "runs = [\"tum-adlr-ws22-06/ADLR Unified training/r4vqbtor\"]"
   ]
  },
  {
   "cell_type": "code",
   "execution_count": 5,
   "metadata": {},
   "outputs": [
    {
     "name": "stderr",
     "output_type": "stream",
     "text": [
      "\u001b[34m\u001b[1mwandb\u001b[0m:   6 of 6 files downloaded.  \n"
     ]
    },
    {
     "name": "stdout",
     "output_type": "stream",
     "text": [
      "Last model loaded from .\\artifacts\\lunar_lander_model-v1629\n"
     ]
    }
   ],
   "source": [
    "run = api.run(runs[0])\n",
    "agent = load_last_model(get_agent_from_run_cfg(run.config), run)"
   ]
  },
  {
   "cell_type": "code",
   "execution_count": 6,
   "metadata": {},
   "outputs": [],
   "source": [
    "training_args = run.config['training']\n",
    "env_args = run.config['env']\n",
    "validation_args = run.config['validation']"
   ]
  },
  {
   "cell_type": "code",
   "execution_count": 24,
   "metadata": {},
   "outputs": [],
   "source": [
    "# fabric = LunarEnvHypercubeFabric(pass_env_params=training_args['pass_env_parameters'],\n",
    "#                                                 render_mode='rgb_array',\n",
    "#                                                 points_per_axis=validation_args[\n",
    "#                                                     \"hypercube_points_per_axis\"], **env_args)"
   ]
  },
  {
   "cell_type": "code",
   "execution_count": 25,
   "metadata": {},
   "outputs": [],
   "source": [
    "context_size=64"
   ]
  },
  {
   "cell_type": "code",
   "execution_count": 9,
   "metadata": {},
   "outputs": [],
   "source": []
  },
  {
   "cell_type": "code",
   "execution_count": 11,
   "metadata": {},
   "outputs": [],
   "source": [
    "context_size=64"
   ]
  },
  {
   "cell_type": "code",
   "execution_count": 14,
   "metadata": {},
   "outputs": [
    {
     "name": "stdout",
     "output_type": "stream",
     "text": [
      "pearl2_context_64_metabatch_4\n",
      "Moviepy - Building video d:\\Desktop\\reps\\TUM WS22\\tum-adlr-ws22-06\\final_validations\\pearl2_context_64_metabatch_4_winds\\0_gravity_-11.999_wind_10_turbulence_1\\rl-video-episode-0.mp4.\n",
      "Moviepy - Writing video d:\\Desktop\\reps\\TUM WS22\\tum-adlr-ws22-06\\final_validations\\pearl2_context_64_metabatch_4_winds\\0_gravity_-11.999_wind_10_turbulence_1\\rl-video-episode-0.mp4\n",
      "\n"
     ]
    },
    {
     "name": "stderr",
     "output_type": "stream",
     "text": [
      "c:\\Users\\volob\\.conda\\envs\\adlr\\lib\\site-packages\\gymnasium\\wrappers\\record_video.py:75: UserWarning: \u001b[33mWARN: Overwriting existing videos at d:\\Desktop\\reps\\TUM WS22\\tum-adlr-ws22-06\\final_validations\\pearl2_context_64_metabatch_4_winds\\1_gravity_-11.999_wind_10_turbulence_1 folder (try specifying a different `video_folder` for the `RecordVideo` wrapper if this is not desired)\u001b[0m\n",
      "  logger.warn(\n"
     ]
    },
    {
     "name": "stdout",
     "output_type": "stream",
     "text": [
      "Moviepy - Done !\n",
      "Moviepy - video ready d:\\Desktop\\reps\\TUM WS22\\tum-adlr-ws22-06\\final_validations\\pearl2_context_64_metabatch_4_winds\\0_gravity_-11.999_wind_10_turbulence_1\\rl-video-episode-0.mp4\n",
      "gravity: -11.999, wind_power: 10, turbulence_power: 1, reward: 190.01152351810578\n",
      "Moviepy - Building video d:\\Desktop\\reps\\TUM WS22\\tum-adlr-ws22-06\\final_validations\\pearl2_context_64_metabatch_4_winds\\1_gravity_-11.999_wind_10_turbulence_1\\rl-video-episode-0.mp4.\n",
      "Moviepy - Writing video d:\\Desktop\\reps\\TUM WS22\\tum-adlr-ws22-06\\final_validations\\pearl2_context_64_metabatch_4_winds\\1_gravity_-11.999_wind_10_turbulence_1\\rl-video-episode-0.mp4\n",
      "\n"
     ]
    },
    {
     "name": "stderr",
     "output_type": "stream",
     "text": [
      "c:\\Users\\volob\\.conda\\envs\\adlr\\lib\\site-packages\\gymnasium\\wrappers\\record_video.py:75: UserWarning: \u001b[33mWARN: Overwriting existing videos at d:\\Desktop\\reps\\TUM WS22\\tum-adlr-ws22-06\\final_validations\\pearl2_context_64_metabatch_4_winds\\2_gravity_-11.999_wind_10_turbulence_1 folder (try specifying a different `video_folder` for the `RecordVideo` wrapper if this is not desired)\u001b[0m\n",
      "  logger.warn(\n"
     ]
    },
    {
     "name": "stdout",
     "output_type": "stream",
     "text": [
      "Moviepy - Done !\n",
      "Moviepy - video ready d:\\Desktop\\reps\\TUM WS22\\tum-adlr-ws22-06\\final_validations\\pearl2_context_64_metabatch_4_winds\\1_gravity_-11.999_wind_10_turbulence_1\\rl-video-episode-0.mp4\n",
      "gravity: -11.999, wind_power: 10, turbulence_power: 1, reward: 289.6743056186639\n",
      "Moviepy - Building video d:\\Desktop\\reps\\TUM WS22\\tum-adlr-ws22-06\\final_validations\\pearl2_context_64_metabatch_4_winds\\2_gravity_-11.999_wind_10_turbulence_1\\rl-video-episode-0.mp4.\n",
      "Moviepy - Writing video d:\\Desktop\\reps\\TUM WS22\\tum-adlr-ws22-06\\final_validations\\pearl2_context_64_metabatch_4_winds\\2_gravity_-11.999_wind_10_turbulence_1\\rl-video-episode-0.mp4\n",
      "\n"
     ]
    },
    {
     "name": "stderr",
     "output_type": "stream",
     "text": [
      "                                                               "
     ]
    },
    {
     "name": "stdout",
     "output_type": "stream",
     "text": [
      "Moviepy - Done !\n",
      "Moviepy - video ready d:\\Desktop\\reps\\TUM WS22\\tum-adlr-ws22-06\\final_validations\\pearl2_context_64_metabatch_4_winds\\2_gravity_-11.999_wind_10_turbulence_1\\rl-video-episode-0.mp4\n",
      "gravity: -11.999, wind_power: 10, turbulence_power: 1, reward: 290.53274271251564\n"
     ]
    },
    {
     "name": "stderr",
     "output_type": "stream",
     "text": [
      "\r"
     ]
    }
   ],
   "source": [
    "\n",
    "#for run_name in runs:\n",
    "res = []\n",
    "#run = api.run(run_name)\n",
    "folder = f\"final_validations/{run.name}_winds\"\n",
    "if os.path.exists(folder):\n",
    "    shutil.rmtree(folder, ignore_errors=True)\n",
    "os.mkdir(folder)\n",
    "print(run.name)\n",
    "#agent = load_best_model(get_agent_from_run_cfg(run.config), run)\n",
    "#fabric = LunarEnvHypercubeFabric(run.config['training']['pass_env_parameters'], run.config['env'], points_per_axis=5, render_mode='rgb_array') \n",
    "number_points = 3\n",
    "all_actions = []\n",
    "all_means = []\n",
    "all_vars = []\n",
    "for i in range(number_points):\n",
    "    gravity, wind_power, turbulence_power = env.gravity, env.wind_power, env.turbulence_power\n",
    "    video_path = f\"{folder}/{i}_gravity_{gravity}_wind_{wind_power}_turbulence_{turbulence_power}/\"\n",
    "    os.mkdir(video_path)\n",
    "    env = RandomWindOnResetWrapper(DetermenisticResetWrapper(gym.make('LunarLander-v2', continuous=True,\n",
    "                                                render_mode='rgb_array', gravity=-11.999,\n",
    "                                                enable_wind=True, wind_power=10,\n",
    "                                                turbulence_power=1), seed=0))\n",
    "    env = RecordVideo(env, video_folder=video_path)\n",
    "    action_list = []\n",
    "    observation_list = []\n",
    "    reward_list = []\n",
    "    z_means_list = []\n",
    "    z_vars_list = []\n",
    "    obs, _ = env.reset()\n",
    "    rewards = 0\n",
    "    first = True\n",
    "    while True:\n",
    "\n",
    "        # Get deterministic action\n",
    "        with T.no_grad():\n",
    "            if first:\n",
    "                action = agent.action(obs, [torch.empty(0, agent.encoder_in_size)], addNoise=False)\n",
    "                first = False\n",
    "            else:\n",
    "                number_of_samples = len(observation_list[-context_size:])\n",
    "                o_tensor = torch.Tensor(np.array(observation_list [-context_size:])).reshape(number_of_samples, -1)\n",
    "                a_tensor = torch.Tensor(np.array(action_list[-context_size:])).reshape(number_of_samples, -1)\n",
    "                r_tensor = torch.Tensor(np.array(reward_list[-context_size:])).reshape(number_of_samples, -1)\n",
    "                context = torch.cat([o_tensor, a_tensor, r_tensor], dim=1)\n",
    "                action = agent.action(obs, [context], addNoise=False)\n",
    "            \n",
    "\n",
    "        # Take step in environment\n",
    "        new_obs, reward, done, _, _ = env.step(action)\n",
    "        action_list.append(action)\n",
    "        observation_list.append(obs)\n",
    "        reward_list.append(reward)\n",
    "        z_means_list.append(agent.z_means)\n",
    "        z_vars_list.append(agent.z_vars)\n",
    "        # Update obs\n",
    "        obs = new_obs\n",
    "\n",
    "        # Update rewards\n",
    "        rewards += reward\n",
    "\n",
    "        # End episode if done\n",
    "        if done:\n",
    "            break\n",
    "    all_actions.append(action_list)\n",
    "    all_means.append(z_means_list)\n",
    "    all_vars.append(z_vars_list)\n",
    "    print(f\"gravity: {gravity}, wind_power: {wind_power}, turbulence_power: {turbulence_power}, reward: {rewards}\")\n",
    "    res.append({\"gravity\": gravity, \"wind_power\": wind_power, \"turbulence_power\": turbulence_power, \"reward\": rewards})\n",
    "df = pd.DataFrame(res)\n",
    "df.to_csv(f\"{folder}/results.csv\", index=False)"
   ]
  },
  {
   "cell_type": "code",
   "execution_count": 15,
   "metadata": {},
   "outputs": [],
   "source": [
    "all_actions = [np.array(actions) for actions in all_actions]\n"
   ]
  },
  {
   "cell_type": "code",
   "execution_count": 11,
   "metadata": {},
   "outputs": [],
   "source": [
    "#process all means from list of tensorts to np array\n",
    "all_means = np.array([m.detach().numpy() for m in all_means])\n",
    "all_vars = np.array([v.detach().numpy() for v in all_vars])"
   ]
  },
  {
   "cell_type": "code",
   "execution_count": 12,
   "metadata": {},
   "outputs": [],
   "source": [
    "all_means = all_means.reshape(all_means.shape[0],  -1)\n",
    "all_vars = all_vars.reshape(all_vars.shape[0],  -1)"
   ]
  },
  {
   "cell_type": "code",
   "execution_count": 13,
   "metadata": {},
   "outputs": [],
   "source": [
    "df = pd.DataFrame(res)\n"
   ]
  },
  {
   "cell_type": "code",
   "execution_count": 14,
   "metadata": {},
   "outputs": [],
   "source": [
    "#adding means and vars to df\n",
    "df['latent mean 1'] = all_means[:,0]\n",
    "df['latent mean 2'] = all_means[:,1]\n",
    "df['latent mean 3'] = all_means[:,2]\n",
    "df['latent mean 4'] = all_means[:,3]\n",
    "df['var_0'] = all_vars[:,0]\n",
    "df['var_1'] = all_vars[:,1]\n",
    "df['var_2'] = all_vars[:,2]\n",
    "df['var_3'] = all_vars[:,3]\n"
   ]
  },
  {
   "cell_type": "code",
   "execution_count": 15,
   "metadata": {},
   "outputs": [],
   "source": [
    "df['sum_of_vars'] = df['var_0'] + df['var_1'] + df['var_2'] + df['var_3']\n",
    "df['max_of_vars'] = df[['var_0', 'var_1', 'var_2', 'var_3']].max(axis=1)"
   ]
  },
  {
   "cell_type": "code",
   "execution_count": 16,
   "metadata": {},
   "outputs": [],
   "source": [
    "# SHOW HOW PEARL WORKS FOR THE BEST SAC2 CASE, HOW TO WORST\n",
    "# and, the opposite"
   ]
  },
  {
   "cell_type": "code",
   "execution_count": 34,
   "metadata": {},
   "outputs": [],
   "source": [
    "task_id = 2"
   ]
  },
  {
   "cell_type": "code",
   "execution_count": 35,
   "metadata": {},
   "outputs": [
    {
     "data": {
      "image/png": "[encoded data removed]",
      "text/plain": [
       "<Figure size 1170x827 with 1 Axes>"
      ]
     },
     "metadata": {},
     "output_type": "display_data"
    }
   ],
   "source": [
    "#lineplot of first actions\n",
    "plt.plot(all_actions[task_id][:, 0]);\n",
    "#title with env params from df\n",
    "plt.title(f\"PEARL2, Action 1; gravity: {df['gravity'][task_id]}, wind_power: {df['wind_power'][task_id]}, turbulence_power: {df['turbulence_power'][task_id]}\");\n",
    "plt.xlabel('step');\n",
    "plt.ylabel('action value');\n",
    "#plt.title(\"PEARL, Action 1\");"
   ]
  },
  {
   "cell_type": "code",
   "execution_count": 36,
   "metadata": {},
   "outputs": [
    {
     "data": {
      "image/png": "[encoded data removed]",
      "text/plain": [
       "<Figure size 1170x827 with 1 Axes>"
      ]
     },
     "metadata": {},
     "output_type": "display_data"
    }
   ],
   "source": [
    "#lineplot of first actions\n",
    "plt.plot(all_actions[task_id][:, 1]);\n",
    "plt.title(f\"PEARL2, Action 2; gravity: {df['gravity'][task_id]}, wind_power: {df['wind_power'][task_id]}, turbulence_power: {df['turbulence_power'][task_id]}\");\n",
    "plt.xlabel('step');\n",
    "plt.ylabel('action value');"
   ]
  },
  {
   "cell_type": "code",
   "execution_count": 31,
   "metadata": {},
   "outputs": [],
   "source": [
    "means_task = np.array([m.reshape(-1).detach().numpy() for m in all_means[task_id]])"
   ]
  },
  {
   "cell_type": "code",
   "execution_count": 32,
   "metadata": {},
   "outputs": [],
   "source": [
    "#convecting means to pandas df with columns\n",
    "df_means = pd.DataFrame(means_task, columns=['mean_0', 'mean_1', 'mean_2', 'mean_3'])"
   ]
  },
  {
   "cell_type": "code",
   "execution_count": 37,
   "metadata": {},
   "outputs": [
    {
     "data": {
      "image/png": "[encoded data removed]",
      "text/plain": [
       "<Figure size 1170x827 with 1 Axes>"
      ]
     },
     "metadata": {},
     "output_type": "display_data"
    }
   ],
   "source": [
    "#sns plot of means per time\n",
    "ax = sns.lineplot(data=df_means);\n",
    "#draw vertical line at 64\n",
    "ax.axvline(x=64, color='black', linestyle='--');\n",
    "#x axis label - step\n",
    "ax.set(xlabel='step', ylabel='latent mean');"
   ]
  },
  {
   "cell_type": "code",
   "execution_count": 61,
   "metadata": {},
   "outputs": [
    {
     "data": {
      "text/plain": [
       "<AxesSubplot: xlabel='max_of_vars', ylabel='reward'>"
      ]
     },
     "execution_count": 61,
     "metadata": {},
     "output_type": "execute_result"
    },
    {
     "data": {
      "image/png": "[encoded data removed]",
      "text/plain": [
       "<Figure size 1170x827 with 1 Axes>"
      ]
     },
     "metadata": {},
     "output_type": "display_data"
    }
   ],
   "source": [
    "#scatterplot of sum of latent vars vs reward\n",
    "sns.scatterplot(data=df, x=\"max_of_vars\", y=\"reward\")"
   ]
  },
  {
   "cell_type": "code",
   "execution_count": 21,
   "metadata": {},
   "outputs": [
    {
     "data": {
      "application/vnd.plotly.v1+json": {
       "config": {
        "plotlyServerURL": "https://plot.ly"
       },
       "data": [
        {
         "hovertemplate": "gravity=%{x}<br>wind_power=%{y}<br>turbulence_power=%{z}<br>reward=%{marker.color}<extra></extra>",
         "legendgroup": "",
         "marker": {
          "color": [
           291.52418302826595,
           262.4095423085628,
           277.5759635427929,
           24.081558424622955,
           266.9867536200869,
           264.38969180275365,
           37.57745680138305,
           268.4550410011409,
           268.47264745063114,
           286.13398378940127,
           260.3684371640114,
           264.23616286351785,
           183.2056496007766,
           224.98147329825184,
           274.1838466602378,
           -0.8405149754727859,
           64.45589219213849,
           267.6449174107909,
           283.31492131740436,
           279.5260883257234,
           266.24019741621555,
           271.4310244323735,
           264.1877399888381,
           276.77138530913015,
           273.4312412833694,
           245.24643022460097,
           277.04859032510217
          ],
          "coloraxis": "coloraxis",
          "symbol": "circle"
         },
         "mode": "markers",
         "name": "",
         "scene": "scene",
         "showlegend": false,
         "type": "scatter3d",
         "x": [
          -11.999,
          -11.999,
          -11.999,
          -11.999,
          -11.999,
          -11.999,
          -11.999,
          -11.999,
          -11.999,
          -9.499500000000001,
          -9.499500000000001,
          -9.499500000000001,
          -9.499500000000001,
          -9.499500000000001,
          -9.499500000000001,
          -9.499500000000001,
          -9.499500000000001,
          -9.499500000000001,
          -7,
          -7,
          -7,
          -7,
          -7,
          -7,
          -7,
          -7,
          -7
         ],
         "y": [
          5,
          5,
          5,
          7.5,
          7.5,
          7.5,
          10,
          10,
          10,
          5,
          5,
          5,
          7.5,
          7.5,
          7.5,
          10,
          10,
          10,
          5,
          5,
          5,
          7.5,
          7.5,
          7.5,
          10,
          10,
          10
         ],
         "z": [
          0.6,
          0.8,
          1,
          0.6,
          0.8,
          1,
          0.6,
          0.8,
          1,
          0.6,
          0.8,
          1,
          0.6,
          0.8,
          1,
          0.6,
          0.8,
          1,
          0.6,
          0.8,
          1,
          0.6,
          0.8,
          1,
          0.6,
          0.8,
          1
         ]
        }
       ],
       "layout": {
        "coloraxis": {
         "colorbar": {
          "title": {
           "text": "reward"
          }
         },
         "colorscale": [
          [
           0,
           "#0d0887"
          ],
          [
           0.1111111111111111,
           "#46039f"
          ],
          [
           0.2222222222222222,
           "#7201a8"
          ],
          [
           0.3333333333333333,
           "#9c179e"
          ],
          [
           0.4444444444444444,
           "#bd3786"
          ],
          [
           0.5555555555555556,
           "#d8576b"
          ],
          [
           0.6666666666666666,
           "#ed7953"
          ],
          [
           0.7777777777777778,
           "#fb9f3a"
          ],
          [
           0.8888888888888888,
           "#fdca26"
          ],
          [
           1,
           "#f0f921"
          ]
         ]
        },
        "legend": {
         "tracegroupgap": 0
        },
        "margin": {
         "t": 60
        },
        "scene": {
         "domain": {
          "x": [
           0,
           1
          ],
          "y": [
           0,
           1
          ]
         },
         "xaxis": {
          "title": {
           "text": "gravity"
          }
         },
         "yaxis": {
          "title": {
           "text": "wind_power"
          }
         },
         "zaxis": {
          "title": {
           "text": "turbulence_power"
          }
         }
        },
        "template": {
         "data": {
          "bar": [
           {
            "error_x": {
             "color": "#2a3f5f"
            },
            "error_y": {
             "color": "#2a3f5f"
            },
            "marker": {
             "line": {
              "color": "#E5ECF6",
              "width": 0.5
             },
             "pattern": {
              "fillmode": "overlay",
              "size": 10,
              "solidity": 0.2
             }
            },
            "type": "bar"
           }
          ],
          "barpolar": [
           {
            "marker": {
             "line": {
              "color": "#E5ECF6",
              "width": 0.5
             },
             "pattern": {
              "fillmode": "overlay",
              "size": 10,
              "solidity": 0.2
             }
            },
            "type": "barpolar"
           }
          ],
          "carpet": [
           {
            "aaxis": {
             "endlinecolor": "#2a3f5f",
             "gridcolor": "white",
             "linecolor": "white",
             "minorgridcolor": "white",
             "startlinecolor": "#2a3f5f"
            },
            "baxis": {
             "endlinecolor": "#2a3f5f",
             "gridcolor": "white",
             "linecolor": "white",
             "minorgridcolor": "white",
             "startlinecolor": "#2a3f5f"
            },
            "type": "carpet"
           }
          ],
          "choropleth": [
           {
            "colorbar": {
             "outlinewidth": 0,
             "ticks": ""
            },
            "type": "choropleth"
           }
          ],
          "contour": [
           {
            "colorbar": {
             "outlinewidth": 0,
             "ticks": ""
            },
            "colorscale": [
             [
              0,
              "#0d0887"
             ],
             [
              0.1111111111111111,
              "#46039f"
             ],
             [
              0.2222222222222222,
              "#7201a8"
             ],
             [
              0.3333333333333333,
              "#9c179e"
             ],
             [
              0.4444444444444444,
              "#bd3786"
             ],
             [
              0.5555555555555556,
              "#d8576b"
             ],
             [
              0.6666666666666666,
              "#ed7953"
             ],
             [
              0.7777777777777778,
              "#fb9f3a"
             ],
             [
              0.8888888888888888,
              "#fdca26"
             ],
             [
              1,
              "#f0f921"
             ]
            ],
            "type": "contour"
           }
          ],
          "contourcarpet": [
           {
            "colorbar": {
             "outlinewidth": 0,
             "ticks": ""
            },
            "type": "contourcarpet"
           }
          ],
          "heatmap": [
           {
            "colorbar": {
             "outlinewidth": 0,
             "ticks": ""
            },
            "colorscale": [
             [
              0,
              "#0d0887"
             ],
             [
              0.1111111111111111,
              "#46039f"
             ],
             [
              0.2222222222222222,
              "#7201a8"
             ],
             [
              0.3333333333333333,
              "#9c179e"
             ],
             [
              0.4444444444444444,
              "#bd3786"
             ],
             [
              0.5555555555555556,
              "#d8576b"
             ],
             [
              0.6666666666666666,
              "#ed7953"
             ],
             [
              0.7777777777777778,
              "#fb9f3a"
             ],
             [
              0.8888888888888888,
              "#fdca26"
             ],
             [
              1,
              "#f0f921"
             ]
            ],
            "type": "heatmap"
           }
          ],
          "heatmapgl": [
           {
            "colorbar": {
             "outlinewidth": 0,
             "ticks": ""
            },
            "colorscale": [
             [
              0,
              "#0d0887"
             ],
             [
              0.1111111111111111,
              "#46039f"
             ],
             [
              0.2222222222222222,
              "#7201a8"
             ],
             [
              0.3333333333333333,
              "#9c179e"
             ],
             [
              0.4444444444444444,
              "#bd3786"
             ],
             [
              0.5555555555555556,
              "#d8576b"
             ],
             [
              0.6666666666666666,
              "#ed7953"
             ],
             [
              0.7777777777777778,
              "#fb9f3a"
             ],
             [
              0.8888888888888888,
              "#fdca26"
             ],
             [
              1,
              "#f0f921"
             ]
            ],
            "type": "heatmapgl"
           }
          ],
          "histogram": [
           {
            "marker": {
             "pattern": {
              "fillmode": "overlay",
              "size": 10,
              "solidity": 0.2
             }
            },
            "type": "histogram"
           }
          ],
          "histogram2d": [
           {
            "colorbar": {
             "outlinewidth": 0,
             "ticks": ""
            },
            "colorscale": [
             [
              0,
              "#0d0887"
             ],
             [
              0.1111111111111111,
              "#46039f"
             ],
             [
              0.2222222222222222,
              "#7201a8"
             ],
             [
              0.3333333333333333,
              "#9c179e"
             ],
             [
              0.4444444444444444,
              "#bd3786"
             ],
             [
              0.5555555555555556,
              "#d8576b"
             ],
             [
              0.6666666666666666,
              "#ed7953"
             ],
             [
              0.7777777777777778,
              "#fb9f3a"
             ],
             [
              0.8888888888888888,
              "#fdca26"
             ],
             [
              1,
              "#f0f921"
             ]
            ],
            "type": "histogram2d"
           }
          ],
          "histogram2dcontour": [
           {
            "colorbar": {
             "outlinewidth": 0,
             "ticks": ""
            },
            "colorscale": [
             [
              0,
              "#0d0887"
             ],
             [
              0.1111111111111111,
              "#46039f"
             ],
             [
              0.2222222222222222,
              "#7201a8"
             ],
             [
              0.3333333333333333,
              "#9c179e"
             ],
             [
              0.4444444444444444,
              "#bd3786"
             ],
             [
              0.5555555555555556,
              "#d8576b"
             ],
             [
              0.6666666666666666,
              "#ed7953"
             ],
             [
              0.7777777777777778,
              "#fb9f3a"
             ],
             [
              0.8888888888888888,
              "#fdca26"
             ],
             [
              1,
              "#f0f921"
             ]
            ],
            "type": "histogram2dcontour"
           }
          ],
          "mesh3d": [
           {
            "colorbar": {
             "outlinewidth": 0,
             "ticks": ""
            },
            "type": "mesh3d"
           }
          ],
          "parcoords": [
           {
            "line": {
             "colorbar": {
              "outlinewidth": 0,
              "ticks": ""
             }
            },
            "type": "parcoords"
           }
          ],
          "pie": [
           {
            "automargin": true,
            "type": "pie"
           }
          ],
          "scatter": [
           {
            "fillpattern": {
             "fillmode": "overlay",
             "size": 10,
             "solidity": 0.2
            },
            "type": "scatter"
           }
          ],
          "scatter3d": [
           {
            "line": {
             "colorbar": {
              "outlinewidth": 0,
              "ticks": ""
             }
            },
            "marker": {
             "colorbar": {
              "outlinewidth": 0,
              "ticks": ""
             }
            },
            "type": "scatter3d"
           }
          ],
          "scattercarpet": [
           {
            "marker": {
             "colorbar": {
              "outlinewidth": 0,
              "ticks": ""
             }
            },
            "type": "scattercarpet"
           }
          ],
          "scattergeo": [
           {
            "marker": {
             "colorbar": {
              "outlinewidth": 0,
              "ticks": ""
             }
            },
            "type": "scattergeo"
           }
          ],
          "scattergl": [
           {
            "marker": {
             "colorbar": {
              "outlinewidth": 0,
              "ticks": ""
             }
            },
            "type": "scattergl"
           }
          ],
          "scattermapbox": [
           {
            "marker": {
             "colorbar": {
              "outlinewidth": 0,
              "ticks": ""
             }
            },
            "type": "scattermapbox"
           }
          ],
          "scatterpolar": [
           {
            "marker": {
             "colorbar": {
              "outlinewidth": 0,
              "ticks": ""
             }
            },
            "type": "scatterpolar"
           }
          ],
          "scatterpolargl": [
           {
            "marker": {
             "colorbar": {
              "outlinewidth": 0,
              "ticks": ""
             }
            },
            "type": "scatterpolargl"
           }
          ],
          "scatterternary": [
           {
            "marker": {
             "colorbar": {
              "outlinewidth": 0,
              "ticks": ""
             }
            },
            "type": "scatterternary"
           }
          ],
          "surface": [
           {
            "colorbar": {
             "outlinewidth": 0,
             "ticks": ""
            },
            "colorscale": [
             [
              0,
              "#0d0887"
             ],
             [
              0.1111111111111111,
              "#46039f"
             ],
             [
              0.2222222222222222,
              "#7201a8"
             ],
             [
              0.3333333333333333,
              "#9c179e"
             ],
             [
              0.4444444444444444,
              "#bd3786"
             ],
             [
              0.5555555555555556,
              "#d8576b"
             ],
             [
              0.6666666666666666,
              "#ed7953"
             ],
             [
              0.7777777777777778,
              "#fb9f3a"
             ],
             [
              0.8888888888888888,
              "#fdca26"
             ],
             [
              1,
              "#f0f921"
             ]
            ],
            "type": "surface"
           }
          ],
          "table": [
           {
            "cells": {
             "fill": {
              "color": "#EBF0F8"
             },
             "line": {
              "color": "white"
             }
            },
            "header": {
             "fill": {
              "color": "#C8D4E3"
             },
             "line": {
              "color": "white"
             }
            },
            "type": "table"
           }
          ]
         },
         "layout": {
          "annotationdefaults": {
           "arrowcolor": "#2a3f5f",
           "arrowhead": 0,
           "arrowwidth": 1
          },
          "autotypenumbers": "strict",
          "coloraxis": {
           "colorbar": {
            "outlinewidth": 0,
            "ticks": ""
           }
          },
          "colorscale": {
           "diverging": [
            [
             0,
             "#8e0152"
            ],
            [
             0.1,
             "#c51b7d"
            ],
            [
             0.2,
             "#de77ae"
            ],
            [
             0.3,
             "#f1b6da"
            ],
            [
             0.4,
             "#fde0ef"
            ],
            [
             0.5,
             "#f7f7f7"
            ],
            [
             0.6,
             "#e6f5d0"
            ],
            [
             0.7,
             "#b8e186"
            ],
            [
             0.8,
             "#7fbc41"
            ],
            [
             0.9,
             "#4d9221"
            ],
            [
             1,
             "#276419"
            ]
           ],
           "sequential": [
            [
             0,
             "#0d0887"
            ],
            [
             0.1111111111111111,
             "#46039f"
            ],
            [
             0.2222222222222222,
             "#7201a8"
            ],
            [
             0.3333333333333333,
             "#9c179e"
            ],
            [
             0.4444444444444444,
             "#bd3786"
            ],
            [
             0.5555555555555556,
             "#d8576b"
            ],
            [
             0.6666666666666666,
             "#ed7953"
            ],
            [
             0.7777777777777778,
             "#fb9f3a"
            ],
            [
             0.8888888888888888,
             "#fdca26"
            ],
            [
             1,
             "#f0f921"
            ]
           ],
           "sequentialminus": [
            [
             0,
             "#0d0887"
            ],
            [
             0.1111111111111111,
             "#46039f"
            ],
            [
             0.2222222222222222,
             "#7201a8"
            ],
            [
             0.3333333333333333,
             "#9c179e"
            ],
            [
             0.4444444444444444,
             "#bd3786"
            ],
            [
             0.5555555555555556,
             "#d8576b"
            ],
            [
             0.6666666666666666,
             "#ed7953"
            ],
            [
             0.7777777777777778,
             "#fb9f3a"
            ],
            [
             0.8888888888888888,
             "#fdca26"
            ],
            [
             1,
             "#f0f921"
            ]
           ]
          },
          "colorway": [
           "#636efa",
           "#EF553B",
           "#00cc96",
           "#ab63fa",
           "#FFA15A",
           "#19d3f3",
           "#FF6692",
           "#B6E880",
           "#FF97FF",
           "#FECB52"
          ],
          "font": {
           "color": "#2a3f5f"
          },
          "geo": {
           "bgcolor": "white",
           "lakecolor": "white",
           "landcolor": "#E5ECF6",
           "showlakes": true,
           "showland": true,
           "subunitcolor": "white"
          },
          "hoverlabel": {
           "align": "left"
          },
          "hovermode": "closest",
          "mapbox": {
           "style": "light"
          },
          "paper_bgcolor": "white",
          "plot_bgcolor": "#E5ECF6",
          "polar": {
           "angularaxis": {
            "gridcolor": "white",
            "linecolor": "white",
            "ticks": ""
           },
           "bgcolor": "#E5ECF6",
           "radialaxis": {
            "gridcolor": "white",
            "linecolor": "white",
            "ticks": ""
           }
          },
          "scene": {
           "xaxis": {
            "backgroundcolor": "#E5ECF6",
            "gridcolor": "white",
            "gridwidth": 2,
            "linecolor": "white",
            "showbackground": true,
            "ticks": "",
            "zerolinecolor": "white"
           },
           "yaxis": {
            "backgroundcolor": "#E5ECF6",
            "gridcolor": "white",
            "gridwidth": 2,
            "linecolor": "white",
            "showbackground": true,
            "ticks": "",
            "zerolinecolor": "white"
           },
           "zaxis": {
            "backgroundcolor": "#E5ECF6",
            "gridcolor": "white",
            "gridwidth": 2,
            "linecolor": "white",
            "showbackground": true,
            "ticks": "",
            "zerolinecolor": "white"
           }
          },
          "shapedefaults": {
           "line": {
            "color": "#2a3f5f"
           }
          },
          "ternary": {
           "aaxis": {
            "gridcolor": "white",
            "linecolor": "white",
            "ticks": ""
           },
           "baxis": {
            "gridcolor": "white",
            "linecolor": "white",
            "ticks": ""
           },
           "bgcolor": "#E5ECF6",
           "caxis": {
            "gridcolor": "white",
            "linecolor": "white",
            "ticks": ""
           }
          },
          "title": {
           "x": 0.05
          },
          "xaxis": {
           "automargin": true,
           "gridcolor": "white",
           "linecolor": "white",
           "ticks": "",
           "title": {
            "standoff": 15
           },
           "zerolinecolor": "white",
           "zerolinewidth": 2
          },
          "yaxis": {
           "automargin": true,
           "gridcolor": "white",
           "linecolor": "white",
           "ticks": "",
           "title": {
            "standoff": 15
           },
           "zerolinecolor": "white",
           "zerolinewidth": 2
          }
         }
        }
       }
      }
     },
     "metadata": {},
     "output_type": "display_data"
    }
   ],
   "source": [
    "fig = px.scatter_3d(df, x='gravity', y='wind_power', z='turbulence_power',\n",
    "              color='reward')\n",
    "fig.show()"
   ]
  },
  {
   "cell_type": "code",
   "execution_count": 29,
   "metadata": {},
   "outputs": [
    {
     "data": {
      "text/html": [
       "<div>\n",
       "<style scoped>\n",
       "    .dataframe tbody tr th:only-of-type {\n",
       "        vertical-align: middle;\n",
       "    }\n",
       "\n",
       "    .dataframe tbody tr th {\n",
       "        vertical-align: top;\n",
       "    }\n",
       "\n",
       "    .dataframe thead th {\n",
       "        text-align: right;\n",
       "    }\n",
       "</style>\n",
       "<table border=\"1\" class=\"dataframe\">\n",
       "  <thead>\n",
       "    <tr style=\"text-align: right;\">\n",
       "      <th></th>\n",
       "      <th>gravity</th>\n",
       "      <th>wind_power</th>\n",
       "      <th>turbulence_power</th>\n",
       "      <th>reward</th>\n",
       "      <th>latent mean 1</th>\n",
       "      <th>latent mean 2</th>\n",
       "      <th>latent mean 3</th>\n",
       "      <th>latent mean 4</th>\n",
       "      <th>var_0</th>\n",
       "      <th>var_1</th>\n",
       "      <th>var_2</th>\n",
       "      <th>var_3</th>\n",
       "      <th>sum_of_vars</th>\n",
       "      <th>max_of_vars</th>\n",
       "    </tr>\n",
       "  </thead>\n",
       "  <tbody>\n",
       "    <tr>\n",
       "      <th>0</th>\n",
       "      <td>-11.9990</td>\n",
       "      <td>5.0</td>\n",
       "      <td>0.6</td>\n",
       "      <td>291.524183</td>\n",
       "      <td>-0.524507</td>\n",
       "      <td>0.212907</td>\n",
       "      <td>-2.108798</td>\n",
       "      <td>-0.474705</td>\n",
       "      <td>0.001708</td>\n",
       "      <td>0.002211</td>\n",
       "      <td>0.000901</td>\n",
       "      <td>0.001951</td>\n",
       "      <td>0.006771</td>\n",
       "      <td>0.002211</td>\n",
       "    </tr>\n",
       "    <tr>\n",
       "      <th>1</th>\n",
       "      <td>-11.9990</td>\n",
       "      <td>5.0</td>\n",
       "      <td>0.8</td>\n",
       "      <td>262.409542</td>\n",
       "      <td>-0.586042</td>\n",
       "      <td>0.204715</td>\n",
       "      <td>-2.277114</td>\n",
       "      <td>-0.543602</td>\n",
       "      <td>0.087840</td>\n",
       "      <td>0.112857</td>\n",
       "      <td>0.044243</td>\n",
       "      <td>0.100371</td>\n",
       "      <td>0.345311</td>\n",
       "      <td>0.112857</td>\n",
       "    </tr>\n",
       "    <tr>\n",
       "      <th>2</th>\n",
       "      <td>-11.9990</td>\n",
       "      <td>5.0</td>\n",
       "      <td>1.0</td>\n",
       "      <td>277.575964</td>\n",
       "      <td>-0.615832</td>\n",
       "      <td>0.211906</td>\n",
       "      <td>-2.398802</td>\n",
       "      <td>-0.566640</td>\n",
       "      <td>0.117704</td>\n",
       "      <td>0.150827</td>\n",
       "      <td>0.058099</td>\n",
       "      <td>0.134749</td>\n",
       "      <td>0.461379</td>\n",
       "      <td>0.150827</td>\n",
       "    </tr>\n",
       "    <tr>\n",
       "      <th>3</th>\n",
       "      <td>-11.9990</td>\n",
       "      <td>7.5</td>\n",
       "      <td>0.6</td>\n",
       "      <td>24.081558</td>\n",
       "      <td>-0.832723</td>\n",
       "      <td>0.235128</td>\n",
       "      <td>-3.006399</td>\n",
       "      <td>-0.776366</td>\n",
       "      <td>0.261911</td>\n",
       "      <td>0.336455</td>\n",
       "      <td>0.129713</td>\n",
       "      <td>0.300453</td>\n",
       "      <td>1.028531</td>\n",
       "      <td>0.336455</td>\n",
       "    </tr>\n",
       "    <tr>\n",
       "      <th>4</th>\n",
       "      <td>-11.9990</td>\n",
       "      <td>7.5</td>\n",
       "      <td>0.8</td>\n",
       "      <td>266.986754</td>\n",
       "      <td>-0.521206</td>\n",
       "      <td>0.196040</td>\n",
       "      <td>-2.092316</td>\n",
       "      <td>-0.495520</td>\n",
       "      <td>0.060162</td>\n",
       "      <td>0.077595</td>\n",
       "      <td>0.031147</td>\n",
       "      <td>0.068661</td>\n",
       "      <td>0.237565</td>\n",
       "      <td>0.077595</td>\n",
       "    </tr>\n",
       "    <tr>\n",
       "      <th>5</th>\n",
       "      <td>-11.9990</td>\n",
       "      <td>7.5</td>\n",
       "      <td>1.0</td>\n",
       "      <td>264.389692</td>\n",
       "      <td>-0.661615</td>\n",
       "      <td>0.231326</td>\n",
       "      <td>-2.504723</td>\n",
       "      <td>-0.559708</td>\n",
       "      <td>0.032407</td>\n",
       "      <td>0.041978</td>\n",
       "      <td>0.017332</td>\n",
       "      <td>0.037082</td>\n",
       "      <td>0.128798</td>\n",
       "      <td>0.041978</td>\n",
       "    </tr>\n",
       "    <tr>\n",
       "      <th>6</th>\n",
       "      <td>-11.9990</td>\n",
       "      <td>10.0</td>\n",
       "      <td>0.6</td>\n",
       "      <td>37.577457</td>\n",
       "      <td>-0.534394</td>\n",
       "      <td>0.199654</td>\n",
       "      <td>-2.103364</td>\n",
       "      <td>-0.484570</td>\n",
       "      <td>0.090624</td>\n",
       "      <td>0.115792</td>\n",
       "      <td>0.043724</td>\n",
       "      <td>0.103693</td>\n",
       "      <td>0.353834</td>\n",
       "      <td>0.115792</td>\n",
       "    </tr>\n",
       "    <tr>\n",
       "      <th>7</th>\n",
       "      <td>-11.9990</td>\n",
       "      <td>10.0</td>\n",
       "      <td>0.8</td>\n",
       "      <td>268.455041</td>\n",
       "      <td>-0.697512</td>\n",
       "      <td>0.218248</td>\n",
       "      <td>-2.626576</td>\n",
       "      <td>-0.639868</td>\n",
       "      <td>0.165192</td>\n",
       "      <td>0.212714</td>\n",
       "      <td>0.084594</td>\n",
       "      <td>0.189119</td>\n",
       "      <td>0.651619</td>\n",
       "      <td>0.212714</td>\n",
       "    </tr>\n",
       "    <tr>\n",
       "      <th>8</th>\n",
       "      <td>-11.9990</td>\n",
       "      <td>10.0</td>\n",
       "      <td>1.0</td>\n",
       "      <td>268.472647</td>\n",
       "      <td>-0.662363</td>\n",
       "      <td>0.201878</td>\n",
       "      <td>-2.389832</td>\n",
       "      <td>-0.619937</td>\n",
       "      <td>0.248357</td>\n",
       "      <td>0.318794</td>\n",
       "      <td>0.121787</td>\n",
       "      <td>0.284732</td>\n",
       "      <td>0.973670</td>\n",
       "      <td>0.318794</td>\n",
       "    </tr>\n",
       "    <tr>\n",
       "      <th>9</th>\n",
       "      <td>-9.4995</td>\n",
       "      <td>5.0</td>\n",
       "      <td>0.6</td>\n",
       "      <td>286.133984</td>\n",
       "      <td>-0.255376</td>\n",
       "      <td>0.129679</td>\n",
       "      <td>-1.149624</td>\n",
       "      <td>-0.284833</td>\n",
       "      <td>0.030158</td>\n",
       "      <td>0.038329</td>\n",
       "      <td>0.013882</td>\n",
       "      <td>0.034341</td>\n",
       "      <td>0.116709</td>\n",
       "      <td>0.038329</td>\n",
       "    </tr>\n",
       "    <tr>\n",
       "      <th>10</th>\n",
       "      <td>-9.4995</td>\n",
       "      <td>5.0</td>\n",
       "      <td>0.8</td>\n",
       "      <td>260.368437</td>\n",
       "      <td>-0.402011</td>\n",
       "      <td>0.171207</td>\n",
       "      <td>-1.716802</td>\n",
       "      <td>-0.401304</td>\n",
       "      <td>0.045847</td>\n",
       "      <td>0.058816</td>\n",
       "      <td>0.022917</td>\n",
       "      <td>0.052275</td>\n",
       "      <td>0.179854</td>\n",
       "      <td>0.058816</td>\n",
       "    </tr>\n",
       "    <tr>\n",
       "      <th>11</th>\n",
       "      <td>-9.4995</td>\n",
       "      <td>5.0</td>\n",
       "      <td>1.0</td>\n",
       "      <td>264.236163</td>\n",
       "      <td>-0.444814</td>\n",
       "      <td>0.181771</td>\n",
       "      <td>-1.853835</td>\n",
       "      <td>-0.433295</td>\n",
       "      <td>0.049743</td>\n",
       "      <td>0.063869</td>\n",
       "      <td>0.025018</td>\n",
       "      <td>0.056723</td>\n",
       "      <td>0.195352</td>\n",
       "      <td>0.063869</td>\n",
       "    </tr>\n",
       "    <tr>\n",
       "      <th>12</th>\n",
       "      <td>-9.4995</td>\n",
       "      <td>7.5</td>\n",
       "      <td>0.6</td>\n",
       "      <td>183.205650</td>\n",
       "      <td>-0.245001</td>\n",
       "      <td>0.137349</td>\n",
       "      <td>-1.099991</td>\n",
       "      <td>-0.270594</td>\n",
       "      <td>0.016392</td>\n",
       "      <td>0.021004</td>\n",
       "      <td>0.007932</td>\n",
       "      <td>0.018674</td>\n",
       "      <td>0.064002</td>\n",
       "      <td>0.021004</td>\n",
       "    </tr>\n",
       "    <tr>\n",
       "      <th>13</th>\n",
       "      <td>-9.4995</td>\n",
       "      <td>7.5</td>\n",
       "      <td>0.8</td>\n",
       "      <td>224.981473</td>\n",
       "      <td>-0.329332</td>\n",
       "      <td>0.153341</td>\n",
       "      <td>-1.396308</td>\n",
       "      <td>-0.332878</td>\n",
       "      <td>0.024527</td>\n",
       "      <td>0.031453</td>\n",
       "      <td>0.012089</td>\n",
       "      <td>0.027977</td>\n",
       "      <td>0.096046</td>\n",
       "      <td>0.031453</td>\n",
       "    </tr>\n",
       "    <tr>\n",
       "      <th>14</th>\n",
       "      <td>-9.4995</td>\n",
       "      <td>7.5</td>\n",
       "      <td>1.0</td>\n",
       "      <td>274.183847</td>\n",
       "      <td>-0.398428</td>\n",
       "      <td>0.168246</td>\n",
       "      <td>-1.679631</td>\n",
       "      <td>-0.391990</td>\n",
       "      <td>0.038583</td>\n",
       "      <td>0.049489</td>\n",
       "      <td>0.019279</td>\n",
       "      <td>0.043988</td>\n",
       "      <td>0.151340</td>\n",
       "      <td>0.049489</td>\n",
       "    </tr>\n",
       "    <tr>\n",
       "      <th>15</th>\n",
       "      <td>-9.4995</td>\n",
       "      <td>10.0</td>\n",
       "      <td>0.6</td>\n",
       "      <td>-0.840515</td>\n",
       "      <td>-0.347327</td>\n",
       "      <td>0.162154</td>\n",
       "      <td>-1.428576</td>\n",
       "      <td>-0.338917</td>\n",
       "      <td>0.015926</td>\n",
       "      <td>0.020471</td>\n",
       "      <td>0.007927</td>\n",
       "      <td>0.018172</td>\n",
       "      <td>0.062497</td>\n",
       "      <td>0.020471</td>\n",
       "    </tr>\n",
       "    <tr>\n",
       "      <th>16</th>\n",
       "      <td>-9.4995</td>\n",
       "      <td>10.0</td>\n",
       "      <td>0.8</td>\n",
       "      <td>64.455892</td>\n",
       "      <td>-0.371165</td>\n",
       "      <td>0.161406</td>\n",
       "      <td>-1.571334</td>\n",
       "      <td>-0.369124</td>\n",
       "      <td>0.037605</td>\n",
       "      <td>0.048274</td>\n",
       "      <td>0.018850</td>\n",
       "      <td>0.042898</td>\n",
       "      <td>0.147626</td>\n",
       "      <td>0.048274</td>\n",
       "    </tr>\n",
       "    <tr>\n",
       "      <th>17</th>\n",
       "      <td>-9.4995</td>\n",
       "      <td>10.0</td>\n",
       "      <td>1.0</td>\n",
       "      <td>267.644917</td>\n",
       "      <td>-0.205564</td>\n",
       "      <td>0.127712</td>\n",
       "      <td>-0.975525</td>\n",
       "      <td>-0.243287</td>\n",
       "      <td>0.019677</td>\n",
       "      <td>0.025183</td>\n",
       "      <td>0.009393</td>\n",
       "      <td>0.022408</td>\n",
       "      <td>0.076661</td>\n",
       "      <td>0.025183</td>\n",
       "    </tr>\n",
       "    <tr>\n",
       "      <th>18</th>\n",
       "      <td>-7.0000</td>\n",
       "      <td>5.0</td>\n",
       "      <td>0.6</td>\n",
       "      <td>283.314921</td>\n",
       "      <td>-0.367411</td>\n",
       "      <td>0.168056</td>\n",
       "      <td>-1.484976</td>\n",
       "      <td>-0.343766</td>\n",
       "      <td>0.007284</td>\n",
       "      <td>0.009386</td>\n",
       "      <td>0.003702</td>\n",
       "      <td>0.008309</td>\n",
       "      <td>0.028681</td>\n",
       "      <td>0.009386</td>\n",
       "    </tr>\n",
       "    <tr>\n",
       "      <th>19</th>\n",
       "      <td>-7.0000</td>\n",
       "      <td>5.0</td>\n",
       "      <td>0.8</td>\n",
       "      <td>279.526088</td>\n",
       "      <td>-0.389580</td>\n",
       "      <td>0.165470</td>\n",
       "      <td>-1.588880</td>\n",
       "      <td>-0.376157</td>\n",
       "      <td>0.045605</td>\n",
       "      <td>0.058338</td>\n",
       "      <td>0.021993</td>\n",
       "      <td>0.052073</td>\n",
       "      <td>0.178009</td>\n",
       "      <td>0.058338</td>\n",
       "    </tr>\n",
       "    <tr>\n",
       "      <th>20</th>\n",
       "      <td>-7.0000</td>\n",
       "      <td>5.0</td>\n",
       "      <td>1.0</td>\n",
       "      <td>266.240197</td>\n",
       "      <td>-0.362868</td>\n",
       "      <td>0.152329</td>\n",
       "      <td>-1.482437</td>\n",
       "      <td>-0.362643</td>\n",
       "      <td>0.029160</td>\n",
       "      <td>0.037283</td>\n",
       "      <td>0.013931</td>\n",
       "      <td>0.033315</td>\n",
       "      <td>0.113688</td>\n",
       "      <td>0.037283</td>\n",
       "    </tr>\n",
       "    <tr>\n",
       "      <th>21</th>\n",
       "      <td>-7.0000</td>\n",
       "      <td>7.5</td>\n",
       "      <td>0.6</td>\n",
       "      <td>271.431024</td>\n",
       "      <td>-0.454880</td>\n",
       "      <td>0.188459</td>\n",
       "      <td>-1.848280</td>\n",
       "      <td>-0.419162</td>\n",
       "      <td>0.022872</td>\n",
       "      <td>0.029403</td>\n",
       "      <td>0.011558</td>\n",
       "      <td>0.026116</td>\n",
       "      <td>0.089949</td>\n",
       "      <td>0.029403</td>\n",
       "    </tr>\n",
       "    <tr>\n",
       "      <th>22</th>\n",
       "      <td>-7.0000</td>\n",
       "      <td>7.5</td>\n",
       "      <td>0.8</td>\n",
       "      <td>264.187740</td>\n",
       "      <td>-0.325541</td>\n",
       "      <td>0.148233</td>\n",
       "      <td>-1.406160</td>\n",
       "      <td>-0.333503</td>\n",
       "      <td>0.032545</td>\n",
       "      <td>0.041517</td>\n",
       "      <td>0.015421</td>\n",
       "      <td>0.037150</td>\n",
       "      <td>0.126632</td>\n",
       "      <td>0.041517</td>\n",
       "    </tr>\n",
       "    <tr>\n",
       "      <th>23</th>\n",
       "      <td>-7.0000</td>\n",
       "      <td>7.5</td>\n",
       "      <td>1.0</td>\n",
       "      <td>276.771385</td>\n",
       "      <td>-0.158376</td>\n",
       "      <td>0.094120</td>\n",
       "      <td>-0.739518</td>\n",
       "      <td>-0.205962</td>\n",
       "      <td>0.017259</td>\n",
       "      <td>0.021857</td>\n",
       "      <td>0.007411</td>\n",
       "      <td>0.019738</td>\n",
       "      <td>0.066265</td>\n",
       "      <td>0.021857</td>\n",
       "    </tr>\n",
       "    <tr>\n",
       "      <th>24</th>\n",
       "      <td>-7.0000</td>\n",
       "      <td>10.0</td>\n",
       "      <td>0.6</td>\n",
       "      <td>273.431241</td>\n",
       "      <td>-0.222142</td>\n",
       "      <td>0.130722</td>\n",
       "      <td>-1.081328</td>\n",
       "      <td>-0.252958</td>\n",
       "      <td>0.022906</td>\n",
       "      <td>0.029265</td>\n",
       "      <td>0.010874</td>\n",
       "      <td>0.026122</td>\n",
       "      <td>0.089166</td>\n",
       "      <td>0.029265</td>\n",
       "    </tr>\n",
       "    <tr>\n",
       "      <th>25</th>\n",
       "      <td>-7.0000</td>\n",
       "      <td>10.0</td>\n",
       "      <td>0.8</td>\n",
       "      <td>245.246430</td>\n",
       "      <td>-0.389496</td>\n",
       "      <td>0.166695</td>\n",
       "      <td>-1.606050</td>\n",
       "      <td>-0.382698</td>\n",
       "      <td>0.049780</td>\n",
       "      <td>0.063717</td>\n",
       "      <td>0.024104</td>\n",
       "      <td>0.056830</td>\n",
       "      <td>0.194431</td>\n",
       "      <td>0.063717</td>\n",
       "    </tr>\n",
       "    <tr>\n",
       "      <th>26</th>\n",
       "      <td>-7.0000</td>\n",
       "      <td>10.0</td>\n",
       "      <td>1.0</td>\n",
       "      <td>277.048590</td>\n",
       "      <td>-0.364671</td>\n",
       "      <td>0.162632</td>\n",
       "      <td>-1.555988</td>\n",
       "      <td>-0.362611</td>\n",
       "      <td>0.033676</td>\n",
       "      <td>0.043184</td>\n",
       "      <td>0.016686</td>\n",
       "      <td>0.038411</td>\n",
       "      <td>0.131958</td>\n",
       "      <td>0.043184</td>\n",
       "    </tr>\n",
       "  </tbody>\n",
       "</table>\n",
       "</div>"
      ],
      "text/plain": [
       "    gravity  wind_power  turbulence_power      reward  latent mean 1  \\\n",
       "0  -11.9990         5.0               0.6  291.524183      -0.524507   \n",
       "1  -11.9990         5.0               0.8  262.409542      -0.586042   \n",
       "2  -11.9990         5.0               1.0  277.575964      -0.615832   \n",
       "3  -11.9990         7.5               0.6   24.081558      -0.832723   \n",
       "4  -11.9990         7.5               0.8  266.986754      -0.521206   \n",
       "5  -11.9990         7.5               1.0  264.389692      -0.661615   \n",
       "6  -11.9990        10.0               0.6   37.577457      -0.534394   \n",
       "7  -11.9990        10.0               0.8  268.455041      -0.697512   \n",
       "8  -11.9990        10.0               1.0  268.472647      -0.662363   \n",
       "9   -9.4995         5.0               0.6  286.133984      -0.255376   \n",
       "10  -9.4995         5.0               0.8  260.368437      -0.402011   \n",
       "11  -9.4995         5.0               1.0  264.236163      -0.444814   \n",
       "12  -9.4995         7.5               0.6  183.205650      -0.245001   \n",
       "13  -9.4995         7.5               0.8  224.981473      -0.329332   \n",
       "14  -9.4995         7.5               1.0  274.183847      -0.398428   \n",
       "15  -9.4995        10.0               0.6   -0.840515      -0.347327   \n",
       "16  -9.4995        10.0               0.8   64.455892      -0.371165   \n",
       "17  -9.4995        10.0               1.0  267.644917      -0.205564   \n",
       "18  -7.0000         5.0               0.6  283.314921      -0.367411   \n",
       "19  -7.0000         5.0               0.8  279.526088      -0.389580   \n",
       "20  -7.0000         5.0               1.0  266.240197      -0.362868   \n",
       "21  -7.0000         7.5               0.6  271.431024      -0.454880   \n",
       "22  -7.0000         7.5               0.8  264.187740      -0.325541   \n",
       "23  -7.0000         7.5               1.0  276.771385      -0.158376   \n",
       "24  -7.0000        10.0               0.6  273.431241      -0.222142   \n",
       "25  -7.0000        10.0               0.8  245.246430      -0.389496   \n",
       "26  -7.0000        10.0               1.0  277.048590      -0.364671   \n",
       "\n",
       "    latent mean 2  latent mean 3  latent mean 4     var_0     var_1     var_2  \\\n",
       "0        0.212907      -2.108798      -0.474705  0.001708  0.002211  0.000901   \n",
       "1        0.204715      -2.277114      -0.543602  0.087840  0.112857  0.044243   \n",
       "2        0.211906      -2.398802      -0.566640  0.117704  0.150827  0.058099   \n",
       "3        0.235128      -3.006399      -0.776366  0.261911  0.336455  0.129713   \n",
       "4        0.196040      -2.092316      -0.495520  0.060162  0.077595  0.031147   \n",
       "5        0.231326      -2.504723      -0.559708  0.032407  0.041978  0.017332   \n",
       "6        0.199654      -2.103364      -0.484570  0.090624  0.115792  0.043724   \n",
       "7        0.218248      -2.626576      -0.639868  0.165192  0.212714  0.084594   \n",
       "8        0.201878      -2.389832      -0.619937  0.248357  0.318794  0.121787   \n",
       "9        0.129679      -1.149624      -0.284833  0.030158  0.038329  0.013882   \n",
       "10       0.171207      -1.716802      -0.401304  0.045847  0.058816  0.022917   \n",
       "11       0.181771      -1.853835      -0.433295  0.049743  0.063869  0.025018   \n",
       "12       0.137349      -1.099991      -0.270594  0.016392  0.021004  0.007932   \n",
       "13       0.153341      -1.396308      -0.332878  0.024527  0.031453  0.012089   \n",
       "14       0.168246      -1.679631      -0.391990  0.038583  0.049489  0.019279   \n",
       "15       0.162154      -1.428576      -0.338917  0.015926  0.020471  0.007927   \n",
       "16       0.161406      -1.571334      -0.369124  0.037605  0.048274  0.018850   \n",
       "17       0.127712      -0.975525      -0.243287  0.019677  0.025183  0.009393   \n",
       "18       0.168056      -1.484976      -0.343766  0.007284  0.009386  0.003702   \n",
       "19       0.165470      -1.588880      -0.376157  0.045605  0.058338  0.021993   \n",
       "20       0.152329      -1.482437      -0.362643  0.029160  0.037283  0.013931   \n",
       "21       0.188459      -1.848280      -0.419162  0.022872  0.029403  0.011558   \n",
       "22       0.148233      -1.406160      -0.333503  0.032545  0.041517  0.015421   \n",
       "23       0.094120      -0.739518      -0.205962  0.017259  0.021857  0.007411   \n",
       "24       0.130722      -1.081328      -0.252958  0.022906  0.029265  0.010874   \n",
       "25       0.166695      -1.606050      -0.382698  0.049780  0.063717  0.024104   \n",
       "26       0.162632      -1.555988      -0.362611  0.033676  0.043184  0.016686   \n",
       "\n",
       "       var_3  sum_of_vars  max_of_vars  \n",
       "0   0.001951     0.006771     0.002211  \n",
       "1   0.100371     0.345311     0.112857  \n",
       "2   0.134749     0.461379     0.150827  \n",
       "3   0.300453     1.028531     0.336455  \n",
       "4   0.068661     0.237565     0.077595  \n",
       "5   0.037082     0.128798     0.041978  \n",
       "6   0.103693     0.353834     0.115792  \n",
       "7   0.189119     0.651619     0.212714  \n",
       "8   0.284732     0.973670     0.318794  \n",
       "9   0.034341     0.116709     0.038329  \n",
       "10  0.052275     0.179854     0.058816  \n",
       "11  0.056723     0.195352     0.063869  \n",
       "12  0.018674     0.064002     0.021004  \n",
       "13  0.027977     0.096046     0.031453  \n",
       "14  0.043988     0.151340     0.049489  \n",
       "15  0.018172     0.062497     0.020471  \n",
       "16  0.042898     0.147626     0.048274  \n",
       "17  0.022408     0.076661     0.025183  \n",
       "18  0.008309     0.028681     0.009386  \n",
       "19  0.052073     0.178009     0.058338  \n",
       "20  0.033315     0.113688     0.037283  \n",
       "21  0.026116     0.089949     0.029403  \n",
       "22  0.037150     0.126632     0.041517  \n",
       "23  0.019738     0.066265     0.021857  \n",
       "24  0.026122     0.089166     0.029265  \n",
       "25  0.056830     0.194431     0.063717  \n",
       "26  0.038411     0.131958     0.043184  "
      ]
     },
     "execution_count": 29,
     "metadata": {},
     "output_type": "execute_result"
    }
   ],
   "source": [
    "df"
   ]
  },
  {
   "cell_type": "code",
   "execution_count": 7,
   "metadata": {},
   "outputs": [],
   "source": [
    "with initialize(version_base=None, config_path=\"conf\"):\n",
    "    cfg = compose(config_name=\"config\")\n",
    "    "
   ]
  },
  {
   "cell_type": "code",
   "execution_count": 10,
   "metadata": {},
   "outputs": [
    {
     "name": "stderr",
     "output_type": "stream",
     "text": [
      "c:\\Users\\volob\\.conda\\envs\\adlr\\lib\\site-packages\\gymnasium\\spaces\\box.py:127: UserWarning: \u001b[33mWARN: Box bound precision lowered by casting to float32\u001b[0m\n",
      "  logger.warn(f\"Box bound precision lowered by casting to {self.dtype}\")\n"
     ]
    }
   ],
   "source": [
    "env_fabric = LunarEnvHypercubeFabric(env_params=cfg.env, pass_env_params=True)\n",
    "env = env_fabric.generate_env()\n",
    "env_info = {\"input_dims\":env.observation_space.shape, \"n_actions\": env.action_space.shape[0], \"max_action\": env.action_space.high}"
   ]
  },
  {
   "cell_type": "code",
   "execution_count": 19,
   "metadata": {},
   "outputs": [
    {
     "data": {
      "application/vnd.jupyter.widget-view+json": {
       "model_id": "3228a8334dc64712b89ecd842dd91a0e",
       "version_major": 2,
       "version_minor": 0
      },
      "text/plain": [
       "interactive(children=(FloatSlider(value=-10.0, description='g', max=0.0, min=-12.0), FloatSlider(value=0.0, de…"
      ]
     },
     "metadata": {},
     "output_type": "display_data"
    }
   ],
   "source": [
    "@widgets.interact_manual(g=(-12.0, 0.0), wind_power=(0.0, 20.0), turbulence_power=(0.0, 2.0)\n",
    "                         )\n",
    "def make_video(g=-10, wind_power=0.0, turbulence_power=0.0, plot_every_action=5):\n",
    "    env = gym.make('LunarLander-v2', continuous=True, render_mode='rgb_array', gravity=g , enable_wind=True, wind_power=wind_power, \n",
    "             turbulence_power=turbulence_power)\n",
    "    obs, info = env.reset()\n",
    "    step = 0\n",
    "    while True:\n",
    "        action = agent.action(obs, addNoise=False)\n",
    "        new_obs, reward, done, _, _ = env.step(action)\n",
    "        if step % plot_every_action == 0:\n",
    "            clear_output(wait=True)\n",
    "            plt.imshow( env.render())\n",
    "            plt.show()\n",
    "        step += 1\n",
    "        if done:\n",
    "            break\n",
    "    env.close()"
   ]
  }
 ],
 "metadata": {
  "kernelspec": {
   "display_name": "adlr",
   "language": "python",
   "name": "python3"
  },
  "language_info": {
   "codemirror_mode": {
    "name": "ipython",
    "version": 3
   },
   "file_extension": ".py",
   "mimetype": "text/x-python",
   "name": "python",
   "nbconvert_exporter": "python",
   "pygments_lexer": "ipython3",
   "version": "3.10.6"
  },
  "orig_nbformat": 4,
  "vscode": {
   "interpreter": {
    "hash": "c91d451bd703414ea6641230092ee74a3e06cec0bad9897d20ace1c483b6d6d8"
   }
  }
 },
 "nbformat": 4,
 "nbformat_minor": 2
}
