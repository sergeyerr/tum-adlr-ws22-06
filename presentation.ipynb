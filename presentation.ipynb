{
 "cells": [
  {
   "cell_type": "code",
   "execution_count": 13,
   "metadata": {},
   "outputs": [],
   "source": [
    "from IPython.display import display, Markdown, HTML\n",
    "import ipywidgets as widgets\n",
    "from EnvironmentUtils import ValidationHypercube\n",
    "import pandas as pd"
   ]
  },
  {
   "cell_type": "code",
   "execution_count": null,
   "metadata": {},
   "outputs": [],
   "source": [
    "# describe randomization"
   ]
  },
  {
   "cell_type": "code",
   "execution_count": null,
   "metadata": {},
   "outputs": [],
   "source": [
    "# hyperparamets sweep"
   ]
  },
  {
   "cell_type": "code",
   "execution_count": null,
   "metadata": {},
   "outputs": [],
   "source": [
    "# 4 algo comparison"
   ]
  },
  {
   "cell_type": "code",
   "execution_count": null,
   "metadata": {},
   "outputs": [],
   "source": [
    "# validations of top performing sac2 with and without domain variables"
   ]
  },
  {
   "cell_type": "code",
   "execution_count": null,
   "metadata": {},
   "outputs": [],
   "source": [
    "# cool gif guy"
   ]
  },
  {
   "cell_type": "code",
   "execution_count": 80,
   "metadata": {},
   "outputs": [
    {
     "data": {
      "application/vnd.jupyter.widget-view+json": {
       "model_id": "d2ee4f836a7042a6bb620199f70a4f0e",
       "version_major": 2,
       "version_minor": 0
      },
      "text/plain": [
       "interactive(children=(Dropdown(description='gravity', options=(-11.999, -8.999275, -5.99955, -2.99982499999999…"
      ]
     },
     "metadata": {},
     "output_type": "display_data"
    }
   ],
   "source": [
    "folder_no_env = \"./final_validations/sac2_no_env_params\"\n",
    "folder_env = \"./final_validations/sac2_with_env_params\"\n",
    "res_no_env = pd.read_csv(folder_no_env + \"/results.csv\")\n",
    "res_env = pd.read_csv(folder_env + \"/results.csv\")\n",
    "\n",
    "gravity = sorted(list(res_env['gravity'].unique()))\n",
    "wind_power = sorted(list(res_env['wind_power'].unique()))\n",
    "turbulence_power = sorted(list(res_env['turbulence_power'].unique()))\n",
    "\n",
    "\n",
    "@widgets.interact(gravity=gravity, wind_power=wind_power, turbulence_power=turbulence_power\n",
    "                         )\n",
    "def print_gifs(gravity, wind_power, turbulence_power):\n",
    "    no_env_reward = res_no_env[(res_no_env[\"gravity\"] == gravity) & (res_no_env[\"wind_power\"] == wind_power) & (res_no_env[\"turbulence_power\"] == turbulence_power)].iloc[0].reward\n",
    "    env_params_reward = res_env[(res_env[\"gravity\"] == gravity) & (res_env[\"wind_power\"] == wind_power) & (res_env[\"turbulence_power\"] == turbulence_power)].iloc[0].reward\n",
    "    video_path_env = f\"{folder_env}/gravity_{gravity}_wind_{wind_power}_turbulence_{turbulence_power}/rl-video-episode-0.mp4\"\n",
    "    video_path_no_env = f\"{folder_no_env}/gravity_{gravity}_wind_{wind_power}_turbulence_{turbulence_power}/rl-video-episode-0.mp4\"\n",
    "    display(\n",
    "    HTML(\n",
    "        f'''\n",
    "        <table>\n",
    "        <tr>\n",
    "            <th align=\"center\"> SAC2 with domain parameters, reward {env_params_reward}</th>\n",
    "            <th align=\"center\"> SAC2 without domain parameters (domain randomization), reward {no_env_reward}</th>\n",
    "        </tr>\n",
    "        \n",
    "        \n",
    "        <tr>\n",
    "            <td>\n",
    "            <video autoplay=\"autoplay\" controls muted loop  src=\"{video_path_env}\">animation</video>\n",
    "            </td>\n",
    "            <td>\n",
    "            <video autoplay=\"autoplay\" controls muted loop  src=\"{video_path_no_env}\">animation</video>\n",
    "            </td>\n",
    "        </tr>\n",
    "        </table>\n",
    "        '''\n",
    "    )\n",
    ")"
   ]
  },
  {
   "cell_type": "code",
   "execution_count": 6,
   "metadata": {},
   "outputs": [
    {
     "data": {
      "text/html": [
       "\n",
       "        <table>\n",
       "        <tr>\n",
       "            <th>\n",
       "            <video autoplay=\"autoplay\" controls muted loop  src=\"experiments/LunarLanderContinuous-v2/sac2_default_env_44/videos/0/rl-video-episode-0.mp4\">animation</video>\n",
       "            </th>\n",
       "            <th>\n",
       "            <video autoplay=\"autoplay\" controls muted loop  src=\"experiments/LunarLanderContinuous-v2/sac_default_env_3/videos/20/rl-video-episode-0.mp4\">animation</video>\n",
       "            </th>\n",
       "        </tr>\n",
       "        </table>\n",
       "        "
      ],
      "text/plain": [
       "<IPython.core.display.HTML object>"
      ]
     },
     "metadata": {},
     "output_type": "display_data"
    }
   ],
   "source": [
    "display(\n",
    "    HTML(\n",
    "        '''\n",
    "        <table>\n",
    "        <tr>\n",
    "            <th>\n",
    "            <video autoplay=\"autoplay\" controls muted loop  src=\"experiments/LunarLanderContinuous-v2/sac2_default_env_44/videos/0/rl-video-episode-0.mp4\">animation</video>\n",
    "            </th>\n",
    "            <th>\n",
    "            <video autoplay=\"autoplay\" controls muted loop  src=\"experiments/LunarLanderContinuous-v2/sac_default_env_3/videos/20/rl-video-episode-0.mp4\">animation</video>\n",
    "            </th>\n",
    "        </tr>\n",
    "        </table>\n",
    "        '''\n",
    "    )\n",
    ")"
   ]
  },
  {
   "attachments": {},
   "cell_type": "markdown",
   "metadata": {},
   "source": [
    "<table>\n",
    "<tr>\n",
    "    <th>\n",
    "       <video autoplay=\"autoplay\" controls muted loop  src=\"experiments/LunarLanderContinuous-v2/sac2_default_env_44/videos/0/rl-video-episode-0.mp4\">animation</video>\n",
    "    </th>\n",
    "    <th>\n",
    "       <video autoplay=\"autoplay\" controls muted loop  src=\"experiments/LunarLanderContinuous-v2/sac_default_env_3/videos/20/rl-video-episode-0.mp4\">animation</video>\n",
    "    </th>\n",
    "</tr>\n",
    "</table>"
   ]
  },
  {
   "cell_type": "code",
   "execution_count": null,
   "metadata": {},
   "outputs": [],
   "source": [
    "#experiments\\LunarLanderContinuous-v2\\sac2_default_env_44\\videos\\0"
   ]
  }
 ],
 "metadata": {
  "kernelspec": {
   "display_name": "adlr",
   "language": "python",
   "name": "python3"
  },
  "language_info": {
   "codemirror_mode": {
    "name": "ipython",
    "version": 3
   },
   "file_extension": ".py",
   "mimetype": "text/x-python",
   "name": "python",
   "nbconvert_exporter": "python",
   "pygments_lexer": "ipython3",
   "version": "3.10.6"
  },
  "orig_nbformat": 4,
  "vscode": {
   "interpreter": {
    "hash": "c91d451bd703414ea6641230092ee74a3e06cec0bad9897d20ace1c483b6d6d8"
   }
  }
 },
 "nbformat": 4,
 "nbformat_minor": 2
}
