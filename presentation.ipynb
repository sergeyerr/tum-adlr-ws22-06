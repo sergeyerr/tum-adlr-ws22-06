{
 "cells": [
  {
   "attachments": {},
   "cell_type": "markdown",
   "metadata": {},
   "source": [
    "![SegmentLocal](experiments/LunarLanderContinuous-v2/sac2_default_env_44/videos/0/rl-video-episode-0.mp4 \"segment\")"
   ]
  },
  {
   "attachments": {},
   "cell_type": "markdown",
   "metadata": {},
   "source": [
    "<table>\n",
    "<tr>\n",
    "    <th>\n",
    "       <video autoplay=\"autoplay\" controls muted loop  src=\"experiments/LunarLanderContinuous-v2/sac2_default_env_44/videos/0/rl-video-episode-0.mp4\">animation</video>\n",
    "    </th>\n",
    "    <th>\n",
    "       <video autoplay=\"autoplay\" controls muted loop  src=\"experiments/LunarLanderContinuous-v2/sac_default_env_3/videos/20/rl-video-episode-0.mp4\">animation</video>\n",
    "    </th>\n",
    "</tr>\n",
    "</table>"
   ]
  },
  {
   "cell_type": "code",
   "execution_count": null,
   "metadata": {},
   "outputs": [],
   "source": [
    "#experiments\\LunarLanderContinuous-v2\\sac2_default_env_44\\videos\\0"
   ]
  }
 ],
 "metadata": {
  "kernelspec": {
   "display_name": "adlr",
   "language": "python",
   "name": "python3"
  },
  "language_info": {
   "name": "python",
   "version": "3.10.6 | packaged by conda-forge | (main, Aug 22 2022, 20:29:51) [MSC v.1929 64 bit (AMD64)]"
  },
  "orig_nbformat": 4,
  "vscode": {
   "interpreter": {
    "hash": "c91d451bd703414ea6641230092ee74a3e06cec0bad9897d20ace1c483b6d6d8"
   }
  }
 },
 "nbformat": 4,
 "nbformat_minor": 2
}
