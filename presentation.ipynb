{
 "cells": [
  {
   "cell_type": "code",
   "execution_count": 5,
   "metadata": {},
   "outputs": [],
   "source": [
    "from IPython.display import display, Markdown, HTML\n",
    "import ipywidgets as widgets\n",
    "from utils import va"
   ]
  },
  {
   "cell_type": "code",
   "execution_count": null,
   "metadata": {},
   "outputs": [],
   "source": [
    "# describe randomization"
   ]
  },
  {
   "cell_type": "code",
   "execution_count": null,
   "metadata": {},
   "outputs": [],
   "source": [
    "# hyperparamets sweep"
   ]
  },
  {
   "cell_type": "code",
   "execution_count": null,
   "metadata": {},
   "outputs": [],
   "source": [
    "# 4 algo comparison"
   ]
  },
  {
   "cell_type": "code",
   "execution_count": null,
   "metadata": {},
   "outputs": [],
   "source": [
    "# validations of top performing sac2 with and without domain variables"
   ]
  },
  {
   "cell_type": "code",
   "execution_count": null,
   "metadata": {},
   "outputs": [],
   "source": [
    "# cool gif guy"
   ]
  },
  {
   "cell_type": "code",
   "execution_count": 6,
   "metadata": {},
   "outputs": [
    {
     "data": {
      "text/html": [
       "\n",
       "        <table>\n",
       "        <tr>\n",
       "            <th>\n",
       "            <video autoplay=\"autoplay\" controls muted loop  src=\"experiments/LunarLanderContinuous-v2/sac2_default_env_44/videos/0/rl-video-episode-0.mp4\">animation</video>\n",
       "            </th>\n",
       "            <th>\n",
       "            <video autoplay=\"autoplay\" controls muted loop  src=\"experiments/LunarLanderContinuous-v2/sac_default_env_3/videos/20/rl-video-episode-0.mp4\">animation</video>\n",
       "            </th>\n",
       "        </tr>\n",
       "        </table>\n",
       "        "
      ],
      "text/plain": [
       "<IPython.core.display.HTML object>"
      ]
     },
     "metadata": {},
     "output_type": "display_data"
    }
   ],
   "source": [
    "display(\n",
    "    HTML(\n",
    "        '''\n",
    "        <table>\n",
    "        <tr>\n",
    "            <th>\n",
    "            <video autoplay=\"autoplay\" controls muted loop  src=\"experiments/LunarLanderContinuous-v2/sac2_default_env_44/videos/0/rl-video-episode-0.mp4\">animation</video>\n",
    "            </th>\n",
    "            <th>\n",
    "            <video autoplay=\"autoplay\" controls muted loop  src=\"experiments/LunarLanderContinuous-v2/sac_default_env_3/videos/20/rl-video-episode-0.mp4\">animation</video>\n",
    "            </th>\n",
    "        </tr>\n",
    "        </table>\n",
    "        '''\n",
    "    )\n",
    ")"
   ]
  },
  {
   "attachments": {},
   "cell_type": "markdown",
   "metadata": {},
   "source": [
    "<table>\n",
    "<tr>\n",
    "    <th>\n",
    "       <video autoplay=\"autoplay\" controls muted loop  src=\"experiments/LunarLanderContinuous-v2/sac2_default_env_44/videos/0/rl-video-episode-0.mp4\">animation</video>\n",
    "    </th>\n",
    "    <th>\n",
    "       <video autoplay=\"autoplay\" controls muted loop  src=\"experiments/LunarLanderContinuous-v2/sac_default_env_3/videos/20/rl-video-episode-0.mp4\">animation</video>\n",
    "    </th>\n",
    "</tr>\n",
    "</table>"
   ]
  },
  {
   "cell_type": "code",
   "execution_count": null,
   "metadata": {},
   "outputs": [],
   "source": [
    "#experiments\\LunarLanderContinuous-v2\\sac2_default_env_44\\videos\\0"
   ]
  }
 ],
 "metadata": {
  "kernelspec": {
   "display_name": "adlr",
   "language": "python",
   "name": "python3"
  },
  "language_info": {
   "codemirror_mode": {
    "name": "ipython",
    "version": 3
   },
   "file_extension": ".py",
   "mimetype": "text/x-python",
   "name": "python",
   "nbconvert_exporter": "python",
   "pygments_lexer": "ipython3",
   "version": "3.10.6"
  },
  "orig_nbformat": 4,
  "vscode": {
   "interpreter": {
    "hash": "c91d451bd703414ea6641230092ee74a3e06cec0bad9897d20ace1c483b6d6d8"
   }
  }
 },
 "nbformat": 4,
 "nbformat_minor": 2
}
