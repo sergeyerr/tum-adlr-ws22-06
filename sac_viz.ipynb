{
 "cells": [
  {
   "cell_type": "code",
   "execution_count": 24,
   "metadata": {},
   "outputs": [
    {
     "name": "stdout",
     "output_type": "stream",
     "text": [
      "The autoreload extension is already loaded. To reload it, use:\n",
      "  %reload_ext autoreload\n"
     ]
    }
   ],
   "source": [
    "%load_ext autoreload\n",
    "%autoreload 2\n",
    "import ipywidgets as widgets\n",
    "from ipywidgets import HBox, VBox\n",
    "import gymnasium as gym\n",
    "from agents import SACAgent2\n",
    "from omegaconf import DictConfig, OmegaConf\n",
    "from hydra import compose, initialize\n",
    "import matplotlib.pyplot as plt\n",
    "from IPython.display import clear_output\n",
    "import os\n",
    "import wandb\n",
    "import torch as T\n",
    "from gymnasium.wrappers import RecordVideo\n",
    "from EnvironmentUtils import LunarEnvHypercubeFabric, LunarEnvRandomFabric, LunarEnvFixedFabric, ValidationHypercube\n",
    "from agents import SACAgent2, DDPGAgent, SACAgent, PEARLAgent\n",
    "import numpy as np\n",
    "from utils import *\n",
    "os.environ[\"SDL_VIDEODRIVER\"] = \"dummy\"\n",
    "import plotly.express as px\n",
    "import pandas as pd\n",
    "import shutil\n",
    "import seaborn as sns\n",
    "sns.set(rc={'figure.figsize':(11.7,8.27)})"
   ]
  },
  {
   "cell_type": "code",
   "execution_count": 2,
   "metadata": {},
   "outputs": [],
   "source": [
    "import wandb\n",
    "api = wandb.Api()\n",
    "# vanilla pearl best run\n",
    "#run = api.run(\"tum-adlr-ws22-06/ADLR randomized envs/2eqd07v7\")"
   ]
  },
  {
   "cell_type": "code",
   "execution_count": 3,
   "metadata": {},
   "outputs": [],
   "source": [
    "#runs = [...]\n",
    "# for each run:\n",
    "#     download best model\n",
    "#     create directory with validation/run_name\n",
    "#     create hypercube with 5 points\n",
    "#     for each hypercube point:\n",
    "#          create subdirectory\n",
    "#          make run, record video\n",
    "#          store reward in result array\n",
    "# make 3d plotly plots with reward as point color\n",
    "# make nice gifs, comparing sac2 with and without domain parameters"
   ]
  },
  {
   "cell_type": "code",
   "execution_count": 4,
   "metadata": {},
   "outputs": [],
   "source": [
    "runs = [\"tum-adlr-ws22-06/ADLR Unified training/28e80wjc\"]"
   ]
  },
  {
   "cell_type": "code",
   "execution_count": 5,
   "metadata": {},
   "outputs": [
    {
     "name": "stderr",
     "output_type": "stream",
     "text": [
      "\u001b[34m\u001b[1mwandb\u001b[0m:   5 of 5 files downloaded.  \n"
     ]
    },
    {
     "name": "stdout",
     "output_type": "stream",
     "text": [
      "Last model loaded from .\\artifacts\\lunar_lander_model-v1200\n"
     ]
    }
   ],
   "source": [
    "run = api.run(runs[0])\n",
    "agent = load_last_model(get_agent_from_run_cfg(run.config), run)"
   ]
  },
  {
   "cell_type": "code",
   "execution_count": 6,
   "metadata": {},
   "outputs": [],
   "source": [
    "training_args = run.config['training']\n",
    "env_args = run.config['env']\n",
    "validation_args = run.config['validation']"
   ]
  },
  {
   "cell_type": "code",
   "execution_count": 7,
   "metadata": {},
   "outputs": [],
   "source": [
    "fabric = LunarEnvHypercubeFabric(pass_env_params=training_args['pass_env_parameters'],\n",
    "                                                render_mode='rgb_array',\n",
    "                                                points_per_axis=validation_args[\n",
    "                                                    \"hypercube_points_per_axis\"], **env_args)"
   ]
  },
  {
   "cell_type": "code",
   "execution_count": 8,
   "metadata": {},
   "outputs": [],
   "source": [
    "sampling_traj = 3"
   ]
  },
  {
   "cell_type": "code",
   "execution_count": 9,
   "metadata": {},
   "outputs": [
    {
     "name": "stdout",
     "output_type": "stream",
     "text": [
      "sac2_ood_no_env\n"
     ]
    },
    {
     "name": "stderr",
     "output_type": "stream",
     "text": [
      "c:\\Users\\volob\\.conda\\envs\\adlr\\lib\\site-packages\\gymnasium\\spaces\\box.py:127: UserWarning: \u001b[33mWARN: Box bound precision lowered by casting to float32\u001b[0m\n",
      "  logger.warn(f\"Box bound precision lowered by casting to {self.dtype}\")\n",
      "c:\\Users\\volob\\.conda\\envs\\adlr\\lib\\site-packages\\gymnasium\\wrappers\\record_video.py:75: UserWarning: \u001b[33mWARN: Overwriting existing videos at d:\\Desktop\\reps\\TUM WS22\\tum-adlr-ws22-06\\final_validations\\sac2_ood_no_env\\gravity_-11.999_wind_5.0_turbulence_0.6 folder (try specifying a different `video_folder` for the `RecordVideo` wrapper if this is not desired)\u001b[0m\n",
      "  logger.warn(\n"
     ]
    },
    {
     "name": "stdout",
     "output_type": "stream",
     "text": [
      "Moviepy - Building video d:\\Desktop\\reps\\TUM WS22\\tum-adlr-ws22-06\\final_validations\\sac2_ood_no_env\\gravity_-11.999_wind_5.0_turbulence_0.6\\rl-video-episode-0.mp4.\n",
      "Moviepy - Writing video d:\\Desktop\\reps\\TUM WS22\\tum-adlr-ws22-06\\final_validations\\sac2_ood_no_env\\gravity_-11.999_wind_5.0_turbulence_0.6\\rl-video-episode-0.mp4\n",
      "\n"
     ]
    },
    {
     "name": "stderr",
     "output_type": "stream",
     "text": [
      "c:\\Users\\volob\\.conda\\envs\\adlr\\lib\\site-packages\\gymnasium\\wrappers\\record_video.py:75: UserWarning: \u001b[33mWARN: Overwriting existing videos at d:\\Desktop\\reps\\TUM WS22\\tum-adlr-ws22-06\\final_validations\\sac2_ood_no_env\\gravity_-11.999_wind_5.0_turbulence_0.8 folder (try specifying a different `video_folder` for the `RecordVideo` wrapper if this is not desired)\u001b[0m\n",
      "  logger.warn(\n"
     ]
    },
    {
     "name": "stdout",
     "output_type": "stream",
     "text": [
      "Moviepy - Done !\n",
      "Moviepy - video ready d:\\Desktop\\reps\\TUM WS22\\tum-adlr-ws22-06\\final_validations\\sac2_ood_no_env\\gravity_-11.999_wind_5.0_turbulence_0.6\\rl-video-episode-0.mp4\n",
      "gravity: -11.999, wind_power: 5.0, turbulence_power: 0.6, reward: -4.378185452414726\n",
      "Moviepy - Building video d:\\Desktop\\reps\\TUM WS22\\tum-adlr-ws22-06\\final_validations\\sac2_ood_no_env\\gravity_-11.999_wind_5.0_turbulence_0.8\\rl-video-episode-0.mp4.\n",
      "Moviepy - Writing video d:\\Desktop\\reps\\TUM WS22\\tum-adlr-ws22-06\\final_validations\\sac2_ood_no_env\\gravity_-11.999_wind_5.0_turbulence_0.8\\rl-video-episode-0.mp4\n",
      "\n"
     ]
    },
    {
     "name": "stderr",
     "output_type": "stream",
     "text": [
      "c:\\Users\\volob\\.conda\\envs\\adlr\\lib\\site-packages\\gymnasium\\wrappers\\record_video.py:75: UserWarning: \u001b[33mWARN: Overwriting existing videos at d:\\Desktop\\reps\\TUM WS22\\tum-adlr-ws22-06\\final_validations\\sac2_ood_no_env\\gravity_-11.999_wind_5.0_turbulence_1.0 folder (try specifying a different `video_folder` for the `RecordVideo` wrapper if this is not desired)\u001b[0m\n",
      "  logger.warn(\n"
     ]
    },
    {
     "name": "stdout",
     "output_type": "stream",
     "text": [
      "Moviepy - Done !\n",
      "Moviepy - video ready d:\\Desktop\\reps\\TUM WS22\\tum-adlr-ws22-06\\final_validations\\sac2_ood_no_env\\gravity_-11.999_wind_5.0_turbulence_0.8\\rl-video-episode-0.mp4\n",
      "gravity: -11.999, wind_power: 5.0, turbulence_power: 0.8, reward: -32.35457532636694\n",
      "Moviepy - Building video d:\\Desktop\\reps\\TUM WS22\\tum-adlr-ws22-06\\final_validations\\sac2_ood_no_env\\gravity_-11.999_wind_5.0_turbulence_1.0\\rl-video-episode-0.mp4.\n",
      "Moviepy - Writing video d:\\Desktop\\reps\\TUM WS22\\tum-adlr-ws22-06\\final_validations\\sac2_ood_no_env\\gravity_-11.999_wind_5.0_turbulence_1.0\\rl-video-episode-0.mp4\n",
      "\n"
     ]
    },
    {
     "name": "stderr",
     "output_type": "stream",
     "text": [
      "c:\\Users\\volob\\.conda\\envs\\adlr\\lib\\site-packages\\gymnasium\\wrappers\\record_video.py:75: UserWarning: \u001b[33mWARN: Overwriting existing videos at d:\\Desktop\\reps\\TUM WS22\\tum-adlr-ws22-06\\final_validations\\sac2_ood_no_env\\gravity_-11.999_wind_7.5_turbulence_0.6 folder (try specifying a different `video_folder` for the `RecordVideo` wrapper if this is not desired)\u001b[0m\n",
      "  logger.warn(\n"
     ]
    },
    {
     "name": "stdout",
     "output_type": "stream",
     "text": [
      "Moviepy - Done !\n",
      "Moviepy - video ready d:\\Desktop\\reps\\TUM WS22\\tum-adlr-ws22-06\\final_validations\\sac2_ood_no_env\\gravity_-11.999_wind_5.0_turbulence_1.0\\rl-video-episode-0.mp4\n",
      "gravity: -11.999, wind_power: 5.0, turbulence_power: 1.0, reward: -37.23863034799199\n",
      "Moviepy - Building video d:\\Desktop\\reps\\TUM WS22\\tum-adlr-ws22-06\\final_validations\\sac2_ood_no_env\\gravity_-11.999_wind_7.5_turbulence_0.6\\rl-video-episode-0.mp4.\n",
      "Moviepy - Writing video d:\\Desktop\\reps\\TUM WS22\\tum-adlr-ws22-06\\final_validations\\sac2_ood_no_env\\gravity_-11.999_wind_7.5_turbulence_0.6\\rl-video-episode-0.mp4\n",
      "\n"
     ]
    },
    {
     "name": "stderr",
     "output_type": "stream",
     "text": [
      "                                                             "
     ]
    },
    {
     "name": "stdout",
     "output_type": "stream",
     "text": [
      "Moviepy - Done !\n",
      "Moviepy - video ready d:\\Desktop\\reps\\TUM WS22\\tum-adlr-ws22-06\\final_validations\\sac2_ood_no_env\\gravity_-11.999_wind_7.5_turbulence_0.6\\rl-video-episode-0.mp4\n"
     ]
    },
    {
     "name": "stderr",
     "output_type": "stream",
     "text": [
      "c:\\Users\\volob\\.conda\\envs\\adlr\\lib\\site-packages\\gymnasium\\wrappers\\record_video.py:75: UserWarning: \u001b[33mWARN: Overwriting existing videos at d:\\Desktop\\reps\\TUM WS22\\tum-adlr-ws22-06\\final_validations\\sac2_ood_no_env\\gravity_-11.999_wind_7.5_turbulence_0.8 folder (try specifying a different `video_folder` for the `RecordVideo` wrapper if this is not desired)\u001b[0m\n",
      "  logger.warn(\n"
     ]
    },
    {
     "name": "stdout",
     "output_type": "stream",
     "text": [
      "gravity: -11.999, wind_power: 7.5, turbulence_power: 0.6, reward: -59.25526186010501\n",
      "Moviepy - Building video d:\\Desktop\\reps\\TUM WS22\\tum-adlr-ws22-06\\final_validations\\sac2_ood_no_env\\gravity_-11.999_wind_7.5_turbulence_0.8\\rl-video-episode-0.mp4.\n",
      "Moviepy - Writing video d:\\Desktop\\reps\\TUM WS22\\tum-adlr-ws22-06\\final_validations\\sac2_ood_no_env\\gravity_-11.999_wind_7.5_turbulence_0.8\\rl-video-episode-0.mp4\n",
      "\n"
     ]
    },
    {
     "name": "stderr",
     "output_type": "stream",
     "text": [
      "                                                             "
     ]
    },
    {
     "name": "stdout",
     "output_type": "stream",
     "text": [
      "Moviepy - Done !\n",
      "Moviepy - video ready d:\\Desktop\\reps\\TUM WS22\\tum-adlr-ws22-06\\final_validations\\sac2_ood_no_env\\gravity_-11.999_wind_7.5_turbulence_0.8\\rl-video-episode-0.mp4\n"
     ]
    },
    {
     "name": "stderr",
     "output_type": "stream",
     "text": [
      "c:\\Users\\volob\\.conda\\envs\\adlr\\lib\\site-packages\\gymnasium\\wrappers\\record_video.py:75: UserWarning: \u001b[33mWARN: Overwriting existing videos at d:\\Desktop\\reps\\TUM WS22\\tum-adlr-ws22-06\\final_validations\\sac2_ood_no_env\\gravity_-11.999_wind_7.5_turbulence_1.0 folder (try specifying a different `video_folder` for the `RecordVideo` wrapper if this is not desired)\u001b[0m\n",
      "  logger.warn(\n"
     ]
    },
    {
     "name": "stdout",
     "output_type": "stream",
     "text": [
      "gravity: -11.999, wind_power: 7.5, turbulence_power: 0.8, reward: 8.078264225310136\n",
      "Moviepy - Building video d:\\Desktop\\reps\\TUM WS22\\tum-adlr-ws22-06\\final_validations\\sac2_ood_no_env\\gravity_-11.999_wind_7.5_turbulence_1.0\\rl-video-episode-0.mp4.\n",
      "Moviepy - Writing video d:\\Desktop\\reps\\TUM WS22\\tum-adlr-ws22-06\\final_validations\\sac2_ood_no_env\\gravity_-11.999_wind_7.5_turbulence_1.0\\rl-video-episode-0.mp4\n",
      "\n"
     ]
    },
    {
     "name": "stderr",
     "output_type": "stream",
     "text": [
      "                                                             "
     ]
    },
    {
     "name": "stdout",
     "output_type": "stream",
     "text": [
      "Moviepy - Done !\n",
      "Moviepy - video ready d:\\Desktop\\reps\\TUM WS22\\tum-adlr-ws22-06\\final_validations\\sac2_ood_no_env\\gravity_-11.999_wind_7.5_turbulence_1.0\\rl-video-episode-0.mp4\n"
     ]
    },
    {
     "name": "stderr",
     "output_type": "stream",
     "text": [
      "c:\\Users\\volob\\.conda\\envs\\adlr\\lib\\site-packages\\gymnasium\\wrappers\\record_video.py:75: UserWarning: \u001b[33mWARN: Overwriting existing videos at d:\\Desktop\\reps\\TUM WS22\\tum-adlr-ws22-06\\final_validations\\sac2_ood_no_env\\gravity_-11.999_wind_10.0_turbulence_0.6 folder (try specifying a different `video_folder` for the `RecordVideo` wrapper if this is not desired)\u001b[0m\n",
      "  logger.warn(\n"
     ]
    },
    {
     "name": "stdout",
     "output_type": "stream",
     "text": [
      "gravity: -11.999, wind_power: 7.5, turbulence_power: 1.0, reward: -17.694094058635244\n",
      "Moviepy - Building video d:\\Desktop\\reps\\TUM WS22\\tum-adlr-ws22-06\\final_validations\\sac2_ood_no_env\\gravity_-11.999_wind_10.0_turbulence_0.6\\rl-video-episode-0.mp4.\n",
      "Moviepy - Writing video d:\\Desktop\\reps\\TUM WS22\\tum-adlr-ws22-06\\final_validations\\sac2_ood_no_env\\gravity_-11.999_wind_10.0_turbulence_0.6\\rl-video-episode-0.mp4\n",
      "\n"
     ]
    },
    {
     "name": "stderr",
     "output_type": "stream",
     "text": [
      "c:\\Users\\volob\\.conda\\envs\\adlr\\lib\\site-packages\\gymnasium\\wrappers\\record_video.py:75: UserWarning: \u001b[33mWARN: Overwriting existing videos at d:\\Desktop\\reps\\TUM WS22\\tum-adlr-ws22-06\\final_validations\\sac2_ood_no_env\\gravity_-11.999_wind_10.0_turbulence_0.8 folder (try specifying a different `video_folder` for the `RecordVideo` wrapper if this is not desired)\u001b[0m\n",
      "  logger.warn(\n"
     ]
    },
    {
     "name": "stdout",
     "output_type": "stream",
     "text": [
      "Moviepy - Done !\n",
      "Moviepy - video ready d:\\Desktop\\reps\\TUM WS22\\tum-adlr-ws22-06\\final_validations\\sac2_ood_no_env\\gravity_-11.999_wind_10.0_turbulence_0.6\\rl-video-episode-0.mp4\n",
      "gravity: -11.999, wind_power: 10.0, turbulence_power: 0.6, reward: 5.286489427031142\n",
      "Moviepy - Building video d:\\Desktop\\reps\\TUM WS22\\tum-adlr-ws22-06\\final_validations\\sac2_ood_no_env\\gravity_-11.999_wind_10.0_turbulence_0.8\\rl-video-episode-0.mp4.\n",
      "Moviepy - Writing video d:\\Desktop\\reps\\TUM WS22\\tum-adlr-ws22-06\\final_validations\\sac2_ood_no_env\\gravity_-11.999_wind_10.0_turbulence_0.8\\rl-video-episode-0.mp4\n",
      "\n"
     ]
    },
    {
     "name": "stderr",
     "output_type": "stream",
     "text": [
      "                                                             "
     ]
    },
    {
     "name": "stdout",
     "output_type": "stream",
     "text": [
      "Moviepy - Done !\n",
      "Moviepy - video ready d:\\Desktop\\reps\\TUM WS22\\tum-adlr-ws22-06\\final_validations\\sac2_ood_no_env\\gravity_-11.999_wind_10.0_turbulence_0.8\\rl-video-episode-0.mp4\n"
     ]
    },
    {
     "name": "stderr",
     "output_type": "stream",
     "text": [
      "c:\\Users\\volob\\.conda\\envs\\adlr\\lib\\site-packages\\gymnasium\\wrappers\\record_video.py:75: UserWarning: \u001b[33mWARN: Overwriting existing videos at d:\\Desktop\\reps\\TUM WS22\\tum-adlr-ws22-06\\final_validations\\sac2_ood_no_env\\gravity_-11.999_wind_10.0_turbulence_1.0 folder (try specifying a different `video_folder` for the `RecordVideo` wrapper if this is not desired)\u001b[0m\n",
      "  logger.warn(\n"
     ]
    },
    {
     "name": "stdout",
     "output_type": "stream",
     "text": [
      "gravity: -11.999, wind_power: 10.0, turbulence_power: 0.8, reward: 2.255319372755636\n",
      "Moviepy - Building video d:\\Desktop\\reps\\TUM WS22\\tum-adlr-ws22-06\\final_validations\\sac2_ood_no_env\\gravity_-11.999_wind_10.0_turbulence_1.0\\rl-video-episode-0.mp4.\n",
      "Moviepy - Writing video d:\\Desktop\\reps\\TUM WS22\\tum-adlr-ws22-06\\final_validations\\sac2_ood_no_env\\gravity_-11.999_wind_10.0_turbulence_1.0\\rl-video-episode-0.mp4\n",
      "\n"
     ]
    },
    {
     "name": "stderr",
     "output_type": "stream",
     "text": [
      "                                                             "
     ]
    },
    {
     "name": "stdout",
     "output_type": "stream",
     "text": [
      "Moviepy - Done !\n",
      "Moviepy - video ready d:\\Desktop\\reps\\TUM WS22\\tum-adlr-ws22-06\\final_validations\\sac2_ood_no_env\\gravity_-11.999_wind_10.0_turbulence_1.0\\rl-video-episode-0.mp4\n",
      "gravity: -11.999, wind_power: 10.0, turbulence_power: 1.0, reward: -68.02797670860159\n"
     ]
    },
    {
     "name": "stderr",
     "output_type": "stream",
     "text": [
      "c:\\Users\\volob\\.conda\\envs\\adlr\\lib\\site-packages\\gymnasium\\wrappers\\record_video.py:75: UserWarning: \u001b[33mWARN: Overwriting existing videos at d:\\Desktop\\reps\\TUM WS22\\tum-adlr-ws22-06\\final_validations\\sac2_ood_no_env\\gravity_-9.499500000000001_wind_5.0_turbulence_0.6 folder (try specifying a different `video_folder` for the `RecordVideo` wrapper if this is not desired)\u001b[0m\n",
      "  logger.warn(\n"
     ]
    },
    {
     "name": "stdout",
     "output_type": "stream",
     "text": [
      "Moviepy - Building video d:\\Desktop\\reps\\TUM WS22\\tum-adlr-ws22-06\\final_validations\\sac2_ood_no_env\\gravity_-9.499500000000001_wind_5.0_turbulence_0.6\\rl-video-episode-0.mp4.\n",
      "Moviepy - Writing video d:\\Desktop\\reps\\TUM WS22\\tum-adlr-ws22-06\\final_validations\\sac2_ood_no_env\\gravity_-9.499500000000001_wind_5.0_turbulence_0.6\\rl-video-episode-0.mp4\n",
      "\n"
     ]
    },
    {
     "name": "stderr",
     "output_type": "stream",
     "text": [
      "                                                             "
     ]
    },
    {
     "name": "stdout",
     "output_type": "stream",
     "text": [
      "Moviepy - Done !\n",
      "Moviepy - video ready d:\\Desktop\\reps\\TUM WS22\\tum-adlr-ws22-06\\final_validations\\sac2_ood_no_env\\gravity_-9.499500000000001_wind_5.0_turbulence_0.6\\rl-video-episode-0.mp4\n"
     ]
    },
    {
     "name": "stderr",
     "output_type": "stream",
     "text": [
      "c:\\Users\\volob\\.conda\\envs\\adlr\\lib\\site-packages\\gymnasium\\wrappers\\record_video.py:75: UserWarning: \u001b[33mWARN: Overwriting existing videos at d:\\Desktop\\reps\\TUM WS22\\tum-adlr-ws22-06\\final_validations\\sac2_ood_no_env\\gravity_-9.499500000000001_wind_5.0_turbulence_0.8 folder (try specifying a different `video_folder` for the `RecordVideo` wrapper if this is not desired)\u001b[0m\n",
      "  logger.warn(\n"
     ]
    },
    {
     "name": "stdout",
     "output_type": "stream",
     "text": [
      "gravity: -9.499500000000001, wind_power: 5.0, turbulence_power: 0.6, reward: 10.361941247191538\n",
      "Moviepy - Building video d:\\Desktop\\reps\\TUM WS22\\tum-adlr-ws22-06\\final_validations\\sac2_ood_no_env\\gravity_-9.499500000000001_wind_5.0_turbulence_0.8\\rl-video-episode-0.mp4.\n",
      "Moviepy - Writing video d:\\Desktop\\reps\\TUM WS22\\tum-adlr-ws22-06\\final_validations\\sac2_ood_no_env\\gravity_-9.499500000000001_wind_5.0_turbulence_0.8\\rl-video-episode-0.mp4\n",
      "\n"
     ]
    },
    {
     "name": "stderr",
     "output_type": "stream",
     "text": [
      "                                                             "
     ]
    },
    {
     "name": "stdout",
     "output_type": "stream",
     "text": [
      "Moviepy - Done !\n",
      "Moviepy - video ready d:\\Desktop\\reps\\TUM WS22\\tum-adlr-ws22-06\\final_validations\\sac2_ood_no_env\\gravity_-9.499500000000001_wind_5.0_turbulence_0.8\\rl-video-episode-0.mp4\n"
     ]
    },
    {
     "name": "stderr",
     "output_type": "stream",
     "text": [
      "c:\\Users\\volob\\.conda\\envs\\adlr\\lib\\site-packages\\gymnasium\\wrappers\\record_video.py:75: UserWarning: \u001b[33mWARN: Overwriting existing videos at d:\\Desktop\\reps\\TUM WS22\\tum-adlr-ws22-06\\final_validations\\sac2_ood_no_env\\gravity_-9.499500000000001_wind_5.0_turbulence_1.0 folder (try specifying a different `video_folder` for the `RecordVideo` wrapper if this is not desired)\u001b[0m\n",
      "  logger.warn(\n"
     ]
    },
    {
     "name": "stdout",
     "output_type": "stream",
     "text": [
      "gravity: -9.499500000000001, wind_power: 5.0, turbulence_power: 0.8, reward: 12.154337255898596\n",
      "Moviepy - Building video d:\\Desktop\\reps\\TUM WS22\\tum-adlr-ws22-06\\final_validations\\sac2_ood_no_env\\gravity_-9.499500000000001_wind_5.0_turbulence_1.0\\rl-video-episode-0.mp4.\n",
      "Moviepy - Writing video d:\\Desktop\\reps\\TUM WS22\\tum-adlr-ws22-06\\final_validations\\sac2_ood_no_env\\gravity_-9.499500000000001_wind_5.0_turbulence_1.0\\rl-video-episode-0.mp4\n",
      "\n"
     ]
    },
    {
     "name": "stderr",
     "output_type": "stream",
     "text": [
      "                                                             "
     ]
    },
    {
     "name": "stdout",
     "output_type": "stream",
     "text": [
      "Moviepy - Done !\n",
      "Moviepy - video ready d:\\Desktop\\reps\\TUM WS22\\tum-adlr-ws22-06\\final_validations\\sac2_ood_no_env\\gravity_-9.499500000000001_wind_5.0_turbulence_1.0\\rl-video-episode-0.mp4\n"
     ]
    },
    {
     "name": "stderr",
     "output_type": "stream",
     "text": [
      "c:\\Users\\volob\\.conda\\envs\\adlr\\lib\\site-packages\\gymnasium\\wrappers\\record_video.py:75: UserWarning: \u001b[33mWARN: Overwriting existing videos at d:\\Desktop\\reps\\TUM WS22\\tum-adlr-ws22-06\\final_validations\\sac2_ood_no_env\\gravity_-9.499500000000001_wind_7.5_turbulence_0.6 folder (try specifying a different `video_folder` for the `RecordVideo` wrapper if this is not desired)\u001b[0m\n",
      "  logger.warn(\n"
     ]
    },
    {
     "name": "stdout",
     "output_type": "stream",
     "text": [
      "gravity: -9.499500000000001, wind_power: 5.0, turbulence_power: 1.0, reward: 2.1949480807942194\n",
      "Moviepy - Building video d:\\Desktop\\reps\\TUM WS22\\tum-adlr-ws22-06\\final_validations\\sac2_ood_no_env\\gravity_-9.499500000000001_wind_7.5_turbulence_0.6\\rl-video-episode-0.mp4.\n",
      "Moviepy - Writing video d:\\Desktop\\reps\\TUM WS22\\tum-adlr-ws22-06\\final_validations\\sac2_ood_no_env\\gravity_-9.499500000000001_wind_7.5_turbulence_0.6\\rl-video-episode-0.mp4\n",
      "\n"
     ]
    },
    {
     "name": "stderr",
     "output_type": "stream",
     "text": [
      "c:\\Users\\volob\\.conda\\envs\\adlr\\lib\\site-packages\\gymnasium\\wrappers\\record_video.py:75: UserWarning: \u001b[33mWARN: Overwriting existing videos at d:\\Desktop\\reps\\TUM WS22\\tum-adlr-ws22-06\\final_validations\\sac2_ood_no_env\\gravity_-9.499500000000001_wind_7.5_turbulence_0.8 folder (try specifying a different `video_folder` for the `RecordVideo` wrapper if this is not desired)\u001b[0m\n",
      "  logger.warn(\n"
     ]
    },
    {
     "name": "stdout",
     "output_type": "stream",
     "text": [
      "Moviepy - Done !\n",
      "Moviepy - video ready d:\\Desktop\\reps\\TUM WS22\\tum-adlr-ws22-06\\final_validations\\sac2_ood_no_env\\gravity_-9.499500000000001_wind_7.5_turbulence_0.6\\rl-video-episode-0.mp4\n",
      "gravity: -9.499500000000001, wind_power: 7.5, turbulence_power: 0.6, reward: -2.6723786302375174\n",
      "Moviepy - Building video d:\\Desktop\\reps\\TUM WS22\\tum-adlr-ws22-06\\final_validations\\sac2_ood_no_env\\gravity_-9.499500000000001_wind_7.5_turbulence_0.8\\rl-video-episode-0.mp4.\n",
      "Moviepy - Writing video d:\\Desktop\\reps\\TUM WS22\\tum-adlr-ws22-06\\final_validations\\sac2_ood_no_env\\gravity_-9.499500000000001_wind_7.5_turbulence_0.8\\rl-video-episode-0.mp4\n",
      "\n"
     ]
    },
    {
     "name": "stderr",
     "output_type": "stream",
     "text": [
      "                                                             "
     ]
    },
    {
     "name": "stdout",
     "output_type": "stream",
     "text": [
      "Moviepy - Done !\n",
      "Moviepy - video ready d:\\Desktop\\reps\\TUM WS22\\tum-adlr-ws22-06\\final_validations\\sac2_ood_no_env\\gravity_-9.499500000000001_wind_7.5_turbulence_0.8\\rl-video-episode-0.mp4\n"
     ]
    },
    {
     "name": "stderr",
     "output_type": "stream",
     "text": [
      "c:\\Users\\volob\\.conda\\envs\\adlr\\lib\\site-packages\\gymnasium\\wrappers\\record_video.py:75: UserWarning: \u001b[33mWARN: Overwriting existing videos at d:\\Desktop\\reps\\TUM WS22\\tum-adlr-ws22-06\\final_validations\\sac2_ood_no_env\\gravity_-9.499500000000001_wind_7.5_turbulence_1.0 folder (try specifying a different `video_folder` for the `RecordVideo` wrapper if this is not desired)\u001b[0m\n",
      "  logger.warn(\n"
     ]
    },
    {
     "name": "stdout",
     "output_type": "stream",
     "text": [
      "gravity: -9.499500000000001, wind_power: 7.5, turbulence_power: 0.8, reward: -1.6779072164386264\n",
      "Moviepy - Building video d:\\Desktop\\reps\\TUM WS22\\tum-adlr-ws22-06\\final_validations\\sac2_ood_no_env\\gravity_-9.499500000000001_wind_7.5_turbulence_1.0\\rl-video-episode-0.mp4.\n",
      "Moviepy - Writing video d:\\Desktop\\reps\\TUM WS22\\tum-adlr-ws22-06\\final_validations\\sac2_ood_no_env\\gravity_-9.499500000000001_wind_7.5_turbulence_1.0\\rl-video-episode-0.mp4\n",
      "\n"
     ]
    },
    {
     "name": "stderr",
     "output_type": "stream",
     "text": [
      "                                                             "
     ]
    },
    {
     "name": "stdout",
     "output_type": "stream",
     "text": [
      "Moviepy - Done !\n",
      "Moviepy - video ready d:\\Desktop\\reps\\TUM WS22\\tum-adlr-ws22-06\\final_validations\\sac2_ood_no_env\\gravity_-9.499500000000001_wind_7.5_turbulence_1.0\\rl-video-episode-0.mp4\n"
     ]
    },
    {
     "name": "stderr",
     "output_type": "stream",
     "text": [
      "c:\\Users\\volob\\.conda\\envs\\adlr\\lib\\site-packages\\gymnasium\\wrappers\\record_video.py:75: UserWarning: \u001b[33mWARN: Overwriting existing videos at d:\\Desktop\\reps\\TUM WS22\\tum-adlr-ws22-06\\final_validations\\sac2_ood_no_env\\gravity_-9.499500000000001_wind_10.0_turbulence_0.6 folder (try specifying a different `video_folder` for the `RecordVideo` wrapper if this is not desired)\u001b[0m\n",
      "  logger.warn(\n"
     ]
    },
    {
     "name": "stdout",
     "output_type": "stream",
     "text": [
      "gravity: -9.499500000000001, wind_power: 7.5, turbulence_power: 1.0, reward: -15.893124925903948\n",
      "Moviepy - Building video d:\\Desktop\\reps\\TUM WS22\\tum-adlr-ws22-06\\final_validations\\sac2_ood_no_env\\gravity_-9.499500000000001_wind_10.0_turbulence_0.6\\rl-video-episode-0.mp4.\n",
      "Moviepy - Writing video d:\\Desktop\\reps\\TUM WS22\\tum-adlr-ws22-06\\final_validations\\sac2_ood_no_env\\gravity_-9.499500000000001_wind_10.0_turbulence_0.6\\rl-video-episode-0.mp4\n",
      "\n"
     ]
    },
    {
     "name": "stderr",
     "output_type": "stream",
     "text": [
      "                                                             "
     ]
    },
    {
     "name": "stdout",
     "output_type": "stream",
     "text": [
      "Moviepy - Done !\n",
      "Moviepy - video ready d:\\Desktop\\reps\\TUM WS22\\tum-adlr-ws22-06\\final_validations\\sac2_ood_no_env\\gravity_-9.499500000000001_wind_10.0_turbulence_0.6\\rl-video-episode-0.mp4\n"
     ]
    },
    {
     "name": "stderr",
     "output_type": "stream",
     "text": [
      "c:\\Users\\volob\\.conda\\envs\\adlr\\lib\\site-packages\\gymnasium\\wrappers\\record_video.py:75: UserWarning: \u001b[33mWARN: Overwriting existing videos at d:\\Desktop\\reps\\TUM WS22\\tum-adlr-ws22-06\\final_validations\\sac2_ood_no_env\\gravity_-9.499500000000001_wind_10.0_turbulence_0.8 folder (try specifying a different `video_folder` for the `RecordVideo` wrapper if this is not desired)\u001b[0m\n",
      "  logger.warn(\n"
     ]
    },
    {
     "name": "stdout",
     "output_type": "stream",
     "text": [
      "gravity: -9.499500000000001, wind_power: 10.0, turbulence_power: 0.6, reward: -13.220253199518666\n",
      "Moviepy - Building video d:\\Desktop\\reps\\TUM WS22\\tum-adlr-ws22-06\\final_validations\\sac2_ood_no_env\\gravity_-9.499500000000001_wind_10.0_turbulence_0.8\\rl-video-episode-0.mp4.\n",
      "Moviepy - Writing video d:\\Desktop\\reps\\TUM WS22\\tum-adlr-ws22-06\\final_validations\\sac2_ood_no_env\\gravity_-9.499500000000001_wind_10.0_turbulence_0.8\\rl-video-episode-0.mp4\n",
      "\n"
     ]
    },
    {
     "name": "stderr",
     "output_type": "stream",
     "text": [
      "                                                             "
     ]
    },
    {
     "name": "stdout",
     "output_type": "stream",
     "text": [
      "Moviepy - Done !\n",
      "Moviepy - video ready d:\\Desktop\\reps\\TUM WS22\\tum-adlr-ws22-06\\final_validations\\sac2_ood_no_env\\gravity_-9.499500000000001_wind_10.0_turbulence_0.8\\rl-video-episode-0.mp4\n"
     ]
    },
    {
     "name": "stderr",
     "output_type": "stream",
     "text": [
      "c:\\Users\\volob\\.conda\\envs\\adlr\\lib\\site-packages\\gymnasium\\wrappers\\record_video.py:75: UserWarning: \u001b[33mWARN: Overwriting existing videos at d:\\Desktop\\reps\\TUM WS22\\tum-adlr-ws22-06\\final_validations\\sac2_ood_no_env\\gravity_-9.499500000000001_wind_10.0_turbulence_1.0 folder (try specifying a different `video_folder` for the `RecordVideo` wrapper if this is not desired)\u001b[0m\n",
      "  logger.warn(\n"
     ]
    },
    {
     "name": "stdout",
     "output_type": "stream",
     "text": [
      "gravity: -9.499500000000001, wind_power: 10.0, turbulence_power: 0.8, reward: -26.797994916267143\n",
      "Moviepy - Building video d:\\Desktop\\reps\\TUM WS22\\tum-adlr-ws22-06\\final_validations\\sac2_ood_no_env\\gravity_-9.499500000000001_wind_10.0_turbulence_1.0\\rl-video-episode-0.mp4.\n",
      "Moviepy - Writing video d:\\Desktop\\reps\\TUM WS22\\tum-adlr-ws22-06\\final_validations\\sac2_ood_no_env\\gravity_-9.499500000000001_wind_10.0_turbulence_1.0\\rl-video-episode-0.mp4\n",
      "\n"
     ]
    },
    {
     "name": "stderr",
     "output_type": "stream",
     "text": [
      "c:\\Users\\volob\\.conda\\envs\\adlr\\lib\\site-packages\\gymnasium\\wrappers\\record_video.py:75: UserWarning: \u001b[33mWARN: Overwriting existing videos at d:\\Desktop\\reps\\TUM WS22\\tum-adlr-ws22-06\\final_validations\\sac2_ood_no_env\\gravity_-7.0_wind_5.0_turbulence_0.6 folder (try specifying a different `video_folder` for the `RecordVideo` wrapper if this is not desired)\u001b[0m\n",
      "  logger.warn(\n"
     ]
    },
    {
     "name": "stdout",
     "output_type": "stream",
     "text": [
      "Moviepy - Done !\n",
      "Moviepy - video ready d:\\Desktop\\reps\\TUM WS22\\tum-adlr-ws22-06\\final_validations\\sac2_ood_no_env\\gravity_-9.499500000000001_wind_10.0_turbulence_1.0\\rl-video-episode-0.mp4\n",
      "gravity: -9.499500000000001, wind_power: 10.0, turbulence_power: 1.0, reward: -54.65681331401825\n",
      "Moviepy - Building video d:\\Desktop\\reps\\TUM WS22\\tum-adlr-ws22-06\\final_validations\\sac2_ood_no_env\\gravity_-7.0_wind_5.0_turbulence_0.6\\rl-video-episode-0.mp4.\n",
      "Moviepy - Writing video d:\\Desktop\\reps\\TUM WS22\\tum-adlr-ws22-06\\final_validations\\sac2_ood_no_env\\gravity_-7.0_wind_5.0_turbulence_0.6\\rl-video-episode-0.mp4\n",
      "\n"
     ]
    },
    {
     "name": "stderr",
     "output_type": "stream",
     "text": [
      "                                                             "
     ]
    },
    {
     "name": "stdout",
     "output_type": "stream",
     "text": [
      "Moviepy - Done !\n",
      "Moviepy - video ready d:\\Desktop\\reps\\TUM WS22\\tum-adlr-ws22-06\\final_validations\\sac2_ood_no_env\\gravity_-7.0_wind_5.0_turbulence_0.6\\rl-video-episode-0.mp4\n"
     ]
    },
    {
     "name": "stderr",
     "output_type": "stream",
     "text": [
      "c:\\Users\\volob\\.conda\\envs\\adlr\\lib\\site-packages\\gymnasium\\wrappers\\record_video.py:75: UserWarning: \u001b[33mWARN: Overwriting existing videos at d:\\Desktop\\reps\\TUM WS22\\tum-adlr-ws22-06\\final_validations\\sac2_ood_no_env\\gravity_-7.0_wind_5.0_turbulence_0.8 folder (try specifying a different `video_folder` for the `RecordVideo` wrapper if this is not desired)\u001b[0m\n",
      "  logger.warn(\n"
     ]
    },
    {
     "name": "stdout",
     "output_type": "stream",
     "text": [
      "gravity: -7.0, wind_power: 5.0, turbulence_power: 0.6, reward: -10.44943283432778\n",
      "Moviepy - Building video d:\\Desktop\\reps\\TUM WS22\\tum-adlr-ws22-06\\final_validations\\sac2_ood_no_env\\gravity_-7.0_wind_5.0_turbulence_0.8\\rl-video-episode-0.mp4.\n",
      "Moviepy - Writing video d:\\Desktop\\reps\\TUM WS22\\tum-adlr-ws22-06\\final_validations\\sac2_ood_no_env\\gravity_-7.0_wind_5.0_turbulence_0.8\\rl-video-episode-0.mp4\n",
      "\n"
     ]
    },
    {
     "name": "stderr",
     "output_type": "stream",
     "text": [
      "c:\\Users\\volob\\.conda\\envs\\adlr\\lib\\site-packages\\gymnasium\\wrappers\\record_video.py:75: UserWarning: \u001b[33mWARN: Overwriting existing videos at d:\\Desktop\\reps\\TUM WS22\\tum-adlr-ws22-06\\final_validations\\sac2_ood_no_env\\gravity_-7.0_wind_5.0_turbulence_1.0 folder (try specifying a different `video_folder` for the `RecordVideo` wrapper if this is not desired)\u001b[0m\n",
      "  logger.warn(\n"
     ]
    },
    {
     "name": "stdout",
     "output_type": "stream",
     "text": [
      "Moviepy - Done !\n",
      "Moviepy - video ready d:\\Desktop\\reps\\TUM WS22\\tum-adlr-ws22-06\\final_validations\\sac2_ood_no_env\\gravity_-7.0_wind_5.0_turbulence_0.8\\rl-video-episode-0.mp4\n",
      "gravity: -7.0, wind_power: 5.0, turbulence_power: 0.8, reward: 300.49748604753944\n",
      "Moviepy - Building video d:\\Desktop\\reps\\TUM WS22\\tum-adlr-ws22-06\\final_validations\\sac2_ood_no_env\\gravity_-7.0_wind_5.0_turbulence_1.0\\rl-video-episode-0.mp4.\n",
      "Moviepy - Writing video d:\\Desktop\\reps\\TUM WS22\\tum-adlr-ws22-06\\final_validations\\sac2_ood_no_env\\gravity_-7.0_wind_5.0_turbulence_1.0\\rl-video-episode-0.mp4\n",
      "\n"
     ]
    },
    {
     "name": "stderr",
     "output_type": "stream",
     "text": [
      "                                                             "
     ]
    },
    {
     "name": "stdout",
     "output_type": "stream",
     "text": [
      "Moviepy - Done !\n",
      "Moviepy - video ready d:\\Desktop\\reps\\TUM WS22\\tum-adlr-ws22-06\\final_validations\\sac2_ood_no_env\\gravity_-7.0_wind_5.0_turbulence_1.0\\rl-video-episode-0.mp4\n"
     ]
    },
    {
     "name": "stderr",
     "output_type": "stream",
     "text": [
      "c:\\Users\\volob\\.conda\\envs\\adlr\\lib\\site-packages\\gymnasium\\wrappers\\record_video.py:75: UserWarning: \u001b[33mWARN: Overwriting existing videos at d:\\Desktop\\reps\\TUM WS22\\tum-adlr-ws22-06\\final_validations\\sac2_ood_no_env\\gravity_-7.0_wind_7.5_turbulence_0.6 folder (try specifying a different `video_folder` for the `RecordVideo` wrapper if this is not desired)\u001b[0m\n",
      "  logger.warn(\n"
     ]
    },
    {
     "name": "stdout",
     "output_type": "stream",
     "text": [
      "gravity: -7.0, wind_power: 5.0, turbulence_power: 1.0, reward: -0.34093629257795044\n",
      "Moviepy - Building video d:\\Desktop\\reps\\TUM WS22\\tum-adlr-ws22-06\\final_validations\\sac2_ood_no_env\\gravity_-7.0_wind_7.5_turbulence_0.6\\rl-video-episode-0.mp4.\n",
      "Moviepy - Writing video d:\\Desktop\\reps\\TUM WS22\\tum-adlr-ws22-06\\final_validations\\sac2_ood_no_env\\gravity_-7.0_wind_7.5_turbulence_0.6\\rl-video-episode-0.mp4\n",
      "\n"
     ]
    },
    {
     "name": "stderr",
     "output_type": "stream",
     "text": [
      "c:\\Users\\volob\\.conda\\envs\\adlr\\lib\\site-packages\\gymnasium\\wrappers\\record_video.py:75: UserWarning: \u001b[33mWARN: Overwriting existing videos at d:\\Desktop\\reps\\TUM WS22\\tum-adlr-ws22-06\\final_validations\\sac2_ood_no_env\\gravity_-7.0_wind_7.5_turbulence_0.8 folder (try specifying a different `video_folder` for the `RecordVideo` wrapper if this is not desired)\u001b[0m\n",
      "  logger.warn(\n"
     ]
    },
    {
     "name": "stdout",
     "output_type": "stream",
     "text": [
      "Moviepy - Done !\n",
      "Moviepy - video ready d:\\Desktop\\reps\\TUM WS22\\tum-adlr-ws22-06\\final_validations\\sac2_ood_no_env\\gravity_-7.0_wind_7.5_turbulence_0.6\\rl-video-episode-0.mp4\n",
      "gravity: -7.0, wind_power: 7.5, turbulence_power: 0.6, reward: -12.193916127689562\n",
      "Moviepy - Building video d:\\Desktop\\reps\\TUM WS22\\tum-adlr-ws22-06\\final_validations\\sac2_ood_no_env\\gravity_-7.0_wind_7.5_turbulence_0.8\\rl-video-episode-0.mp4.\n",
      "Moviepy - Writing video d:\\Desktop\\reps\\TUM WS22\\tum-adlr-ws22-06\\final_validations\\sac2_ood_no_env\\gravity_-7.0_wind_7.5_turbulence_0.8\\rl-video-episode-0.mp4\n",
      "\n"
     ]
    },
    {
     "name": "stderr",
     "output_type": "stream",
     "text": [
      "c:\\Users\\volob\\.conda\\envs\\adlr\\lib\\site-packages\\gymnasium\\wrappers\\record_video.py:75: UserWarning: \u001b[33mWARN: Overwriting existing videos at d:\\Desktop\\reps\\TUM WS22\\tum-adlr-ws22-06\\final_validations\\sac2_ood_no_env\\gravity_-7.0_wind_7.5_turbulence_1.0 folder (try specifying a different `video_folder` for the `RecordVideo` wrapper if this is not desired)\u001b[0m\n",
      "  logger.warn(\n"
     ]
    },
    {
     "name": "stdout",
     "output_type": "stream",
     "text": [
      "Moviepy - Done !\n",
      "Moviepy - video ready d:\\Desktop\\reps\\TUM WS22\\tum-adlr-ws22-06\\final_validations\\sac2_ood_no_env\\gravity_-7.0_wind_7.5_turbulence_0.8\\rl-video-episode-0.mp4\n",
      "gravity: -7.0, wind_power: 7.5, turbulence_power: 0.8, reward: -11.185905060897838\n",
      "Moviepy - Building video d:\\Desktop\\reps\\TUM WS22\\tum-adlr-ws22-06\\final_validations\\sac2_ood_no_env\\gravity_-7.0_wind_7.5_turbulence_1.0\\rl-video-episode-0.mp4.\n",
      "Moviepy - Writing video d:\\Desktop\\reps\\TUM WS22\\tum-adlr-ws22-06\\final_validations\\sac2_ood_no_env\\gravity_-7.0_wind_7.5_turbulence_1.0\\rl-video-episode-0.mp4\n",
      "\n"
     ]
    },
    {
     "name": "stderr",
     "output_type": "stream",
     "text": [
      "c:\\Users\\volob\\.conda\\envs\\adlr\\lib\\site-packages\\gymnasium\\wrappers\\record_video.py:75: UserWarning: \u001b[33mWARN: Overwriting existing videos at d:\\Desktop\\reps\\TUM WS22\\tum-adlr-ws22-06\\final_validations\\sac2_ood_no_env\\gravity_-7.0_wind_10.0_turbulence_0.6 folder (try specifying a different `video_folder` for the `RecordVideo` wrapper if this is not desired)\u001b[0m\n",
      "  logger.warn(\n"
     ]
    },
    {
     "name": "stdout",
     "output_type": "stream",
     "text": [
      "Moviepy - Done !\n",
      "Moviepy - video ready d:\\Desktop\\reps\\TUM WS22\\tum-adlr-ws22-06\\final_validations\\sac2_ood_no_env\\gravity_-7.0_wind_7.5_turbulence_1.0\\rl-video-episode-0.mp4\n",
      "gravity: -7.0, wind_power: 7.5, turbulence_power: 1.0, reward: -28.58187607085324\n",
      "Moviepy - Building video d:\\Desktop\\reps\\TUM WS22\\tum-adlr-ws22-06\\final_validations\\sac2_ood_no_env\\gravity_-7.0_wind_10.0_turbulence_0.6\\rl-video-episode-0.mp4.\n",
      "Moviepy - Writing video d:\\Desktop\\reps\\TUM WS22\\tum-adlr-ws22-06\\final_validations\\sac2_ood_no_env\\gravity_-7.0_wind_10.0_turbulence_0.6\\rl-video-episode-0.mp4\n",
      "\n"
     ]
    },
    {
     "name": "stderr",
     "output_type": "stream",
     "text": [
      "c:\\Users\\volob\\.conda\\envs\\adlr\\lib\\site-packages\\gymnasium\\wrappers\\record_video.py:75: UserWarning: \u001b[33mWARN: Overwriting existing videos at d:\\Desktop\\reps\\TUM WS22\\tum-adlr-ws22-06\\final_validations\\sac2_ood_no_env\\gravity_-7.0_wind_10.0_turbulence_0.8 folder (try specifying a different `video_folder` for the `RecordVideo` wrapper if this is not desired)\u001b[0m\n",
      "  logger.warn(\n"
     ]
    },
    {
     "name": "stdout",
     "output_type": "stream",
     "text": [
      "Moviepy - Done !\n",
      "Moviepy - video ready d:\\Desktop\\reps\\TUM WS22\\tum-adlr-ws22-06\\final_validations\\sac2_ood_no_env\\gravity_-7.0_wind_10.0_turbulence_0.6\\rl-video-episode-0.mp4\n",
      "gravity: -7.0, wind_power: 10.0, turbulence_power: 0.6, reward: 287.9759698386483\n",
      "Moviepy - Building video d:\\Desktop\\reps\\TUM WS22\\tum-adlr-ws22-06\\final_validations\\sac2_ood_no_env\\gravity_-7.0_wind_10.0_turbulence_0.8\\rl-video-episode-0.mp4.\n",
      "Moviepy - Writing video d:\\Desktop\\reps\\TUM WS22\\tum-adlr-ws22-06\\final_validations\\sac2_ood_no_env\\gravity_-7.0_wind_10.0_turbulence_0.8\\rl-video-episode-0.mp4\n",
      "\n"
     ]
    },
    {
     "name": "stderr",
     "output_type": "stream",
     "text": [
      "                                                             "
     ]
    },
    {
     "name": "stdout",
     "output_type": "stream",
     "text": [
      "Moviepy - Done !\n",
      "Moviepy - video ready d:\\Desktop\\reps\\TUM WS22\\tum-adlr-ws22-06\\final_validations\\sac2_ood_no_env\\gravity_-7.0_wind_10.0_turbulence_0.8\\rl-video-episode-0.mp4\n"
     ]
    },
    {
     "name": "stderr",
     "output_type": "stream",
     "text": [
      "c:\\Users\\volob\\.conda\\envs\\adlr\\lib\\site-packages\\gymnasium\\wrappers\\record_video.py:75: UserWarning: \u001b[33mWARN: Overwriting existing videos at d:\\Desktop\\reps\\TUM WS22\\tum-adlr-ws22-06\\final_validations\\sac2_ood_no_env\\gravity_-7.0_wind_10.0_turbulence_1.0 folder (try specifying a different `video_folder` for the `RecordVideo` wrapper if this is not desired)\u001b[0m\n",
      "  logger.warn(\n"
     ]
    },
    {
     "name": "stdout",
     "output_type": "stream",
     "text": [
      "gravity: -7.0, wind_power: 10.0, turbulence_power: 0.8, reward: 5.296875558390596\n",
      "Moviepy - Building video d:\\Desktop\\reps\\TUM WS22\\tum-adlr-ws22-06\\final_validations\\sac2_ood_no_env\\gravity_-7.0_wind_10.0_turbulence_1.0\\rl-video-episode-0.mp4.\n",
      "Moviepy - Writing video d:\\Desktop\\reps\\TUM WS22\\tum-adlr-ws22-06\\final_validations\\sac2_ood_no_env\\gravity_-7.0_wind_10.0_turbulence_1.0\\rl-video-episode-0.mp4\n",
      "\n"
     ]
    },
    {
     "name": "stderr",
     "output_type": "stream",
     "text": [
      "                                                               "
     ]
    },
    {
     "name": "stdout",
     "output_type": "stream",
     "text": [
      "Moviepy - Done !\n",
      "Moviepy - video ready d:\\Desktop\\reps\\TUM WS22\\tum-adlr-ws22-06\\final_validations\\sac2_ood_no_env\\gravity_-7.0_wind_10.0_turbulence_1.0\\rl-video-episode-0.mp4\n",
      "gravity: -7.0, wind_power: 10.0, turbulence_power: 1.0, reward: 315.10491695493795\n"
     ]
    },
    {
     "name": "stderr",
     "output_type": "stream",
     "text": [
      "\r"
     ]
    }
   ],
   "source": [
    "\n",
    "#for run_name in runs:\n",
    "res = []\n",
    "#run = api.run(run_name)\n",
    "folder = f\"final_validations/{run.name}\"\n",
    "if os.path.exists(folder):\n",
    "    shutil.rmtree(folder, ignore_errors=True)\n",
    "os.mkdir(folder)\n",
    "print(run.name)\n",
    "#agent = load_best_model(get_agent_from_run_cfg(run.config), run)\n",
    "#fabric = LunarEnvHypercubeFabric(run.config['training']['pass_env_parameters'], run.config['env'], points_per_axis=5, render_mode='rgb_array') \n",
    "number_points = fabric.number_of_test_points()\n",
    "all_actions = []\n",
    "\n",
    "for i in range(number_points):\n",
    "    env = fabric.generate_env()[2]\n",
    "    gravity, wind_power, turbulence_power = env.gravity, env.wind_power, env.turbulence_power\n",
    "    video_path = f\"{folder}/gravity_{gravity}_wind_{wind_power}_turbulence_{turbulence_power}/\"\n",
    "    os.mkdir(video_path)\n",
    "    #env = RecordVideo(env, video_folder=video_path)\n",
    "    action_list = []\n",
    "    \n",
    "    env = RecordVideo(env, video_folder=video_path)\n",
    "    obs, _ = env.reset()\n",
    "    rewards = 0\n",
    "    while True:\n",
    "\n",
    "        # Get deterministic action\n",
    "        with T.no_grad():\n",
    "            action = agent.action(obs, addNoise=False)\n",
    "        action_list.append(action)\n",
    "\n",
    "        # Take step in environment\n",
    "        new_obs, reward, done, _, _ = env.step(action)\n",
    "\n",
    "        # Update obs\n",
    "        obs = new_obs\n",
    "\n",
    "        # Update rewards\n",
    "        rewards += reward\n",
    "\n",
    "        # End episode if done\n",
    "        if done:\n",
    "            break\n",
    "    all_actions.append(action_list)\n",
    "    print(f\"gravity: {gravity}, wind_power: {wind_power}, turbulence_power: {turbulence_power}, reward: {rewards}\")\n",
    "    res.append({\"gravity\": gravity, \"wind_power\": wind_power, \"turbulence_power\": turbulence_power, \"reward\": rewards})\n",
    "df = pd.DataFrame(res)\n",
    "df.to_csv(f\"{folder}/results.csv\", index=False)"
   ]
  },
  {
   "cell_type": "code",
   "execution_count": 10,
   "metadata": {},
   "outputs": [],
   "source": [
    "all_actions = [np.array(actions) for actions in all_actions]"
   ]
  },
  {
   "cell_type": "code",
   "execution_count": 11,
   "metadata": {},
   "outputs": [],
   "source": [
    "df = pd.DataFrame(res)\n"
   ]
  },
  {
   "cell_type": "code",
   "execution_count": 12,
   "metadata": {},
   "outputs": [],
   "source": [
    "# SHOW HOW PEARL WORKS FOR THE BEST SAC2 CASE, HOW TO WORST\n",
    "# and, the opposite"
   ]
  },
  {
   "cell_type": "code",
   "execution_count": 30,
   "metadata": {},
   "outputs": [],
   "source": [
    "task_id = 8"
   ]
  },
  {
   "cell_type": "code",
   "execution_count": 31,
   "metadata": {},
   "outputs": [
    {
     "data": {
      "image/png": "[encoded data removed]",
      "text/plain": [
       "<Figure size 1170x827 with 1 Axes>"
      ]
     },
     "metadata": {},
     "output_type": "display_data"
    }
   ],
   "source": [
    "#lineplot of first actions\n",
    "plt.plot(all_actions[task_id][:, 0]);\n",
    "#title with env params from df\n",
    "plt.title(f\"SAC2, Action 1; gravity: {df['gravity'][task_id]}, wind_power: {df['wind_power'][task_id]}, turbulence_power: {df['turbulence_power'][task_id]}\");\n",
    "plt.xlabel('step');\n",
    "plt.ylabel('action value');\n",
    "#plt.title(\"PEARL, Action 1\");"
   ]
  },
  {
   "cell_type": "code",
   "execution_count": 32,
   "metadata": {},
   "outputs": [
    {
     "data": {
      "image/png": "[encoded data removed]",
      "text/plain": [
       "<Figure size 1170x827 with 1 Axes>"
      ]
     },
     "metadata": {},
     "output_type": "display_data"
    }
   ],
   "source": [
    "#lineplot of first actions\n",
    "plt.plot(all_actions[task_id][:, 1]);\n",
    "plt.title(f\"SAC2, Action 2; gravity: {df['gravity'][task_id]}, wind_power: {df['wind_power'][task_id]}, turbulence_power: {df['turbulence_power'][task_id]}\");\n",
    "plt.xlabel('step');\n",
    "plt.ylabel('action value');"
   ]
  },
  {
   "cell_type": "code",
   "execution_count": 16,
   "metadata": {},
   "outputs": [
    {
     "data": {
      "application/vnd.plotly.v1+json": {
       "config": {
        "plotlyServerURL": "https://plot.ly"
       },
       "data": [
        {
         "hovertemplate": "gravity=%{x}<br>wind_power=%{y}<br>turbulence_power=%{z}<br>reward=%{marker.color}<extra></extra>",
         "legendgroup": "",
         "marker": {
          "color": [
           -4.378185452414726,
           -32.35457532636694,
           -37.23863034799199,
           -59.25526186010501,
           8.078264225310136,
           -17.694094058635244,
           5.286489427031142,
           2.255319372755636,
           -68.02797670860159,
           10.361941247191538,
           12.154337255898596,
           2.1949480807942194,
           -2.6723786302375174,
           -1.6779072164386264,
           -15.893124925903948,
           -13.220253199518666,
           -26.797994916267143,
           -54.65681331401825,
           -10.44943283432778,
           300.49748604753944,
           -0.34093629257795044,
           -12.193916127689562,
           -11.185905060897838,
           -28.58187607085324,
           287.9759698386483,
           5.296875558390596,
           315.10491695493795
          ],
          "coloraxis": "coloraxis",
          "symbol": "circle"
         },
         "mode": "markers",
         "name": "",
         "scene": "scene",
         "showlegend": false,
         "type": "scatter3d",
         "x": [
          -11.999,
          -11.999,
          -11.999,
          -11.999,
          -11.999,
          -11.999,
          -11.999,
          -11.999,
          -11.999,
          -9.499500000000001,
          -9.499500000000001,
          -9.499500000000001,
          -9.499500000000001,
          -9.499500000000001,
          -9.499500000000001,
          -9.499500000000001,
          -9.499500000000001,
          -9.499500000000001,
          -7,
          -7,
          -7,
          -7,
          -7,
          -7,
          -7,
          -7,
          -7
         ],
         "y": [
          5,
          5,
          5,
          7.5,
          7.5,
          7.5,
          10,
          10,
          10,
          5,
          5,
          5,
          7.5,
          7.5,
          7.5,
          10,
          10,
          10,
          5,
          5,
          5,
          7.5,
          7.5,
          7.5,
          10,
          10,
          10
         ],
         "z": [
          0.6,
          0.8,
          1,
          0.6,
          0.8,
          1,
          0.6,
          0.8,
          1,
          0.6,
          0.8,
          1,
          0.6,
          0.8,
          1,
          0.6,
          0.8,
          1,
          0.6,
          0.8,
          1,
          0.6,
          0.8,
          1,
          0.6,
          0.8,
          1
         ]
        }
       ],
       "layout": {
        "coloraxis": {
         "colorbar": {
          "title": {
           "text": "reward"
          }
         },
         "colorscale": [
          [
           0,
           "#0d0887"
          ],
          [
           0.1111111111111111,
           "#46039f"
          ],
          [
           0.2222222222222222,
           "#7201a8"
          ],
          [
           0.3333333333333333,
           "#9c179e"
          ],
          [
           0.4444444444444444,
           "#bd3786"
          ],
          [
           0.5555555555555556,
           "#d8576b"
          ],
          [
           0.6666666666666666,
           "#ed7953"
          ],
          [
           0.7777777777777778,
           "#fb9f3a"
          ],
          [
           0.8888888888888888,
           "#fdca26"
          ],
          [
           1,
           "#f0f921"
          ]
         ]
        },
        "legend": {
         "tracegroupgap": 0
        },
        "margin": {
         "t": 60
        },
        "scene": {
         "domain": {
          "x": [
           0,
           1
          ],
          "y": [
           0,
           1
          ]
         },
         "xaxis": {
          "title": {
           "text": "gravity"
          }
         },
         "yaxis": {
          "title": {
           "text": "wind_power"
          }
         },
         "zaxis": {
          "title": {
           "text": "turbulence_power"
          }
         }
        },
        "template": {
         "data": {
          "bar": [
           {
            "error_x": {
             "color": "#2a3f5f"
            },
            "error_y": {
             "color": "#2a3f5f"
            },
            "marker": {
             "line": {
              "color": "#E5ECF6",
              "width": 0.5
             },
             "pattern": {
              "fillmode": "overlay",
              "size": 10,
              "solidity": 0.2
             }
            },
            "type": "bar"
           }
          ],
          "barpolar": [
           {
            "marker": {
             "line": {
              "color": "#E5ECF6",
              "width": 0.5
             },
             "pattern": {
              "fillmode": "overlay",
              "size": 10,
              "solidity": 0.2
             }
            },
            "type": "barpolar"
           }
          ],
          "carpet": [
           {
            "aaxis": {
             "endlinecolor": "#2a3f5f",
             "gridcolor": "white",
             "linecolor": "white",
             "minorgridcolor": "white",
             "startlinecolor": "#2a3f5f"
            },
            "baxis": {
             "endlinecolor": "#2a3f5f",
             "gridcolor": "white",
             "linecolor": "white",
             "minorgridcolor": "white",
             "startlinecolor": "#2a3f5f"
            },
            "type": "carpet"
           }
          ],
          "choropleth": [
           {
            "colorbar": {
             "outlinewidth": 0,
             "ticks": ""
            },
            "type": "choropleth"
           }
          ],
          "contour": [
           {
            "colorbar": {
             "outlinewidth": 0,
             "ticks": ""
            },
            "colorscale": [
             [
              0,
              "#0d0887"
             ],
             [
              0.1111111111111111,
              "#46039f"
             ],
             [
              0.2222222222222222,
              "#7201a8"
             ],
             [
              0.3333333333333333,
              "#9c179e"
             ],
             [
              0.4444444444444444,
              "#bd3786"
             ],
             [
              0.5555555555555556,
              "#d8576b"
             ],
             [
              0.6666666666666666,
              "#ed7953"
             ],
             [
              0.7777777777777778,
              "#fb9f3a"
             ],
             [
              0.8888888888888888,
              "#fdca26"
             ],
             [
              1,
              "#f0f921"
             ]
            ],
            "type": "contour"
           }
          ],
          "contourcarpet": [
           {
            "colorbar": {
             "outlinewidth": 0,
             "ticks": ""
            },
            "type": "contourcarpet"
           }
          ],
          "heatmap": [
           {
            "colorbar": {
             "outlinewidth": 0,
             "ticks": ""
            },
            "colorscale": [
             [
              0,
              "#0d0887"
             ],
             [
              0.1111111111111111,
              "#46039f"
             ],
             [
              0.2222222222222222,
              "#7201a8"
             ],
             [
              0.3333333333333333,
              "#9c179e"
             ],
             [
              0.4444444444444444,
              "#bd3786"
             ],
             [
              0.5555555555555556,
              "#d8576b"
             ],
             [
              0.6666666666666666,
              "#ed7953"
             ],
             [
              0.7777777777777778,
              "#fb9f3a"
             ],
             [
              0.8888888888888888,
              "#fdca26"
             ],
             [
              1,
              "#f0f921"
             ]
            ],
            "type": "heatmap"
           }
          ],
          "heatmapgl": [
           {
            "colorbar": {
             "outlinewidth": 0,
             "ticks": ""
            },
            "colorscale": [
             [
              0,
              "#0d0887"
             ],
             [
              0.1111111111111111,
              "#46039f"
             ],
             [
              0.2222222222222222,
              "#7201a8"
             ],
             [
              0.3333333333333333,
              "#9c179e"
             ],
             [
              0.4444444444444444,
              "#bd3786"
             ],
             [
              0.5555555555555556,
              "#d8576b"
             ],
             [
              0.6666666666666666,
              "#ed7953"
             ],
             [
              0.7777777777777778,
              "#fb9f3a"
             ],
             [
              0.8888888888888888,
              "#fdca26"
             ],
             [
              1,
              "#f0f921"
             ]
            ],
            "type": "heatmapgl"
           }
          ],
          "histogram": [
           {
            "marker": {
             "pattern": {
              "fillmode": "overlay",
              "size": 10,
              "solidity": 0.2
             }
            },
            "type": "histogram"
           }
          ],
          "histogram2d": [
           {
            "colorbar": {
             "outlinewidth": 0,
             "ticks": ""
            },
            "colorscale": [
             [
              0,
              "#0d0887"
             ],
             [
              0.1111111111111111,
              "#46039f"
             ],
             [
              0.2222222222222222,
              "#7201a8"
             ],
             [
              0.3333333333333333,
              "#9c179e"
             ],
             [
              0.4444444444444444,
              "#bd3786"
             ],
             [
              0.5555555555555556,
              "#d8576b"
             ],
             [
              0.6666666666666666,
              "#ed7953"
             ],
             [
              0.7777777777777778,
              "#fb9f3a"
             ],
             [
              0.8888888888888888,
              "#fdca26"
             ],
             [
              1,
              "#f0f921"
             ]
            ],
            "type": "histogram2d"
           }
          ],
          "histogram2dcontour": [
           {
            "colorbar": {
             "outlinewidth": 0,
             "ticks": ""
            },
            "colorscale": [
             [
              0,
              "#0d0887"
             ],
             [
              0.1111111111111111,
              "#46039f"
             ],
             [
              0.2222222222222222,
              "#7201a8"
             ],
             [
              0.3333333333333333,
              "#9c179e"
             ],
             [
              0.4444444444444444,
              "#bd3786"
             ],
             [
              0.5555555555555556,
              "#d8576b"
             ],
             [
              0.6666666666666666,
              "#ed7953"
             ],
             [
              0.7777777777777778,
              "#fb9f3a"
             ],
             [
              0.8888888888888888,
              "#fdca26"
             ],
             [
              1,
              "#f0f921"
             ]
            ],
            "type": "histogram2dcontour"
           }
          ],
          "mesh3d": [
           {
            "colorbar": {
             "outlinewidth": 0,
             "ticks": ""
            },
            "type": "mesh3d"
           }
          ],
          "parcoords": [
           {
            "line": {
             "colorbar": {
              "outlinewidth": 0,
              "ticks": ""
             }
            },
            "type": "parcoords"
           }
          ],
          "pie": [
           {
            "automargin": true,
            "type": "pie"
           }
          ],
          "scatter": [
           {
            "fillpattern": {
             "fillmode": "overlay",
             "size": 10,
             "solidity": 0.2
            },
            "type": "scatter"
           }
          ],
          "scatter3d": [
           {
            "line": {
             "colorbar": {
              "outlinewidth": 0,
              "ticks": ""
             }
            },
            "marker": {
             "colorbar": {
              "outlinewidth": 0,
              "ticks": ""
             }
            },
            "type": "scatter3d"
           }
          ],
          "scattercarpet": [
           {
            "marker": {
             "colorbar": {
              "outlinewidth": 0,
              "ticks": ""
             }
            },
            "type": "scattercarpet"
           }
          ],
          "scattergeo": [
           {
            "marker": {
             "colorbar": {
              "outlinewidth": 0,
              "ticks": ""
             }
            },
            "type": "scattergeo"
           }
          ],
          "scattergl": [
           {
            "marker": {
             "colorbar": {
              "outlinewidth": 0,
              "ticks": ""
             }
            },
            "type": "scattergl"
           }
          ],
          "scattermapbox": [
           {
            "marker": {
             "colorbar": {
              "outlinewidth": 0,
              "ticks": ""
             }
            },
            "type": "scattermapbox"
           }
          ],
          "scatterpolar": [
           {
            "marker": {
             "colorbar": {
              "outlinewidth": 0,
              "ticks": ""
             }
            },
            "type": "scatterpolar"
           }
          ],
          "scatterpolargl": [
           {
            "marker": {
             "colorbar": {
              "outlinewidth": 0,
              "ticks": ""
             }
            },
            "type": "scatterpolargl"
           }
          ],
          "scatterternary": [
           {
            "marker": {
             "colorbar": {
              "outlinewidth": 0,
              "ticks": ""
             }
            },
            "type": "scatterternary"
           }
          ],
          "surface": [
           {
            "colorbar": {
             "outlinewidth": 0,
             "ticks": ""
            },
            "colorscale": [
             [
              0,
              "#0d0887"
             ],
             [
              0.1111111111111111,
              "#46039f"
             ],
             [
              0.2222222222222222,
              "#7201a8"
             ],
             [
              0.3333333333333333,
              "#9c179e"
             ],
             [
              0.4444444444444444,
              "#bd3786"
             ],
             [
              0.5555555555555556,
              "#d8576b"
             ],
             [
              0.6666666666666666,
              "#ed7953"
             ],
             [
              0.7777777777777778,
              "#fb9f3a"
             ],
             [
              0.8888888888888888,
              "#fdca26"
             ],
             [
              1,
              "#f0f921"
             ]
            ],
            "type": "surface"
           }
          ],
          "table": [
           {
            "cells": {
             "fill": {
              "color": "#EBF0F8"
             },
             "line": {
              "color": "white"
             }
            },
            "header": {
             "fill": {
              "color": "#C8D4E3"
             },
             "line": {
              "color": "white"
             }
            },
            "type": "table"
           }
          ]
         },
         "layout": {
          "annotationdefaults": {
           "arrowcolor": "#2a3f5f",
           "arrowhead": 0,
           "arrowwidth": 1
          },
          "autotypenumbers": "strict",
          "coloraxis": {
           "colorbar": {
            "outlinewidth": 0,
            "ticks": ""
           }
          },
          "colorscale": {
           "diverging": [
            [
             0,
             "#8e0152"
            ],
            [
             0.1,
             "#c51b7d"
            ],
            [
             0.2,
             "#de77ae"
            ],
            [
             0.3,
             "#f1b6da"
            ],
            [
             0.4,
             "#fde0ef"
            ],
            [
             0.5,
             "#f7f7f7"
            ],
            [
             0.6,
             "#e6f5d0"
            ],
            [
             0.7,
             "#b8e186"
            ],
            [
             0.8,
             "#7fbc41"
            ],
            [
             0.9,
             "#4d9221"
            ],
            [
             1,
             "#276419"
            ]
           ],
           "sequential": [
            [
             0,
             "#0d0887"
            ],
            [
             0.1111111111111111,
             "#46039f"
            ],
            [
             0.2222222222222222,
             "#7201a8"
            ],
            [
             0.3333333333333333,
             "#9c179e"
            ],
            [
             0.4444444444444444,
             "#bd3786"
            ],
            [
             0.5555555555555556,
             "#d8576b"
            ],
            [
             0.6666666666666666,
             "#ed7953"
            ],
            [
             0.7777777777777778,
             "#fb9f3a"
            ],
            [
             0.8888888888888888,
             "#fdca26"
            ],
            [
             1,
             "#f0f921"
            ]
           ],
           "sequentialminus": [
            [
             0,
             "#0d0887"
            ],
            [
             0.1111111111111111,
             "#46039f"
            ],
            [
             0.2222222222222222,
             "#7201a8"
            ],
            [
             0.3333333333333333,
             "#9c179e"
            ],
            [
             0.4444444444444444,
             "#bd3786"
            ],
            [
             0.5555555555555556,
             "#d8576b"
            ],
            [
             0.6666666666666666,
             "#ed7953"
            ],
            [
             0.7777777777777778,
             "#fb9f3a"
            ],
            [
             0.8888888888888888,
             "#fdca26"
            ],
            [
             1,
             "#f0f921"
            ]
           ]
          },
          "colorway": [
           "#636efa",
           "#EF553B",
           "#00cc96",
           "#ab63fa",
           "#FFA15A",
           "#19d3f3",
           "#FF6692",
           "#B6E880",
           "#FF97FF",
           "#FECB52"
          ],
          "font": {
           "color": "#2a3f5f"
          },
          "geo": {
           "bgcolor": "white",
           "lakecolor": "white",
           "landcolor": "#E5ECF6",
           "showlakes": true,
           "showland": true,
           "subunitcolor": "white"
          },
          "hoverlabel": {
           "align": "left"
          },
          "hovermode": "closest",
          "mapbox": {
           "style": "light"
          },
          "paper_bgcolor": "white",
          "plot_bgcolor": "#E5ECF6",
          "polar": {
           "angularaxis": {
            "gridcolor": "white",
            "linecolor": "white",
            "ticks": ""
           },
           "bgcolor": "#E5ECF6",
           "radialaxis": {
            "gridcolor": "white",
            "linecolor": "white",
            "ticks": ""
           }
          },
          "scene": {
           "xaxis": {
            "backgroundcolor": "#E5ECF6",
            "gridcolor": "white",
            "gridwidth": 2,
            "linecolor": "white",
            "showbackground": true,
            "ticks": "",
            "zerolinecolor": "white"
           },
           "yaxis": {
            "backgroundcolor": "#E5ECF6",
            "gridcolor": "white",
            "gridwidth": 2,
            "linecolor": "white",
            "showbackground": true,
            "ticks": "",
            "zerolinecolor": "white"
           },
           "zaxis": {
            "backgroundcolor": "#E5ECF6",
            "gridcolor": "white",
            "gridwidth": 2,
            "linecolor": "white",
            "showbackground": true,
            "ticks": "",
            "zerolinecolor": "white"
           }
          },
          "shapedefaults": {
           "line": {
            "color": "#2a3f5f"
           }
          },
          "ternary": {
           "aaxis": {
            "gridcolor": "white",
            "linecolor": "white",
            "ticks": ""
           },
           "baxis": {
            "gridcolor": "white",
            "linecolor": "white",
            "ticks": ""
           },
           "bgcolor": "#E5ECF6",
           "caxis": {
            "gridcolor": "white",
            "linecolor": "white",
            "ticks": ""
           }
          },
          "title": {
           "x": 0.05
          },
          "xaxis": {
           "automargin": true,
           "gridcolor": "white",
           "linecolor": "white",
           "ticks": "",
           "title": {
            "standoff": 15
           },
           "zerolinecolor": "white",
           "zerolinewidth": 2
          },
          "yaxis": {
           "automargin": true,
           "gridcolor": "white",
           "linecolor": "white",
           "ticks": "",
           "title": {
            "standoff": 15
           },
           "zerolinecolor": "white",
           "zerolinewidth": 2
          }
         }
        }
       }
      }
     },
     "metadata": {},
     "output_type": "display_data"
    }
   ],
   "source": [
    "fig = px.scatter_3d(df, x='gravity', y='wind_power', z='turbulence_power',\n",
    "              color='reward')\n",
    "fig.show()"
   ]
  },
  {
   "cell_type": "code",
   "execution_count": 7,
   "metadata": {},
   "outputs": [],
   "source": [
    "with initialize(version_base=None, config_path=\"conf\"):\n",
    "    cfg = compose(config_name=\"config\")\n",
    "    "
   ]
  },
  {
   "cell_type": "code",
   "execution_count": 10,
   "metadata": {},
   "outputs": [
    {
     "name": "stderr",
     "output_type": "stream",
     "text": [
      "c:\\Users\\volob\\.conda\\envs\\adlr\\lib\\site-packages\\gymnasium\\spaces\\box.py:127: UserWarning: \u001b[33mWARN: Box bound precision lowered by casting to float32\u001b[0m\n",
      "  logger.warn(f\"Box bound precision lowered by casting to {self.dtype}\")\n"
     ]
    }
   ],
   "source": [
    "env_fabric = LunarEnvHypercubeFabric(env_params=cfg.env, pass_env_params=True)\n",
    "env = env_fabric.generate_env()\n",
    "env_info = {\"input_dims\":env.observation_space.shape, \"n_actions\": env.action_space.shape[0], \"max_action\": env.action_space.high}"
   ]
  },
  {
   "cell_type": "code",
   "execution_count": 19,
   "metadata": {},
   "outputs": [
    {
     "data": {
      "application/vnd.jupyter.widget-view+json": {
       "model_id": "3228a8334dc64712b89ecd842dd91a0e",
       "version_major": 2,
       "version_minor": 0
      },
      "text/plain": [
       "interactive(children=(FloatSlider(value=-10.0, description='g', max=0.0, min=-12.0), FloatSlider(value=0.0, de…"
      ]
     },
     "metadata": {},
     "output_type": "display_data"
    }
   ],
   "source": [
    "@widgets.interact_manual(g=(-12.0, 0.0), wind_power=(0.0, 20.0), turbulence_power=(0.0, 2.0)\n",
    "                         )\n",
    "def make_video(g=-10, wind_power=0.0, turbulence_power=0.0, plot_every_action=5):\n",
    "    env = gym.make('LunarLander-v2', continuous=True, render_mode='rgb_array', gravity=g , enable_wind=True, wind_power=wind_power, \n",
    "             turbulence_power=turbulence_power)\n",
    "    obs, info = env.reset()\n",
    "    step = 0\n",
    "    while True:\n",
    "        action = agent.action(obs, addNoise=False)\n",
    "        new_obs, reward, done, _, _ = env.step(action)\n",
    "        if step % plot_every_action == 0:\n",
    "            clear_output(wait=True)\n",
    "            plt.imshow( env.render())\n",
    "            plt.show()\n",
    "        step += 1\n",
    "        if done:\n",
    "            break\n",
    "    env.close()"
   ]
  }
 ],
 "metadata": {
  "kernelspec": {
   "display_name": "adlr",
   "language": "python",
   "name": "python3"
  },
  "language_info": {
   "codemirror_mode": {
    "name": "ipython",
    "version": 3
   },
   "file_extension": ".py",
   "mimetype": "text/x-python",
   "name": "python",
   "nbconvert_exporter": "python",
   "pygments_lexer": "ipython3",
   "version": "3.10.6"
  },
  "orig_nbformat": 4,
  "vscode": {
   "interpreter": {
    "hash": "c91d451bd703414ea6641230092ee74a3e06cec0bad9897d20ace1c483b6d6d8"
   }
  }
 },
 "nbformat": 4,
 "nbformat_minor": 2
}
