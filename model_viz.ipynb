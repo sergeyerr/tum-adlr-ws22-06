{
 "cells": [
  {
   "cell_type": "code",
   "execution_count": 14,
   "metadata": {},
   "outputs": [],
   "source": [
    "import ipywidgets as widgets\n",
    "from ipywidgets import HBox, VBox\n",
    "import gymnasium as gym\n",
    "from agents import SACAgent2\n",
    "from omegaconf import DictConfig, OmegaConf\n",
    "from hydra import compose, initialize\n",
    "import matplotlib.pyplot as plt\n",
    "from IPython.display import clear_output\n",
    "import os\n",
    "import wandb\n",
    "import torch as T\n",
    "from gymnasium.wrappers import RecordVideo\n",
    "from EnvironmentUtils import LunarEnvHypercubeFabric, LunarEnvRandomFabric, LunarEnvFixedFabric, ValidationHypercube\n",
    "from agents import SACAgent2, DDPGAgent, SACAgent\n",
    "import numpy as np\n",
    "from utils import *\n",
    "os.environ[\"SDL_VIDEODRIVER\"] = \"dummy\"\n",
    "import plotly.express as px\n",
    "import pandas as pd\n",
    "import shutil"
   ]
  },
  {
   "cell_type": "code",
   "execution_count": 3,
   "metadata": {},
   "outputs": [],
   "source": [
    "import wandb\n",
    "api = wandb.Api()\n",
    "run = api.run(\"tum-adlr-ws22-06/ADLR randomized envs/2eqd07v7\")"
   ]
  },
  {
   "cell_type": "code",
   "execution_count": 4,
   "metadata": {},
   "outputs": [],
   "source": [
    "#runs = [...]\n",
    "# for each run:\n",
    "#     download best model\n",
    "#     create directory with validation/run_name\n",
    "#     create hypercube with 5 points\n",
    "#     for each hypercube point:\n",
    "#          create subdirectory\n",
    "#          make run, record video\n",
    "#          store reward in result array\n",
    "# make 3d plotly plots with reward as point color\n",
    "# make nice gifs, comparing sac2 with and without domain parameters"
   ]
  },
  {
   "cell_type": "code",
   "execution_count": 5,
   "metadata": {},
   "outputs": [],
   "source": [
    "runs = [\"tum-adlr-ws22-06/ADLR randomized envs/2eqd07v7\", \n",
    "        \"tum-adlr-ws22-06/ADLR randomized envs/potkxo0h\"]"
   ]
  },
  {
   "cell_type": "code",
   "execution_count": 17,
   "metadata": {},
   "outputs": [
    {
     "name": "stdout",
     "output_type": "stream",
     "text": [
      "sac2_with_env_params\n"
     ]
    },
    {
     "name": "stderr",
     "output_type": "stream",
     "text": [
      "c:\\Users\\volob\\.conda\\envs\\adlr\\lib\\site-packages\\gymnasium\\spaces\\box.py:127: UserWarning:\n",
      "\n",
      "\u001b[33mWARN: Box bound precision lowered by casting to float32\u001b[0m\n",
      "\n",
      "\u001b[34m\u001b[1mwandb\u001b[0m:   5 of 5 files downloaded.  \n",
      "c:\\Users\\volob\\.conda\\envs\\adlr\\lib\\site-packages\\gymnasium\\wrappers\\record_video.py:75: UserWarning:\n",
      "\n",
      "\u001b[33mWARN: Overwriting existing videos at d:\\Desktop\\reps\\TUM WS22\\tum-adlr-ws22-06\\final_validations\\sac2_with_env_params\\gravity_-11.999_wind_0_turbulence_0 folder (try specifying a different `video_folder` for the `RecordVideo` wrapper if this is not desired)\u001b[0m\n",
      "\n"
     ]
    },
    {
     "name": "stdout",
     "output_type": "stream",
     "text": [
      "Best model loaded from .\\artifacts\\lunar_lander_model-v483 with reward 128.606\n",
      "Moviepy - Building video d:\\Desktop\\reps\\TUM WS22\\tum-adlr-ws22-06\\final_validations\\sac2_with_env_params\\gravity_-11.999_wind_0_turbulence_0\\rl-video-episode-0.mp4.\n",
      "Moviepy - Writing video d:\\Desktop\\reps\\TUM WS22\\tum-adlr-ws22-06\\final_validations\\sac2_with_env_params\\gravity_-11.999_wind_0_turbulence_0\\rl-video-episode-0.mp4\n",
      "\n"
     ]
    },
    {
     "name": "stderr",
     "output_type": "stream",
     "text": [
      "c:\\Users\\volob\\.conda\\envs\\adlr\\lib\\site-packages\\gymnasium\\wrappers\\record_video.py:75: UserWarning:\n",
      "\n",
      "\u001b[33mWARN: Overwriting existing videos at d:\\Desktop\\reps\\TUM WS22\\tum-adlr-ws22-06\\final_validations\\sac2_with_env_params\\gravity_-8.999275_wind_0_turbulence_0 folder (try specifying a different `video_folder` for the `RecordVideo` wrapper if this is not desired)\u001b[0m\n",
      "\n"
     ]
    },
    {
     "name": "stdout",
     "output_type": "stream",
     "text": [
      "Moviepy - Done !\n",
      "Moviepy - video ready d:\\Desktop\\reps\\TUM WS22\\tum-adlr-ws22-06\\final_validations\\sac2_with_env_params\\gravity_-11.999_wind_0_turbulence_0\\rl-video-episode-0.mp4\n",
      "gravity: -11.999, wind_power: 0, turbulence_power: 0, reward: -50.50733376321047\n",
      "Moviepy - Building video d:\\Desktop\\reps\\TUM WS22\\tum-adlr-ws22-06\\final_validations\\sac2_with_env_params\\gravity_-8.999275_wind_0_turbulence_0\\rl-video-episode-0.mp4.\n",
      "Moviepy - Writing video d:\\Desktop\\reps\\TUM WS22\\tum-adlr-ws22-06\\final_validations\\sac2_with_env_params\\gravity_-8.999275_wind_0_turbulence_0\\rl-video-episode-0.mp4\n",
      "\n"
     ]
    },
    {
     "name": "stderr",
     "output_type": "stream",
     "text": [
      "c:\\Users\\volob\\.conda\\envs\\adlr\\lib\\site-packages\\gymnasium\\wrappers\\record_video.py:75: UserWarning:\n",
      "\n",
      "\u001b[33mWARN: Overwriting existing videos at d:\\Desktop\\reps\\TUM WS22\\tum-adlr-ws22-06\\final_validations\\sac2_with_env_params\\gravity_-5.99955_wind_0_turbulence_0 folder (try specifying a different `video_folder` for the `RecordVideo` wrapper if this is not desired)\u001b[0m\n",
      "\n"
     ]
    },
    {
     "name": "stdout",
     "output_type": "stream",
     "text": [
      "Moviepy - Done !\n",
      "Moviepy - video ready d:\\Desktop\\reps\\TUM WS22\\tum-adlr-ws22-06\\final_validations\\sac2_with_env_params\\gravity_-8.999275_wind_0_turbulence_0\\rl-video-episode-0.mp4\n",
      "gravity: -8.999275, wind_power: 0, turbulence_power: 0, reward: 266.77601497475354\n",
      "Moviepy - Building video d:\\Desktop\\reps\\TUM WS22\\tum-adlr-ws22-06\\final_validations\\sac2_with_env_params\\gravity_-5.99955_wind_0_turbulence_0\\rl-video-episode-0.mp4.\n",
      "Moviepy - Writing video d:\\Desktop\\reps\\TUM WS22\\tum-adlr-ws22-06\\final_validations\\sac2_with_env_params\\gravity_-5.99955_wind_0_turbulence_0\\rl-video-episode-0.mp4\n",
      "\n"
     ]
    },
    {
     "name": "stderr",
     "output_type": "stream",
     "text": [
      "c:\\Users\\volob\\.conda\\envs\\adlr\\lib\\site-packages\\gymnasium\\wrappers\\record_video.py:75: UserWarning:\n",
      "\n",
      "\u001b[33mWARN: Overwriting existing videos at d:\\Desktop\\reps\\TUM WS22\\tum-adlr-ws22-06\\final_validations\\sac2_with_env_params\\gravity_-2.9998249999999995_wind_0_turbulence_0 folder (try specifying a different `video_folder` for the `RecordVideo` wrapper if this is not desired)\u001b[0m\n",
      "\n"
     ]
    },
    {
     "name": "stdout",
     "output_type": "stream",
     "text": [
      "Moviepy - Done !\n",
      "Moviepy - video ready d:\\Desktop\\reps\\TUM WS22\\tum-adlr-ws22-06\\final_validations\\sac2_with_env_params\\gravity_-5.99955_wind_0_turbulence_0\\rl-video-episode-0.mp4\n",
      "gravity: -5.99955, wind_power: 0, turbulence_power: 0, reward: 299.34459264571285\n",
      "Moviepy - Building video d:\\Desktop\\reps\\TUM WS22\\tum-adlr-ws22-06\\final_validations\\sac2_with_env_params\\gravity_-2.9998249999999995_wind_0_turbulence_0\\rl-video-episode-0.mp4.\n",
      "Moviepy - Writing video d:\\Desktop\\reps\\TUM WS22\\tum-adlr-ws22-06\\final_validations\\sac2_with_env_params\\gravity_-2.9998249999999995_wind_0_turbulence_0\\rl-video-episode-0.mp4\n",
      "\n"
     ]
    },
    {
     "name": "stderr",
     "output_type": "stream",
     "text": [
      "c:\\Users\\volob\\.conda\\envs\\adlr\\lib\\site-packages\\gymnasium\\wrappers\\record_video.py:75: UserWarning:\n",
      "\n",
      "\u001b[33mWARN: Overwriting existing videos at d:\\Desktop\\reps\\TUM WS22\\tum-adlr-ws22-06\\final_validations\\sac2_with_env_params\\gravity_-0.0001_wind_0_turbulence_0 folder (try specifying a different `video_folder` for the `RecordVideo` wrapper if this is not desired)\u001b[0m\n",
      "\n"
     ]
    },
    {
     "name": "stdout",
     "output_type": "stream",
     "text": [
      "Moviepy - Done !\n",
      "Moviepy - video ready d:\\Desktop\\reps\\TUM WS22\\tum-adlr-ws22-06\\final_validations\\sac2_with_env_params\\gravity_-2.9998249999999995_wind_0_turbulence_0\\rl-video-episode-0.mp4\n",
      "gravity: -2.9998249999999995, wind_power: 0, turbulence_power: 0, reward: 236.13684291875813\n",
      "Moviepy - Building video d:\\Desktop\\reps\\TUM WS22\\tum-adlr-ws22-06\\final_validations\\sac2_with_env_params\\gravity_-0.0001_wind_0_turbulence_0\\rl-video-episode-0.mp4.\n",
      "Moviepy - Writing video d:\\Desktop\\reps\\TUM WS22\\tum-adlr-ws22-06\\final_validations\\sac2_with_env_params\\gravity_-0.0001_wind_0_turbulence_0\\rl-video-episode-0.mp4\n",
      "\n"
     ]
    },
    {
     "name": "stderr",
     "output_type": "stream",
     "text": [
      "                                                                 \r"
     ]
    },
    {
     "name": "stdout",
     "output_type": "stream",
     "text": [
      "Moviepy - Done !\n",
      "Moviepy - video ready d:\\Desktop\\reps\\TUM WS22\\tum-adlr-ws22-06\\final_validations\\sac2_with_env_params\\gravity_-0.0001_wind_0_turbulence_0\\rl-video-episode-0.mp4\n",
      "gravity: -0.0001, wind_power: 0, turbulence_power: 0, reward: -386.0489342204303\n"
     ]
    },
    {
     "name": "stderr",
     "output_type": "stream",
     "text": [
      "c:\\Users\\volob\\.conda\\envs\\adlr\\lib\\site-packages\\gymnasium\\wrappers\\record_video.py:75: UserWarning:\n",
      "\n",
      "\u001b[33mWARN: Overwriting existing videos at d:\\Desktop\\reps\\TUM WS22\\tum-adlr-ws22-06\\final_validations\\sac2_with_env_params\\gravity_-11.999_wind_0.0_turbulence_0.0 folder (try specifying a different `video_folder` for the `RecordVideo` wrapper if this is not desired)\u001b[0m\n",
      "\n"
     ]
    },
    {
     "name": "stdout",
     "output_type": "stream",
     "text": [
      "Moviepy - Building video d:\\Desktop\\reps\\TUM WS22\\tum-adlr-ws22-06\\final_validations\\sac2_with_env_params\\gravity_-11.999_wind_0.0_turbulence_0.0\\rl-video-episode-0.mp4.\n",
      "Moviepy - Writing video d:\\Desktop\\reps\\TUM WS22\\tum-adlr-ws22-06\\final_validations\\sac2_with_env_params\\gravity_-11.999_wind_0.0_turbulence_0.0\\rl-video-episode-0.mp4\n",
      "\n"
     ]
    },
    {
     "name": "stderr",
     "output_type": "stream",
     "text": [
      "c:\\Users\\volob\\.conda\\envs\\adlr\\lib\\site-packages\\gymnasium\\wrappers\\record_video.py:75: UserWarning:\n",
      "\n",
      "\u001b[33mWARN: Overwriting existing videos at d:\\Desktop\\reps\\TUM WS22\\tum-adlr-ws22-06\\final_validations\\sac2_with_env_params\\gravity_-11.999_wind_0.0_turbulence_0.25 folder (try specifying a different `video_folder` for the `RecordVideo` wrapper if this is not desired)\u001b[0m\n",
      "\n"
     ]
    },
    {
     "name": "stdout",
     "output_type": "stream",
     "text": [
      "Moviepy - Done !\n",
      "Moviepy - video ready d:\\Desktop\\reps\\TUM WS22\\tum-adlr-ws22-06\\final_validations\\sac2_with_env_params\\gravity_-11.999_wind_0.0_turbulence_0.0\\rl-video-episode-0.mp4\n",
      "gravity: -11.999, wind_power: 0.0, turbulence_power: 0.0, reward: -68.63559087139706\n",
      "Moviepy - Building video d:\\Desktop\\reps\\TUM WS22\\tum-adlr-ws22-06\\final_validations\\sac2_with_env_params\\gravity_-11.999_wind_0.0_turbulence_0.25\\rl-video-episode-0.mp4.\n",
      "Moviepy - Writing video d:\\Desktop\\reps\\TUM WS22\\tum-adlr-ws22-06\\final_validations\\sac2_with_env_params\\gravity_-11.999_wind_0.0_turbulence_0.25\\rl-video-episode-0.mp4\n",
      "\n"
     ]
    },
    {
     "name": "stderr",
     "output_type": "stream",
     "text": [
      "c:\\Users\\volob\\.conda\\envs\\adlr\\lib\\site-packages\\gymnasium\\wrappers\\record_video.py:75: UserWarning:\n",
      "\n",
      "\u001b[33mWARN: Overwriting existing videos at d:\\Desktop\\reps\\TUM WS22\\tum-adlr-ws22-06\\final_validations\\sac2_with_env_params\\gravity_-11.999_wind_0.0_turbulence_0.5 folder (try specifying a different `video_folder` for the `RecordVideo` wrapper if this is not desired)\u001b[0m\n",
      "\n"
     ]
    },
    {
     "name": "stdout",
     "output_type": "stream",
     "text": [
      "Moviepy - Done !\n",
      "Moviepy - video ready d:\\Desktop\\reps\\TUM WS22\\tum-adlr-ws22-06\\final_validations\\sac2_with_env_params\\gravity_-11.999_wind_0.0_turbulence_0.25\\rl-video-episode-0.mp4\n",
      "gravity: -11.999, wind_power: 0.0, turbulence_power: 0.25, reward: 11.408971552230199\n",
      "Moviepy - Building video d:\\Desktop\\reps\\TUM WS22\\tum-adlr-ws22-06\\final_validations\\sac2_with_env_params\\gravity_-11.999_wind_0.0_turbulence_0.5\\rl-video-episode-0.mp4.\n",
      "Moviepy - Writing video d:\\Desktop\\reps\\TUM WS22\\tum-adlr-ws22-06\\final_validations\\sac2_with_env_params\\gravity_-11.999_wind_0.0_turbulence_0.5\\rl-video-episode-0.mp4\n",
      "\n"
     ]
    },
    {
     "name": "stderr",
     "output_type": "stream",
     "text": [
      "c:\\Users\\volob\\.conda\\envs\\adlr\\lib\\site-packages\\gymnasium\\wrappers\\record_video.py:75: UserWarning:\n",
      "\n",
      "\u001b[33mWARN: Overwriting existing videos at d:\\Desktop\\reps\\TUM WS22\\tum-adlr-ws22-06\\final_validations\\sac2_with_env_params\\gravity_-11.999_wind_0.0_turbulence_0.75 folder (try specifying a different `video_folder` for the `RecordVideo` wrapper if this is not desired)\u001b[0m\n",
      "\n"
     ]
    },
    {
     "name": "stdout",
     "output_type": "stream",
     "text": [
      "Moviepy - Done !\n",
      "Moviepy - video ready d:\\Desktop\\reps\\TUM WS22\\tum-adlr-ws22-06\\final_validations\\sac2_with_env_params\\gravity_-11.999_wind_0.0_turbulence_0.5\\rl-video-episode-0.mp4\n",
      "gravity: -11.999, wind_power: 0.0, turbulence_power: 0.5, reward: 34.38356735413535\n",
      "Moviepy - Building video d:\\Desktop\\reps\\TUM WS22\\tum-adlr-ws22-06\\final_validations\\sac2_with_env_params\\gravity_-11.999_wind_0.0_turbulence_0.75\\rl-video-episode-0.mp4.\n",
      "Moviepy - Writing video d:\\Desktop\\reps\\TUM WS22\\tum-adlr-ws22-06\\final_validations\\sac2_with_env_params\\gravity_-11.999_wind_0.0_turbulence_0.75\\rl-video-episode-0.mp4\n",
      "\n"
     ]
    },
    {
     "name": "stderr",
     "output_type": "stream",
     "text": [
      "c:\\Users\\volob\\.conda\\envs\\adlr\\lib\\site-packages\\gymnasium\\wrappers\\record_video.py:75: UserWarning:\n",
      "\n",
      "\u001b[33mWARN: Overwriting existing videos at d:\\Desktop\\reps\\TUM WS22\\tum-adlr-ws22-06\\final_validations\\sac2_with_env_params\\gravity_-11.999_wind_0.0_turbulence_1.0 folder (try specifying a different `video_folder` for the `RecordVideo` wrapper if this is not desired)\u001b[0m\n",
      "\n"
     ]
    },
    {
     "name": "stdout",
     "output_type": "stream",
     "text": [
      "Moviepy - Done !\n",
      "Moviepy - video ready d:\\Desktop\\reps\\TUM WS22\\tum-adlr-ws22-06\\final_validations\\sac2_with_env_params\\gravity_-11.999_wind_0.0_turbulence_0.75\\rl-video-episode-0.mp4\n",
      "gravity: -11.999, wind_power: 0.0, turbulence_power: 0.75, reward: 236.81045352420705\n",
      "Moviepy - Building video d:\\Desktop\\reps\\TUM WS22\\tum-adlr-ws22-06\\final_validations\\sac2_with_env_params\\gravity_-11.999_wind_0.0_turbulence_1.0\\rl-video-episode-0.mp4.\n",
      "Moviepy - Writing video d:\\Desktop\\reps\\TUM WS22\\tum-adlr-ws22-06\\final_validations\\sac2_with_env_params\\gravity_-11.999_wind_0.0_turbulence_1.0\\rl-video-episode-0.mp4\n",
      "\n"
     ]
    },
    {
     "name": "stderr",
     "output_type": "stream",
     "text": [
      "c:\\Users\\volob\\.conda\\envs\\adlr\\lib\\site-packages\\gymnasium\\wrappers\\record_video.py:75: UserWarning:\n",
      "\n",
      "\u001b[33mWARN: Overwriting existing videos at d:\\Desktop\\reps\\TUM WS22\\tum-adlr-ws22-06\\final_validations\\sac2_with_env_params\\gravity_-11.999_wind_2.5_turbulence_0.0 folder (try specifying a different `video_folder` for the `RecordVideo` wrapper if this is not desired)\u001b[0m\n",
      "\n"
     ]
    },
    {
     "name": "stdout",
     "output_type": "stream",
     "text": [
      "Moviepy - Done !\n",
      "Moviepy - video ready d:\\Desktop\\reps\\TUM WS22\\tum-adlr-ws22-06\\final_validations\\sac2_with_env_params\\gravity_-11.999_wind_0.0_turbulence_1.0\\rl-video-episode-0.mp4\n",
      "gravity: -11.999, wind_power: 0.0, turbulence_power: 1.0, reward: 265.4030226750361\n",
      "Moviepy - Building video d:\\Desktop\\reps\\TUM WS22\\tum-adlr-ws22-06\\final_validations\\sac2_with_env_params\\gravity_-11.999_wind_2.5_turbulence_0.0\\rl-video-episode-0.mp4.\n",
      "Moviepy - Writing video d:\\Desktop\\reps\\TUM WS22\\tum-adlr-ws22-06\\final_validations\\sac2_with_env_params\\gravity_-11.999_wind_2.5_turbulence_0.0\\rl-video-episode-0.mp4\n",
      "\n"
     ]
    },
    {
     "name": "stderr",
     "output_type": "stream",
     "text": [
      "c:\\Users\\volob\\.conda\\envs\\adlr\\lib\\site-packages\\gymnasium\\wrappers\\record_video.py:75: UserWarning:\n",
      "\n",
      "\u001b[33mWARN: Overwriting existing videos at d:\\Desktop\\reps\\TUM WS22\\tum-adlr-ws22-06\\final_validations\\sac2_with_env_params\\gravity_-11.999_wind_2.5_turbulence_0.25 folder (try specifying a different `video_folder` for the `RecordVideo` wrapper if this is not desired)\u001b[0m\n",
      "\n"
     ]
    },
    {
     "name": "stdout",
     "output_type": "stream",
     "text": [
      "Moviepy - Done !\n",
      "Moviepy - video ready d:\\Desktop\\reps\\TUM WS22\\tum-adlr-ws22-06\\final_validations\\sac2_with_env_params\\gravity_-11.999_wind_2.5_turbulence_0.0\\rl-video-episode-0.mp4\n",
      "gravity: -11.999, wind_power: 2.5, turbulence_power: 0.0, reward: -4.582433710123752\n",
      "Moviepy - Building video d:\\Desktop\\reps\\TUM WS22\\tum-adlr-ws22-06\\final_validations\\sac2_with_env_params\\gravity_-11.999_wind_2.5_turbulence_0.25\\rl-video-episode-0.mp4.\n",
      "Moviepy - Writing video d:\\Desktop\\reps\\TUM WS22\\tum-adlr-ws22-06\\final_validations\\sac2_with_env_params\\gravity_-11.999_wind_2.5_turbulence_0.25\\rl-video-episode-0.mp4\n",
      "\n"
     ]
    },
    {
     "name": "stderr",
     "output_type": "stream",
     "text": [
      "c:\\Users\\volob\\.conda\\envs\\adlr\\lib\\site-packages\\gymnasium\\wrappers\\record_video.py:75: UserWarning:\n",
      "\n",
      "\u001b[33mWARN: Overwriting existing videos at d:\\Desktop\\reps\\TUM WS22\\tum-adlr-ws22-06\\final_validations\\sac2_with_env_params\\gravity_-11.999_wind_2.5_turbulence_0.5 folder (try specifying a different `video_folder` for the `RecordVideo` wrapper if this is not desired)\u001b[0m\n",
      "\n"
     ]
    },
    {
     "name": "stdout",
     "output_type": "stream",
     "text": [
      "Moviepy - Done !\n",
      "Moviepy - video ready d:\\Desktop\\reps\\TUM WS22\\tum-adlr-ws22-06\\final_validations\\sac2_with_env_params\\gravity_-11.999_wind_2.5_turbulence_0.25\\rl-video-episode-0.mp4\n",
      "gravity: -11.999, wind_power: 2.5, turbulence_power: 0.25, reward: 301.9526570508855\n",
      "Moviepy - Building video d:\\Desktop\\reps\\TUM WS22\\tum-adlr-ws22-06\\final_validations\\sac2_with_env_params\\gravity_-11.999_wind_2.5_turbulence_0.5\\rl-video-episode-0.mp4.\n",
      "Moviepy - Writing video d:\\Desktop\\reps\\TUM WS22\\tum-adlr-ws22-06\\final_validations\\sac2_with_env_params\\gravity_-11.999_wind_2.5_turbulence_0.5\\rl-video-episode-0.mp4\n",
      "\n"
     ]
    },
    {
     "name": "stderr",
     "output_type": "stream",
     "text": [
      "c:\\Users\\volob\\.conda\\envs\\adlr\\lib\\site-packages\\gymnasium\\wrappers\\record_video.py:75: UserWarning:\n",
      "\n",
      "\u001b[33mWARN: Overwriting existing videos at d:\\Desktop\\reps\\TUM WS22\\tum-adlr-ws22-06\\final_validations\\sac2_with_env_params\\gravity_-11.999_wind_2.5_turbulence_0.75 folder (try specifying a different `video_folder` for the `RecordVideo` wrapper if this is not desired)\u001b[0m\n",
      "\n"
     ]
    },
    {
     "name": "stdout",
     "output_type": "stream",
     "text": [
      "Moviepy - Done !\n",
      "Moviepy - video ready d:\\Desktop\\reps\\TUM WS22\\tum-adlr-ws22-06\\final_validations\\sac2_with_env_params\\gravity_-11.999_wind_2.5_turbulence_0.5\\rl-video-episode-0.mp4\n",
      "gravity: -11.999, wind_power: 2.5, turbulence_power: 0.5, reward: 296.77472090053203\n",
      "Moviepy - Building video d:\\Desktop\\reps\\TUM WS22\\tum-adlr-ws22-06\\final_validations\\sac2_with_env_params\\gravity_-11.999_wind_2.5_turbulence_0.75\\rl-video-episode-0.mp4.\n",
      "Moviepy - Writing video d:\\Desktop\\reps\\TUM WS22\\tum-adlr-ws22-06\\final_validations\\sac2_with_env_params\\gravity_-11.999_wind_2.5_turbulence_0.75\\rl-video-episode-0.mp4\n",
      "\n"
     ]
    },
    {
     "name": "stderr",
     "output_type": "stream",
     "text": [
      "c:\\Users\\volob\\.conda\\envs\\adlr\\lib\\site-packages\\gymnasium\\wrappers\\record_video.py:75: UserWarning:\n",
      "\n",
      "\u001b[33mWARN: Overwriting existing videos at d:\\Desktop\\reps\\TUM WS22\\tum-adlr-ws22-06\\final_validations\\sac2_with_env_params\\gravity_-11.999_wind_2.5_turbulence_1.0 folder (try specifying a different `video_folder` for the `RecordVideo` wrapper if this is not desired)\u001b[0m\n",
      "\n"
     ]
    },
    {
     "name": "stdout",
     "output_type": "stream",
     "text": [
      "Moviepy - Done !\n",
      "Moviepy - video ready d:\\Desktop\\reps\\TUM WS22\\tum-adlr-ws22-06\\final_validations\\sac2_with_env_params\\gravity_-11.999_wind_2.5_turbulence_0.75\\rl-video-episode-0.mp4\n",
      "gravity: -11.999, wind_power: 2.5, turbulence_power: 0.75, reward: 285.57415401635114\n",
      "Moviepy - Building video d:\\Desktop\\reps\\TUM WS22\\tum-adlr-ws22-06\\final_validations\\sac2_with_env_params\\gravity_-11.999_wind_2.5_turbulence_1.0\\rl-video-episode-0.mp4.\n",
      "Moviepy - Writing video d:\\Desktop\\reps\\TUM WS22\\tum-adlr-ws22-06\\final_validations\\sac2_with_env_params\\gravity_-11.999_wind_2.5_turbulence_1.0\\rl-video-episode-0.mp4\n",
      "\n"
     ]
    },
    {
     "name": "stderr",
     "output_type": "stream",
     "text": [
      "c:\\Users\\volob\\.conda\\envs\\adlr\\lib\\site-packages\\gymnasium\\wrappers\\record_video.py:75: UserWarning:\n",
      "\n",
      "\u001b[33mWARN: Overwriting existing videos at d:\\Desktop\\reps\\TUM WS22\\tum-adlr-ws22-06\\final_validations\\sac2_with_env_params\\gravity_-11.999_wind_5.0_turbulence_0.0 folder (try specifying a different `video_folder` for the `RecordVideo` wrapper if this is not desired)\u001b[0m\n",
      "\n"
     ]
    },
    {
     "name": "stdout",
     "output_type": "stream",
     "text": [
      "Moviepy - Done !\n",
      "Moviepy - video ready d:\\Desktop\\reps\\TUM WS22\\tum-adlr-ws22-06\\final_validations\\sac2_with_env_params\\gravity_-11.999_wind_2.5_turbulence_1.0\\rl-video-episode-0.mp4\n",
      "gravity: -11.999, wind_power: 2.5, turbulence_power: 1.0, reward: 201.36983308410623\n",
      "Moviepy - Building video d:\\Desktop\\reps\\TUM WS22\\tum-adlr-ws22-06\\final_validations\\sac2_with_env_params\\gravity_-11.999_wind_5.0_turbulence_0.0\\rl-video-episode-0.mp4.\n",
      "Moviepy - Writing video d:\\Desktop\\reps\\TUM WS22\\tum-adlr-ws22-06\\final_validations\\sac2_with_env_params\\gravity_-11.999_wind_5.0_turbulence_0.0\\rl-video-episode-0.mp4\n",
      "\n"
     ]
    },
    {
     "name": "stderr",
     "output_type": "stream",
     "text": [
      "c:\\Users\\volob\\.conda\\envs\\adlr\\lib\\site-packages\\gymnasium\\wrappers\\record_video.py:75: UserWarning:\n",
      "\n",
      "\u001b[33mWARN: Overwriting existing videos at d:\\Desktop\\reps\\TUM WS22\\tum-adlr-ws22-06\\final_validations\\sac2_with_env_params\\gravity_-11.999_wind_5.0_turbulence_0.25 folder (try specifying a different `video_folder` for the `RecordVideo` wrapper if this is not desired)\u001b[0m\n",
      "\n"
     ]
    },
    {
     "name": "stdout",
     "output_type": "stream",
     "text": [
      "Moviepy - Done !\n",
      "Moviepy - video ready d:\\Desktop\\reps\\TUM WS22\\tum-adlr-ws22-06\\final_validations\\sac2_with_env_params\\gravity_-11.999_wind_5.0_turbulence_0.0\\rl-video-episode-0.mp4\n",
      "gravity: -11.999, wind_power: 5.0, turbulence_power: 0.0, reward: 300.71759359374545\n",
      "Moviepy - Building video d:\\Desktop\\reps\\TUM WS22\\tum-adlr-ws22-06\\final_validations\\sac2_with_env_params\\gravity_-11.999_wind_5.0_turbulence_0.25\\rl-video-episode-0.mp4.\n",
      "Moviepy - Writing video d:\\Desktop\\reps\\TUM WS22\\tum-adlr-ws22-06\\final_validations\\sac2_with_env_params\\gravity_-11.999_wind_5.0_turbulence_0.25\\rl-video-episode-0.mp4\n",
      "\n"
     ]
    },
    {
     "name": "stderr",
     "output_type": "stream",
     "text": [
      "c:\\Users\\volob\\.conda\\envs\\adlr\\lib\\site-packages\\gymnasium\\wrappers\\record_video.py:75: UserWarning:\n",
      "\n",
      "\u001b[33mWARN: Overwriting existing videos at d:\\Desktop\\reps\\TUM WS22\\tum-adlr-ws22-06\\final_validations\\sac2_with_env_params\\gravity_-11.999_wind_5.0_turbulence_0.5 folder (try specifying a different `video_folder` for the `RecordVideo` wrapper if this is not desired)\u001b[0m\n",
      "\n"
     ]
    },
    {
     "name": "stdout",
     "output_type": "stream",
     "text": [
      "Moviepy - Done !\n",
      "Moviepy - video ready d:\\Desktop\\reps\\TUM WS22\\tum-adlr-ws22-06\\final_validations\\sac2_with_env_params\\gravity_-11.999_wind_5.0_turbulence_0.25\\rl-video-episode-0.mp4\n",
      "gravity: -11.999, wind_power: 5.0, turbulence_power: 0.25, reward: 280.24750077129033\n",
      "Moviepy - Building video d:\\Desktop\\reps\\TUM WS22\\tum-adlr-ws22-06\\final_validations\\sac2_with_env_params\\gravity_-11.999_wind_5.0_turbulence_0.5\\rl-video-episode-0.mp4.\n",
      "Moviepy - Writing video d:\\Desktop\\reps\\TUM WS22\\tum-adlr-ws22-06\\final_validations\\sac2_with_env_params\\gravity_-11.999_wind_5.0_turbulence_0.5\\rl-video-episode-0.mp4\n",
      "\n"
     ]
    },
    {
     "name": "stderr",
     "output_type": "stream",
     "text": [
      "c:\\Users\\volob\\.conda\\envs\\adlr\\lib\\site-packages\\gymnasium\\wrappers\\record_video.py:75: UserWarning:\n",
      "\n",
      "\u001b[33mWARN: Overwriting existing videos at d:\\Desktop\\reps\\TUM WS22\\tum-adlr-ws22-06\\final_validations\\sac2_with_env_params\\gravity_-11.999_wind_5.0_turbulence_0.75 folder (try specifying a different `video_folder` for the `RecordVideo` wrapper if this is not desired)\u001b[0m\n",
      "\n"
     ]
    },
    {
     "name": "stdout",
     "output_type": "stream",
     "text": [
      "Moviepy - Done !\n",
      "Moviepy - video ready d:\\Desktop\\reps\\TUM WS22\\tum-adlr-ws22-06\\final_validations\\sac2_with_env_params\\gravity_-11.999_wind_5.0_turbulence_0.5\\rl-video-episode-0.mp4\n",
      "gravity: -11.999, wind_power: 5.0, turbulence_power: 0.5, reward: 286.5831840790812\n",
      "Moviepy - Building video d:\\Desktop\\reps\\TUM WS22\\tum-adlr-ws22-06\\final_validations\\sac2_with_env_params\\gravity_-11.999_wind_5.0_turbulence_0.75\\rl-video-episode-0.mp4.\n",
      "Moviepy - Writing video d:\\Desktop\\reps\\TUM WS22\\tum-adlr-ws22-06\\final_validations\\sac2_with_env_params\\gravity_-11.999_wind_5.0_turbulence_0.75\\rl-video-episode-0.mp4\n",
      "\n"
     ]
    },
    {
     "name": "stderr",
     "output_type": "stream",
     "text": [
      "c:\\Users\\volob\\.conda\\envs\\adlr\\lib\\site-packages\\gymnasium\\wrappers\\record_video.py:75: UserWarning:\n",
      "\n",
      "\u001b[33mWARN: Overwriting existing videos at d:\\Desktop\\reps\\TUM WS22\\tum-adlr-ws22-06\\final_validations\\sac2_with_env_params\\gravity_-11.999_wind_5.0_turbulence_1.0 folder (try specifying a different `video_folder` for the `RecordVideo` wrapper if this is not desired)\u001b[0m\n",
      "\n"
     ]
    },
    {
     "name": "stdout",
     "output_type": "stream",
     "text": [
      "Moviepy - Done !\n",
      "Moviepy - video ready d:\\Desktop\\reps\\TUM WS22\\tum-adlr-ws22-06\\final_validations\\sac2_with_env_params\\gravity_-11.999_wind_5.0_turbulence_0.75\\rl-video-episode-0.mp4\n",
      "gravity: -11.999, wind_power: 5.0, turbulence_power: 0.75, reward: 292.6721899392074\n",
      "Moviepy - Building video d:\\Desktop\\reps\\TUM WS22\\tum-adlr-ws22-06\\final_validations\\sac2_with_env_params\\gravity_-11.999_wind_5.0_turbulence_1.0\\rl-video-episode-0.mp4.\n",
      "Moviepy - Writing video d:\\Desktop\\reps\\TUM WS22\\tum-adlr-ws22-06\\final_validations\\sac2_with_env_params\\gravity_-11.999_wind_5.0_turbulence_1.0\\rl-video-episode-0.mp4\n",
      "\n"
     ]
    },
    {
     "name": "stderr",
     "output_type": "stream",
     "text": [
      "c:\\Users\\volob\\.conda\\envs\\adlr\\lib\\site-packages\\gymnasium\\wrappers\\record_video.py:75: UserWarning:\n",
      "\n",
      "\u001b[33mWARN: Overwriting existing videos at d:\\Desktop\\reps\\TUM WS22\\tum-adlr-ws22-06\\final_validations\\sac2_with_env_params\\gravity_-11.999_wind_7.5_turbulence_0.0 folder (try specifying a different `video_folder` for the `RecordVideo` wrapper if this is not desired)\u001b[0m\n",
      "\n"
     ]
    },
    {
     "name": "stdout",
     "output_type": "stream",
     "text": [
      "Moviepy - Done !\n",
      "Moviepy - video ready d:\\Desktop\\reps\\TUM WS22\\tum-adlr-ws22-06\\final_validations\\sac2_with_env_params\\gravity_-11.999_wind_5.0_turbulence_1.0\\rl-video-episode-0.mp4\n",
      "gravity: -11.999, wind_power: 5.0, turbulence_power: 1.0, reward: 295.2036417575533\n",
      "Moviepy - Building video d:\\Desktop\\reps\\TUM WS22\\tum-adlr-ws22-06\\final_validations\\sac2_with_env_params\\gravity_-11.999_wind_7.5_turbulence_0.0\\rl-video-episode-0.mp4.\n",
      "Moviepy - Writing video d:\\Desktop\\reps\\TUM WS22\\tum-adlr-ws22-06\\final_validations\\sac2_with_env_params\\gravity_-11.999_wind_7.5_turbulence_0.0\\rl-video-episode-0.mp4\n",
      "\n"
     ]
    },
    {
     "name": "stderr",
     "output_type": "stream",
     "text": [
      "c:\\Users\\volob\\.conda\\envs\\adlr\\lib\\site-packages\\gymnasium\\wrappers\\record_video.py:75: UserWarning:\n",
      "\n",
      "\u001b[33mWARN: Overwriting existing videos at d:\\Desktop\\reps\\TUM WS22\\tum-adlr-ws22-06\\final_validations\\sac2_with_env_params\\gravity_-11.999_wind_7.5_turbulence_0.25 folder (try specifying a different `video_folder` for the `RecordVideo` wrapper if this is not desired)\u001b[0m\n",
      "\n"
     ]
    },
    {
     "name": "stdout",
     "output_type": "stream",
     "text": [
      "Moviepy - Done !\n",
      "Moviepy - video ready d:\\Desktop\\reps\\TUM WS22\\tum-adlr-ws22-06\\final_validations\\sac2_with_env_params\\gravity_-11.999_wind_7.5_turbulence_0.0\\rl-video-episode-0.mp4\n",
      "gravity: -11.999, wind_power: 7.5, turbulence_power: 0.0, reward: 295.4639693452582\n",
      "Moviepy - Building video d:\\Desktop\\reps\\TUM WS22\\tum-adlr-ws22-06\\final_validations\\sac2_with_env_params\\gravity_-11.999_wind_7.5_turbulence_0.25\\rl-video-episode-0.mp4.\n",
      "Moviepy - Writing video d:\\Desktop\\reps\\TUM WS22\\tum-adlr-ws22-06\\final_validations\\sac2_with_env_params\\gravity_-11.999_wind_7.5_turbulence_0.25\\rl-video-episode-0.mp4\n",
      "\n"
     ]
    },
    {
     "name": "stderr",
     "output_type": "stream",
     "text": [
      "c:\\Users\\volob\\.conda\\envs\\adlr\\lib\\site-packages\\gymnasium\\wrappers\\record_video.py:75: UserWarning:\n",
      "\n",
      "\u001b[33mWARN: Overwriting existing videos at d:\\Desktop\\reps\\TUM WS22\\tum-adlr-ws22-06\\final_validations\\sac2_with_env_params\\gravity_-11.999_wind_7.5_turbulence_0.5 folder (try specifying a different `video_folder` for the `RecordVideo` wrapper if this is not desired)\u001b[0m\n",
      "\n"
     ]
    },
    {
     "name": "stdout",
     "output_type": "stream",
     "text": [
      "Moviepy - Done !\n",
      "Moviepy - video ready d:\\Desktop\\reps\\TUM WS22\\tum-adlr-ws22-06\\final_validations\\sac2_with_env_params\\gravity_-11.999_wind_7.5_turbulence_0.25\\rl-video-episode-0.mp4\n",
      "gravity: -11.999, wind_power: 7.5, turbulence_power: 0.25, reward: 291.15900174182764\n",
      "Moviepy - Building video d:\\Desktop\\reps\\TUM WS22\\tum-adlr-ws22-06\\final_validations\\sac2_with_env_params\\gravity_-11.999_wind_7.5_turbulence_0.5\\rl-video-episode-0.mp4.\n",
      "Moviepy - Writing video d:\\Desktop\\reps\\TUM WS22\\tum-adlr-ws22-06\\final_validations\\sac2_with_env_params\\gravity_-11.999_wind_7.5_turbulence_0.5\\rl-video-episode-0.mp4\n",
      "\n"
     ]
    },
    {
     "name": "stderr",
     "output_type": "stream",
     "text": [
      "c:\\Users\\volob\\.conda\\envs\\adlr\\lib\\site-packages\\gymnasium\\wrappers\\record_video.py:75: UserWarning:\n",
      "\n",
      "\u001b[33mWARN: Overwriting existing videos at d:\\Desktop\\reps\\TUM WS22\\tum-adlr-ws22-06\\final_validations\\sac2_with_env_params\\gravity_-11.999_wind_7.5_turbulence_0.75 folder (try specifying a different `video_folder` for the `RecordVideo` wrapper if this is not desired)\u001b[0m\n",
      "\n"
     ]
    },
    {
     "name": "stdout",
     "output_type": "stream",
     "text": [
      "Moviepy - Done !\n",
      "Moviepy - video ready d:\\Desktop\\reps\\TUM WS22\\tum-adlr-ws22-06\\final_validations\\sac2_with_env_params\\gravity_-11.999_wind_7.5_turbulence_0.5\\rl-video-episode-0.mp4\n",
      "gravity: -11.999, wind_power: 7.5, turbulence_power: 0.5, reward: 275.8962107021348\n",
      "Moviepy - Building video d:\\Desktop\\reps\\TUM WS22\\tum-adlr-ws22-06\\final_validations\\sac2_with_env_params\\gravity_-11.999_wind_7.5_turbulence_0.75\\rl-video-episode-0.mp4.\n",
      "Moviepy - Writing video d:\\Desktop\\reps\\TUM WS22\\tum-adlr-ws22-06\\final_validations\\sac2_with_env_params\\gravity_-11.999_wind_7.5_turbulence_0.75\\rl-video-episode-0.mp4\n",
      "\n"
     ]
    },
    {
     "name": "stderr",
     "output_type": "stream",
     "text": [
      "c:\\Users\\volob\\.conda\\envs\\adlr\\lib\\site-packages\\gymnasium\\wrappers\\record_video.py:75: UserWarning:\n",
      "\n",
      "\u001b[33mWARN: Overwriting existing videos at d:\\Desktop\\reps\\TUM WS22\\tum-adlr-ws22-06\\final_validations\\sac2_with_env_params\\gravity_-11.999_wind_7.5_turbulence_1.0 folder (try specifying a different `video_folder` for the `RecordVideo` wrapper if this is not desired)\u001b[0m\n",
      "\n"
     ]
    },
    {
     "name": "stdout",
     "output_type": "stream",
     "text": [
      "Moviepy - Done !\n",
      "Moviepy - video ready d:\\Desktop\\reps\\TUM WS22\\tum-adlr-ws22-06\\final_validations\\sac2_with_env_params\\gravity_-11.999_wind_7.5_turbulence_0.75\\rl-video-episode-0.mp4\n",
      "gravity: -11.999, wind_power: 7.5, turbulence_power: 0.75, reward: 291.2717315484449\n",
      "Moviepy - Building video d:\\Desktop\\reps\\TUM WS22\\tum-adlr-ws22-06\\final_validations\\sac2_with_env_params\\gravity_-11.999_wind_7.5_turbulence_1.0\\rl-video-episode-0.mp4.\n",
      "Moviepy - Writing video d:\\Desktop\\reps\\TUM WS22\\tum-adlr-ws22-06\\final_validations\\sac2_with_env_params\\gravity_-11.999_wind_7.5_turbulence_1.0\\rl-video-episode-0.mp4\n",
      "\n"
     ]
    },
    {
     "name": "stderr",
     "output_type": "stream",
     "text": [
      "c:\\Users\\volob\\.conda\\envs\\adlr\\lib\\site-packages\\gymnasium\\wrappers\\record_video.py:75: UserWarning:\n",
      "\n",
      "\u001b[33mWARN: Overwriting existing videos at d:\\Desktop\\reps\\TUM WS22\\tum-adlr-ws22-06\\final_validations\\sac2_with_env_params\\gravity_-11.999_wind_10.0_turbulence_0.0 folder (try specifying a different `video_folder` for the `RecordVideo` wrapper if this is not desired)\u001b[0m\n",
      "\n"
     ]
    },
    {
     "name": "stdout",
     "output_type": "stream",
     "text": [
      "Moviepy - Done !\n",
      "Moviepy - video ready d:\\Desktop\\reps\\TUM WS22\\tum-adlr-ws22-06\\final_validations\\sac2_with_env_params\\gravity_-11.999_wind_7.5_turbulence_1.0\\rl-video-episode-0.mp4\n",
      "gravity: -11.999, wind_power: 7.5, turbulence_power: 1.0, reward: 292.3085221294776\n",
      "Moviepy - Building video d:\\Desktop\\reps\\TUM WS22\\tum-adlr-ws22-06\\final_validations\\sac2_with_env_params\\gravity_-11.999_wind_10.0_turbulence_0.0\\rl-video-episode-0.mp4.\n",
      "Moviepy - Writing video d:\\Desktop\\reps\\TUM WS22\\tum-adlr-ws22-06\\final_validations\\sac2_with_env_params\\gravity_-11.999_wind_10.0_turbulence_0.0\\rl-video-episode-0.mp4\n",
      "\n"
     ]
    },
    {
     "name": "stderr",
     "output_type": "stream",
     "text": [
      "c:\\Users\\volob\\.conda\\envs\\adlr\\lib\\site-packages\\gymnasium\\wrappers\\record_video.py:75: UserWarning:\n",
      "\n",
      "\u001b[33mWARN: Overwriting existing videos at d:\\Desktop\\reps\\TUM WS22\\tum-adlr-ws22-06\\final_validations\\sac2_with_env_params\\gravity_-11.999_wind_10.0_turbulence_0.25 folder (try specifying a different `video_folder` for the `RecordVideo` wrapper if this is not desired)\u001b[0m\n",
      "\n"
     ]
    },
    {
     "name": "stdout",
     "output_type": "stream",
     "text": [
      "Moviepy - Done !\n",
      "Moviepy - video ready d:\\Desktop\\reps\\TUM WS22\\tum-adlr-ws22-06\\final_validations\\sac2_with_env_params\\gravity_-11.999_wind_10.0_turbulence_0.0\\rl-video-episode-0.mp4\n",
      "gravity: -11.999, wind_power: 10.0, turbulence_power: 0.0, reward: 301.8031899259556\n",
      "Moviepy - Building video d:\\Desktop\\reps\\TUM WS22\\tum-adlr-ws22-06\\final_validations\\sac2_with_env_params\\gravity_-11.999_wind_10.0_turbulence_0.25\\rl-video-episode-0.mp4.\n",
      "Moviepy - Writing video d:\\Desktop\\reps\\TUM WS22\\tum-adlr-ws22-06\\final_validations\\sac2_with_env_params\\gravity_-11.999_wind_10.0_turbulence_0.25\\rl-video-episode-0.mp4\n",
      "\n"
     ]
    },
    {
     "name": "stderr",
     "output_type": "stream",
     "text": [
      "c:\\Users\\volob\\.conda\\envs\\adlr\\lib\\site-packages\\gymnasium\\wrappers\\record_video.py:75: UserWarning:\n",
      "\n",
      "\u001b[33mWARN: Overwriting existing videos at d:\\Desktop\\reps\\TUM WS22\\tum-adlr-ws22-06\\final_validations\\sac2_with_env_params\\gravity_-11.999_wind_10.0_turbulence_0.5 folder (try specifying a different `video_folder` for the `RecordVideo` wrapper if this is not desired)\u001b[0m\n",
      "\n"
     ]
    },
    {
     "name": "stdout",
     "output_type": "stream",
     "text": [
      "Moviepy - Done !\n",
      "Moviepy - video ready d:\\Desktop\\reps\\TUM WS22\\tum-adlr-ws22-06\\final_validations\\sac2_with_env_params\\gravity_-11.999_wind_10.0_turbulence_0.25\\rl-video-episode-0.mp4\n",
      "gravity: -11.999, wind_power: 10.0, turbulence_power: 0.25, reward: 306.8633848555021\n",
      "Moviepy - Building video d:\\Desktop\\reps\\TUM WS22\\tum-adlr-ws22-06\\final_validations\\sac2_with_env_params\\gravity_-11.999_wind_10.0_turbulence_0.5\\rl-video-episode-0.mp4.\n",
      "Moviepy - Writing video d:\\Desktop\\reps\\TUM WS22\\tum-adlr-ws22-06\\final_validations\\sac2_with_env_params\\gravity_-11.999_wind_10.0_turbulence_0.5\\rl-video-episode-0.mp4\n",
      "\n"
     ]
    },
    {
     "name": "stderr",
     "output_type": "stream",
     "text": [
      "c:\\Users\\volob\\.conda\\envs\\adlr\\lib\\site-packages\\gymnasium\\wrappers\\record_video.py:75: UserWarning:\n",
      "\n",
      "\u001b[33mWARN: Overwriting existing videos at d:\\Desktop\\reps\\TUM WS22\\tum-adlr-ws22-06\\final_validations\\sac2_with_env_params\\gravity_-11.999_wind_10.0_turbulence_0.75 folder (try specifying a different `video_folder` for the `RecordVideo` wrapper if this is not desired)\u001b[0m\n",
      "\n"
     ]
    },
    {
     "name": "stdout",
     "output_type": "stream",
     "text": [
      "Moviepy - Done !\n",
      "Moviepy - video ready d:\\Desktop\\reps\\TUM WS22\\tum-adlr-ws22-06\\final_validations\\sac2_with_env_params\\gravity_-11.999_wind_10.0_turbulence_0.5\\rl-video-episode-0.mp4\n",
      "gravity: -11.999, wind_power: 10.0, turbulence_power: 0.5, reward: 307.39806249929717\n",
      "Moviepy - Building video d:\\Desktop\\reps\\TUM WS22\\tum-adlr-ws22-06\\final_validations\\sac2_with_env_params\\gravity_-11.999_wind_10.0_turbulence_0.75\\rl-video-episode-0.mp4.\n",
      "Moviepy - Writing video d:\\Desktop\\reps\\TUM WS22\\tum-adlr-ws22-06\\final_validations\\sac2_with_env_params\\gravity_-11.999_wind_10.0_turbulence_0.75\\rl-video-episode-0.mp4\n",
      "\n"
     ]
    },
    {
     "name": "stderr",
     "output_type": "stream",
     "text": [
      "c:\\Users\\volob\\.conda\\envs\\adlr\\lib\\site-packages\\gymnasium\\wrappers\\record_video.py:75: UserWarning:\n",
      "\n",
      "\u001b[33mWARN: Overwriting existing videos at d:\\Desktop\\reps\\TUM WS22\\tum-adlr-ws22-06\\final_validations\\sac2_with_env_params\\gravity_-11.999_wind_10.0_turbulence_1.0 folder (try specifying a different `video_folder` for the `RecordVideo` wrapper if this is not desired)\u001b[0m\n",
      "\n"
     ]
    },
    {
     "name": "stdout",
     "output_type": "stream",
     "text": [
      "Moviepy - Done !\n",
      "Moviepy - video ready d:\\Desktop\\reps\\TUM WS22\\tum-adlr-ws22-06\\final_validations\\sac2_with_env_params\\gravity_-11.999_wind_10.0_turbulence_0.75\\rl-video-episode-0.mp4\n",
      "gravity: -11.999, wind_power: 10.0, turbulence_power: 0.75, reward: 305.5804500678429\n",
      "Moviepy - Building video d:\\Desktop\\reps\\TUM WS22\\tum-adlr-ws22-06\\final_validations\\sac2_with_env_params\\gravity_-11.999_wind_10.0_turbulence_1.0\\rl-video-episode-0.mp4.\n",
      "Moviepy - Writing video d:\\Desktop\\reps\\TUM WS22\\tum-adlr-ws22-06\\final_validations\\sac2_with_env_params\\gravity_-11.999_wind_10.0_turbulence_1.0\\rl-video-episode-0.mp4\n",
      "\n"
     ]
    },
    {
     "name": "stderr",
     "output_type": "stream",
     "text": [
      "c:\\Users\\volob\\.conda\\envs\\adlr\\lib\\site-packages\\gymnasium\\wrappers\\record_video.py:75: UserWarning:\n",
      "\n",
      "\u001b[33mWARN: Overwriting existing videos at d:\\Desktop\\reps\\TUM WS22\\tum-adlr-ws22-06\\final_validations\\sac2_with_env_params\\gravity_-8.999275_wind_0.0_turbulence_0.0 folder (try specifying a different `video_folder` for the `RecordVideo` wrapper if this is not desired)\u001b[0m\n",
      "\n"
     ]
    },
    {
     "name": "stdout",
     "output_type": "stream",
     "text": [
      "Moviepy - Done !\n",
      "Moviepy - video ready d:\\Desktop\\reps\\TUM WS22\\tum-adlr-ws22-06\\final_validations\\sac2_with_env_params\\gravity_-11.999_wind_10.0_turbulence_1.0\\rl-video-episode-0.mp4\n",
      "gravity: -11.999, wind_power: 10.0, turbulence_power: 1.0, reward: 303.4236931223416\n",
      "Moviepy - Building video d:\\Desktop\\reps\\TUM WS22\\tum-adlr-ws22-06\\final_validations\\sac2_with_env_params\\gravity_-8.999275_wind_0.0_turbulence_0.0\\rl-video-episode-0.mp4.\n",
      "Moviepy - Writing video d:\\Desktop\\reps\\TUM WS22\\tum-adlr-ws22-06\\final_validations\\sac2_with_env_params\\gravity_-8.999275_wind_0.0_turbulence_0.0\\rl-video-episode-0.mp4\n",
      "\n"
     ]
    },
    {
     "name": "stderr",
     "output_type": "stream",
     "text": [
      "c:\\Users\\volob\\.conda\\envs\\adlr\\lib\\site-packages\\gymnasium\\wrappers\\record_video.py:75: UserWarning:\n",
      "\n",
      "\u001b[33mWARN: Overwriting existing videos at d:\\Desktop\\reps\\TUM WS22\\tum-adlr-ws22-06\\final_validations\\sac2_with_env_params\\gravity_-8.999275_wind_0.0_turbulence_0.25 folder (try specifying a different `video_folder` for the `RecordVideo` wrapper if this is not desired)\u001b[0m\n",
      "\n"
     ]
    },
    {
     "name": "stdout",
     "output_type": "stream",
     "text": [
      "Moviepy - Done !\n",
      "Moviepy - video ready d:\\Desktop\\reps\\TUM WS22\\tum-adlr-ws22-06\\final_validations\\sac2_with_env_params\\gravity_-8.999275_wind_0.0_turbulence_0.0\\rl-video-episode-0.mp4\n",
      "gravity: -8.999275, wind_power: 0.0, turbulence_power: 0.0, reward: 213.34957771113676\n",
      "Moviepy - Building video d:\\Desktop\\reps\\TUM WS22\\tum-adlr-ws22-06\\final_validations\\sac2_with_env_params\\gravity_-8.999275_wind_0.0_turbulence_0.25\\rl-video-episode-0.mp4.\n",
      "Moviepy - Writing video d:\\Desktop\\reps\\TUM WS22\\tum-adlr-ws22-06\\final_validations\\sac2_with_env_params\\gravity_-8.999275_wind_0.0_turbulence_0.25\\rl-video-episode-0.mp4\n",
      "\n"
     ]
    },
    {
     "name": "stderr",
     "output_type": "stream",
     "text": [
      "c:\\Users\\volob\\.conda\\envs\\adlr\\lib\\site-packages\\gymnasium\\wrappers\\record_video.py:75: UserWarning:\n",
      "\n",
      "\u001b[33mWARN: Overwriting existing videos at d:\\Desktop\\reps\\TUM WS22\\tum-adlr-ws22-06\\final_validations\\sac2_with_env_params\\gravity_-8.999275_wind_0.0_turbulence_0.5 folder (try specifying a different `video_folder` for the `RecordVideo` wrapper if this is not desired)\u001b[0m\n",
      "\n"
     ]
    },
    {
     "name": "stdout",
     "output_type": "stream",
     "text": [
      "Moviepy - Done !\n",
      "Moviepy - video ready d:\\Desktop\\reps\\TUM WS22\\tum-adlr-ws22-06\\final_validations\\sac2_with_env_params\\gravity_-8.999275_wind_0.0_turbulence_0.25\\rl-video-episode-0.mp4\n",
      "gravity: -8.999275, wind_power: 0.0, turbulence_power: 0.25, reward: 271.02837033102713\n",
      "Moviepy - Building video d:\\Desktop\\reps\\TUM WS22\\tum-adlr-ws22-06\\final_validations\\sac2_with_env_params\\gravity_-8.999275_wind_0.0_turbulence_0.5\\rl-video-episode-0.mp4.\n",
      "Moviepy - Writing video d:\\Desktop\\reps\\TUM WS22\\tum-adlr-ws22-06\\final_validations\\sac2_with_env_params\\gravity_-8.999275_wind_0.0_turbulence_0.5\\rl-video-episode-0.mp4\n",
      "\n"
     ]
    },
    {
     "name": "stderr",
     "output_type": "stream",
     "text": [
      "c:\\Users\\volob\\.conda\\envs\\adlr\\lib\\site-packages\\gymnasium\\wrappers\\record_video.py:75: UserWarning:\n",
      "\n",
      "\u001b[33mWARN: Overwriting existing videos at d:\\Desktop\\reps\\TUM WS22\\tum-adlr-ws22-06\\final_validations\\sac2_with_env_params\\gravity_-8.999275_wind_0.0_turbulence_0.75 folder (try specifying a different `video_folder` for the `RecordVideo` wrapper if this is not desired)\u001b[0m\n",
      "\n"
     ]
    },
    {
     "name": "stdout",
     "output_type": "stream",
     "text": [
      "Moviepy - Done !\n",
      "Moviepy - video ready d:\\Desktop\\reps\\TUM WS22\\tum-adlr-ws22-06\\final_validations\\sac2_with_env_params\\gravity_-8.999275_wind_0.0_turbulence_0.5\\rl-video-episode-0.mp4\n",
      "gravity: -8.999275, wind_power: 0.0, turbulence_power: 0.5, reward: 273.02982253940183\n",
      "Moviepy - Building video d:\\Desktop\\reps\\TUM WS22\\tum-adlr-ws22-06\\final_validations\\sac2_with_env_params\\gravity_-8.999275_wind_0.0_turbulence_0.75\\rl-video-episode-0.mp4.\n",
      "Moviepy - Writing video d:\\Desktop\\reps\\TUM WS22\\tum-adlr-ws22-06\\final_validations\\sac2_with_env_params\\gravity_-8.999275_wind_0.0_turbulence_0.75\\rl-video-episode-0.mp4\n",
      "\n"
     ]
    },
    {
     "name": "stderr",
     "output_type": "stream",
     "text": [
      "c:\\Users\\volob\\.conda\\envs\\adlr\\lib\\site-packages\\gymnasium\\wrappers\\record_video.py:75: UserWarning:\n",
      "\n",
      "\u001b[33mWARN: Overwriting existing videos at d:\\Desktop\\reps\\TUM WS22\\tum-adlr-ws22-06\\final_validations\\sac2_with_env_params\\gravity_-8.999275_wind_0.0_turbulence_1.0 folder (try specifying a different `video_folder` for the `RecordVideo` wrapper if this is not desired)\u001b[0m\n",
      "\n"
     ]
    },
    {
     "name": "stdout",
     "output_type": "stream",
     "text": [
      "Moviepy - Done !\n",
      "Moviepy - video ready d:\\Desktop\\reps\\TUM WS22\\tum-adlr-ws22-06\\final_validations\\sac2_with_env_params\\gravity_-8.999275_wind_0.0_turbulence_0.75\\rl-video-episode-0.mp4\n",
      "gravity: -8.999275, wind_power: 0.0, turbulence_power: 0.75, reward: 287.3665455823501\n",
      "Moviepy - Building video d:\\Desktop\\reps\\TUM WS22\\tum-adlr-ws22-06\\final_validations\\sac2_with_env_params\\gravity_-8.999275_wind_0.0_turbulence_1.0\\rl-video-episode-0.mp4.\n",
      "Moviepy - Writing video d:\\Desktop\\reps\\TUM WS22\\tum-adlr-ws22-06\\final_validations\\sac2_with_env_params\\gravity_-8.999275_wind_0.0_turbulence_1.0\\rl-video-episode-0.mp4\n",
      "\n"
     ]
    },
    {
     "name": "stderr",
     "output_type": "stream",
     "text": [
      "c:\\Users\\volob\\.conda\\envs\\adlr\\lib\\site-packages\\gymnasium\\wrappers\\record_video.py:75: UserWarning:\n",
      "\n",
      "\u001b[33mWARN: Overwriting existing videos at d:\\Desktop\\reps\\TUM WS22\\tum-adlr-ws22-06\\final_validations\\sac2_with_env_params\\gravity_-8.999275_wind_2.5_turbulence_0.0 folder (try specifying a different `video_folder` for the `RecordVideo` wrapper if this is not desired)\u001b[0m\n",
      "\n"
     ]
    },
    {
     "name": "stdout",
     "output_type": "stream",
     "text": [
      "Moviepy - Done !\n",
      "Moviepy - video ready d:\\Desktop\\reps\\TUM WS22\\tum-adlr-ws22-06\\final_validations\\sac2_with_env_params\\gravity_-8.999275_wind_0.0_turbulence_1.0\\rl-video-episode-0.mp4\n",
      "gravity: -8.999275, wind_power: 0.0, turbulence_power: 1.0, reward: 282.4755452992816\n",
      "Moviepy - Building video d:\\Desktop\\reps\\TUM WS22\\tum-adlr-ws22-06\\final_validations\\sac2_with_env_params\\gravity_-8.999275_wind_2.5_turbulence_0.0\\rl-video-episode-0.mp4.\n",
      "Moviepy - Writing video d:\\Desktop\\reps\\TUM WS22\\tum-adlr-ws22-06\\final_validations\\sac2_with_env_params\\gravity_-8.999275_wind_2.5_turbulence_0.0\\rl-video-episode-0.mp4\n",
      "\n"
     ]
    },
    {
     "name": "stderr",
     "output_type": "stream",
     "text": [
      "c:\\Users\\volob\\.conda\\envs\\adlr\\lib\\site-packages\\gymnasium\\wrappers\\record_video.py:75: UserWarning:\n",
      "\n",
      "\u001b[33mWARN: Overwriting existing videos at d:\\Desktop\\reps\\TUM WS22\\tum-adlr-ws22-06\\final_validations\\sac2_with_env_params\\gravity_-8.999275_wind_2.5_turbulence_0.25 folder (try specifying a different `video_folder` for the `RecordVideo` wrapper if this is not desired)\u001b[0m\n",
      "\n"
     ]
    },
    {
     "name": "stdout",
     "output_type": "stream",
     "text": [
      "Moviepy - Done !\n",
      "Moviepy - video ready d:\\Desktop\\reps\\TUM WS22\\tum-adlr-ws22-06\\final_validations\\sac2_with_env_params\\gravity_-8.999275_wind_2.5_turbulence_0.0\\rl-video-episode-0.mp4\n",
      "gravity: -8.999275, wind_power: 2.5, turbulence_power: 0.0, reward: 281.1945853402501\n",
      "Moviepy - Building video d:\\Desktop\\reps\\TUM WS22\\tum-adlr-ws22-06\\final_validations\\sac2_with_env_params\\gravity_-8.999275_wind_2.5_turbulence_0.25\\rl-video-episode-0.mp4.\n",
      "Moviepy - Writing video d:\\Desktop\\reps\\TUM WS22\\tum-adlr-ws22-06\\final_validations\\sac2_with_env_params\\gravity_-8.999275_wind_2.5_turbulence_0.25\\rl-video-episode-0.mp4\n",
      "\n"
     ]
    },
    {
     "name": "stderr",
     "output_type": "stream",
     "text": [
      "c:\\Users\\volob\\.conda\\envs\\adlr\\lib\\site-packages\\gymnasium\\wrappers\\record_video.py:75: UserWarning:\n",
      "\n",
      "\u001b[33mWARN: Overwriting existing videos at d:\\Desktop\\reps\\TUM WS22\\tum-adlr-ws22-06\\final_validations\\sac2_with_env_params\\gravity_-8.999275_wind_2.5_turbulence_0.5 folder (try specifying a different `video_folder` for the `RecordVideo` wrapper if this is not desired)\u001b[0m\n",
      "\n"
     ]
    },
    {
     "name": "stdout",
     "output_type": "stream",
     "text": [
      "Moviepy - Done !\n",
      "Moviepy - video ready d:\\Desktop\\reps\\TUM WS22\\tum-adlr-ws22-06\\final_validations\\sac2_with_env_params\\gravity_-8.999275_wind_2.5_turbulence_0.25\\rl-video-episode-0.mp4\n",
      "gravity: -8.999275, wind_power: 2.5, turbulence_power: 0.25, reward: 296.140207337026\n",
      "Moviepy - Building video d:\\Desktop\\reps\\TUM WS22\\tum-adlr-ws22-06\\final_validations\\sac2_with_env_params\\gravity_-8.999275_wind_2.5_turbulence_0.5\\rl-video-episode-0.mp4.\n",
      "Moviepy - Writing video d:\\Desktop\\reps\\TUM WS22\\tum-adlr-ws22-06\\final_validations\\sac2_with_env_params\\gravity_-8.999275_wind_2.5_turbulence_0.5\\rl-video-episode-0.mp4\n",
      "\n"
     ]
    },
    {
     "name": "stderr",
     "output_type": "stream",
     "text": [
      "c:\\Users\\volob\\.conda\\envs\\adlr\\lib\\site-packages\\gymnasium\\wrappers\\record_video.py:75: UserWarning:\n",
      "\n",
      "\u001b[33mWARN: Overwriting existing videos at d:\\Desktop\\reps\\TUM WS22\\tum-adlr-ws22-06\\final_validations\\sac2_with_env_params\\gravity_-8.999275_wind_2.5_turbulence_0.75 folder (try specifying a different `video_folder` for the `RecordVideo` wrapper if this is not desired)\u001b[0m\n",
      "\n"
     ]
    },
    {
     "name": "stdout",
     "output_type": "stream",
     "text": [
      "Moviepy - Done !\n",
      "Moviepy - video ready d:\\Desktop\\reps\\TUM WS22\\tum-adlr-ws22-06\\final_validations\\sac2_with_env_params\\gravity_-8.999275_wind_2.5_turbulence_0.5\\rl-video-episode-0.mp4\n",
      "gravity: -8.999275, wind_power: 2.5, turbulence_power: 0.5, reward: 298.5299994847714\n",
      "Moviepy - Building video d:\\Desktop\\reps\\TUM WS22\\tum-adlr-ws22-06\\final_validations\\sac2_with_env_params\\gravity_-8.999275_wind_2.5_turbulence_0.75\\rl-video-episode-0.mp4.\n",
      "Moviepy - Writing video d:\\Desktop\\reps\\TUM WS22\\tum-adlr-ws22-06\\final_validations\\sac2_with_env_params\\gravity_-8.999275_wind_2.5_turbulence_0.75\\rl-video-episode-0.mp4\n",
      "\n"
     ]
    },
    {
     "name": "stderr",
     "output_type": "stream",
     "text": [
      "c:\\Users\\volob\\.conda\\envs\\adlr\\lib\\site-packages\\gymnasium\\wrappers\\record_video.py:75: UserWarning:\n",
      "\n",
      "\u001b[33mWARN: Overwriting existing videos at d:\\Desktop\\reps\\TUM WS22\\tum-adlr-ws22-06\\final_validations\\sac2_with_env_params\\gravity_-8.999275_wind_2.5_turbulence_1.0 folder (try specifying a different `video_folder` for the `RecordVideo` wrapper if this is not desired)\u001b[0m\n",
      "\n"
     ]
    },
    {
     "name": "stdout",
     "output_type": "stream",
     "text": [
      "Moviepy - Done !\n",
      "Moviepy - video ready d:\\Desktop\\reps\\TUM WS22\\tum-adlr-ws22-06\\final_validations\\sac2_with_env_params\\gravity_-8.999275_wind_2.5_turbulence_0.75\\rl-video-episode-0.mp4\n",
      "gravity: -8.999275, wind_power: 2.5, turbulence_power: 0.75, reward: 290.42291532081674\n",
      "Moviepy - Building video d:\\Desktop\\reps\\TUM WS22\\tum-adlr-ws22-06\\final_validations\\sac2_with_env_params\\gravity_-8.999275_wind_2.5_turbulence_1.0\\rl-video-episode-0.mp4.\n",
      "Moviepy - Writing video d:\\Desktop\\reps\\TUM WS22\\tum-adlr-ws22-06\\final_validations\\sac2_with_env_params\\gravity_-8.999275_wind_2.5_turbulence_1.0\\rl-video-episode-0.mp4\n",
      "\n"
     ]
    },
    {
     "name": "stderr",
     "output_type": "stream",
     "text": [
      "c:\\Users\\volob\\.conda\\envs\\adlr\\lib\\site-packages\\gymnasium\\wrappers\\record_video.py:75: UserWarning:\n",
      "\n",
      "\u001b[33mWARN: Overwriting existing videos at d:\\Desktop\\reps\\TUM WS22\\tum-adlr-ws22-06\\final_validations\\sac2_with_env_params\\gravity_-8.999275_wind_5.0_turbulence_0.0 folder (try specifying a different `video_folder` for the `RecordVideo` wrapper if this is not desired)\u001b[0m\n",
      "\n"
     ]
    },
    {
     "name": "stdout",
     "output_type": "stream",
     "text": [
      "Moviepy - Done !\n",
      "Moviepy - video ready d:\\Desktop\\reps\\TUM WS22\\tum-adlr-ws22-06\\final_validations\\sac2_with_env_params\\gravity_-8.999275_wind_2.5_turbulence_1.0\\rl-video-episode-0.mp4\n",
      "gravity: -8.999275, wind_power: 2.5, turbulence_power: 1.0, reward: 298.1313424076335\n",
      "Moviepy - Building video d:\\Desktop\\reps\\TUM WS22\\tum-adlr-ws22-06\\final_validations\\sac2_with_env_params\\gravity_-8.999275_wind_5.0_turbulence_0.0\\rl-video-episode-0.mp4.\n",
      "Moviepy - Writing video d:\\Desktop\\reps\\TUM WS22\\tum-adlr-ws22-06\\final_validations\\sac2_with_env_params\\gravity_-8.999275_wind_5.0_turbulence_0.0\\rl-video-episode-0.mp4\n",
      "\n"
     ]
    },
    {
     "name": "stderr",
     "output_type": "stream",
     "text": [
      "c:\\Users\\volob\\.conda\\envs\\adlr\\lib\\site-packages\\gymnasium\\wrappers\\record_video.py:75: UserWarning:\n",
      "\n",
      "\u001b[33mWARN: Overwriting existing videos at d:\\Desktop\\reps\\TUM WS22\\tum-adlr-ws22-06\\final_validations\\sac2_with_env_params\\gravity_-8.999275_wind_5.0_turbulence_0.25 folder (try specifying a different `video_folder` for the `RecordVideo` wrapper if this is not desired)\u001b[0m\n",
      "\n"
     ]
    },
    {
     "name": "stdout",
     "output_type": "stream",
     "text": [
      "Moviepy - Done !\n",
      "Moviepy - video ready d:\\Desktop\\reps\\TUM WS22\\tum-adlr-ws22-06\\final_validations\\sac2_with_env_params\\gravity_-8.999275_wind_5.0_turbulence_0.0\\rl-video-episode-0.mp4\n",
      "gravity: -8.999275, wind_power: 5.0, turbulence_power: 0.0, reward: 304.0067956283338\n",
      "Moviepy - Building video d:\\Desktop\\reps\\TUM WS22\\tum-adlr-ws22-06\\final_validations\\sac2_with_env_params\\gravity_-8.999275_wind_5.0_turbulence_0.25\\rl-video-episode-0.mp4.\n",
      "Moviepy - Writing video d:\\Desktop\\reps\\TUM WS22\\tum-adlr-ws22-06\\final_validations\\sac2_with_env_params\\gravity_-8.999275_wind_5.0_turbulence_0.25\\rl-video-episode-0.mp4\n",
      "\n"
     ]
    },
    {
     "name": "stderr",
     "output_type": "stream",
     "text": [
      "c:\\Users\\volob\\.conda\\envs\\adlr\\lib\\site-packages\\gymnasium\\wrappers\\record_video.py:75: UserWarning:\n",
      "\n",
      "\u001b[33mWARN: Overwriting existing videos at d:\\Desktop\\reps\\TUM WS22\\tum-adlr-ws22-06\\final_validations\\sac2_with_env_params\\gravity_-8.999275_wind_5.0_turbulence_0.5 folder (try specifying a different `video_folder` for the `RecordVideo` wrapper if this is not desired)\u001b[0m\n",
      "\n"
     ]
    },
    {
     "name": "stdout",
     "output_type": "stream",
     "text": [
      "Moviepy - Done !\n",
      "Moviepy - video ready d:\\Desktop\\reps\\TUM WS22\\tum-adlr-ws22-06\\final_validations\\sac2_with_env_params\\gravity_-8.999275_wind_5.0_turbulence_0.25\\rl-video-episode-0.mp4\n",
      "gravity: -8.999275, wind_power: 5.0, turbulence_power: 0.25, reward: 300.6181004866844\n",
      "Moviepy - Building video d:\\Desktop\\reps\\TUM WS22\\tum-adlr-ws22-06\\final_validations\\sac2_with_env_params\\gravity_-8.999275_wind_5.0_turbulence_0.5\\rl-video-episode-0.mp4.\n",
      "Moviepy - Writing video d:\\Desktop\\reps\\TUM WS22\\tum-adlr-ws22-06\\final_validations\\sac2_with_env_params\\gravity_-8.999275_wind_5.0_turbulence_0.5\\rl-video-episode-0.mp4\n",
      "\n"
     ]
    },
    {
     "name": "stderr",
     "output_type": "stream",
     "text": [
      "c:\\Users\\volob\\.conda\\envs\\adlr\\lib\\site-packages\\gymnasium\\wrappers\\record_video.py:75: UserWarning:\n",
      "\n",
      "\u001b[33mWARN: Overwriting existing videos at d:\\Desktop\\reps\\TUM WS22\\tum-adlr-ws22-06\\final_validations\\sac2_with_env_params\\gravity_-8.999275_wind_5.0_turbulence_0.75 folder (try specifying a different `video_folder` for the `RecordVideo` wrapper if this is not desired)\u001b[0m\n",
      "\n"
     ]
    },
    {
     "name": "stdout",
     "output_type": "stream",
     "text": [
      "Moviepy - Done !\n",
      "Moviepy - video ready d:\\Desktop\\reps\\TUM WS22\\tum-adlr-ws22-06\\final_validations\\sac2_with_env_params\\gravity_-8.999275_wind_5.0_turbulence_0.5\\rl-video-episode-0.mp4\n",
      "gravity: -8.999275, wind_power: 5.0, turbulence_power: 0.5, reward: 300.03458863161904\n",
      "Moviepy - Building video d:\\Desktop\\reps\\TUM WS22\\tum-adlr-ws22-06\\final_validations\\sac2_with_env_params\\gravity_-8.999275_wind_5.0_turbulence_0.75\\rl-video-episode-0.mp4.\n",
      "Moviepy - Writing video d:\\Desktop\\reps\\TUM WS22\\tum-adlr-ws22-06\\final_validations\\sac2_with_env_params\\gravity_-8.999275_wind_5.0_turbulence_0.75\\rl-video-episode-0.mp4\n",
      "\n"
     ]
    },
    {
     "name": "stderr",
     "output_type": "stream",
     "text": [
      "c:\\Users\\volob\\.conda\\envs\\adlr\\lib\\site-packages\\gymnasium\\wrappers\\record_video.py:75: UserWarning:\n",
      "\n",
      "\u001b[33mWARN: Overwriting existing videos at d:\\Desktop\\reps\\TUM WS22\\tum-adlr-ws22-06\\final_validations\\sac2_with_env_params\\gravity_-8.999275_wind_5.0_turbulence_1.0 folder (try specifying a different `video_folder` for the `RecordVideo` wrapper if this is not desired)\u001b[0m\n",
      "\n"
     ]
    },
    {
     "name": "stdout",
     "output_type": "stream",
     "text": [
      "Moviepy - Done !\n",
      "Moviepy - video ready d:\\Desktop\\reps\\TUM WS22\\tum-adlr-ws22-06\\final_validations\\sac2_with_env_params\\gravity_-8.999275_wind_5.0_turbulence_0.75\\rl-video-episode-0.mp4\n",
      "gravity: -8.999275, wind_power: 5.0, turbulence_power: 0.75, reward: 297.23547016376466\n",
      "Moviepy - Building video d:\\Desktop\\reps\\TUM WS22\\tum-adlr-ws22-06\\final_validations\\sac2_with_env_params\\gravity_-8.999275_wind_5.0_turbulence_1.0\\rl-video-episode-0.mp4.\n",
      "Moviepy - Writing video d:\\Desktop\\reps\\TUM WS22\\tum-adlr-ws22-06\\final_validations\\sac2_with_env_params\\gravity_-8.999275_wind_5.0_turbulence_1.0\\rl-video-episode-0.mp4\n",
      "\n"
     ]
    },
    {
     "name": "stderr",
     "output_type": "stream",
     "text": [
      "c:\\Users\\volob\\.conda\\envs\\adlr\\lib\\site-packages\\gymnasium\\wrappers\\record_video.py:75: UserWarning:\n",
      "\n",
      "\u001b[33mWARN: Overwriting existing videos at d:\\Desktop\\reps\\TUM WS22\\tum-adlr-ws22-06\\final_validations\\sac2_with_env_params\\gravity_-8.999275_wind_7.5_turbulence_0.0 folder (try specifying a different `video_folder` for the `RecordVideo` wrapper if this is not desired)\u001b[0m\n",
      "\n"
     ]
    },
    {
     "name": "stdout",
     "output_type": "stream",
     "text": [
      "Moviepy - Done !\n",
      "Moviepy - video ready d:\\Desktop\\reps\\TUM WS22\\tum-adlr-ws22-06\\final_validations\\sac2_with_env_params\\gravity_-8.999275_wind_5.0_turbulence_1.0\\rl-video-episode-0.mp4\n",
      "gravity: -8.999275, wind_power: 5.0, turbulence_power: 1.0, reward: 305.9796863660202\n",
      "Moviepy - Building video d:\\Desktop\\reps\\TUM WS22\\tum-adlr-ws22-06\\final_validations\\sac2_with_env_params\\gravity_-8.999275_wind_7.5_turbulence_0.0\\rl-video-episode-0.mp4.\n",
      "Moviepy - Writing video d:\\Desktop\\reps\\TUM WS22\\tum-adlr-ws22-06\\final_validations\\sac2_with_env_params\\gravity_-8.999275_wind_7.5_turbulence_0.0\\rl-video-episode-0.mp4\n",
      "\n"
     ]
    },
    {
     "name": "stderr",
     "output_type": "stream",
     "text": [
      "c:\\Users\\volob\\.conda\\envs\\adlr\\lib\\site-packages\\gymnasium\\wrappers\\record_video.py:75: UserWarning:\n",
      "\n",
      "\u001b[33mWARN: Overwriting existing videos at d:\\Desktop\\reps\\TUM WS22\\tum-adlr-ws22-06\\final_validations\\sac2_with_env_params\\gravity_-8.999275_wind_7.5_turbulence_0.25 folder (try specifying a different `video_folder` for the `RecordVideo` wrapper if this is not desired)\u001b[0m\n",
      "\n"
     ]
    },
    {
     "name": "stdout",
     "output_type": "stream",
     "text": [
      "Moviepy - Done !\n",
      "Moviepy - video ready d:\\Desktop\\reps\\TUM WS22\\tum-adlr-ws22-06\\final_validations\\sac2_with_env_params\\gravity_-8.999275_wind_7.5_turbulence_0.0\\rl-video-episode-0.mp4\n",
      "gravity: -8.999275, wind_power: 7.5, turbulence_power: 0.0, reward: 305.2184198046351\n",
      "Moviepy - Building video d:\\Desktop\\reps\\TUM WS22\\tum-adlr-ws22-06\\final_validations\\sac2_with_env_params\\gravity_-8.999275_wind_7.5_turbulence_0.25\\rl-video-episode-0.mp4.\n",
      "Moviepy - Writing video d:\\Desktop\\reps\\TUM WS22\\tum-adlr-ws22-06\\final_validations\\sac2_with_env_params\\gravity_-8.999275_wind_7.5_turbulence_0.25\\rl-video-episode-0.mp4\n",
      "\n"
     ]
    },
    {
     "name": "stderr",
     "output_type": "stream",
     "text": [
      "c:\\Users\\volob\\.conda\\envs\\adlr\\lib\\site-packages\\gymnasium\\wrappers\\record_video.py:75: UserWarning:\n",
      "\n",
      "\u001b[33mWARN: Overwriting existing videos at d:\\Desktop\\reps\\TUM WS22\\tum-adlr-ws22-06\\final_validations\\sac2_with_env_params\\gravity_-8.999275_wind_7.5_turbulence_0.5 folder (try specifying a different `video_folder` for the `RecordVideo` wrapper if this is not desired)\u001b[0m\n",
      "\n"
     ]
    },
    {
     "name": "stdout",
     "output_type": "stream",
     "text": [
      "Moviepy - Done !\n",
      "Moviepy - video ready d:\\Desktop\\reps\\TUM WS22\\tum-adlr-ws22-06\\final_validations\\sac2_with_env_params\\gravity_-8.999275_wind_7.5_turbulence_0.25\\rl-video-episode-0.mp4\n",
      "gravity: -8.999275, wind_power: 7.5, turbulence_power: 0.25, reward: 295.73561666505304\n",
      "Moviepy - Building video d:\\Desktop\\reps\\TUM WS22\\tum-adlr-ws22-06\\final_validations\\sac2_with_env_params\\gravity_-8.999275_wind_7.5_turbulence_0.5\\rl-video-episode-0.mp4.\n",
      "Moviepy - Writing video d:\\Desktop\\reps\\TUM WS22\\tum-adlr-ws22-06\\final_validations\\sac2_with_env_params\\gravity_-8.999275_wind_7.5_turbulence_0.5\\rl-video-episode-0.mp4\n",
      "\n"
     ]
    },
    {
     "name": "stderr",
     "output_type": "stream",
     "text": [
      "c:\\Users\\volob\\.conda\\envs\\adlr\\lib\\site-packages\\gymnasium\\wrappers\\record_video.py:75: UserWarning:\n",
      "\n",
      "\u001b[33mWARN: Overwriting existing videos at d:\\Desktop\\reps\\TUM WS22\\tum-adlr-ws22-06\\final_validations\\sac2_with_env_params\\gravity_-8.999275_wind_7.5_turbulence_0.75 folder (try specifying a different `video_folder` for the `RecordVideo` wrapper if this is not desired)\u001b[0m\n",
      "\n"
     ]
    },
    {
     "name": "stdout",
     "output_type": "stream",
     "text": [
      "Moviepy - Done !\n",
      "Moviepy - video ready d:\\Desktop\\reps\\TUM WS22\\tum-adlr-ws22-06\\final_validations\\sac2_with_env_params\\gravity_-8.999275_wind_7.5_turbulence_0.5\\rl-video-episode-0.mp4\n",
      "gravity: -8.999275, wind_power: 7.5, turbulence_power: 0.5, reward: 288.5634804039971\n",
      "Moviepy - Building video d:\\Desktop\\reps\\TUM WS22\\tum-adlr-ws22-06\\final_validations\\sac2_with_env_params\\gravity_-8.999275_wind_7.5_turbulence_0.75\\rl-video-episode-0.mp4.\n",
      "Moviepy - Writing video d:\\Desktop\\reps\\TUM WS22\\tum-adlr-ws22-06\\final_validations\\sac2_with_env_params\\gravity_-8.999275_wind_7.5_turbulence_0.75\\rl-video-episode-0.mp4\n",
      "\n"
     ]
    },
    {
     "name": "stderr",
     "output_type": "stream",
     "text": [
      "c:\\Users\\volob\\.conda\\envs\\adlr\\lib\\site-packages\\gymnasium\\wrappers\\record_video.py:75: UserWarning:\n",
      "\n",
      "\u001b[33mWARN: Overwriting existing videos at d:\\Desktop\\reps\\TUM WS22\\tum-adlr-ws22-06\\final_validations\\sac2_with_env_params\\gravity_-8.999275_wind_7.5_turbulence_1.0 folder (try specifying a different `video_folder` for the `RecordVideo` wrapper if this is not desired)\u001b[0m\n",
      "\n"
     ]
    },
    {
     "name": "stdout",
     "output_type": "stream",
     "text": [
      "Moviepy - Done !\n",
      "Moviepy - video ready d:\\Desktop\\reps\\TUM WS22\\tum-adlr-ws22-06\\final_validations\\sac2_with_env_params\\gravity_-8.999275_wind_7.5_turbulence_0.75\\rl-video-episode-0.mp4\n",
      "gravity: -8.999275, wind_power: 7.5, turbulence_power: 0.75, reward: 273.8801959901149\n",
      "Moviepy - Building video d:\\Desktop\\reps\\TUM WS22\\tum-adlr-ws22-06\\final_validations\\sac2_with_env_params\\gravity_-8.999275_wind_7.5_turbulence_1.0\\rl-video-episode-0.mp4.\n",
      "Moviepy - Writing video d:\\Desktop\\reps\\TUM WS22\\tum-adlr-ws22-06\\final_validations\\sac2_with_env_params\\gravity_-8.999275_wind_7.5_turbulence_1.0\\rl-video-episode-0.mp4\n",
      "\n"
     ]
    },
    {
     "name": "stderr",
     "output_type": "stream",
     "text": [
      "c:\\Users\\volob\\.conda\\envs\\adlr\\lib\\site-packages\\gymnasium\\wrappers\\record_video.py:75: UserWarning:\n",
      "\n",
      "\u001b[33mWARN: Overwriting existing videos at d:\\Desktop\\reps\\TUM WS22\\tum-adlr-ws22-06\\final_validations\\sac2_with_env_params\\gravity_-8.999275_wind_10.0_turbulence_0.0 folder (try specifying a different `video_folder` for the `RecordVideo` wrapper if this is not desired)\u001b[0m\n",
      "\n"
     ]
    },
    {
     "name": "stdout",
     "output_type": "stream",
     "text": [
      "Moviepy - Done !\n",
      "Moviepy - video ready d:\\Desktop\\reps\\TUM WS22\\tum-adlr-ws22-06\\final_validations\\sac2_with_env_params\\gravity_-8.999275_wind_7.5_turbulence_1.0\\rl-video-episode-0.mp4\n",
      "gravity: -8.999275, wind_power: 7.5, turbulence_power: 1.0, reward: 296.7611642228969\n",
      "Moviepy - Building video d:\\Desktop\\reps\\TUM WS22\\tum-adlr-ws22-06\\final_validations\\sac2_with_env_params\\gravity_-8.999275_wind_10.0_turbulence_0.0\\rl-video-episode-0.mp4.\n",
      "Moviepy - Writing video d:\\Desktop\\reps\\TUM WS22\\tum-adlr-ws22-06\\final_validations\\sac2_with_env_params\\gravity_-8.999275_wind_10.0_turbulence_0.0\\rl-video-episode-0.mp4\n",
      "\n"
     ]
    },
    {
     "name": "stderr",
     "output_type": "stream",
     "text": [
      "c:\\Users\\volob\\.conda\\envs\\adlr\\lib\\site-packages\\gymnasium\\wrappers\\record_video.py:75: UserWarning:\n",
      "\n",
      "\u001b[33mWARN: Overwriting existing videos at d:\\Desktop\\reps\\TUM WS22\\tum-adlr-ws22-06\\final_validations\\sac2_with_env_params\\gravity_-8.999275_wind_10.0_turbulence_0.25 folder (try specifying a different `video_folder` for the `RecordVideo` wrapper if this is not desired)\u001b[0m\n",
      "\n"
     ]
    },
    {
     "name": "stdout",
     "output_type": "stream",
     "text": [
      "Moviepy - Done !\n",
      "Moviepy - video ready d:\\Desktop\\reps\\TUM WS22\\tum-adlr-ws22-06\\final_validations\\sac2_with_env_params\\gravity_-8.999275_wind_10.0_turbulence_0.0\\rl-video-episode-0.mp4\n",
      "gravity: -8.999275, wind_power: 10.0, turbulence_power: 0.0, reward: 292.1315545047925\n",
      "Moviepy - Building video d:\\Desktop\\reps\\TUM WS22\\tum-adlr-ws22-06\\final_validations\\sac2_with_env_params\\gravity_-8.999275_wind_10.0_turbulence_0.25\\rl-video-episode-0.mp4.\n",
      "Moviepy - Writing video d:\\Desktop\\reps\\TUM WS22\\tum-adlr-ws22-06\\final_validations\\sac2_with_env_params\\gravity_-8.999275_wind_10.0_turbulence_0.25\\rl-video-episode-0.mp4\n",
      "\n"
     ]
    },
    {
     "name": "stderr",
     "output_type": "stream",
     "text": [
      "c:\\Users\\volob\\.conda\\envs\\adlr\\lib\\site-packages\\gymnasium\\wrappers\\record_video.py:75: UserWarning:\n",
      "\n",
      "\u001b[33mWARN: Overwriting existing videos at d:\\Desktop\\reps\\TUM WS22\\tum-adlr-ws22-06\\final_validations\\sac2_with_env_params\\gravity_-8.999275_wind_10.0_turbulence_0.5 folder (try specifying a different `video_folder` for the `RecordVideo` wrapper if this is not desired)\u001b[0m\n",
      "\n"
     ]
    },
    {
     "name": "stdout",
     "output_type": "stream",
     "text": [
      "Moviepy - Done !\n",
      "Moviepy - video ready d:\\Desktop\\reps\\TUM WS22\\tum-adlr-ws22-06\\final_validations\\sac2_with_env_params\\gravity_-8.999275_wind_10.0_turbulence_0.25\\rl-video-episode-0.mp4\n",
      "gravity: -8.999275, wind_power: 10.0, turbulence_power: 0.25, reward: 305.8246733570219\n",
      "Moviepy - Building video d:\\Desktop\\reps\\TUM WS22\\tum-adlr-ws22-06\\final_validations\\sac2_with_env_params\\gravity_-8.999275_wind_10.0_turbulence_0.5\\rl-video-episode-0.mp4.\n",
      "Moviepy - Writing video d:\\Desktop\\reps\\TUM WS22\\tum-adlr-ws22-06\\final_validations\\sac2_with_env_params\\gravity_-8.999275_wind_10.0_turbulence_0.5\\rl-video-episode-0.mp4\n",
      "\n"
     ]
    },
    {
     "name": "stderr",
     "output_type": "stream",
     "text": [
      "c:\\Users\\volob\\.conda\\envs\\adlr\\lib\\site-packages\\gymnasium\\wrappers\\record_video.py:75: UserWarning:\n",
      "\n",
      "\u001b[33mWARN: Overwriting existing videos at d:\\Desktop\\reps\\TUM WS22\\tum-adlr-ws22-06\\final_validations\\sac2_with_env_params\\gravity_-8.999275_wind_10.0_turbulence_0.75 folder (try specifying a different `video_folder` for the `RecordVideo` wrapper if this is not desired)\u001b[0m\n",
      "\n"
     ]
    },
    {
     "name": "stdout",
     "output_type": "stream",
     "text": [
      "Moviepy - Done !\n",
      "Moviepy - video ready d:\\Desktop\\reps\\TUM WS22\\tum-adlr-ws22-06\\final_validations\\sac2_with_env_params\\gravity_-8.999275_wind_10.0_turbulence_0.5\\rl-video-episode-0.mp4\n",
      "gravity: -8.999275, wind_power: 10.0, turbulence_power: 0.5, reward: 294.7286466021619\n",
      "Moviepy - Building video d:\\Desktop\\reps\\TUM WS22\\tum-adlr-ws22-06\\final_validations\\sac2_with_env_params\\gravity_-8.999275_wind_10.0_turbulence_0.75\\rl-video-episode-0.mp4.\n",
      "Moviepy - Writing video d:\\Desktop\\reps\\TUM WS22\\tum-adlr-ws22-06\\final_validations\\sac2_with_env_params\\gravity_-8.999275_wind_10.0_turbulence_0.75\\rl-video-episode-0.mp4\n",
      "\n"
     ]
    },
    {
     "name": "stderr",
     "output_type": "stream",
     "text": [
      "c:\\Users\\volob\\.conda\\envs\\adlr\\lib\\site-packages\\gymnasium\\wrappers\\record_video.py:75: UserWarning:\n",
      "\n",
      "\u001b[33mWARN: Overwriting existing videos at d:\\Desktop\\reps\\TUM WS22\\tum-adlr-ws22-06\\final_validations\\sac2_with_env_params\\gravity_-8.999275_wind_10.0_turbulence_1.0 folder (try specifying a different `video_folder` for the `RecordVideo` wrapper if this is not desired)\u001b[0m\n",
      "\n"
     ]
    },
    {
     "name": "stdout",
     "output_type": "stream",
     "text": [
      "Moviepy - Done !\n",
      "Moviepy - video ready d:\\Desktop\\reps\\TUM WS22\\tum-adlr-ws22-06\\final_validations\\sac2_with_env_params\\gravity_-8.999275_wind_10.0_turbulence_0.75\\rl-video-episode-0.mp4\n",
      "gravity: -8.999275, wind_power: 10.0, turbulence_power: 0.75, reward: 294.0473535447527\n",
      "Moviepy - Building video d:\\Desktop\\reps\\TUM WS22\\tum-adlr-ws22-06\\final_validations\\sac2_with_env_params\\gravity_-8.999275_wind_10.0_turbulence_1.0\\rl-video-episode-0.mp4.\n",
      "Moviepy - Writing video d:\\Desktop\\reps\\TUM WS22\\tum-adlr-ws22-06\\final_validations\\sac2_with_env_params\\gravity_-8.999275_wind_10.0_turbulence_1.0\\rl-video-episode-0.mp4\n",
      "\n"
     ]
    },
    {
     "name": "stderr",
     "output_type": "stream",
     "text": [
      "c:\\Users\\volob\\.conda\\envs\\adlr\\lib\\site-packages\\gymnasium\\wrappers\\record_video.py:75: UserWarning:\n",
      "\n",
      "\u001b[33mWARN: Overwriting existing videos at d:\\Desktop\\reps\\TUM WS22\\tum-adlr-ws22-06\\final_validations\\sac2_with_env_params\\gravity_-5.99955_wind_0.0_turbulence_0.0 folder (try specifying a different `video_folder` for the `RecordVideo` wrapper if this is not desired)\u001b[0m\n",
      "\n"
     ]
    },
    {
     "name": "stdout",
     "output_type": "stream",
     "text": [
      "Moviepy - Done !\n",
      "Moviepy - video ready d:\\Desktop\\reps\\TUM WS22\\tum-adlr-ws22-06\\final_validations\\sac2_with_env_params\\gravity_-8.999275_wind_10.0_turbulence_1.0\\rl-video-episode-0.mp4\n",
      "gravity: -8.999275, wind_power: 10.0, turbulence_power: 1.0, reward: 309.3313644042676\n",
      "Moviepy - Building video d:\\Desktop\\reps\\TUM WS22\\tum-adlr-ws22-06\\final_validations\\sac2_with_env_params\\gravity_-5.99955_wind_0.0_turbulence_0.0\\rl-video-episode-0.mp4.\n",
      "Moviepy - Writing video d:\\Desktop\\reps\\TUM WS22\\tum-adlr-ws22-06\\final_validations\\sac2_with_env_params\\gravity_-5.99955_wind_0.0_turbulence_0.0\\rl-video-episode-0.mp4\n",
      "\n"
     ]
    },
    {
     "name": "stderr",
     "output_type": "stream",
     "text": [
      "c:\\Users\\volob\\.conda\\envs\\adlr\\lib\\site-packages\\gymnasium\\wrappers\\record_video.py:75: UserWarning:\n",
      "\n",
      "\u001b[33mWARN: Overwriting existing videos at d:\\Desktop\\reps\\TUM WS22\\tum-adlr-ws22-06\\final_validations\\sac2_with_env_params\\gravity_-5.99955_wind_0.0_turbulence_0.25 folder (try specifying a different `video_folder` for the `RecordVideo` wrapper if this is not desired)\u001b[0m\n",
      "\n"
     ]
    },
    {
     "name": "stdout",
     "output_type": "stream",
     "text": [
      "Moviepy - Done !\n",
      "Moviepy - video ready d:\\Desktop\\reps\\TUM WS22\\tum-adlr-ws22-06\\final_validations\\sac2_with_env_params\\gravity_-5.99955_wind_0.0_turbulence_0.0\\rl-video-episode-0.mp4\n",
      "gravity: -5.99955, wind_power: 0.0, turbulence_power: 0.0, reward: 283.6917334529623\n",
      "Moviepy - Building video d:\\Desktop\\reps\\TUM WS22\\tum-adlr-ws22-06\\final_validations\\sac2_with_env_params\\gravity_-5.99955_wind_0.0_turbulence_0.25\\rl-video-episode-0.mp4.\n",
      "Moviepy - Writing video d:\\Desktop\\reps\\TUM WS22\\tum-adlr-ws22-06\\final_validations\\sac2_with_env_params\\gravity_-5.99955_wind_0.0_turbulence_0.25\\rl-video-episode-0.mp4\n",
      "\n"
     ]
    },
    {
     "name": "stderr",
     "output_type": "stream",
     "text": [
      "c:\\Users\\volob\\.conda\\envs\\adlr\\lib\\site-packages\\gymnasium\\wrappers\\record_video.py:75: UserWarning:\n",
      "\n",
      "\u001b[33mWARN: Overwriting existing videos at d:\\Desktop\\reps\\TUM WS22\\tum-adlr-ws22-06\\final_validations\\sac2_with_env_params\\gravity_-5.99955_wind_0.0_turbulence_0.5 folder (try specifying a different `video_folder` for the `RecordVideo` wrapper if this is not desired)\u001b[0m\n",
      "\n"
     ]
    },
    {
     "name": "stdout",
     "output_type": "stream",
     "text": [
      "Moviepy - Done !\n",
      "Moviepy - video ready d:\\Desktop\\reps\\TUM WS22\\tum-adlr-ws22-06\\final_validations\\sac2_with_env_params\\gravity_-5.99955_wind_0.0_turbulence_0.25\\rl-video-episode-0.mp4\n",
      "gravity: -5.99955, wind_power: 0.0, turbulence_power: 0.25, reward: 296.04226715706193\n",
      "Moviepy - Building video d:\\Desktop\\reps\\TUM WS22\\tum-adlr-ws22-06\\final_validations\\sac2_with_env_params\\gravity_-5.99955_wind_0.0_turbulence_0.5\\rl-video-episode-0.mp4.\n",
      "Moviepy - Writing video d:\\Desktop\\reps\\TUM WS22\\tum-adlr-ws22-06\\final_validations\\sac2_with_env_params\\gravity_-5.99955_wind_0.0_turbulence_0.5\\rl-video-episode-0.mp4\n",
      "\n"
     ]
    },
    {
     "name": "stderr",
     "output_type": "stream",
     "text": [
      "c:\\Users\\volob\\.conda\\envs\\adlr\\lib\\site-packages\\gymnasium\\wrappers\\record_video.py:75: UserWarning:\n",
      "\n",
      "\u001b[33mWARN: Overwriting existing videos at d:\\Desktop\\reps\\TUM WS22\\tum-adlr-ws22-06\\final_validations\\sac2_with_env_params\\gravity_-5.99955_wind_0.0_turbulence_0.75 folder (try specifying a different `video_folder` for the `RecordVideo` wrapper if this is not desired)\u001b[0m\n",
      "\n"
     ]
    },
    {
     "name": "stdout",
     "output_type": "stream",
     "text": [
      "Moviepy - Done !\n",
      "Moviepy - video ready d:\\Desktop\\reps\\TUM WS22\\tum-adlr-ws22-06\\final_validations\\sac2_with_env_params\\gravity_-5.99955_wind_0.0_turbulence_0.5\\rl-video-episode-0.mp4\n",
      "gravity: -5.99955, wind_power: 0.0, turbulence_power: 0.5, reward: 290.19165132915987\n",
      "Moviepy - Building video d:\\Desktop\\reps\\TUM WS22\\tum-adlr-ws22-06\\final_validations\\sac2_with_env_params\\gravity_-5.99955_wind_0.0_turbulence_0.75\\rl-video-episode-0.mp4.\n",
      "Moviepy - Writing video d:\\Desktop\\reps\\TUM WS22\\tum-adlr-ws22-06\\final_validations\\sac2_with_env_params\\gravity_-5.99955_wind_0.0_turbulence_0.75\\rl-video-episode-0.mp4\n",
      "\n"
     ]
    },
    {
     "name": "stderr",
     "output_type": "stream",
     "text": [
      "c:\\Users\\volob\\.conda\\envs\\adlr\\lib\\site-packages\\gymnasium\\wrappers\\record_video.py:75: UserWarning:\n",
      "\n",
      "\u001b[33mWARN: Overwriting existing videos at d:\\Desktop\\reps\\TUM WS22\\tum-adlr-ws22-06\\final_validations\\sac2_with_env_params\\gravity_-5.99955_wind_0.0_turbulence_1.0 folder (try specifying a different `video_folder` for the `RecordVideo` wrapper if this is not desired)\u001b[0m\n",
      "\n"
     ]
    },
    {
     "name": "stdout",
     "output_type": "stream",
     "text": [
      "Moviepy - Done !\n",
      "Moviepy - video ready d:\\Desktop\\reps\\TUM WS22\\tum-adlr-ws22-06\\final_validations\\sac2_with_env_params\\gravity_-5.99955_wind_0.0_turbulence_0.75\\rl-video-episode-0.mp4\n",
      "gravity: -5.99955, wind_power: 0.0, turbulence_power: 0.75, reward: 293.5610187640475\n",
      "Moviepy - Building video d:\\Desktop\\reps\\TUM WS22\\tum-adlr-ws22-06\\final_validations\\sac2_with_env_params\\gravity_-5.99955_wind_0.0_turbulence_1.0\\rl-video-episode-0.mp4.\n",
      "Moviepy - Writing video d:\\Desktop\\reps\\TUM WS22\\tum-adlr-ws22-06\\final_validations\\sac2_with_env_params\\gravity_-5.99955_wind_0.0_turbulence_1.0\\rl-video-episode-0.mp4\n",
      "\n"
     ]
    },
    {
     "name": "stderr",
     "output_type": "stream",
     "text": [
      "c:\\Users\\volob\\.conda\\envs\\adlr\\lib\\site-packages\\gymnasium\\wrappers\\record_video.py:75: UserWarning:\n",
      "\n",
      "\u001b[33mWARN: Overwriting existing videos at d:\\Desktop\\reps\\TUM WS22\\tum-adlr-ws22-06\\final_validations\\sac2_with_env_params\\gravity_-5.99955_wind_2.5_turbulence_0.0 folder (try specifying a different `video_folder` for the `RecordVideo` wrapper if this is not desired)\u001b[0m\n",
      "\n"
     ]
    },
    {
     "name": "stdout",
     "output_type": "stream",
     "text": [
      "Moviepy - Done !\n",
      "Moviepy - video ready d:\\Desktop\\reps\\TUM WS22\\tum-adlr-ws22-06\\final_validations\\sac2_with_env_params\\gravity_-5.99955_wind_0.0_turbulence_1.0\\rl-video-episode-0.mp4\n",
      "gravity: -5.99955, wind_power: 0.0, turbulence_power: 1.0, reward: 290.17526450873254\n",
      "Moviepy - Building video d:\\Desktop\\reps\\TUM WS22\\tum-adlr-ws22-06\\final_validations\\sac2_with_env_params\\gravity_-5.99955_wind_2.5_turbulence_0.0\\rl-video-episode-0.mp4.\n",
      "Moviepy - Writing video d:\\Desktop\\reps\\TUM WS22\\tum-adlr-ws22-06\\final_validations\\sac2_with_env_params\\gravity_-5.99955_wind_2.5_turbulence_0.0\\rl-video-episode-0.mp4\n",
      "\n"
     ]
    },
    {
     "name": "stderr",
     "output_type": "stream",
     "text": [
      "c:\\Users\\volob\\.conda\\envs\\adlr\\lib\\site-packages\\gymnasium\\wrappers\\record_video.py:75: UserWarning:\n",
      "\n",
      "\u001b[33mWARN: Overwriting existing videos at d:\\Desktop\\reps\\TUM WS22\\tum-adlr-ws22-06\\final_validations\\sac2_with_env_params\\gravity_-5.99955_wind_2.5_turbulence_0.25 folder (try specifying a different `video_folder` for the `RecordVideo` wrapper if this is not desired)\u001b[0m\n",
      "\n"
     ]
    },
    {
     "name": "stdout",
     "output_type": "stream",
     "text": [
      "Moviepy - Done !\n",
      "Moviepy - video ready d:\\Desktop\\reps\\TUM WS22\\tum-adlr-ws22-06\\final_validations\\sac2_with_env_params\\gravity_-5.99955_wind_2.5_turbulence_0.0\\rl-video-episode-0.mp4\n",
      "gravity: -5.99955, wind_power: 2.5, turbulence_power: 0.0, reward: 284.8907719331934\n",
      "Moviepy - Building video d:\\Desktop\\reps\\TUM WS22\\tum-adlr-ws22-06\\final_validations\\sac2_with_env_params\\gravity_-5.99955_wind_2.5_turbulence_0.25\\rl-video-episode-0.mp4.\n",
      "Moviepy - Writing video d:\\Desktop\\reps\\TUM WS22\\tum-adlr-ws22-06\\final_validations\\sac2_with_env_params\\gravity_-5.99955_wind_2.5_turbulence_0.25\\rl-video-episode-0.mp4\n",
      "\n"
     ]
    },
    {
     "name": "stderr",
     "output_type": "stream",
     "text": [
      "c:\\Users\\volob\\.conda\\envs\\adlr\\lib\\site-packages\\gymnasium\\wrappers\\record_video.py:75: UserWarning:\n",
      "\n",
      "\u001b[33mWARN: Overwriting existing videos at d:\\Desktop\\reps\\TUM WS22\\tum-adlr-ws22-06\\final_validations\\sac2_with_env_params\\gravity_-5.99955_wind_2.5_turbulence_0.5 folder (try specifying a different `video_folder` for the `RecordVideo` wrapper if this is not desired)\u001b[0m\n",
      "\n"
     ]
    },
    {
     "name": "stdout",
     "output_type": "stream",
     "text": [
      "Moviepy - Done !\n",
      "Moviepy - video ready d:\\Desktop\\reps\\TUM WS22\\tum-adlr-ws22-06\\final_validations\\sac2_with_env_params\\gravity_-5.99955_wind_2.5_turbulence_0.25\\rl-video-episode-0.mp4\n",
      "gravity: -5.99955, wind_power: 2.5, turbulence_power: 0.25, reward: 292.4339203587639\n",
      "Moviepy - Building video d:\\Desktop\\reps\\TUM WS22\\tum-adlr-ws22-06\\final_validations\\sac2_with_env_params\\gravity_-5.99955_wind_2.5_turbulence_0.5\\rl-video-episode-0.mp4.\n",
      "Moviepy - Writing video d:\\Desktop\\reps\\TUM WS22\\tum-adlr-ws22-06\\final_validations\\sac2_with_env_params\\gravity_-5.99955_wind_2.5_turbulence_0.5\\rl-video-episode-0.mp4\n",
      "\n"
     ]
    },
    {
     "name": "stderr",
     "output_type": "stream",
     "text": [
      "c:\\Users\\volob\\.conda\\envs\\adlr\\lib\\site-packages\\gymnasium\\wrappers\\record_video.py:75: UserWarning:\n",
      "\n",
      "\u001b[33mWARN: Overwriting existing videos at d:\\Desktop\\reps\\TUM WS22\\tum-adlr-ws22-06\\final_validations\\sac2_with_env_params\\gravity_-5.99955_wind_2.5_turbulence_0.75 folder (try specifying a different `video_folder` for the `RecordVideo` wrapper if this is not desired)\u001b[0m\n",
      "\n"
     ]
    },
    {
     "name": "stdout",
     "output_type": "stream",
     "text": [
      "Moviepy - Done !\n",
      "Moviepy - video ready d:\\Desktop\\reps\\TUM WS22\\tum-adlr-ws22-06\\final_validations\\sac2_with_env_params\\gravity_-5.99955_wind_2.5_turbulence_0.5\\rl-video-episode-0.mp4\n",
      "gravity: -5.99955, wind_power: 2.5, turbulence_power: 0.5, reward: 298.1340129718218\n",
      "Moviepy - Building video d:\\Desktop\\reps\\TUM WS22\\tum-adlr-ws22-06\\final_validations\\sac2_with_env_params\\gravity_-5.99955_wind_2.5_turbulence_0.75\\rl-video-episode-0.mp4.\n",
      "Moviepy - Writing video d:\\Desktop\\reps\\TUM WS22\\tum-adlr-ws22-06\\final_validations\\sac2_with_env_params\\gravity_-5.99955_wind_2.5_turbulence_0.75\\rl-video-episode-0.mp4\n",
      "\n"
     ]
    },
    {
     "name": "stderr",
     "output_type": "stream",
     "text": [
      "c:\\Users\\volob\\.conda\\envs\\adlr\\lib\\site-packages\\gymnasium\\wrappers\\record_video.py:75: UserWarning:\n",
      "\n",
      "\u001b[33mWARN: Overwriting existing videos at d:\\Desktop\\reps\\TUM WS22\\tum-adlr-ws22-06\\final_validations\\sac2_with_env_params\\gravity_-5.99955_wind_2.5_turbulence_1.0 folder (try specifying a different `video_folder` for the `RecordVideo` wrapper if this is not desired)\u001b[0m\n",
      "\n"
     ]
    },
    {
     "name": "stdout",
     "output_type": "stream",
     "text": [
      "Moviepy - Done !\n",
      "Moviepy - video ready d:\\Desktop\\reps\\TUM WS22\\tum-adlr-ws22-06\\final_validations\\sac2_with_env_params\\gravity_-5.99955_wind_2.5_turbulence_0.75\\rl-video-episode-0.mp4\n",
      "gravity: -5.99955, wind_power: 2.5, turbulence_power: 0.75, reward: 302.4462049735844\n",
      "Moviepy - Building video d:\\Desktop\\reps\\TUM WS22\\tum-adlr-ws22-06\\final_validations\\sac2_with_env_params\\gravity_-5.99955_wind_2.5_turbulence_1.0\\rl-video-episode-0.mp4.\n",
      "Moviepy - Writing video d:\\Desktop\\reps\\TUM WS22\\tum-adlr-ws22-06\\final_validations\\sac2_with_env_params\\gravity_-5.99955_wind_2.5_turbulence_1.0\\rl-video-episode-0.mp4\n",
      "\n"
     ]
    },
    {
     "name": "stderr",
     "output_type": "stream",
     "text": [
      "c:\\Users\\volob\\.conda\\envs\\adlr\\lib\\site-packages\\gymnasium\\wrappers\\record_video.py:75: UserWarning:\n",
      "\n",
      "\u001b[33mWARN: Overwriting existing videos at d:\\Desktop\\reps\\TUM WS22\\tum-adlr-ws22-06\\final_validations\\sac2_with_env_params\\gravity_-5.99955_wind_5.0_turbulence_0.0 folder (try specifying a different `video_folder` for the `RecordVideo` wrapper if this is not desired)\u001b[0m\n",
      "\n"
     ]
    },
    {
     "name": "stdout",
     "output_type": "stream",
     "text": [
      "Moviepy - Done !\n",
      "Moviepy - video ready d:\\Desktop\\reps\\TUM WS22\\tum-adlr-ws22-06\\final_validations\\sac2_with_env_params\\gravity_-5.99955_wind_2.5_turbulence_1.0\\rl-video-episode-0.mp4\n",
      "gravity: -5.99955, wind_power: 2.5, turbulence_power: 1.0, reward: 295.41345395386895\n",
      "Moviepy - Building video d:\\Desktop\\reps\\TUM WS22\\tum-adlr-ws22-06\\final_validations\\sac2_with_env_params\\gravity_-5.99955_wind_5.0_turbulence_0.0\\rl-video-episode-0.mp4.\n",
      "Moviepy - Writing video d:\\Desktop\\reps\\TUM WS22\\tum-adlr-ws22-06\\final_validations\\sac2_with_env_params\\gravity_-5.99955_wind_5.0_turbulence_0.0\\rl-video-episode-0.mp4\n",
      "\n"
     ]
    },
    {
     "name": "stderr",
     "output_type": "stream",
     "text": [
      "c:\\Users\\volob\\.conda\\envs\\adlr\\lib\\site-packages\\gymnasium\\wrappers\\record_video.py:75: UserWarning:\n",
      "\n",
      "\u001b[33mWARN: Overwriting existing videos at d:\\Desktop\\reps\\TUM WS22\\tum-adlr-ws22-06\\final_validations\\sac2_with_env_params\\gravity_-5.99955_wind_5.0_turbulence_0.25 folder (try specifying a different `video_folder` for the `RecordVideo` wrapper if this is not desired)\u001b[0m\n",
      "\n"
     ]
    },
    {
     "name": "stdout",
     "output_type": "stream",
     "text": [
      "Moviepy - Done !\n",
      "Moviepy - video ready d:\\Desktop\\reps\\TUM WS22\\tum-adlr-ws22-06\\final_validations\\sac2_with_env_params\\gravity_-5.99955_wind_5.0_turbulence_0.0\\rl-video-episode-0.mp4\n",
      "gravity: -5.99955, wind_power: 5.0, turbulence_power: 0.0, reward: 287.2192032301402\n",
      "Moviepy - Building video d:\\Desktop\\reps\\TUM WS22\\tum-adlr-ws22-06\\final_validations\\sac2_with_env_params\\gravity_-5.99955_wind_5.0_turbulence_0.25\\rl-video-episode-0.mp4.\n",
      "Moviepy - Writing video d:\\Desktop\\reps\\TUM WS22\\tum-adlr-ws22-06\\final_validations\\sac2_with_env_params\\gravity_-5.99955_wind_5.0_turbulence_0.25\\rl-video-episode-0.mp4\n",
      "\n"
     ]
    },
    {
     "name": "stderr",
     "output_type": "stream",
     "text": [
      "c:\\Users\\volob\\.conda\\envs\\adlr\\lib\\site-packages\\gymnasium\\wrappers\\record_video.py:75: UserWarning:\n",
      "\n",
      "\u001b[33mWARN: Overwriting existing videos at d:\\Desktop\\reps\\TUM WS22\\tum-adlr-ws22-06\\final_validations\\sac2_with_env_params\\gravity_-5.99955_wind_5.0_turbulence_0.5 folder (try specifying a different `video_folder` for the `RecordVideo` wrapper if this is not desired)\u001b[0m\n",
      "\n"
     ]
    },
    {
     "name": "stdout",
     "output_type": "stream",
     "text": [
      "Moviepy - Done !\n",
      "Moviepy - video ready d:\\Desktop\\reps\\TUM WS22\\tum-adlr-ws22-06\\final_validations\\sac2_with_env_params\\gravity_-5.99955_wind_5.0_turbulence_0.25\\rl-video-episode-0.mp4\n",
      "gravity: -5.99955, wind_power: 5.0, turbulence_power: 0.25, reward: 288.22281412388054\n",
      "Moviepy - Building video d:\\Desktop\\reps\\TUM WS22\\tum-adlr-ws22-06\\final_validations\\sac2_with_env_params\\gravity_-5.99955_wind_5.0_turbulence_0.5\\rl-video-episode-0.mp4.\n",
      "Moviepy - Writing video d:\\Desktop\\reps\\TUM WS22\\tum-adlr-ws22-06\\final_validations\\sac2_with_env_params\\gravity_-5.99955_wind_5.0_turbulence_0.5\\rl-video-episode-0.mp4\n",
      "\n"
     ]
    },
    {
     "name": "stderr",
     "output_type": "stream",
     "text": [
      "c:\\Users\\volob\\.conda\\envs\\adlr\\lib\\site-packages\\gymnasium\\wrappers\\record_video.py:75: UserWarning:\n",
      "\n",
      "\u001b[33mWARN: Overwriting existing videos at d:\\Desktop\\reps\\TUM WS22\\tum-adlr-ws22-06\\final_validations\\sac2_with_env_params\\gravity_-5.99955_wind_5.0_turbulence_0.75 folder (try specifying a different `video_folder` for the `RecordVideo` wrapper if this is not desired)\u001b[0m\n",
      "\n"
     ]
    },
    {
     "name": "stdout",
     "output_type": "stream",
     "text": [
      "Moviepy - Done !\n",
      "Moviepy - video ready d:\\Desktop\\reps\\TUM WS22\\tum-adlr-ws22-06\\final_validations\\sac2_with_env_params\\gravity_-5.99955_wind_5.0_turbulence_0.5\\rl-video-episode-0.mp4\n",
      "gravity: -5.99955, wind_power: 5.0, turbulence_power: 0.5, reward: 299.2414847042835\n",
      "Moviepy - Building video d:\\Desktop\\reps\\TUM WS22\\tum-adlr-ws22-06\\final_validations\\sac2_with_env_params\\gravity_-5.99955_wind_5.0_turbulence_0.75\\rl-video-episode-0.mp4.\n",
      "Moviepy - Writing video d:\\Desktop\\reps\\TUM WS22\\tum-adlr-ws22-06\\final_validations\\sac2_with_env_params\\gravity_-5.99955_wind_5.0_turbulence_0.75\\rl-video-episode-0.mp4\n",
      "\n"
     ]
    },
    {
     "name": "stderr",
     "output_type": "stream",
     "text": [
      "c:\\Users\\volob\\.conda\\envs\\adlr\\lib\\site-packages\\gymnasium\\wrappers\\record_video.py:75: UserWarning:\n",
      "\n",
      "\u001b[33mWARN: Overwriting existing videos at d:\\Desktop\\reps\\TUM WS22\\tum-adlr-ws22-06\\final_validations\\sac2_with_env_params\\gravity_-5.99955_wind_5.0_turbulence_1.0 folder (try specifying a different `video_folder` for the `RecordVideo` wrapper if this is not desired)\u001b[0m\n",
      "\n"
     ]
    },
    {
     "name": "stdout",
     "output_type": "stream",
     "text": [
      "Moviepy - Done !\n",
      "Moviepy - video ready d:\\Desktop\\reps\\TUM WS22\\tum-adlr-ws22-06\\final_validations\\sac2_with_env_params\\gravity_-5.99955_wind_5.0_turbulence_0.75\\rl-video-episode-0.mp4\n",
      "gravity: -5.99955, wind_power: 5.0, turbulence_power: 0.75, reward: 302.99456267765277\n",
      "Moviepy - Building video d:\\Desktop\\reps\\TUM WS22\\tum-adlr-ws22-06\\final_validations\\sac2_with_env_params\\gravity_-5.99955_wind_5.0_turbulence_1.0\\rl-video-episode-0.mp4.\n",
      "Moviepy - Writing video d:\\Desktop\\reps\\TUM WS22\\tum-adlr-ws22-06\\final_validations\\sac2_with_env_params\\gravity_-5.99955_wind_5.0_turbulence_1.0\\rl-video-episode-0.mp4\n",
      "\n"
     ]
    },
    {
     "name": "stderr",
     "output_type": "stream",
     "text": [
      "c:\\Users\\volob\\.conda\\envs\\adlr\\lib\\site-packages\\gymnasium\\wrappers\\record_video.py:75: UserWarning:\n",
      "\n",
      "\u001b[33mWARN: Overwriting existing videos at d:\\Desktop\\reps\\TUM WS22\\tum-adlr-ws22-06\\final_validations\\sac2_with_env_params\\gravity_-5.99955_wind_7.5_turbulence_0.0 folder (try specifying a different `video_folder` for the `RecordVideo` wrapper if this is not desired)\u001b[0m\n",
      "\n"
     ]
    },
    {
     "name": "stdout",
     "output_type": "stream",
     "text": [
      "Moviepy - Done !\n",
      "Moviepy - video ready d:\\Desktop\\reps\\TUM WS22\\tum-adlr-ws22-06\\final_validations\\sac2_with_env_params\\gravity_-5.99955_wind_5.0_turbulence_1.0\\rl-video-episode-0.mp4\n",
      "gravity: -5.99955, wind_power: 5.0, turbulence_power: 1.0, reward: 305.1607095865089\n",
      "Moviepy - Building video d:\\Desktop\\reps\\TUM WS22\\tum-adlr-ws22-06\\final_validations\\sac2_with_env_params\\gravity_-5.99955_wind_7.5_turbulence_0.0\\rl-video-episode-0.mp4.\n",
      "Moviepy - Writing video d:\\Desktop\\reps\\TUM WS22\\tum-adlr-ws22-06\\final_validations\\sac2_with_env_params\\gravity_-5.99955_wind_7.5_turbulence_0.0\\rl-video-episode-0.mp4\n",
      "\n"
     ]
    },
    {
     "name": "stderr",
     "output_type": "stream",
     "text": [
      "c:\\Users\\volob\\.conda\\envs\\adlr\\lib\\site-packages\\gymnasium\\wrappers\\record_video.py:75: UserWarning:\n",
      "\n",
      "\u001b[33mWARN: Overwriting existing videos at d:\\Desktop\\reps\\TUM WS22\\tum-adlr-ws22-06\\final_validations\\sac2_with_env_params\\gravity_-5.99955_wind_7.5_turbulence_0.25 folder (try specifying a different `video_folder` for the `RecordVideo` wrapper if this is not desired)\u001b[0m\n",
      "\n"
     ]
    },
    {
     "name": "stdout",
     "output_type": "stream",
     "text": [
      "Moviepy - Done !\n",
      "Moviepy - video ready d:\\Desktop\\reps\\TUM WS22\\tum-adlr-ws22-06\\final_validations\\sac2_with_env_params\\gravity_-5.99955_wind_7.5_turbulence_0.0\\rl-video-episode-0.mp4\n",
      "gravity: -5.99955, wind_power: 7.5, turbulence_power: 0.0, reward: 284.8095663830742\n",
      "Moviepy - Building video d:\\Desktop\\reps\\TUM WS22\\tum-adlr-ws22-06\\final_validations\\sac2_with_env_params\\gravity_-5.99955_wind_7.5_turbulence_0.25\\rl-video-episode-0.mp4.\n",
      "Moviepy - Writing video d:\\Desktop\\reps\\TUM WS22\\tum-adlr-ws22-06\\final_validations\\sac2_with_env_params\\gravity_-5.99955_wind_7.5_turbulence_0.25\\rl-video-episode-0.mp4\n",
      "\n"
     ]
    },
    {
     "name": "stderr",
     "output_type": "stream",
     "text": [
      "c:\\Users\\volob\\.conda\\envs\\adlr\\lib\\site-packages\\gymnasium\\wrappers\\record_video.py:75: UserWarning:\n",
      "\n",
      "\u001b[33mWARN: Overwriting existing videos at d:\\Desktop\\reps\\TUM WS22\\tum-adlr-ws22-06\\final_validations\\sac2_with_env_params\\gravity_-5.99955_wind_7.5_turbulence_0.5 folder (try specifying a different `video_folder` for the `RecordVideo` wrapper if this is not desired)\u001b[0m\n",
      "\n"
     ]
    },
    {
     "name": "stdout",
     "output_type": "stream",
     "text": [
      "Moviepy - Done !\n",
      "Moviepy - video ready d:\\Desktop\\reps\\TUM WS22\\tum-adlr-ws22-06\\final_validations\\sac2_with_env_params\\gravity_-5.99955_wind_7.5_turbulence_0.25\\rl-video-episode-0.mp4\n",
      "gravity: -5.99955, wind_power: 7.5, turbulence_power: 0.25, reward: 311.4586603976803\n",
      "Moviepy - Building video d:\\Desktop\\reps\\TUM WS22\\tum-adlr-ws22-06\\final_validations\\sac2_with_env_params\\gravity_-5.99955_wind_7.5_turbulence_0.5\\rl-video-episode-0.mp4.\n",
      "Moviepy - Writing video d:\\Desktop\\reps\\TUM WS22\\tum-adlr-ws22-06\\final_validations\\sac2_with_env_params\\gravity_-5.99955_wind_7.5_turbulence_0.5\\rl-video-episode-0.mp4\n",
      "\n"
     ]
    },
    {
     "name": "stderr",
     "output_type": "stream",
     "text": [
      "c:\\Users\\volob\\.conda\\envs\\adlr\\lib\\site-packages\\gymnasium\\wrappers\\record_video.py:75: UserWarning:\n",
      "\n",
      "\u001b[33mWARN: Overwriting existing videos at d:\\Desktop\\reps\\TUM WS22\\tum-adlr-ws22-06\\final_validations\\sac2_with_env_params\\gravity_-5.99955_wind_7.5_turbulence_0.75 folder (try specifying a different `video_folder` for the `RecordVideo` wrapper if this is not desired)\u001b[0m\n",
      "\n"
     ]
    },
    {
     "name": "stdout",
     "output_type": "stream",
     "text": [
      "Moviepy - Done !\n",
      "Moviepy - video ready d:\\Desktop\\reps\\TUM WS22\\tum-adlr-ws22-06\\final_validations\\sac2_with_env_params\\gravity_-5.99955_wind_7.5_turbulence_0.5\\rl-video-episode-0.mp4\n",
      "gravity: -5.99955, wind_power: 7.5, turbulence_power: 0.5, reward: 310.69995891819246\n",
      "Moviepy - Building video d:\\Desktop\\reps\\TUM WS22\\tum-adlr-ws22-06\\final_validations\\sac2_with_env_params\\gravity_-5.99955_wind_7.5_turbulence_0.75\\rl-video-episode-0.mp4.\n",
      "Moviepy - Writing video d:\\Desktop\\reps\\TUM WS22\\tum-adlr-ws22-06\\final_validations\\sac2_with_env_params\\gravity_-5.99955_wind_7.5_turbulence_0.75\\rl-video-episode-0.mp4\n",
      "\n"
     ]
    },
    {
     "name": "stderr",
     "output_type": "stream",
     "text": [
      "c:\\Users\\volob\\.conda\\envs\\adlr\\lib\\site-packages\\gymnasium\\wrappers\\record_video.py:75: UserWarning:\n",
      "\n",
      "\u001b[33mWARN: Overwriting existing videos at d:\\Desktop\\reps\\TUM WS22\\tum-adlr-ws22-06\\final_validations\\sac2_with_env_params\\gravity_-5.99955_wind_7.5_turbulence_1.0 folder (try specifying a different `video_folder` for the `RecordVideo` wrapper if this is not desired)\u001b[0m\n",
      "\n"
     ]
    },
    {
     "name": "stdout",
     "output_type": "stream",
     "text": [
      "Moviepy - Done !\n",
      "Moviepy - video ready d:\\Desktop\\reps\\TUM WS22\\tum-adlr-ws22-06\\final_validations\\sac2_with_env_params\\gravity_-5.99955_wind_7.5_turbulence_0.75\\rl-video-episode-0.mp4\n",
      "gravity: -5.99955, wind_power: 7.5, turbulence_power: 0.75, reward: 311.015198657686\n",
      "Moviepy - Building video d:\\Desktop\\reps\\TUM WS22\\tum-adlr-ws22-06\\final_validations\\sac2_with_env_params\\gravity_-5.99955_wind_7.5_turbulence_1.0\\rl-video-episode-0.mp4.\n",
      "Moviepy - Writing video d:\\Desktop\\reps\\TUM WS22\\tum-adlr-ws22-06\\final_validations\\sac2_with_env_params\\gravity_-5.99955_wind_7.5_turbulence_1.0\\rl-video-episode-0.mp4\n",
      "\n"
     ]
    },
    {
     "name": "stderr",
     "output_type": "stream",
     "text": [
      "c:\\Users\\volob\\.conda\\envs\\adlr\\lib\\site-packages\\gymnasium\\wrappers\\record_video.py:75: UserWarning:\n",
      "\n",
      "\u001b[33mWARN: Overwriting existing videos at d:\\Desktop\\reps\\TUM WS22\\tum-adlr-ws22-06\\final_validations\\sac2_with_env_params\\gravity_-5.99955_wind_10.0_turbulence_0.0 folder (try specifying a different `video_folder` for the `RecordVideo` wrapper if this is not desired)\u001b[0m\n",
      "\n"
     ]
    },
    {
     "name": "stdout",
     "output_type": "stream",
     "text": [
      "Moviepy - Done !\n",
      "Moviepy - video ready d:\\Desktop\\reps\\TUM WS22\\tum-adlr-ws22-06\\final_validations\\sac2_with_env_params\\gravity_-5.99955_wind_7.5_turbulence_1.0\\rl-video-episode-0.mp4\n",
      "gravity: -5.99955, wind_power: 7.5, turbulence_power: 1.0, reward: 281.05234231432854\n",
      "Moviepy - Building video d:\\Desktop\\reps\\TUM WS22\\tum-adlr-ws22-06\\final_validations\\sac2_with_env_params\\gravity_-5.99955_wind_10.0_turbulence_0.0\\rl-video-episode-0.mp4.\n",
      "Moviepy - Writing video d:\\Desktop\\reps\\TUM WS22\\tum-adlr-ws22-06\\final_validations\\sac2_with_env_params\\gravity_-5.99955_wind_10.0_turbulence_0.0\\rl-video-episode-0.mp4\n",
      "\n"
     ]
    },
    {
     "name": "stderr",
     "output_type": "stream",
     "text": [
      "c:\\Users\\volob\\.conda\\envs\\adlr\\lib\\site-packages\\gymnasium\\wrappers\\record_video.py:75: UserWarning:\n",
      "\n",
      "\u001b[33mWARN: Overwriting existing videos at d:\\Desktop\\reps\\TUM WS22\\tum-adlr-ws22-06\\final_validations\\sac2_with_env_params\\gravity_-5.99955_wind_10.0_turbulence_0.25 folder (try specifying a different `video_folder` for the `RecordVideo` wrapper if this is not desired)\u001b[0m\n",
      "\n"
     ]
    },
    {
     "name": "stdout",
     "output_type": "stream",
     "text": [
      "Moviepy - Done !\n",
      "Moviepy - video ready d:\\Desktop\\reps\\TUM WS22\\tum-adlr-ws22-06\\final_validations\\sac2_with_env_params\\gravity_-5.99955_wind_10.0_turbulence_0.0\\rl-video-episode-0.mp4\n",
      "gravity: -5.99955, wind_power: 10.0, turbulence_power: 0.0, reward: 288.0628404614917\n",
      "Moviepy - Building video d:\\Desktop\\reps\\TUM WS22\\tum-adlr-ws22-06\\final_validations\\sac2_with_env_params\\gravity_-5.99955_wind_10.0_turbulence_0.25\\rl-video-episode-0.mp4.\n",
      "Moviepy - Writing video d:\\Desktop\\reps\\TUM WS22\\tum-adlr-ws22-06\\final_validations\\sac2_with_env_params\\gravity_-5.99955_wind_10.0_turbulence_0.25\\rl-video-episode-0.mp4\n",
      "\n"
     ]
    },
    {
     "name": "stderr",
     "output_type": "stream",
     "text": [
      "c:\\Users\\volob\\.conda\\envs\\adlr\\lib\\site-packages\\gymnasium\\wrappers\\record_video.py:75: UserWarning:\n",
      "\n",
      "\u001b[33mWARN: Overwriting existing videos at d:\\Desktop\\reps\\TUM WS22\\tum-adlr-ws22-06\\final_validations\\sac2_with_env_params\\gravity_-5.99955_wind_10.0_turbulence_0.5 folder (try specifying a different `video_folder` for the `RecordVideo` wrapper if this is not desired)\u001b[0m\n",
      "\n"
     ]
    },
    {
     "name": "stdout",
     "output_type": "stream",
     "text": [
      "Moviepy - Done !\n",
      "Moviepy - video ready d:\\Desktop\\reps\\TUM WS22\\tum-adlr-ws22-06\\final_validations\\sac2_with_env_params\\gravity_-5.99955_wind_10.0_turbulence_0.25\\rl-video-episode-0.mp4\n",
      "gravity: -5.99955, wind_power: 10.0, turbulence_power: 0.25, reward: 283.5076548602792\n",
      "Moviepy - Building video d:\\Desktop\\reps\\TUM WS22\\tum-adlr-ws22-06\\final_validations\\sac2_with_env_params\\gravity_-5.99955_wind_10.0_turbulence_0.5\\rl-video-episode-0.mp4.\n",
      "Moviepy - Writing video d:\\Desktop\\reps\\TUM WS22\\tum-adlr-ws22-06\\final_validations\\sac2_with_env_params\\gravity_-5.99955_wind_10.0_turbulence_0.5\\rl-video-episode-0.mp4\n",
      "\n"
     ]
    },
    {
     "name": "stderr",
     "output_type": "stream",
     "text": [
      "c:\\Users\\volob\\.conda\\envs\\adlr\\lib\\site-packages\\gymnasium\\wrappers\\record_video.py:75: UserWarning:\n",
      "\n",
      "\u001b[33mWARN: Overwriting existing videos at d:\\Desktop\\reps\\TUM WS22\\tum-adlr-ws22-06\\final_validations\\sac2_with_env_params\\gravity_-5.99955_wind_10.0_turbulence_0.75 folder (try specifying a different `video_folder` for the `RecordVideo` wrapper if this is not desired)\u001b[0m\n",
      "\n"
     ]
    },
    {
     "name": "stdout",
     "output_type": "stream",
     "text": [
      "Moviepy - Done !\n",
      "Moviepy - video ready d:\\Desktop\\reps\\TUM WS22\\tum-adlr-ws22-06\\final_validations\\sac2_with_env_params\\gravity_-5.99955_wind_10.0_turbulence_0.5\\rl-video-episode-0.mp4\n",
      "gravity: -5.99955, wind_power: 10.0, turbulence_power: 0.5, reward: 289.65358276214135\n",
      "Moviepy - Building video d:\\Desktop\\reps\\TUM WS22\\tum-adlr-ws22-06\\final_validations\\sac2_with_env_params\\gravity_-5.99955_wind_10.0_turbulence_0.75\\rl-video-episode-0.mp4.\n",
      "Moviepy - Writing video d:\\Desktop\\reps\\TUM WS22\\tum-adlr-ws22-06\\final_validations\\sac2_with_env_params\\gravity_-5.99955_wind_10.0_turbulence_0.75\\rl-video-episode-0.mp4\n",
      "\n"
     ]
    },
    {
     "name": "stderr",
     "output_type": "stream",
     "text": [
      "c:\\Users\\volob\\.conda\\envs\\adlr\\lib\\site-packages\\gymnasium\\wrappers\\record_video.py:75: UserWarning:\n",
      "\n",
      "\u001b[33mWARN: Overwriting existing videos at d:\\Desktop\\reps\\TUM WS22\\tum-adlr-ws22-06\\final_validations\\sac2_with_env_params\\gravity_-5.99955_wind_10.0_turbulence_1.0 folder (try specifying a different `video_folder` for the `RecordVideo` wrapper if this is not desired)\u001b[0m\n",
      "\n"
     ]
    },
    {
     "name": "stdout",
     "output_type": "stream",
     "text": [
      "Moviepy - Done !\n",
      "Moviepy - video ready d:\\Desktop\\reps\\TUM WS22\\tum-adlr-ws22-06\\final_validations\\sac2_with_env_params\\gravity_-5.99955_wind_10.0_turbulence_0.75\\rl-video-episode-0.mp4\n",
      "gravity: -5.99955, wind_power: 10.0, turbulence_power: 0.75, reward: 310.20888735112885\n",
      "Moviepy - Building video d:\\Desktop\\reps\\TUM WS22\\tum-adlr-ws22-06\\final_validations\\sac2_with_env_params\\gravity_-5.99955_wind_10.0_turbulence_1.0\\rl-video-episode-0.mp4.\n",
      "Moviepy - Writing video d:\\Desktop\\reps\\TUM WS22\\tum-adlr-ws22-06\\final_validations\\sac2_with_env_params\\gravity_-5.99955_wind_10.0_turbulence_1.0\\rl-video-episode-0.mp4\n",
      "\n"
     ]
    },
    {
     "name": "stderr",
     "output_type": "stream",
     "text": [
      "c:\\Users\\volob\\.conda\\envs\\adlr\\lib\\site-packages\\gymnasium\\wrappers\\record_video.py:75: UserWarning:\n",
      "\n",
      "\u001b[33mWARN: Overwriting existing videos at d:\\Desktop\\reps\\TUM WS22\\tum-adlr-ws22-06\\final_validations\\sac2_with_env_params\\gravity_-2.9998249999999995_wind_0.0_turbulence_0.0 folder (try specifying a different `video_folder` for the `RecordVideo` wrapper if this is not desired)\u001b[0m\n",
      "\n"
     ]
    },
    {
     "name": "stdout",
     "output_type": "stream",
     "text": [
      "Moviepy - Done !\n",
      "Moviepy - video ready d:\\Desktop\\reps\\TUM WS22\\tum-adlr-ws22-06\\final_validations\\sac2_with_env_params\\gravity_-5.99955_wind_10.0_turbulence_1.0\\rl-video-episode-0.mp4\n",
      "gravity: -5.99955, wind_power: 10.0, turbulence_power: 1.0, reward: 304.0525162829547\n",
      "Moviepy - Building video d:\\Desktop\\reps\\TUM WS22\\tum-adlr-ws22-06\\final_validations\\sac2_with_env_params\\gravity_-2.9998249999999995_wind_0.0_turbulence_0.0\\rl-video-episode-0.mp4.\n",
      "Moviepy - Writing video d:\\Desktop\\reps\\TUM WS22\\tum-adlr-ws22-06\\final_validations\\sac2_with_env_params\\gravity_-2.9998249999999995_wind_0.0_turbulence_0.0\\rl-video-episode-0.mp4\n",
      "\n"
     ]
    },
    {
     "name": "stderr",
     "output_type": "stream",
     "text": [
      "c:\\Users\\volob\\.conda\\envs\\adlr\\lib\\site-packages\\gymnasium\\wrappers\\record_video.py:75: UserWarning:\n",
      "\n",
      "\u001b[33mWARN: Overwriting existing videos at d:\\Desktop\\reps\\TUM WS22\\tum-adlr-ws22-06\\final_validations\\sac2_with_env_params\\gravity_-2.9998249999999995_wind_0.0_turbulence_0.25 folder (try specifying a different `video_folder` for the `RecordVideo` wrapper if this is not desired)\u001b[0m\n",
      "\n"
     ]
    },
    {
     "name": "stdout",
     "output_type": "stream",
     "text": [
      "Moviepy - Done !\n",
      "Moviepy - video ready d:\\Desktop\\reps\\TUM WS22\\tum-adlr-ws22-06\\final_validations\\sac2_with_env_params\\gravity_-2.9998249999999995_wind_0.0_turbulence_0.0\\rl-video-episode-0.mp4\n",
      "gravity: -2.9998249999999995, wind_power: 0.0, turbulence_power: 0.0, reward: 291.1567183083002\n",
      "Moviepy - Building video d:\\Desktop\\reps\\TUM WS22\\tum-adlr-ws22-06\\final_validations\\sac2_with_env_params\\gravity_-2.9998249999999995_wind_0.0_turbulence_0.25\\rl-video-episode-0.mp4.\n",
      "Moviepy - Writing video d:\\Desktop\\reps\\TUM WS22\\tum-adlr-ws22-06\\final_validations\\sac2_with_env_params\\gravity_-2.9998249999999995_wind_0.0_turbulence_0.25\\rl-video-episode-0.mp4\n",
      "\n"
     ]
    },
    {
     "name": "stderr",
     "output_type": "stream",
     "text": [
      "c:\\Users\\volob\\.conda\\envs\\adlr\\lib\\site-packages\\gymnasium\\wrappers\\record_video.py:75: UserWarning:\n",
      "\n",
      "\u001b[33mWARN: Overwriting existing videos at d:\\Desktop\\reps\\TUM WS22\\tum-adlr-ws22-06\\final_validations\\sac2_with_env_params\\gravity_-2.9998249999999995_wind_0.0_turbulence_0.5 folder (try specifying a different `video_folder` for the `RecordVideo` wrapper if this is not desired)\u001b[0m\n",
      "\n"
     ]
    },
    {
     "name": "stdout",
     "output_type": "stream",
     "text": [
      "Moviepy - Done !\n",
      "Moviepy - video ready d:\\Desktop\\reps\\TUM WS22\\tum-adlr-ws22-06\\final_validations\\sac2_with_env_params\\gravity_-2.9998249999999995_wind_0.0_turbulence_0.25\\rl-video-episode-0.mp4\n",
      "gravity: -2.9998249999999995, wind_power: 0.0, turbulence_power: 0.25, reward: 298.8869929148734\n",
      "Moviepy - Building video d:\\Desktop\\reps\\TUM WS22\\tum-adlr-ws22-06\\final_validations\\sac2_with_env_params\\gravity_-2.9998249999999995_wind_0.0_turbulence_0.5\\rl-video-episode-0.mp4.\n",
      "Moviepy - Writing video d:\\Desktop\\reps\\TUM WS22\\tum-adlr-ws22-06\\final_validations\\sac2_with_env_params\\gravity_-2.9998249999999995_wind_0.0_turbulence_0.5\\rl-video-episode-0.mp4\n",
      "\n"
     ]
    },
    {
     "name": "stderr",
     "output_type": "stream",
     "text": [
      "c:\\Users\\volob\\.conda\\envs\\adlr\\lib\\site-packages\\gymnasium\\wrappers\\record_video.py:75: UserWarning:\n",
      "\n",
      "\u001b[33mWARN: Overwriting existing videos at d:\\Desktop\\reps\\TUM WS22\\tum-adlr-ws22-06\\final_validations\\sac2_with_env_params\\gravity_-2.9998249999999995_wind_0.0_turbulence_0.75 folder (try specifying a different `video_folder` for the `RecordVideo` wrapper if this is not desired)\u001b[0m\n",
      "\n"
     ]
    },
    {
     "name": "stdout",
     "output_type": "stream",
     "text": [
      "Moviepy - Done !\n",
      "Moviepy - video ready d:\\Desktop\\reps\\TUM WS22\\tum-adlr-ws22-06\\final_validations\\sac2_with_env_params\\gravity_-2.9998249999999995_wind_0.0_turbulence_0.5\\rl-video-episode-0.mp4\n",
      "gravity: -2.9998249999999995, wind_power: 0.0, turbulence_power: 0.5, reward: 318.3864466533662\n",
      "Moviepy - Building video d:\\Desktop\\reps\\TUM WS22\\tum-adlr-ws22-06\\final_validations\\sac2_with_env_params\\gravity_-2.9998249999999995_wind_0.0_turbulence_0.75\\rl-video-episode-0.mp4.\n",
      "Moviepy - Writing video d:\\Desktop\\reps\\TUM WS22\\tum-adlr-ws22-06\\final_validations\\sac2_with_env_params\\gravity_-2.9998249999999995_wind_0.0_turbulence_0.75\\rl-video-episode-0.mp4\n",
      "\n"
     ]
    },
    {
     "name": "stderr",
     "output_type": "stream",
     "text": [
      "c:\\Users\\volob\\.conda\\envs\\adlr\\lib\\site-packages\\gymnasium\\wrappers\\record_video.py:75: UserWarning:\n",
      "\n",
      "\u001b[33mWARN: Overwriting existing videos at d:\\Desktop\\reps\\TUM WS22\\tum-adlr-ws22-06\\final_validations\\sac2_with_env_params\\gravity_-2.9998249999999995_wind_0.0_turbulence_1.0 folder (try specifying a different `video_folder` for the `RecordVideo` wrapper if this is not desired)\u001b[0m\n",
      "\n"
     ]
    },
    {
     "name": "stdout",
     "output_type": "stream",
     "text": [
      "Moviepy - Done !\n",
      "Moviepy - video ready d:\\Desktop\\reps\\TUM WS22\\tum-adlr-ws22-06\\final_validations\\sac2_with_env_params\\gravity_-2.9998249999999995_wind_0.0_turbulence_0.75\\rl-video-episode-0.mp4\n",
      "gravity: -2.9998249999999995, wind_power: 0.0, turbulence_power: 0.75, reward: 284.9320423254102\n",
      "Moviepy - Building video d:\\Desktop\\reps\\TUM WS22\\tum-adlr-ws22-06\\final_validations\\sac2_with_env_params\\gravity_-2.9998249999999995_wind_0.0_turbulence_1.0\\rl-video-episode-0.mp4.\n",
      "Moviepy - Writing video d:\\Desktop\\reps\\TUM WS22\\tum-adlr-ws22-06\\final_validations\\sac2_with_env_params\\gravity_-2.9998249999999995_wind_0.0_turbulence_1.0\\rl-video-episode-0.mp4\n",
      "\n"
     ]
    },
    {
     "name": "stderr",
     "output_type": "stream",
     "text": [
      "c:\\Users\\volob\\.conda\\envs\\adlr\\lib\\site-packages\\gymnasium\\wrappers\\record_video.py:75: UserWarning:\n",
      "\n",
      "\u001b[33mWARN: Overwriting existing videos at d:\\Desktop\\reps\\TUM WS22\\tum-adlr-ws22-06\\final_validations\\sac2_with_env_params\\gravity_-2.9998249999999995_wind_2.5_turbulence_0.0 folder (try specifying a different `video_folder` for the `RecordVideo` wrapper if this is not desired)\u001b[0m\n",
      "\n"
     ]
    },
    {
     "name": "stdout",
     "output_type": "stream",
     "text": [
      "Moviepy - Done !\n",
      "Moviepy - video ready d:\\Desktop\\reps\\TUM WS22\\tum-adlr-ws22-06\\final_validations\\sac2_with_env_params\\gravity_-2.9998249999999995_wind_0.0_turbulence_1.0\\rl-video-episode-0.mp4\n",
      "gravity: -2.9998249999999995, wind_power: 0.0, turbulence_power: 1.0, reward: 284.9338085769268\n",
      "Moviepy - Building video d:\\Desktop\\reps\\TUM WS22\\tum-adlr-ws22-06\\final_validations\\sac2_with_env_params\\gravity_-2.9998249999999995_wind_2.5_turbulence_0.0\\rl-video-episode-0.mp4.\n",
      "Moviepy - Writing video d:\\Desktop\\reps\\TUM WS22\\tum-adlr-ws22-06\\final_validations\\sac2_with_env_params\\gravity_-2.9998249999999995_wind_2.5_turbulence_0.0\\rl-video-episode-0.mp4\n",
      "\n"
     ]
    },
    {
     "name": "stderr",
     "output_type": "stream",
     "text": [
      "c:\\Users\\volob\\.conda\\envs\\adlr\\lib\\site-packages\\gymnasium\\wrappers\\record_video.py:75: UserWarning:\n",
      "\n",
      "\u001b[33mWARN: Overwriting existing videos at d:\\Desktop\\reps\\TUM WS22\\tum-adlr-ws22-06\\final_validations\\sac2_with_env_params\\gravity_-2.9998249999999995_wind_2.5_turbulence_0.25 folder (try specifying a different `video_folder` for the `RecordVideo` wrapper if this is not desired)\u001b[0m\n",
      "\n"
     ]
    },
    {
     "name": "stdout",
     "output_type": "stream",
     "text": [
      "Moviepy - Done !\n",
      "Moviepy - video ready d:\\Desktop\\reps\\TUM WS22\\tum-adlr-ws22-06\\final_validations\\sac2_with_env_params\\gravity_-2.9998249999999995_wind_2.5_turbulence_0.0\\rl-video-episode-0.mp4\n",
      "gravity: -2.9998249999999995, wind_power: 2.5, turbulence_power: 0.0, reward: 303.19820477874407\n",
      "Moviepy - Building video d:\\Desktop\\reps\\TUM WS22\\tum-adlr-ws22-06\\final_validations\\sac2_with_env_params\\gravity_-2.9998249999999995_wind_2.5_turbulence_0.25\\rl-video-episode-0.mp4.\n",
      "Moviepy - Writing video d:\\Desktop\\reps\\TUM WS22\\tum-adlr-ws22-06\\final_validations\\sac2_with_env_params\\gravity_-2.9998249999999995_wind_2.5_turbulence_0.25\\rl-video-episode-0.mp4\n",
      "\n"
     ]
    },
    {
     "name": "stderr",
     "output_type": "stream",
     "text": [
      "c:\\Users\\volob\\.conda\\envs\\adlr\\lib\\site-packages\\gymnasium\\wrappers\\record_video.py:75: UserWarning:\n",
      "\n",
      "\u001b[33mWARN: Overwriting existing videos at d:\\Desktop\\reps\\TUM WS22\\tum-adlr-ws22-06\\final_validations\\sac2_with_env_params\\gravity_-2.9998249999999995_wind_2.5_turbulence_0.5 folder (try specifying a different `video_folder` for the `RecordVideo` wrapper if this is not desired)\u001b[0m\n",
      "\n"
     ]
    },
    {
     "name": "stdout",
     "output_type": "stream",
     "text": [
      "Moviepy - Done !\n",
      "Moviepy - video ready d:\\Desktop\\reps\\TUM WS22\\tum-adlr-ws22-06\\final_validations\\sac2_with_env_params\\gravity_-2.9998249999999995_wind_2.5_turbulence_0.25\\rl-video-episode-0.mp4\n",
      "gravity: -2.9998249999999995, wind_power: 2.5, turbulence_power: 0.25, reward: 298.819858711337\n",
      "Moviepy - Building video d:\\Desktop\\reps\\TUM WS22\\tum-adlr-ws22-06\\final_validations\\sac2_with_env_params\\gravity_-2.9998249999999995_wind_2.5_turbulence_0.5\\rl-video-episode-0.mp4.\n",
      "Moviepy - Writing video d:\\Desktop\\reps\\TUM WS22\\tum-adlr-ws22-06\\final_validations\\sac2_with_env_params\\gravity_-2.9998249999999995_wind_2.5_turbulence_0.5\\rl-video-episode-0.mp4\n",
      "\n"
     ]
    },
    {
     "name": "stderr",
     "output_type": "stream",
     "text": [
      "c:\\Users\\volob\\.conda\\envs\\adlr\\lib\\site-packages\\gymnasium\\wrappers\\record_video.py:75: UserWarning:\n",
      "\n",
      "\u001b[33mWARN: Overwriting existing videos at d:\\Desktop\\reps\\TUM WS22\\tum-adlr-ws22-06\\final_validations\\sac2_with_env_params\\gravity_-2.9998249999999995_wind_2.5_turbulence_0.75 folder (try specifying a different `video_folder` for the `RecordVideo` wrapper if this is not desired)\u001b[0m\n",
      "\n"
     ]
    },
    {
     "name": "stdout",
     "output_type": "stream",
     "text": [
      "Moviepy - Done !\n",
      "Moviepy - video ready d:\\Desktop\\reps\\TUM WS22\\tum-adlr-ws22-06\\final_validations\\sac2_with_env_params\\gravity_-2.9998249999999995_wind_2.5_turbulence_0.5\\rl-video-episode-0.mp4\n",
      "gravity: -2.9998249999999995, wind_power: 2.5, turbulence_power: 0.5, reward: 275.2606378581607\n",
      "Moviepy - Building video d:\\Desktop\\reps\\TUM WS22\\tum-adlr-ws22-06\\final_validations\\sac2_with_env_params\\gravity_-2.9998249999999995_wind_2.5_turbulence_0.75\\rl-video-episode-0.mp4.\n",
      "Moviepy - Writing video d:\\Desktop\\reps\\TUM WS22\\tum-adlr-ws22-06\\final_validations\\sac2_with_env_params\\gravity_-2.9998249999999995_wind_2.5_turbulence_0.75\\rl-video-episode-0.mp4\n",
      "\n"
     ]
    },
    {
     "name": "stderr",
     "output_type": "stream",
     "text": [
      "c:\\Users\\volob\\.conda\\envs\\adlr\\lib\\site-packages\\gymnasium\\wrappers\\record_video.py:75: UserWarning:\n",
      "\n",
      "\u001b[33mWARN: Overwriting existing videos at d:\\Desktop\\reps\\TUM WS22\\tum-adlr-ws22-06\\final_validations\\sac2_with_env_params\\gravity_-2.9998249999999995_wind_2.5_turbulence_1.0 folder (try specifying a different `video_folder` for the `RecordVideo` wrapper if this is not desired)\u001b[0m\n",
      "\n"
     ]
    },
    {
     "name": "stdout",
     "output_type": "stream",
     "text": [
      "Moviepy - Done !\n",
      "Moviepy - video ready d:\\Desktop\\reps\\TUM WS22\\tum-adlr-ws22-06\\final_validations\\sac2_with_env_params\\gravity_-2.9998249999999995_wind_2.5_turbulence_0.75\\rl-video-episode-0.mp4\n",
      "gravity: -2.9998249999999995, wind_power: 2.5, turbulence_power: 0.75, reward: 291.28878035770333\n",
      "Moviepy - Building video d:\\Desktop\\reps\\TUM WS22\\tum-adlr-ws22-06\\final_validations\\sac2_with_env_params\\gravity_-2.9998249999999995_wind_2.5_turbulence_1.0\\rl-video-episode-0.mp4.\n",
      "Moviepy - Writing video d:\\Desktop\\reps\\TUM WS22\\tum-adlr-ws22-06\\final_validations\\sac2_with_env_params\\gravity_-2.9998249999999995_wind_2.5_turbulence_1.0\\rl-video-episode-0.mp4\n",
      "\n"
     ]
    },
    {
     "name": "stderr",
     "output_type": "stream",
     "text": [
      "c:\\Users\\volob\\.conda\\envs\\adlr\\lib\\site-packages\\gymnasium\\wrappers\\record_video.py:75: UserWarning:\n",
      "\n",
      "\u001b[33mWARN: Overwriting existing videos at d:\\Desktop\\reps\\TUM WS22\\tum-adlr-ws22-06\\final_validations\\sac2_with_env_params\\gravity_-2.9998249999999995_wind_5.0_turbulence_0.0 folder (try specifying a different `video_folder` for the `RecordVideo` wrapper if this is not desired)\u001b[0m\n",
      "\n"
     ]
    },
    {
     "name": "stdout",
     "output_type": "stream",
     "text": [
      "Moviepy - Done !\n",
      "Moviepy - video ready d:\\Desktop\\reps\\TUM WS22\\tum-adlr-ws22-06\\final_validations\\sac2_with_env_params\\gravity_-2.9998249999999995_wind_2.5_turbulence_1.0\\rl-video-episode-0.mp4\n",
      "gravity: -2.9998249999999995, wind_power: 2.5, turbulence_power: 1.0, reward: 296.4958325993045\n",
      "Moviepy - Building video d:\\Desktop\\reps\\TUM WS22\\tum-adlr-ws22-06\\final_validations\\sac2_with_env_params\\gravity_-2.9998249999999995_wind_5.0_turbulence_0.0\\rl-video-episode-0.mp4.\n",
      "Moviepy - Writing video d:\\Desktop\\reps\\TUM WS22\\tum-adlr-ws22-06\\final_validations\\sac2_with_env_params\\gravity_-2.9998249999999995_wind_5.0_turbulence_0.0\\rl-video-episode-0.mp4\n",
      "\n"
     ]
    },
    {
     "name": "stderr",
     "output_type": "stream",
     "text": [
      "c:\\Users\\volob\\.conda\\envs\\adlr\\lib\\site-packages\\gymnasium\\wrappers\\record_video.py:75: UserWarning:\n",
      "\n",
      "\u001b[33mWARN: Overwriting existing videos at d:\\Desktop\\reps\\TUM WS22\\tum-adlr-ws22-06\\final_validations\\sac2_with_env_params\\gravity_-2.9998249999999995_wind_5.0_turbulence_0.25 folder (try specifying a different `video_folder` for the `RecordVideo` wrapper if this is not desired)\u001b[0m\n",
      "\n"
     ]
    },
    {
     "name": "stdout",
     "output_type": "stream",
     "text": [
      "Moviepy - Done !\n",
      "Moviepy - video ready d:\\Desktop\\reps\\TUM WS22\\tum-adlr-ws22-06\\final_validations\\sac2_with_env_params\\gravity_-2.9998249999999995_wind_5.0_turbulence_0.0\\rl-video-episode-0.mp4\n",
      "gravity: -2.9998249999999995, wind_power: 5.0, turbulence_power: 0.0, reward: 312.22436715453705\n",
      "Moviepy - Building video d:\\Desktop\\reps\\TUM WS22\\tum-adlr-ws22-06\\final_validations\\sac2_with_env_params\\gravity_-2.9998249999999995_wind_5.0_turbulence_0.25\\rl-video-episode-0.mp4.\n",
      "Moviepy - Writing video d:\\Desktop\\reps\\TUM WS22\\tum-adlr-ws22-06\\final_validations\\sac2_with_env_params\\gravity_-2.9998249999999995_wind_5.0_turbulence_0.25\\rl-video-episode-0.mp4\n",
      "\n"
     ]
    },
    {
     "name": "stderr",
     "output_type": "stream",
     "text": [
      "c:\\Users\\volob\\.conda\\envs\\adlr\\lib\\site-packages\\gymnasium\\wrappers\\record_video.py:75: UserWarning:\n",
      "\n",
      "\u001b[33mWARN: Overwriting existing videos at d:\\Desktop\\reps\\TUM WS22\\tum-adlr-ws22-06\\final_validations\\sac2_with_env_params\\gravity_-2.9998249999999995_wind_5.0_turbulence_0.5 folder (try specifying a different `video_folder` for the `RecordVideo` wrapper if this is not desired)\u001b[0m\n",
      "\n"
     ]
    },
    {
     "name": "stdout",
     "output_type": "stream",
     "text": [
      "Moviepy - Done !\n",
      "Moviepy - video ready d:\\Desktop\\reps\\TUM WS22\\tum-adlr-ws22-06\\final_validations\\sac2_with_env_params\\gravity_-2.9998249999999995_wind_5.0_turbulence_0.25\\rl-video-episode-0.mp4\n",
      "gravity: -2.9998249999999995, wind_power: 5.0, turbulence_power: 0.25, reward: 311.6115439233875\n",
      "Moviepy - Building video d:\\Desktop\\reps\\TUM WS22\\tum-adlr-ws22-06\\final_validations\\sac2_with_env_params\\gravity_-2.9998249999999995_wind_5.0_turbulence_0.5\\rl-video-episode-0.mp4.\n",
      "Moviepy - Writing video d:\\Desktop\\reps\\TUM WS22\\tum-adlr-ws22-06\\final_validations\\sac2_with_env_params\\gravity_-2.9998249999999995_wind_5.0_turbulence_0.5\\rl-video-episode-0.mp4\n",
      "\n"
     ]
    },
    {
     "name": "stderr",
     "output_type": "stream",
     "text": [
      "c:\\Users\\volob\\.conda\\envs\\adlr\\lib\\site-packages\\gymnasium\\wrappers\\record_video.py:75: UserWarning:\n",
      "\n",
      "\u001b[33mWARN: Overwriting existing videos at d:\\Desktop\\reps\\TUM WS22\\tum-adlr-ws22-06\\final_validations\\sac2_with_env_params\\gravity_-2.9998249999999995_wind_5.0_turbulence_0.75 folder (try specifying a different `video_folder` for the `RecordVideo` wrapper if this is not desired)\u001b[0m\n",
      "\n"
     ]
    },
    {
     "name": "stdout",
     "output_type": "stream",
     "text": [
      "Moviepy - Done !\n",
      "Moviepy - video ready d:\\Desktop\\reps\\TUM WS22\\tum-adlr-ws22-06\\final_validations\\sac2_with_env_params\\gravity_-2.9998249999999995_wind_5.0_turbulence_0.5\\rl-video-episode-0.mp4\n",
      "gravity: -2.9998249999999995, wind_power: 5.0, turbulence_power: 0.5, reward: 315.7366362082512\n",
      "Moviepy - Building video d:\\Desktop\\reps\\TUM WS22\\tum-adlr-ws22-06\\final_validations\\sac2_with_env_params\\gravity_-2.9998249999999995_wind_5.0_turbulence_0.75\\rl-video-episode-0.mp4.\n",
      "Moviepy - Writing video d:\\Desktop\\reps\\TUM WS22\\tum-adlr-ws22-06\\final_validations\\sac2_with_env_params\\gravity_-2.9998249999999995_wind_5.0_turbulence_0.75\\rl-video-episode-0.mp4\n",
      "\n"
     ]
    },
    {
     "name": "stderr",
     "output_type": "stream",
     "text": [
      "c:\\Users\\volob\\.conda\\envs\\adlr\\lib\\site-packages\\gymnasium\\wrappers\\record_video.py:75: UserWarning:\n",
      "\n",
      "\u001b[33mWARN: Overwriting existing videos at d:\\Desktop\\reps\\TUM WS22\\tum-adlr-ws22-06\\final_validations\\sac2_with_env_params\\gravity_-2.9998249999999995_wind_5.0_turbulence_1.0 folder (try specifying a different `video_folder` for the `RecordVideo` wrapper if this is not desired)\u001b[0m\n",
      "\n"
     ]
    },
    {
     "name": "stdout",
     "output_type": "stream",
     "text": [
      "Moviepy - Done !\n",
      "Moviepy - video ready d:\\Desktop\\reps\\TUM WS22\\tum-adlr-ws22-06\\final_validations\\sac2_with_env_params\\gravity_-2.9998249999999995_wind_5.0_turbulence_0.75\\rl-video-episode-0.mp4\n",
      "gravity: -2.9998249999999995, wind_power: 5.0, turbulence_power: 0.75, reward: 306.5263510864902\n",
      "Moviepy - Building video d:\\Desktop\\reps\\TUM WS22\\tum-adlr-ws22-06\\final_validations\\sac2_with_env_params\\gravity_-2.9998249999999995_wind_5.0_turbulence_1.0\\rl-video-episode-0.mp4.\n",
      "Moviepy - Writing video d:\\Desktop\\reps\\TUM WS22\\tum-adlr-ws22-06\\final_validations\\sac2_with_env_params\\gravity_-2.9998249999999995_wind_5.0_turbulence_1.0\\rl-video-episode-0.mp4\n",
      "\n"
     ]
    },
    {
     "name": "stderr",
     "output_type": "stream",
     "text": [
      "c:\\Users\\volob\\.conda\\envs\\adlr\\lib\\site-packages\\gymnasium\\wrappers\\record_video.py:75: UserWarning:\n",
      "\n",
      "\u001b[33mWARN: Overwriting existing videos at d:\\Desktop\\reps\\TUM WS22\\tum-adlr-ws22-06\\final_validations\\sac2_with_env_params\\gravity_-2.9998249999999995_wind_7.5_turbulence_0.0 folder (try specifying a different `video_folder` for the `RecordVideo` wrapper if this is not desired)\u001b[0m\n",
      "\n"
     ]
    },
    {
     "name": "stdout",
     "output_type": "stream",
     "text": [
      "Moviepy - Done !\n",
      "Moviepy - video ready d:\\Desktop\\reps\\TUM WS22\\tum-adlr-ws22-06\\final_validations\\sac2_with_env_params\\gravity_-2.9998249999999995_wind_5.0_turbulence_1.0\\rl-video-episode-0.mp4\n",
      "gravity: -2.9998249999999995, wind_power: 5.0, turbulence_power: 1.0, reward: 301.15605571443785\n",
      "Moviepy - Building video d:\\Desktop\\reps\\TUM WS22\\tum-adlr-ws22-06\\final_validations\\sac2_with_env_params\\gravity_-2.9998249999999995_wind_7.5_turbulence_0.0\\rl-video-episode-0.mp4.\n",
      "Moviepy - Writing video d:\\Desktop\\reps\\TUM WS22\\tum-adlr-ws22-06\\final_validations\\sac2_with_env_params\\gravity_-2.9998249999999995_wind_7.5_turbulence_0.0\\rl-video-episode-0.mp4\n",
      "\n"
     ]
    },
    {
     "name": "stderr",
     "output_type": "stream",
     "text": [
      "c:\\Users\\volob\\.conda\\envs\\adlr\\lib\\site-packages\\gymnasium\\wrappers\\record_video.py:75: UserWarning:\n",
      "\n",
      "\u001b[33mWARN: Overwriting existing videos at d:\\Desktop\\reps\\TUM WS22\\tum-adlr-ws22-06\\final_validations\\sac2_with_env_params\\gravity_-2.9998249999999995_wind_7.5_turbulence_0.25 folder (try specifying a different `video_folder` for the `RecordVideo` wrapper if this is not desired)\u001b[0m\n",
      "\n"
     ]
    },
    {
     "name": "stdout",
     "output_type": "stream",
     "text": [
      "Moviepy - Done !\n",
      "Moviepy - video ready d:\\Desktop\\reps\\TUM WS22\\tum-adlr-ws22-06\\final_validations\\sac2_with_env_params\\gravity_-2.9998249999999995_wind_7.5_turbulence_0.0\\rl-video-episode-0.mp4\n",
      "gravity: -2.9998249999999995, wind_power: 7.5, turbulence_power: 0.0, reward: 308.7877784901955\n",
      "Moviepy - Building video d:\\Desktop\\reps\\TUM WS22\\tum-adlr-ws22-06\\final_validations\\sac2_with_env_params\\gravity_-2.9998249999999995_wind_7.5_turbulence_0.25\\rl-video-episode-0.mp4.\n",
      "Moviepy - Writing video d:\\Desktop\\reps\\TUM WS22\\tum-adlr-ws22-06\\final_validations\\sac2_with_env_params\\gravity_-2.9998249999999995_wind_7.5_turbulence_0.25\\rl-video-episode-0.mp4\n",
      "\n"
     ]
    },
    {
     "name": "stderr",
     "output_type": "stream",
     "text": [
      "c:\\Users\\volob\\.conda\\envs\\adlr\\lib\\site-packages\\gymnasium\\wrappers\\record_video.py:75: UserWarning:\n",
      "\n",
      "\u001b[33mWARN: Overwriting existing videos at d:\\Desktop\\reps\\TUM WS22\\tum-adlr-ws22-06\\final_validations\\sac2_with_env_params\\gravity_-2.9998249999999995_wind_7.5_turbulence_0.5 folder (try specifying a different `video_folder` for the `RecordVideo` wrapper if this is not desired)\u001b[0m\n",
      "\n"
     ]
    },
    {
     "name": "stdout",
     "output_type": "stream",
     "text": [
      "Moviepy - Done !\n",
      "Moviepy - video ready d:\\Desktop\\reps\\TUM WS22\\tum-adlr-ws22-06\\final_validations\\sac2_with_env_params\\gravity_-2.9998249999999995_wind_7.5_turbulence_0.25\\rl-video-episode-0.mp4\n",
      "gravity: -2.9998249999999995, wind_power: 7.5, turbulence_power: 0.25, reward: 307.92835505064704\n",
      "Moviepy - Building video d:\\Desktop\\reps\\TUM WS22\\tum-adlr-ws22-06\\final_validations\\sac2_with_env_params\\gravity_-2.9998249999999995_wind_7.5_turbulence_0.5\\rl-video-episode-0.mp4.\n",
      "Moviepy - Writing video d:\\Desktop\\reps\\TUM WS22\\tum-adlr-ws22-06\\final_validations\\sac2_with_env_params\\gravity_-2.9998249999999995_wind_7.5_turbulence_0.5\\rl-video-episode-0.mp4\n",
      "\n"
     ]
    },
    {
     "name": "stderr",
     "output_type": "stream",
     "text": [
      "c:\\Users\\volob\\.conda\\envs\\adlr\\lib\\site-packages\\gymnasium\\wrappers\\record_video.py:75: UserWarning:\n",
      "\n",
      "\u001b[33mWARN: Overwriting existing videos at d:\\Desktop\\reps\\TUM WS22\\tum-adlr-ws22-06\\final_validations\\sac2_with_env_params\\gravity_-2.9998249999999995_wind_7.5_turbulence_0.75 folder (try specifying a different `video_folder` for the `RecordVideo` wrapper if this is not desired)\u001b[0m\n",
      "\n"
     ]
    },
    {
     "name": "stdout",
     "output_type": "stream",
     "text": [
      "Moviepy - Done !\n",
      "Moviepy - video ready d:\\Desktop\\reps\\TUM WS22\\tum-adlr-ws22-06\\final_validations\\sac2_with_env_params\\gravity_-2.9998249999999995_wind_7.5_turbulence_0.5\\rl-video-episode-0.mp4\n",
      "gravity: -2.9998249999999995, wind_power: 7.5, turbulence_power: 0.5, reward: 293.33131337747636\n",
      "Moviepy - Building video d:\\Desktop\\reps\\TUM WS22\\tum-adlr-ws22-06\\final_validations\\sac2_with_env_params\\gravity_-2.9998249999999995_wind_7.5_turbulence_0.75\\rl-video-episode-0.mp4.\n",
      "Moviepy - Writing video d:\\Desktop\\reps\\TUM WS22\\tum-adlr-ws22-06\\final_validations\\sac2_with_env_params\\gravity_-2.9998249999999995_wind_7.5_turbulence_0.75\\rl-video-episode-0.mp4\n",
      "\n"
     ]
    },
    {
     "name": "stderr",
     "output_type": "stream",
     "text": [
      "c:\\Users\\volob\\.conda\\envs\\adlr\\lib\\site-packages\\gymnasium\\wrappers\\record_video.py:75: UserWarning:\n",
      "\n",
      "\u001b[33mWARN: Overwriting existing videos at d:\\Desktop\\reps\\TUM WS22\\tum-adlr-ws22-06\\final_validations\\sac2_with_env_params\\gravity_-2.9998249999999995_wind_7.5_turbulence_1.0 folder (try specifying a different `video_folder` for the `RecordVideo` wrapper if this is not desired)\u001b[0m\n",
      "\n"
     ]
    },
    {
     "name": "stdout",
     "output_type": "stream",
     "text": [
      "Moviepy - Done !\n",
      "Moviepy - video ready d:\\Desktop\\reps\\TUM WS22\\tum-adlr-ws22-06\\final_validations\\sac2_with_env_params\\gravity_-2.9998249999999995_wind_7.5_turbulence_0.75\\rl-video-episode-0.mp4\n",
      "gravity: -2.9998249999999995, wind_power: 7.5, turbulence_power: 0.75, reward: 298.0359666053388\n",
      "Moviepy - Building video d:\\Desktop\\reps\\TUM WS22\\tum-adlr-ws22-06\\final_validations\\sac2_with_env_params\\gravity_-2.9998249999999995_wind_7.5_turbulence_1.0\\rl-video-episode-0.mp4.\n",
      "Moviepy - Writing video d:\\Desktop\\reps\\TUM WS22\\tum-adlr-ws22-06\\final_validations\\sac2_with_env_params\\gravity_-2.9998249999999995_wind_7.5_turbulence_1.0\\rl-video-episode-0.mp4\n",
      "\n"
     ]
    },
    {
     "name": "stderr",
     "output_type": "stream",
     "text": [
      "c:\\Users\\volob\\.conda\\envs\\adlr\\lib\\site-packages\\gymnasium\\wrappers\\record_video.py:75: UserWarning:\n",
      "\n",
      "\u001b[33mWARN: Overwriting existing videos at d:\\Desktop\\reps\\TUM WS22\\tum-adlr-ws22-06\\final_validations\\sac2_with_env_params\\gravity_-2.9998249999999995_wind_10.0_turbulence_0.0 folder (try specifying a different `video_folder` for the `RecordVideo` wrapper if this is not desired)\u001b[0m\n",
      "\n"
     ]
    },
    {
     "name": "stdout",
     "output_type": "stream",
     "text": [
      "Moviepy - Done !\n",
      "Moviepy - video ready d:\\Desktop\\reps\\TUM WS22\\tum-adlr-ws22-06\\final_validations\\sac2_with_env_params\\gravity_-2.9998249999999995_wind_7.5_turbulence_1.0\\rl-video-episode-0.mp4\n",
      "gravity: -2.9998249999999995, wind_power: 7.5, turbulence_power: 1.0, reward: 279.39516884240084\n",
      "Moviepy - Building video d:\\Desktop\\reps\\TUM WS22\\tum-adlr-ws22-06\\final_validations\\sac2_with_env_params\\gravity_-2.9998249999999995_wind_10.0_turbulence_0.0\\rl-video-episode-0.mp4.\n",
      "Moviepy - Writing video d:\\Desktop\\reps\\TUM WS22\\tum-adlr-ws22-06\\final_validations\\sac2_with_env_params\\gravity_-2.9998249999999995_wind_10.0_turbulence_0.0\\rl-video-episode-0.mp4\n",
      "\n"
     ]
    },
    {
     "name": "stderr",
     "output_type": "stream",
     "text": [
      "c:\\Users\\volob\\.conda\\envs\\adlr\\lib\\site-packages\\gymnasium\\wrappers\\record_video.py:75: UserWarning:\n",
      "\n",
      "\u001b[33mWARN: Overwriting existing videos at d:\\Desktop\\reps\\TUM WS22\\tum-adlr-ws22-06\\final_validations\\sac2_with_env_params\\gravity_-2.9998249999999995_wind_10.0_turbulence_0.25 folder (try specifying a different `video_folder` for the `RecordVideo` wrapper if this is not desired)\u001b[0m\n",
      "\n"
     ]
    },
    {
     "name": "stdout",
     "output_type": "stream",
     "text": [
      "Moviepy - Done !\n",
      "Moviepy - video ready d:\\Desktop\\reps\\TUM WS22\\tum-adlr-ws22-06\\final_validations\\sac2_with_env_params\\gravity_-2.9998249999999995_wind_10.0_turbulence_0.0\\rl-video-episode-0.mp4\n",
      "gravity: -2.9998249999999995, wind_power: 10.0, turbulence_power: 0.0, reward: 324.4919919244246\n",
      "Moviepy - Building video d:\\Desktop\\reps\\TUM WS22\\tum-adlr-ws22-06\\final_validations\\sac2_with_env_params\\gravity_-2.9998249999999995_wind_10.0_turbulence_0.25\\rl-video-episode-0.mp4.\n",
      "Moviepy - Writing video d:\\Desktop\\reps\\TUM WS22\\tum-adlr-ws22-06\\final_validations\\sac2_with_env_params\\gravity_-2.9998249999999995_wind_10.0_turbulence_0.25\\rl-video-episode-0.mp4\n",
      "\n"
     ]
    },
    {
     "name": "stderr",
     "output_type": "stream",
     "text": [
      "c:\\Users\\volob\\.conda\\envs\\adlr\\lib\\site-packages\\gymnasium\\wrappers\\record_video.py:75: UserWarning:\n",
      "\n",
      "\u001b[33mWARN: Overwriting existing videos at d:\\Desktop\\reps\\TUM WS22\\tum-adlr-ws22-06\\final_validations\\sac2_with_env_params\\gravity_-2.9998249999999995_wind_10.0_turbulence_0.5 folder (try specifying a different `video_folder` for the `RecordVideo` wrapper if this is not desired)\u001b[0m\n",
      "\n"
     ]
    },
    {
     "name": "stdout",
     "output_type": "stream",
     "text": [
      "Moviepy - Done !\n",
      "Moviepy - video ready d:\\Desktop\\reps\\TUM WS22\\tum-adlr-ws22-06\\final_validations\\sac2_with_env_params\\gravity_-2.9998249999999995_wind_10.0_turbulence_0.25\\rl-video-episode-0.mp4\n",
      "gravity: -2.9998249999999995, wind_power: 10.0, turbulence_power: 0.25, reward: 290.81683311486165\n",
      "Moviepy - Building video d:\\Desktop\\reps\\TUM WS22\\tum-adlr-ws22-06\\final_validations\\sac2_with_env_params\\gravity_-2.9998249999999995_wind_10.0_turbulence_0.5\\rl-video-episode-0.mp4.\n",
      "Moviepy - Writing video d:\\Desktop\\reps\\TUM WS22\\tum-adlr-ws22-06\\final_validations\\sac2_with_env_params\\gravity_-2.9998249999999995_wind_10.0_turbulence_0.5\\rl-video-episode-0.mp4\n",
      "\n"
     ]
    },
    {
     "name": "stderr",
     "output_type": "stream",
     "text": [
      "c:\\Users\\volob\\.conda\\envs\\adlr\\lib\\site-packages\\gymnasium\\wrappers\\record_video.py:75: UserWarning:\n",
      "\n",
      "\u001b[33mWARN: Overwriting existing videos at d:\\Desktop\\reps\\TUM WS22\\tum-adlr-ws22-06\\final_validations\\sac2_with_env_params\\gravity_-2.9998249999999995_wind_10.0_turbulence_0.75 folder (try specifying a different `video_folder` for the `RecordVideo` wrapper if this is not desired)\u001b[0m\n",
      "\n"
     ]
    },
    {
     "name": "stdout",
     "output_type": "stream",
     "text": [
      "Moviepy - Done !\n",
      "Moviepy - video ready d:\\Desktop\\reps\\TUM WS22\\tum-adlr-ws22-06\\final_validations\\sac2_with_env_params\\gravity_-2.9998249999999995_wind_10.0_turbulence_0.5\\rl-video-episode-0.mp4\n",
      "gravity: -2.9998249999999995, wind_power: 10.0, turbulence_power: 0.5, reward: 283.46232118752306\n",
      "Moviepy - Building video d:\\Desktop\\reps\\TUM WS22\\tum-adlr-ws22-06\\final_validations\\sac2_with_env_params\\gravity_-2.9998249999999995_wind_10.0_turbulence_0.75\\rl-video-episode-0.mp4.\n",
      "Moviepy - Writing video d:\\Desktop\\reps\\TUM WS22\\tum-adlr-ws22-06\\final_validations\\sac2_with_env_params\\gravity_-2.9998249999999995_wind_10.0_turbulence_0.75\\rl-video-episode-0.mp4\n",
      "\n"
     ]
    },
    {
     "name": "stderr",
     "output_type": "stream",
     "text": [
      "c:\\Users\\volob\\.conda\\envs\\adlr\\lib\\site-packages\\gymnasium\\wrappers\\record_video.py:75: UserWarning:\n",
      "\n",
      "\u001b[33mWARN: Overwriting existing videos at d:\\Desktop\\reps\\TUM WS22\\tum-adlr-ws22-06\\final_validations\\sac2_with_env_params\\gravity_-2.9998249999999995_wind_10.0_turbulence_1.0 folder (try specifying a different `video_folder` for the `RecordVideo` wrapper if this is not desired)\u001b[0m\n",
      "\n"
     ]
    },
    {
     "name": "stdout",
     "output_type": "stream",
     "text": [
      "Moviepy - Done !\n",
      "Moviepy - video ready d:\\Desktop\\reps\\TUM WS22\\tum-adlr-ws22-06\\final_validations\\sac2_with_env_params\\gravity_-2.9998249999999995_wind_10.0_turbulence_0.75\\rl-video-episode-0.mp4\n",
      "gravity: -2.9998249999999995, wind_power: 10.0, turbulence_power: 0.75, reward: 287.0433020035197\n",
      "Moviepy - Building video d:\\Desktop\\reps\\TUM WS22\\tum-adlr-ws22-06\\final_validations\\sac2_with_env_params\\gravity_-2.9998249999999995_wind_10.0_turbulence_1.0\\rl-video-episode-0.mp4.\n",
      "Moviepy - Writing video d:\\Desktop\\reps\\TUM WS22\\tum-adlr-ws22-06\\final_validations\\sac2_with_env_params\\gravity_-2.9998249999999995_wind_10.0_turbulence_1.0\\rl-video-episode-0.mp4\n",
      "\n"
     ]
    },
    {
     "name": "stderr",
     "output_type": "stream",
     "text": [
      "c:\\Users\\volob\\.conda\\envs\\adlr\\lib\\site-packages\\gymnasium\\wrappers\\record_video.py:75: UserWarning:\n",
      "\n",
      "\u001b[33mWARN: Overwriting existing videos at d:\\Desktop\\reps\\TUM WS22\\tum-adlr-ws22-06\\final_validations\\sac2_with_env_params\\gravity_-0.0001_wind_0.0_turbulence_0.0 folder (try specifying a different `video_folder` for the `RecordVideo` wrapper if this is not desired)\u001b[0m\n",
      "\n"
     ]
    },
    {
     "name": "stdout",
     "output_type": "stream",
     "text": [
      "Moviepy - Done !\n",
      "Moviepy - video ready d:\\Desktop\\reps\\TUM WS22\\tum-adlr-ws22-06\\final_validations\\sac2_with_env_params\\gravity_-2.9998249999999995_wind_10.0_turbulence_1.0\\rl-video-episode-0.mp4\n",
      "gravity: -2.9998249999999995, wind_power: 10.0, turbulence_power: 1.0, reward: 299.46702091591\n",
      "Moviepy - Building video d:\\Desktop\\reps\\TUM WS22\\tum-adlr-ws22-06\\final_validations\\sac2_with_env_params\\gravity_-0.0001_wind_0.0_turbulence_0.0\\rl-video-episode-0.mp4.\n",
      "Moviepy - Writing video d:\\Desktop\\reps\\TUM WS22\\tum-adlr-ws22-06\\final_validations\\sac2_with_env_params\\gravity_-0.0001_wind_0.0_turbulence_0.0\\rl-video-episode-0.mp4\n",
      "\n"
     ]
    },
    {
     "name": "stderr",
     "output_type": "stream",
     "text": [
      "c:\\Users\\volob\\.conda\\envs\\adlr\\lib\\site-packages\\gymnasium\\wrappers\\record_video.py:75: UserWarning:\n",
      "\n",
      "\u001b[33mWARN: Overwriting existing videos at d:\\Desktop\\reps\\TUM WS22\\tum-adlr-ws22-06\\final_validations\\sac2_with_env_params\\gravity_-0.0001_wind_0.0_turbulence_0.25 folder (try specifying a different `video_folder` for the `RecordVideo` wrapper if this is not desired)\u001b[0m\n",
      "\n"
     ]
    },
    {
     "name": "stdout",
     "output_type": "stream",
     "text": [
      "Moviepy - Done !\n",
      "Moviepy - video ready d:\\Desktop\\reps\\TUM WS22\\tum-adlr-ws22-06\\final_validations\\sac2_with_env_params\\gravity_-0.0001_wind_0.0_turbulence_0.0\\rl-video-episode-0.mp4\n",
      "gravity: -0.0001, wind_power: 0.0, turbulence_power: 0.0, reward: -147.32483468996105\n",
      "Moviepy - Building video d:\\Desktop\\reps\\TUM WS22\\tum-adlr-ws22-06\\final_validations\\sac2_with_env_params\\gravity_-0.0001_wind_0.0_turbulence_0.25\\rl-video-episode-0.mp4.\n",
      "Moviepy - Writing video d:\\Desktop\\reps\\TUM WS22\\tum-adlr-ws22-06\\final_validations\\sac2_with_env_params\\gravity_-0.0001_wind_0.0_turbulence_0.25\\rl-video-episode-0.mp4\n",
      "\n"
     ]
    },
    {
     "name": "stderr",
     "output_type": "stream",
     "text": [
      "c:\\Users\\volob\\.conda\\envs\\adlr\\lib\\site-packages\\gymnasium\\wrappers\\record_video.py:75: UserWarning:\n",
      "\n",
      "\u001b[33mWARN: Overwriting existing videos at d:\\Desktop\\reps\\TUM WS22\\tum-adlr-ws22-06\\final_validations\\sac2_with_env_params\\gravity_-0.0001_wind_0.0_turbulence_0.5 folder (try specifying a different `video_folder` for the `RecordVideo` wrapper if this is not desired)\u001b[0m\n",
      "\n"
     ]
    },
    {
     "name": "stdout",
     "output_type": "stream",
     "text": [
      "Moviepy - Done !\n",
      "Moviepy - video ready d:\\Desktop\\reps\\TUM WS22\\tum-adlr-ws22-06\\final_validations\\sac2_with_env_params\\gravity_-0.0001_wind_0.0_turbulence_0.25\\rl-video-episode-0.mp4\n",
      "gravity: -0.0001, wind_power: 0.0, turbulence_power: 0.25, reward: -145.279880887361\n",
      "Moviepy - Building video d:\\Desktop\\reps\\TUM WS22\\tum-adlr-ws22-06\\final_validations\\sac2_with_env_params\\gravity_-0.0001_wind_0.0_turbulence_0.5\\rl-video-episode-0.mp4.\n",
      "Moviepy - Writing video d:\\Desktop\\reps\\TUM WS22\\tum-adlr-ws22-06\\final_validations\\sac2_with_env_params\\gravity_-0.0001_wind_0.0_turbulence_0.5\\rl-video-episode-0.mp4\n",
      "\n"
     ]
    },
    {
     "name": "stderr",
     "output_type": "stream",
     "text": [
      "c:\\Users\\volob\\.conda\\envs\\adlr\\lib\\site-packages\\gymnasium\\wrappers\\record_video.py:75: UserWarning:\n",
      "\n",
      "\u001b[33mWARN: Overwriting existing videos at d:\\Desktop\\reps\\TUM WS22\\tum-adlr-ws22-06\\final_validations\\sac2_with_env_params\\gravity_-0.0001_wind_0.0_turbulence_0.75 folder (try specifying a different `video_folder` for the `RecordVideo` wrapper if this is not desired)\u001b[0m\n",
      "\n"
     ]
    },
    {
     "name": "stdout",
     "output_type": "stream",
     "text": [
      "Moviepy - Done !\n",
      "Moviepy - video ready d:\\Desktop\\reps\\TUM WS22\\tum-adlr-ws22-06\\final_validations\\sac2_with_env_params\\gravity_-0.0001_wind_0.0_turbulence_0.5\\rl-video-episode-0.mp4\n",
      "gravity: -0.0001, wind_power: 0.0, turbulence_power: 0.5, reward: -110.13427959724811\n",
      "Moviepy - Building video d:\\Desktop\\reps\\TUM WS22\\tum-adlr-ws22-06\\final_validations\\sac2_with_env_params\\gravity_-0.0001_wind_0.0_turbulence_0.75\\rl-video-episode-0.mp4.\n",
      "Moviepy - Writing video d:\\Desktop\\reps\\TUM WS22\\tum-adlr-ws22-06\\final_validations\\sac2_with_env_params\\gravity_-0.0001_wind_0.0_turbulence_0.75\\rl-video-episode-0.mp4\n",
      "\n"
     ]
    },
    {
     "name": "stderr",
     "output_type": "stream",
     "text": [
      "c:\\Users\\volob\\.conda\\envs\\adlr\\lib\\site-packages\\gymnasium\\wrappers\\record_video.py:75: UserWarning:\n",
      "\n",
      "\u001b[33mWARN: Overwriting existing videos at d:\\Desktop\\reps\\TUM WS22\\tum-adlr-ws22-06\\final_validations\\sac2_with_env_params\\gravity_-0.0001_wind_0.0_turbulence_1.0 folder (try specifying a different `video_folder` for the `RecordVideo` wrapper if this is not desired)\u001b[0m\n",
      "\n"
     ]
    },
    {
     "name": "stdout",
     "output_type": "stream",
     "text": [
      "Moviepy - Done !\n",
      "Moviepy - video ready d:\\Desktop\\reps\\TUM WS22\\tum-adlr-ws22-06\\final_validations\\sac2_with_env_params\\gravity_-0.0001_wind_0.0_turbulence_0.75\\rl-video-episode-0.mp4\n",
      "gravity: -0.0001, wind_power: 0.0, turbulence_power: 0.75, reward: -69.74361561172053\n",
      "Moviepy - Building video d:\\Desktop\\reps\\TUM WS22\\tum-adlr-ws22-06\\final_validations\\sac2_with_env_params\\gravity_-0.0001_wind_0.0_turbulence_1.0\\rl-video-episode-0.mp4.\n",
      "Moviepy - Writing video d:\\Desktop\\reps\\TUM WS22\\tum-adlr-ws22-06\\final_validations\\sac2_with_env_params\\gravity_-0.0001_wind_0.0_turbulence_1.0\\rl-video-episode-0.mp4\n",
      "\n"
     ]
    },
    {
     "name": "stderr",
     "output_type": "stream",
     "text": [
      "c:\\Users\\volob\\.conda\\envs\\adlr\\lib\\site-packages\\gymnasium\\wrappers\\record_video.py:75: UserWarning:\n",
      "\n",
      "\u001b[33mWARN: Overwriting existing videos at d:\\Desktop\\reps\\TUM WS22\\tum-adlr-ws22-06\\final_validations\\sac2_with_env_params\\gravity_-0.0001_wind_2.5_turbulence_0.0 folder (try specifying a different `video_folder` for the `RecordVideo` wrapper if this is not desired)\u001b[0m\n",
      "\n"
     ]
    },
    {
     "name": "stdout",
     "output_type": "stream",
     "text": [
      "Moviepy - Done !\n",
      "Moviepy - video ready d:\\Desktop\\reps\\TUM WS22\\tum-adlr-ws22-06\\final_validations\\sac2_with_env_params\\gravity_-0.0001_wind_0.0_turbulence_1.0\\rl-video-episode-0.mp4\n",
      "gravity: -0.0001, wind_power: 0.0, turbulence_power: 1.0, reward: -92.01716546688223\n",
      "Moviepy - Building video d:\\Desktop\\reps\\TUM WS22\\tum-adlr-ws22-06\\final_validations\\sac2_with_env_params\\gravity_-0.0001_wind_2.5_turbulence_0.0\\rl-video-episode-0.mp4.\n",
      "Moviepy - Writing video d:\\Desktop\\reps\\TUM WS22\\tum-adlr-ws22-06\\final_validations\\sac2_with_env_params\\gravity_-0.0001_wind_2.5_turbulence_0.0\\rl-video-episode-0.mp4\n",
      "\n"
     ]
    },
    {
     "name": "stderr",
     "output_type": "stream",
     "text": [
      "c:\\Users\\volob\\.conda\\envs\\adlr\\lib\\site-packages\\gymnasium\\wrappers\\record_video.py:75: UserWarning:\n",
      "\n",
      "\u001b[33mWARN: Overwriting existing videos at d:\\Desktop\\reps\\TUM WS22\\tum-adlr-ws22-06\\final_validations\\sac2_with_env_params\\gravity_-0.0001_wind_2.5_turbulence_0.25 folder (try specifying a different `video_folder` for the `RecordVideo` wrapper if this is not desired)\u001b[0m\n",
      "\n"
     ]
    },
    {
     "name": "stdout",
     "output_type": "stream",
     "text": [
      "Moviepy - Done !\n",
      "Moviepy - video ready d:\\Desktop\\reps\\TUM WS22\\tum-adlr-ws22-06\\final_validations\\sac2_with_env_params\\gravity_-0.0001_wind_2.5_turbulence_0.0\\rl-video-episode-0.mp4\n",
      "gravity: -0.0001, wind_power: 2.5, turbulence_power: 0.0, reward: -130.75182026230874\n",
      "Moviepy - Building video d:\\Desktop\\reps\\TUM WS22\\tum-adlr-ws22-06\\final_validations\\sac2_with_env_params\\gravity_-0.0001_wind_2.5_turbulence_0.25\\rl-video-episode-0.mp4.\n",
      "Moviepy - Writing video d:\\Desktop\\reps\\TUM WS22\\tum-adlr-ws22-06\\final_validations\\sac2_with_env_params\\gravity_-0.0001_wind_2.5_turbulence_0.25\\rl-video-episode-0.mp4\n",
      "\n"
     ]
    },
    {
     "name": "stderr",
     "output_type": "stream",
     "text": [
      "c:\\Users\\volob\\.conda\\envs\\adlr\\lib\\site-packages\\gymnasium\\wrappers\\record_video.py:75: UserWarning:\n",
      "\n",
      "\u001b[33mWARN: Overwriting existing videos at d:\\Desktop\\reps\\TUM WS22\\tum-adlr-ws22-06\\final_validations\\sac2_with_env_params\\gravity_-0.0001_wind_2.5_turbulence_0.5 folder (try specifying a different `video_folder` for the `RecordVideo` wrapper if this is not desired)\u001b[0m\n",
      "\n"
     ]
    },
    {
     "name": "stdout",
     "output_type": "stream",
     "text": [
      "Moviepy - Done !\n",
      "Moviepy - video ready d:\\Desktop\\reps\\TUM WS22\\tum-adlr-ws22-06\\final_validations\\sac2_with_env_params\\gravity_-0.0001_wind_2.5_turbulence_0.25\\rl-video-episode-0.mp4\n",
      "gravity: -0.0001, wind_power: 2.5, turbulence_power: 0.25, reward: -157.39602491260433\n",
      "Moviepy - Building video d:\\Desktop\\reps\\TUM WS22\\tum-adlr-ws22-06\\final_validations\\sac2_with_env_params\\gravity_-0.0001_wind_2.5_turbulence_0.5\\rl-video-episode-0.mp4.\n",
      "Moviepy - Writing video d:\\Desktop\\reps\\TUM WS22\\tum-adlr-ws22-06\\final_validations\\sac2_with_env_params\\gravity_-0.0001_wind_2.5_turbulence_0.5\\rl-video-episode-0.mp4\n",
      "\n"
     ]
    },
    {
     "name": "stderr",
     "output_type": "stream",
     "text": [
      "c:\\Users\\volob\\.conda\\envs\\adlr\\lib\\site-packages\\gymnasium\\wrappers\\record_video.py:75: UserWarning:\n",
      "\n",
      "\u001b[33mWARN: Overwriting existing videos at d:\\Desktop\\reps\\TUM WS22\\tum-adlr-ws22-06\\final_validations\\sac2_with_env_params\\gravity_-0.0001_wind_2.5_turbulence_0.75 folder (try specifying a different `video_folder` for the `RecordVideo` wrapper if this is not desired)\u001b[0m\n",
      "\n"
     ]
    },
    {
     "name": "stdout",
     "output_type": "stream",
     "text": [
      "Moviepy - Done !\n",
      "Moviepy - video ready d:\\Desktop\\reps\\TUM WS22\\tum-adlr-ws22-06\\final_validations\\sac2_with_env_params\\gravity_-0.0001_wind_2.5_turbulence_0.5\\rl-video-episode-0.mp4\n",
      "gravity: -0.0001, wind_power: 2.5, turbulence_power: 0.5, reward: -156.23729413068395\n",
      "Moviepy - Building video d:\\Desktop\\reps\\TUM WS22\\tum-adlr-ws22-06\\final_validations\\sac2_with_env_params\\gravity_-0.0001_wind_2.5_turbulence_0.75\\rl-video-episode-0.mp4.\n",
      "Moviepy - Writing video d:\\Desktop\\reps\\TUM WS22\\tum-adlr-ws22-06\\final_validations\\sac2_with_env_params\\gravity_-0.0001_wind_2.5_turbulence_0.75\\rl-video-episode-0.mp4\n",
      "\n"
     ]
    },
    {
     "name": "stderr",
     "output_type": "stream",
     "text": [
      "c:\\Users\\volob\\.conda\\envs\\adlr\\lib\\site-packages\\gymnasium\\wrappers\\record_video.py:75: UserWarning:\n",
      "\n",
      "\u001b[33mWARN: Overwriting existing videos at d:\\Desktop\\reps\\TUM WS22\\tum-adlr-ws22-06\\final_validations\\sac2_with_env_params\\gravity_-0.0001_wind_2.5_turbulence_1.0 folder (try specifying a different `video_folder` for the `RecordVideo` wrapper if this is not desired)\u001b[0m\n",
      "\n"
     ]
    },
    {
     "name": "stdout",
     "output_type": "stream",
     "text": [
      "Moviepy - Done !\n",
      "Moviepy - video ready d:\\Desktop\\reps\\TUM WS22\\tum-adlr-ws22-06\\final_validations\\sac2_with_env_params\\gravity_-0.0001_wind_2.5_turbulence_0.75\\rl-video-episode-0.mp4\n",
      "gravity: -0.0001, wind_power: 2.5, turbulence_power: 0.75, reward: -170.24556034774378\n",
      "Moviepy - Building video d:\\Desktop\\reps\\TUM WS22\\tum-adlr-ws22-06\\final_validations\\sac2_with_env_params\\gravity_-0.0001_wind_2.5_turbulence_1.0\\rl-video-episode-0.mp4.\n",
      "Moviepy - Writing video d:\\Desktop\\reps\\TUM WS22\\tum-adlr-ws22-06\\final_validations\\sac2_with_env_params\\gravity_-0.0001_wind_2.5_turbulence_1.0\\rl-video-episode-0.mp4\n",
      "\n"
     ]
    },
    {
     "name": "stderr",
     "output_type": "stream",
     "text": [
      "c:\\Users\\volob\\.conda\\envs\\adlr\\lib\\site-packages\\gymnasium\\wrappers\\record_video.py:75: UserWarning:\n",
      "\n",
      "\u001b[33mWARN: Overwriting existing videos at d:\\Desktop\\reps\\TUM WS22\\tum-adlr-ws22-06\\final_validations\\sac2_with_env_params\\gravity_-0.0001_wind_5.0_turbulence_0.0 folder (try specifying a different `video_folder` for the `RecordVideo` wrapper if this is not desired)\u001b[0m\n",
      "\n"
     ]
    },
    {
     "name": "stdout",
     "output_type": "stream",
     "text": [
      "Moviepy - Done !\n",
      "Moviepy - video ready d:\\Desktop\\reps\\TUM WS22\\tum-adlr-ws22-06\\final_validations\\sac2_with_env_params\\gravity_-0.0001_wind_2.5_turbulence_1.0\\rl-video-episode-0.mp4\n",
      "gravity: -0.0001, wind_power: 2.5, turbulence_power: 1.0, reward: -165.59064313228703\n",
      "Moviepy - Building video d:\\Desktop\\reps\\TUM WS22\\tum-adlr-ws22-06\\final_validations\\sac2_with_env_params\\gravity_-0.0001_wind_5.0_turbulence_0.0\\rl-video-episode-0.mp4.\n",
      "Moviepy - Writing video d:\\Desktop\\reps\\TUM WS22\\tum-adlr-ws22-06\\final_validations\\sac2_with_env_params\\gravity_-0.0001_wind_5.0_turbulence_0.0\\rl-video-episode-0.mp4\n",
      "\n"
     ]
    },
    {
     "name": "stderr",
     "output_type": "stream",
     "text": [
      "c:\\Users\\volob\\.conda\\envs\\adlr\\lib\\site-packages\\gymnasium\\wrappers\\record_video.py:75: UserWarning:\n",
      "\n",
      "\u001b[33mWARN: Overwriting existing videos at d:\\Desktop\\reps\\TUM WS22\\tum-adlr-ws22-06\\final_validations\\sac2_with_env_params\\gravity_-0.0001_wind_5.0_turbulence_0.25 folder (try specifying a different `video_folder` for the `RecordVideo` wrapper if this is not desired)\u001b[0m\n",
      "\n"
     ]
    },
    {
     "name": "stdout",
     "output_type": "stream",
     "text": [
      "Moviepy - Done !\n",
      "Moviepy - video ready d:\\Desktop\\reps\\TUM WS22\\tum-adlr-ws22-06\\final_validations\\sac2_with_env_params\\gravity_-0.0001_wind_5.0_turbulence_0.0\\rl-video-episode-0.mp4\n",
      "gravity: -0.0001, wind_power: 5.0, turbulence_power: 0.0, reward: -119.5979256641777\n",
      "Moviepy - Building video d:\\Desktop\\reps\\TUM WS22\\tum-adlr-ws22-06\\final_validations\\sac2_with_env_params\\gravity_-0.0001_wind_5.0_turbulence_0.25\\rl-video-episode-0.mp4.\n",
      "Moviepy - Writing video d:\\Desktop\\reps\\TUM WS22\\tum-adlr-ws22-06\\final_validations\\sac2_with_env_params\\gravity_-0.0001_wind_5.0_turbulence_0.25\\rl-video-episode-0.mp4\n",
      "\n"
     ]
    },
    {
     "name": "stderr",
     "output_type": "stream",
     "text": [
      "c:\\Users\\volob\\.conda\\envs\\adlr\\lib\\site-packages\\gymnasium\\wrappers\\record_video.py:75: UserWarning:\n",
      "\n",
      "\u001b[33mWARN: Overwriting existing videos at d:\\Desktop\\reps\\TUM WS22\\tum-adlr-ws22-06\\final_validations\\sac2_with_env_params\\gravity_-0.0001_wind_5.0_turbulence_0.5 folder (try specifying a different `video_folder` for the `RecordVideo` wrapper if this is not desired)\u001b[0m\n",
      "\n"
     ]
    },
    {
     "name": "stdout",
     "output_type": "stream",
     "text": [
      "Moviepy - Done !\n",
      "Moviepy - video ready d:\\Desktop\\reps\\TUM WS22\\tum-adlr-ws22-06\\final_validations\\sac2_with_env_params\\gravity_-0.0001_wind_5.0_turbulence_0.25\\rl-video-episode-0.mp4\n",
      "gravity: -0.0001, wind_power: 5.0, turbulence_power: 0.25, reward: -106.09312860077429\n",
      "Moviepy - Building video d:\\Desktop\\reps\\TUM WS22\\tum-adlr-ws22-06\\final_validations\\sac2_with_env_params\\gravity_-0.0001_wind_5.0_turbulence_0.5\\rl-video-episode-0.mp4.\n",
      "Moviepy - Writing video d:\\Desktop\\reps\\TUM WS22\\tum-adlr-ws22-06\\final_validations\\sac2_with_env_params\\gravity_-0.0001_wind_5.0_turbulence_0.5\\rl-video-episode-0.mp4\n",
      "\n"
     ]
    },
    {
     "name": "stderr",
     "output_type": "stream",
     "text": [
      "c:\\Users\\volob\\.conda\\envs\\adlr\\lib\\site-packages\\gymnasium\\wrappers\\record_video.py:75: UserWarning:\n",
      "\n",
      "\u001b[33mWARN: Overwriting existing videos at d:\\Desktop\\reps\\TUM WS22\\tum-adlr-ws22-06\\final_validations\\sac2_with_env_params\\gravity_-0.0001_wind_5.0_turbulence_0.75 folder (try specifying a different `video_folder` for the `RecordVideo` wrapper if this is not desired)\u001b[0m\n",
      "\n"
     ]
    },
    {
     "name": "stdout",
     "output_type": "stream",
     "text": [
      "Moviepy - Done !\n",
      "Moviepy - video ready d:\\Desktop\\reps\\TUM WS22\\tum-adlr-ws22-06\\final_validations\\sac2_with_env_params\\gravity_-0.0001_wind_5.0_turbulence_0.5\\rl-video-episode-0.mp4\n",
      "gravity: -0.0001, wind_power: 5.0, turbulence_power: 0.5, reward: -150.14625837937893\n",
      "Moviepy - Building video d:\\Desktop\\reps\\TUM WS22\\tum-adlr-ws22-06\\final_validations\\sac2_with_env_params\\gravity_-0.0001_wind_5.0_turbulence_0.75\\rl-video-episode-0.mp4.\n",
      "Moviepy - Writing video d:\\Desktop\\reps\\TUM WS22\\tum-adlr-ws22-06\\final_validations\\sac2_with_env_params\\gravity_-0.0001_wind_5.0_turbulence_0.75\\rl-video-episode-0.mp4\n",
      "\n"
     ]
    },
    {
     "name": "stderr",
     "output_type": "stream",
     "text": [
      "c:\\Users\\volob\\.conda\\envs\\adlr\\lib\\site-packages\\gymnasium\\wrappers\\record_video.py:75: UserWarning:\n",
      "\n",
      "\u001b[33mWARN: Overwriting existing videos at d:\\Desktop\\reps\\TUM WS22\\tum-adlr-ws22-06\\final_validations\\sac2_with_env_params\\gravity_-0.0001_wind_5.0_turbulence_1.0 folder (try specifying a different `video_folder` for the `RecordVideo` wrapper if this is not desired)\u001b[0m\n",
      "\n"
     ]
    },
    {
     "name": "stdout",
     "output_type": "stream",
     "text": [
      "Moviepy - Done !\n",
      "Moviepy - video ready d:\\Desktop\\reps\\TUM WS22\\tum-adlr-ws22-06\\final_validations\\sac2_with_env_params\\gravity_-0.0001_wind_5.0_turbulence_0.75\\rl-video-episode-0.mp4\n",
      "gravity: -0.0001, wind_power: 5.0, turbulence_power: 0.75, reward: -153.64409347830954\n",
      "Moviepy - Building video d:\\Desktop\\reps\\TUM WS22\\tum-adlr-ws22-06\\final_validations\\sac2_with_env_params\\gravity_-0.0001_wind_5.0_turbulence_1.0\\rl-video-episode-0.mp4.\n",
      "Moviepy - Writing video d:\\Desktop\\reps\\TUM WS22\\tum-adlr-ws22-06\\final_validations\\sac2_with_env_params\\gravity_-0.0001_wind_5.0_turbulence_1.0\\rl-video-episode-0.mp4\n",
      "\n"
     ]
    },
    {
     "name": "stderr",
     "output_type": "stream",
     "text": [
      "c:\\Users\\volob\\.conda\\envs\\adlr\\lib\\site-packages\\gymnasium\\wrappers\\record_video.py:75: UserWarning:\n",
      "\n",
      "\u001b[33mWARN: Overwriting existing videos at d:\\Desktop\\reps\\TUM WS22\\tum-adlr-ws22-06\\final_validations\\sac2_with_env_params\\gravity_-0.0001_wind_7.5_turbulence_0.0 folder (try specifying a different `video_folder` for the `RecordVideo` wrapper if this is not desired)\u001b[0m\n",
      "\n"
     ]
    },
    {
     "name": "stdout",
     "output_type": "stream",
     "text": [
      "Moviepy - Done !\n",
      "Moviepy - video ready d:\\Desktop\\reps\\TUM WS22\\tum-adlr-ws22-06\\final_validations\\sac2_with_env_params\\gravity_-0.0001_wind_5.0_turbulence_1.0\\rl-video-episode-0.mp4\n",
      "gravity: -0.0001, wind_power: 5.0, turbulence_power: 1.0, reward: -3.6168397569288118\n",
      "Moviepy - Building video d:\\Desktop\\reps\\TUM WS22\\tum-adlr-ws22-06\\final_validations\\sac2_with_env_params\\gravity_-0.0001_wind_7.5_turbulence_0.0\\rl-video-episode-0.mp4.\n",
      "Moviepy - Writing video d:\\Desktop\\reps\\TUM WS22\\tum-adlr-ws22-06\\final_validations\\sac2_with_env_params\\gravity_-0.0001_wind_7.5_turbulence_0.0\\rl-video-episode-0.mp4\n",
      "\n"
     ]
    },
    {
     "name": "stderr",
     "output_type": "stream",
     "text": [
      "c:\\Users\\volob\\.conda\\envs\\adlr\\lib\\site-packages\\gymnasium\\wrappers\\record_video.py:75: UserWarning:\n",
      "\n",
      "\u001b[33mWARN: Overwriting existing videos at d:\\Desktop\\reps\\TUM WS22\\tum-adlr-ws22-06\\final_validations\\sac2_with_env_params\\gravity_-0.0001_wind_7.5_turbulence_0.25 folder (try specifying a different `video_folder` for the `RecordVideo` wrapper if this is not desired)\u001b[0m\n",
      "\n"
     ]
    },
    {
     "name": "stdout",
     "output_type": "stream",
     "text": [
      "Moviepy - Done !\n",
      "Moviepy - video ready d:\\Desktop\\reps\\TUM WS22\\tum-adlr-ws22-06\\final_validations\\sac2_with_env_params\\gravity_-0.0001_wind_7.5_turbulence_0.0\\rl-video-episode-0.mp4\n",
      "gravity: -0.0001, wind_power: 7.5, turbulence_power: 0.0, reward: -145.616173637974\n",
      "Moviepy - Building video d:\\Desktop\\reps\\TUM WS22\\tum-adlr-ws22-06\\final_validations\\sac2_with_env_params\\gravity_-0.0001_wind_7.5_turbulence_0.25\\rl-video-episode-0.mp4.\n",
      "Moviepy - Writing video d:\\Desktop\\reps\\TUM WS22\\tum-adlr-ws22-06\\final_validations\\sac2_with_env_params\\gravity_-0.0001_wind_7.5_turbulence_0.25\\rl-video-episode-0.mp4\n",
      "\n"
     ]
    },
    {
     "name": "stderr",
     "output_type": "stream",
     "text": [
      "                                                                 \r"
     ]
    },
    {
     "name": "stdout",
     "output_type": "stream",
     "text": [
      "Moviepy - Done !\n",
      "Moviepy - video ready d:\\Desktop\\reps\\TUM WS22\\tum-adlr-ws22-06\\final_validations\\sac2_with_env_params\\gravity_-0.0001_wind_7.5_turbulence_0.25\\rl-video-episode-0.mp4\n",
      "gravity: -0.0001, wind_power: 7.5, turbulence_power: 0.25, reward: -142.39893726195623\n"
     ]
    },
    {
     "name": "stderr",
     "output_type": "stream",
     "text": [
      "c:\\Users\\volob\\.conda\\envs\\adlr\\lib\\site-packages\\gymnasium\\wrappers\\record_video.py:75: UserWarning:\n",
      "\n",
      "\u001b[33mWARN: Overwriting existing videos at d:\\Desktop\\reps\\TUM WS22\\tum-adlr-ws22-06\\final_validations\\sac2_with_env_params\\gravity_-0.0001_wind_7.5_turbulence_0.5 folder (try specifying a different `video_folder` for the `RecordVideo` wrapper if this is not desired)\u001b[0m\n",
      "\n"
     ]
    },
    {
     "name": "stdout",
     "output_type": "stream",
     "text": [
      "Moviepy - Building video d:\\Desktop\\reps\\TUM WS22\\tum-adlr-ws22-06\\final_validations\\sac2_with_env_params\\gravity_-0.0001_wind_7.5_turbulence_0.5\\rl-video-episode-0.mp4.\n",
      "Moviepy - Writing video d:\\Desktop\\reps\\TUM WS22\\tum-adlr-ws22-06\\final_validations\\sac2_with_env_params\\gravity_-0.0001_wind_7.5_turbulence_0.5\\rl-video-episode-0.mp4\n",
      "\n"
     ]
    },
    {
     "name": "stderr",
     "output_type": "stream",
     "text": [
      "                                                                 \r"
     ]
    },
    {
     "name": "stdout",
     "output_type": "stream",
     "text": [
      "Moviepy - Done !\n",
      "Moviepy - video ready d:\\Desktop\\reps\\TUM WS22\\tum-adlr-ws22-06\\final_validations\\sac2_with_env_params\\gravity_-0.0001_wind_7.5_turbulence_0.5\\rl-video-episode-0.mp4\n",
      "gravity: -0.0001, wind_power: 7.5, turbulence_power: 0.5, reward: -174.6119596198365\n"
     ]
    },
    {
     "name": "stderr",
     "output_type": "stream",
     "text": [
      "c:\\Users\\volob\\.conda\\envs\\adlr\\lib\\site-packages\\gymnasium\\wrappers\\record_video.py:75: UserWarning:\n",
      "\n",
      "\u001b[33mWARN: Overwriting existing videos at d:\\Desktop\\reps\\TUM WS22\\tum-adlr-ws22-06\\final_validations\\sac2_with_env_params\\gravity_-0.0001_wind_7.5_turbulence_0.75 folder (try specifying a different `video_folder` for the `RecordVideo` wrapper if this is not desired)\u001b[0m\n",
      "\n"
     ]
    },
    {
     "name": "stdout",
     "output_type": "stream",
     "text": [
      "Moviepy - Building video d:\\Desktop\\reps\\TUM WS22\\tum-adlr-ws22-06\\final_validations\\sac2_with_env_params\\gravity_-0.0001_wind_7.5_turbulence_0.75\\rl-video-episode-0.mp4.\n",
      "Moviepy - Writing video d:\\Desktop\\reps\\TUM WS22\\tum-adlr-ws22-06\\final_validations\\sac2_with_env_params\\gravity_-0.0001_wind_7.5_turbulence_0.75\\rl-video-episode-0.mp4\n",
      "\n"
     ]
    },
    {
     "name": "stderr",
     "output_type": "stream",
     "text": [
      "c:\\Users\\volob\\.conda\\envs\\adlr\\lib\\site-packages\\gymnasium\\wrappers\\record_video.py:75: UserWarning:\n",
      "\n",
      "\u001b[33mWARN: Overwriting existing videos at d:\\Desktop\\reps\\TUM WS22\\tum-adlr-ws22-06\\final_validations\\sac2_with_env_params\\gravity_-0.0001_wind_7.5_turbulence_1.0 folder (try specifying a different `video_folder` for the `RecordVideo` wrapper if this is not desired)\u001b[0m\n",
      "\n"
     ]
    },
    {
     "name": "stdout",
     "output_type": "stream",
     "text": [
      "Moviepy - Done !\n",
      "Moviepy - video ready d:\\Desktop\\reps\\TUM WS22\\tum-adlr-ws22-06\\final_validations\\sac2_with_env_params\\gravity_-0.0001_wind_7.5_turbulence_0.75\\rl-video-episode-0.mp4\n",
      "gravity: -0.0001, wind_power: 7.5, turbulence_power: 0.75, reward: -137.2160019269011\n",
      "Moviepy - Building video d:\\Desktop\\reps\\TUM WS22\\tum-adlr-ws22-06\\final_validations\\sac2_with_env_params\\gravity_-0.0001_wind_7.5_turbulence_1.0\\rl-video-episode-0.mp4.\n",
      "Moviepy - Writing video d:\\Desktop\\reps\\TUM WS22\\tum-adlr-ws22-06\\final_validations\\sac2_with_env_params\\gravity_-0.0001_wind_7.5_turbulence_1.0\\rl-video-episode-0.mp4\n",
      "\n"
     ]
    },
    {
     "name": "stderr",
     "output_type": "stream",
     "text": [
      "                                                                 \r"
     ]
    },
    {
     "name": "stdout",
     "output_type": "stream",
     "text": [
      "Moviepy - Done !\n",
      "Moviepy - video ready d:\\Desktop\\reps\\TUM WS22\\tum-adlr-ws22-06\\final_validations\\sac2_with_env_params\\gravity_-0.0001_wind_7.5_turbulence_1.0\\rl-video-episode-0.mp4\n",
      "gravity: -0.0001, wind_power: 7.5, turbulence_power: 1.0, reward: -3821.996546052826\n"
     ]
    },
    {
     "name": "stderr",
     "output_type": "stream",
     "text": [
      "c:\\Users\\volob\\.conda\\envs\\adlr\\lib\\site-packages\\gymnasium\\wrappers\\record_video.py:75: UserWarning:\n",
      "\n",
      "\u001b[33mWARN: Overwriting existing videos at d:\\Desktop\\reps\\TUM WS22\\tum-adlr-ws22-06\\final_validations\\sac2_with_env_params\\gravity_-0.0001_wind_10.0_turbulence_0.0 folder (try specifying a different `video_folder` for the `RecordVideo` wrapper if this is not desired)\u001b[0m\n",
      "\n"
     ]
    },
    {
     "name": "stdout",
     "output_type": "stream",
     "text": [
      "Moviepy - Building video d:\\Desktop\\reps\\TUM WS22\\tum-adlr-ws22-06\\final_validations\\sac2_with_env_params\\gravity_-0.0001_wind_10.0_turbulence_0.0\\rl-video-episode-0.mp4.\n",
      "Moviepy - Writing video d:\\Desktop\\reps\\TUM WS22\\tum-adlr-ws22-06\\final_validations\\sac2_with_env_params\\gravity_-0.0001_wind_10.0_turbulence_0.0\\rl-video-episode-0.mp4\n",
      "\n"
     ]
    },
    {
     "name": "stderr",
     "output_type": "stream",
     "text": [
      "                                                                 \r"
     ]
    },
    {
     "name": "stdout",
     "output_type": "stream",
     "text": [
      "Moviepy - Done !\n",
      "Moviepy - video ready d:\\Desktop\\reps\\TUM WS22\\tum-adlr-ws22-06\\final_validations\\sac2_with_env_params\\gravity_-0.0001_wind_10.0_turbulence_0.0\\rl-video-episode-0.mp4\n",
      "gravity: -0.0001, wind_power: 10.0, turbulence_power: 0.0, reward: -333.304057981401\n"
     ]
    },
    {
     "name": "stderr",
     "output_type": "stream",
     "text": [
      "c:\\Users\\volob\\.conda\\envs\\adlr\\lib\\site-packages\\gymnasium\\wrappers\\record_video.py:75: UserWarning:\n",
      "\n",
      "\u001b[33mWARN: Overwriting existing videos at d:\\Desktop\\reps\\TUM WS22\\tum-adlr-ws22-06\\final_validations\\sac2_with_env_params\\gravity_-0.0001_wind_10.0_turbulence_0.25 folder (try specifying a different `video_folder` for the `RecordVideo` wrapper if this is not desired)\u001b[0m\n",
      "\n"
     ]
    },
    {
     "name": "stdout",
     "output_type": "stream",
     "text": [
      "Moviepy - Building video d:\\Desktop\\reps\\TUM WS22\\tum-adlr-ws22-06\\final_validations\\sac2_with_env_params\\gravity_-0.0001_wind_10.0_turbulence_0.25\\rl-video-episode-0.mp4.\n",
      "Moviepy - Writing video d:\\Desktop\\reps\\TUM WS22\\tum-adlr-ws22-06\\final_validations\\sac2_with_env_params\\gravity_-0.0001_wind_10.0_turbulence_0.25\\rl-video-episode-0.mp4\n",
      "\n"
     ]
    },
    {
     "name": "stderr",
     "output_type": "stream",
     "text": [
      "                                                                 \r"
     ]
    },
    {
     "name": "stdout",
     "output_type": "stream",
     "text": [
      "Moviepy - Done !\n",
      "Moviepy - video ready d:\\Desktop\\reps\\TUM WS22\\tum-adlr-ws22-06\\final_validations\\sac2_with_env_params\\gravity_-0.0001_wind_10.0_turbulence_0.25\\rl-video-episode-0.mp4\n",
      "gravity: -0.0001, wind_power: 10.0, turbulence_power: 0.25, reward: -4435.8839653177165\n"
     ]
    },
    {
     "name": "stderr",
     "output_type": "stream",
     "text": [
      "c:\\Users\\volob\\.conda\\envs\\adlr\\lib\\site-packages\\gymnasium\\wrappers\\record_video.py:75: UserWarning:\n",
      "\n",
      "\u001b[33mWARN: Overwriting existing videos at d:\\Desktop\\reps\\TUM WS22\\tum-adlr-ws22-06\\final_validations\\sac2_with_env_params\\gravity_-0.0001_wind_10.0_turbulence_0.5 folder (try specifying a different `video_folder` for the `RecordVideo` wrapper if this is not desired)\u001b[0m\n",
      "\n"
     ]
    },
    {
     "name": "stdout",
     "output_type": "stream",
     "text": [
      "Moviepy - Building video d:\\Desktop\\reps\\TUM WS22\\tum-adlr-ws22-06\\final_validations\\sac2_with_env_params\\gravity_-0.0001_wind_10.0_turbulence_0.5\\rl-video-episode-0.mp4.\n",
      "Moviepy - Writing video d:\\Desktop\\reps\\TUM WS22\\tum-adlr-ws22-06\\final_validations\\sac2_with_env_params\\gravity_-0.0001_wind_10.0_turbulence_0.5\\rl-video-episode-0.mp4\n",
      "\n"
     ]
    },
    {
     "name": "stderr",
     "output_type": "stream",
     "text": [
      "                                                                 \r"
     ]
    },
    {
     "name": "stdout",
     "output_type": "stream",
     "text": [
      "Moviepy - Done !\n",
      "Moviepy - video ready d:\\Desktop\\reps\\TUM WS22\\tum-adlr-ws22-06\\final_validations\\sac2_with_env_params\\gravity_-0.0001_wind_10.0_turbulence_0.5\\rl-video-episode-0.mp4\n",
      "gravity: -0.0001, wind_power: 10.0, turbulence_power: 0.5, reward: -1110.0275753541446\n"
     ]
    },
    {
     "name": "stderr",
     "output_type": "stream",
     "text": [
      "c:\\Users\\volob\\.conda\\envs\\adlr\\lib\\site-packages\\gymnasium\\wrappers\\record_video.py:75: UserWarning:\n",
      "\n",
      "\u001b[33mWARN: Overwriting existing videos at d:\\Desktop\\reps\\TUM WS22\\tum-adlr-ws22-06\\final_validations\\sac2_with_env_params\\gravity_-0.0001_wind_10.0_turbulence_0.75 folder (try specifying a different `video_folder` for the `RecordVideo` wrapper if this is not desired)\u001b[0m\n",
      "\n"
     ]
    },
    {
     "name": "stdout",
     "output_type": "stream",
     "text": [
      "Moviepy - Building video d:\\Desktop\\reps\\TUM WS22\\tum-adlr-ws22-06\\final_validations\\sac2_with_env_params\\gravity_-0.0001_wind_10.0_turbulence_0.75\\rl-video-episode-0.mp4.\n",
      "Moviepy - Writing video d:\\Desktop\\reps\\TUM WS22\\tum-adlr-ws22-06\\final_validations\\sac2_with_env_params\\gravity_-0.0001_wind_10.0_turbulence_0.75\\rl-video-episode-0.mp4\n",
      "\n"
     ]
    },
    {
     "name": "stderr",
     "output_type": "stream",
     "text": [
      "                                                                 \r"
     ]
    },
    {
     "name": "stdout",
     "output_type": "stream",
     "text": [
      "Moviepy - Done !\n",
      "Moviepy - video ready d:\\Desktop\\reps\\TUM WS22\\tum-adlr-ws22-06\\final_validations\\sac2_with_env_params\\gravity_-0.0001_wind_10.0_turbulence_0.75\\rl-video-episode-0.mp4\n",
      "gravity: -0.0001, wind_power: 10.0, turbulence_power: 0.75, reward: -1957.310458701607\n"
     ]
    },
    {
     "name": "stderr",
     "output_type": "stream",
     "text": [
      "c:\\Users\\volob\\.conda\\envs\\adlr\\lib\\site-packages\\gymnasium\\wrappers\\record_video.py:75: UserWarning:\n",
      "\n",
      "\u001b[33mWARN: Overwriting existing videos at d:\\Desktop\\reps\\TUM WS22\\tum-adlr-ws22-06\\final_validations\\sac2_with_env_params\\gravity_-0.0001_wind_10.0_turbulence_1.0 folder (try specifying a different `video_folder` for the `RecordVideo` wrapper if this is not desired)\u001b[0m\n",
      "\n"
     ]
    },
    {
     "name": "stdout",
     "output_type": "stream",
     "text": [
      "Moviepy - Building video d:\\Desktop\\reps\\TUM WS22\\tum-adlr-ws22-06\\final_validations\\sac2_with_env_params\\gravity_-0.0001_wind_10.0_turbulence_1.0\\rl-video-episode-0.mp4.\n",
      "Moviepy - Writing video d:\\Desktop\\reps\\TUM WS22\\tum-adlr-ws22-06\\final_validations\\sac2_with_env_params\\gravity_-0.0001_wind_10.0_turbulence_1.0\\rl-video-episode-0.mp4\n",
      "\n"
     ]
    },
    {
     "name": "stderr",
     "output_type": "stream",
     "text": [
      "                                                                 \r"
     ]
    },
    {
     "name": "stdout",
     "output_type": "stream",
     "text": [
      "Moviepy - Done !\n",
      "Moviepy - video ready d:\\Desktop\\reps\\TUM WS22\\tum-adlr-ws22-06\\final_validations\\sac2_with_env_params\\gravity_-0.0001_wind_10.0_turbulence_1.0\\rl-video-episode-0.mp4\n",
      "gravity: -0.0001, wind_power: 10.0, turbulence_power: 1.0, reward: -153.34240470620676\n",
      "sac2_no_env_params\n"
     ]
    },
    {
     "name": "stderr",
     "output_type": "stream",
     "text": [
      "\u001b[34m\u001b[1mwandb\u001b[0m:   5 of 5 files downloaded.  \n",
      "c:\\Users\\volob\\.conda\\envs\\adlr\\lib\\site-packages\\gymnasium\\wrappers\\record_video.py:75: UserWarning:\n",
      "\n",
      "\u001b[33mWARN: Overwriting existing videos at d:\\Desktop\\reps\\TUM WS22\\tum-adlr-ws22-06\\final_validations\\sac2_no_env_params\\gravity_-11.999_wind_0_turbulence_0 folder (try specifying a different `video_folder` for the `RecordVideo` wrapper if this is not desired)\u001b[0m\n",
      "\n"
     ]
    },
    {
     "name": "stdout",
     "output_type": "stream",
     "text": [
      "Best model loaded from .\\artifacts\\lunar_lander_model-v501 with reward 152.216\n",
      "Moviepy - Building video d:\\Desktop\\reps\\TUM WS22\\tum-adlr-ws22-06\\final_validations\\sac2_no_env_params\\gravity_-11.999_wind_0_turbulence_0\\rl-video-episode-0.mp4.\n",
      "Moviepy - Writing video d:\\Desktop\\reps\\TUM WS22\\tum-adlr-ws22-06\\final_validations\\sac2_no_env_params\\gravity_-11.999_wind_0_turbulence_0\\rl-video-episode-0.mp4\n",
      "\n"
     ]
    },
    {
     "name": "stderr",
     "output_type": "stream",
     "text": [
      "c:\\Users\\volob\\.conda\\envs\\adlr\\lib\\site-packages\\gymnasium\\wrappers\\record_video.py:75: UserWarning:\n",
      "\n",
      "\u001b[33mWARN: Overwriting existing videos at d:\\Desktop\\reps\\TUM WS22\\tum-adlr-ws22-06\\final_validations\\sac2_no_env_params\\gravity_-8.999275_wind_0_turbulence_0 folder (try specifying a different `video_folder` for the `RecordVideo` wrapper if this is not desired)\u001b[0m\n",
      "\n"
     ]
    },
    {
     "name": "stdout",
     "output_type": "stream",
     "text": [
      "Moviepy - Done !\n",
      "Moviepy - video ready d:\\Desktop\\reps\\TUM WS22\\tum-adlr-ws22-06\\final_validations\\sac2_no_env_params\\gravity_-11.999_wind_0_turbulence_0\\rl-video-episode-0.mp4\n",
      "gravity: -11.999, wind_power: 0, turbulence_power: 0, reward: 270.5761305064012\n",
      "Moviepy - Building video d:\\Desktop\\reps\\TUM WS22\\tum-adlr-ws22-06\\final_validations\\sac2_no_env_params\\gravity_-8.999275_wind_0_turbulence_0\\rl-video-episode-0.mp4.\n",
      "Moviepy - Writing video d:\\Desktop\\reps\\TUM WS22\\tum-adlr-ws22-06\\final_validations\\sac2_no_env_params\\gravity_-8.999275_wind_0_turbulence_0\\rl-video-episode-0.mp4\n",
      "\n"
     ]
    },
    {
     "name": "stderr",
     "output_type": "stream",
     "text": [
      "c:\\Users\\volob\\.conda\\envs\\adlr\\lib\\site-packages\\gymnasium\\wrappers\\record_video.py:75: UserWarning:\n",
      "\n",
      "\u001b[33mWARN: Overwriting existing videos at d:\\Desktop\\reps\\TUM WS22\\tum-adlr-ws22-06\\final_validations\\sac2_no_env_params\\gravity_-5.99955_wind_0_turbulence_0 folder (try specifying a different `video_folder` for the `RecordVideo` wrapper if this is not desired)\u001b[0m\n",
      "\n"
     ]
    },
    {
     "name": "stdout",
     "output_type": "stream",
     "text": [
      "Moviepy - Done !\n",
      "Moviepy - video ready d:\\Desktop\\reps\\TUM WS22\\tum-adlr-ws22-06\\final_validations\\sac2_no_env_params\\gravity_-8.999275_wind_0_turbulence_0\\rl-video-episode-0.mp4\n",
      "gravity: -8.999275, wind_power: 0, turbulence_power: 0, reward: 294.8153713040875\n",
      "Moviepy - Building video d:\\Desktop\\reps\\TUM WS22\\tum-adlr-ws22-06\\final_validations\\sac2_no_env_params\\gravity_-5.99955_wind_0_turbulence_0\\rl-video-episode-0.mp4.\n",
      "Moviepy - Writing video d:\\Desktop\\reps\\TUM WS22\\tum-adlr-ws22-06\\final_validations\\sac2_no_env_params\\gravity_-5.99955_wind_0_turbulence_0\\rl-video-episode-0.mp4\n",
      "\n"
     ]
    },
    {
     "name": "stderr",
     "output_type": "stream",
     "text": [
      "c:\\Users\\volob\\.conda\\envs\\adlr\\lib\\site-packages\\gymnasium\\wrappers\\record_video.py:75: UserWarning:\n",
      "\n",
      "\u001b[33mWARN: Overwriting existing videos at d:\\Desktop\\reps\\TUM WS22\\tum-adlr-ws22-06\\final_validations\\sac2_no_env_params\\gravity_-2.9998249999999995_wind_0_turbulence_0 folder (try specifying a different `video_folder` for the `RecordVideo` wrapper if this is not desired)\u001b[0m\n",
      "\n"
     ]
    },
    {
     "name": "stdout",
     "output_type": "stream",
     "text": [
      "Moviepy - Done !\n",
      "Moviepy - video ready d:\\Desktop\\reps\\TUM WS22\\tum-adlr-ws22-06\\final_validations\\sac2_no_env_params\\gravity_-5.99955_wind_0_turbulence_0\\rl-video-episode-0.mp4\n",
      "gravity: -5.99955, wind_power: 0, turbulence_power: 0, reward: 293.5009211154557\n",
      "Moviepy - Building video d:\\Desktop\\reps\\TUM WS22\\tum-adlr-ws22-06\\final_validations\\sac2_no_env_params\\gravity_-2.9998249999999995_wind_0_turbulence_0\\rl-video-episode-0.mp4.\n",
      "Moviepy - Writing video d:\\Desktop\\reps\\TUM WS22\\tum-adlr-ws22-06\\final_validations\\sac2_no_env_params\\gravity_-2.9998249999999995_wind_0_turbulence_0\\rl-video-episode-0.mp4\n",
      "\n"
     ]
    },
    {
     "name": "stderr",
     "output_type": "stream",
     "text": [
      "c:\\Users\\volob\\.conda\\envs\\adlr\\lib\\site-packages\\gymnasium\\wrappers\\record_video.py:75: UserWarning:\n",
      "\n",
      "\u001b[33mWARN: Overwriting existing videos at d:\\Desktop\\reps\\TUM WS22\\tum-adlr-ws22-06\\final_validations\\sac2_no_env_params\\gravity_-0.0001_wind_0_turbulence_0 folder (try specifying a different `video_folder` for the `RecordVideo` wrapper if this is not desired)\u001b[0m\n",
      "\n"
     ]
    },
    {
     "name": "stdout",
     "output_type": "stream",
     "text": [
      "Moviepy - Done !\n",
      "Moviepy - video ready d:\\Desktop\\reps\\TUM WS22\\tum-adlr-ws22-06\\final_validations\\sac2_no_env_params\\gravity_-2.9998249999999995_wind_0_turbulence_0\\rl-video-episode-0.mp4\n",
      "gravity: -2.9998249999999995, wind_power: 0, turbulence_power: 0, reward: 292.6805468199638\n",
      "Moviepy - Building video d:\\Desktop\\reps\\TUM WS22\\tum-adlr-ws22-06\\final_validations\\sac2_no_env_params\\gravity_-0.0001_wind_0_turbulence_0\\rl-video-episode-0.mp4.\n",
      "Moviepy - Writing video d:\\Desktop\\reps\\TUM WS22\\tum-adlr-ws22-06\\final_validations\\sac2_no_env_params\\gravity_-0.0001_wind_0_turbulence_0\\rl-video-episode-0.mp4\n",
      "\n"
     ]
    },
    {
     "name": "stderr",
     "output_type": "stream",
     "text": [
      "c:\\Users\\volob\\.conda\\envs\\adlr\\lib\\site-packages\\gymnasium\\wrappers\\record_video.py:75: UserWarning:\n",
      "\n",
      "\u001b[33mWARN: Overwriting existing videos at d:\\Desktop\\reps\\TUM WS22\\tum-adlr-ws22-06\\final_validations\\sac2_no_env_params\\gravity_-11.999_wind_0.0_turbulence_0.0 folder (try specifying a different `video_folder` for the `RecordVideo` wrapper if this is not desired)\u001b[0m\n",
      "\n"
     ]
    },
    {
     "name": "stdout",
     "output_type": "stream",
     "text": [
      "Moviepy - Done !\n",
      "Moviepy - video ready d:\\Desktop\\reps\\TUM WS22\\tum-adlr-ws22-06\\final_validations\\sac2_no_env_params\\gravity_-0.0001_wind_0_turbulence_0\\rl-video-episode-0.mp4\n",
      "gravity: -0.0001, wind_power: 0, turbulence_power: 0, reward: -110.30138579100176\n",
      "Moviepy - Building video d:\\Desktop\\reps\\TUM WS22\\tum-adlr-ws22-06\\final_validations\\sac2_no_env_params\\gravity_-11.999_wind_0.0_turbulence_0.0\\rl-video-episode-0.mp4.\n",
      "Moviepy - Writing video d:\\Desktop\\reps\\TUM WS22\\tum-adlr-ws22-06\\final_validations\\sac2_no_env_params\\gravity_-11.999_wind_0.0_turbulence_0.0\\rl-video-episode-0.mp4\n",
      "\n"
     ]
    },
    {
     "name": "stderr",
     "output_type": "stream",
     "text": [
      "c:\\Users\\volob\\.conda\\envs\\adlr\\lib\\site-packages\\gymnasium\\wrappers\\record_video.py:75: UserWarning:\n",
      "\n",
      "\u001b[33mWARN: Overwriting existing videos at d:\\Desktop\\reps\\TUM WS22\\tum-adlr-ws22-06\\final_validations\\sac2_no_env_params\\gravity_-11.999_wind_0.0_turbulence_0.25 folder (try specifying a different `video_folder` for the `RecordVideo` wrapper if this is not desired)\u001b[0m\n",
      "\n"
     ]
    },
    {
     "name": "stdout",
     "output_type": "stream",
     "text": [
      "Moviepy - Done !\n",
      "Moviepy - video ready d:\\Desktop\\reps\\TUM WS22\\tum-adlr-ws22-06\\final_validations\\sac2_no_env_params\\gravity_-11.999_wind_0.0_turbulence_0.0\\rl-video-episode-0.mp4\n",
      "gravity: -11.999, wind_power: 0.0, turbulence_power: 0.0, reward: 270.5761305064012\n",
      "Moviepy - Building video d:\\Desktop\\reps\\TUM WS22\\tum-adlr-ws22-06\\final_validations\\sac2_no_env_params\\gravity_-11.999_wind_0.0_turbulence_0.25\\rl-video-episode-0.mp4.\n",
      "Moviepy - Writing video d:\\Desktop\\reps\\TUM WS22\\tum-adlr-ws22-06\\final_validations\\sac2_no_env_params\\gravity_-11.999_wind_0.0_turbulence_0.25\\rl-video-episode-0.mp4\n",
      "\n"
     ]
    },
    {
     "name": "stderr",
     "output_type": "stream",
     "text": [
      "c:\\Users\\volob\\.conda\\envs\\adlr\\lib\\site-packages\\gymnasium\\wrappers\\record_video.py:75: UserWarning:\n",
      "\n",
      "\u001b[33mWARN: Overwriting existing videos at d:\\Desktop\\reps\\TUM WS22\\tum-adlr-ws22-06\\final_validations\\sac2_no_env_params\\gravity_-11.999_wind_0.0_turbulence_0.5 folder (try specifying a different `video_folder` for the `RecordVideo` wrapper if this is not desired)\u001b[0m\n",
      "\n"
     ]
    },
    {
     "name": "stdout",
     "output_type": "stream",
     "text": [
      "Moviepy - Done !\n",
      "Moviepy - video ready d:\\Desktop\\reps\\TUM WS22\\tum-adlr-ws22-06\\final_validations\\sac2_no_env_params\\gravity_-11.999_wind_0.0_turbulence_0.25\\rl-video-episode-0.mp4\n",
      "gravity: -11.999, wind_power: 0.0, turbulence_power: 0.25, reward: 279.4359180967816\n",
      "Moviepy - Building video d:\\Desktop\\reps\\TUM WS22\\tum-adlr-ws22-06\\final_validations\\sac2_no_env_params\\gravity_-11.999_wind_0.0_turbulence_0.5\\rl-video-episode-0.mp4.\n",
      "Moviepy - Writing video d:\\Desktop\\reps\\TUM WS22\\tum-adlr-ws22-06\\final_validations\\sac2_no_env_params\\gravity_-11.999_wind_0.0_turbulence_0.5\\rl-video-episode-0.mp4\n",
      "\n"
     ]
    },
    {
     "name": "stderr",
     "output_type": "stream",
     "text": [
      "c:\\Users\\volob\\.conda\\envs\\adlr\\lib\\site-packages\\gymnasium\\wrappers\\record_video.py:75: UserWarning:\n",
      "\n",
      "\u001b[33mWARN: Overwriting existing videos at d:\\Desktop\\reps\\TUM WS22\\tum-adlr-ws22-06\\final_validations\\sac2_no_env_params\\gravity_-11.999_wind_0.0_turbulence_0.75 folder (try specifying a different `video_folder` for the `RecordVideo` wrapper if this is not desired)\u001b[0m\n",
      "\n"
     ]
    },
    {
     "name": "stdout",
     "output_type": "stream",
     "text": [
      "Moviepy - Done !\n",
      "Moviepy - video ready d:\\Desktop\\reps\\TUM WS22\\tum-adlr-ws22-06\\final_validations\\sac2_no_env_params\\gravity_-11.999_wind_0.0_turbulence_0.5\\rl-video-episode-0.mp4\n",
      "gravity: -11.999, wind_power: 0.0, turbulence_power: 0.5, reward: 269.3094242633926\n",
      "Moviepy - Building video d:\\Desktop\\reps\\TUM WS22\\tum-adlr-ws22-06\\final_validations\\sac2_no_env_params\\gravity_-11.999_wind_0.0_turbulence_0.75\\rl-video-episode-0.mp4.\n",
      "Moviepy - Writing video d:\\Desktop\\reps\\TUM WS22\\tum-adlr-ws22-06\\final_validations\\sac2_no_env_params\\gravity_-11.999_wind_0.0_turbulence_0.75\\rl-video-episode-0.mp4\n",
      "\n"
     ]
    },
    {
     "name": "stderr",
     "output_type": "stream",
     "text": [
      "c:\\Users\\volob\\.conda\\envs\\adlr\\lib\\site-packages\\gymnasium\\wrappers\\record_video.py:75: UserWarning:\n",
      "\n",
      "\u001b[33mWARN: Overwriting existing videos at d:\\Desktop\\reps\\TUM WS22\\tum-adlr-ws22-06\\final_validations\\sac2_no_env_params\\gravity_-11.999_wind_0.0_turbulence_1.0 folder (try specifying a different `video_folder` for the `RecordVideo` wrapper if this is not desired)\u001b[0m\n",
      "\n"
     ]
    },
    {
     "name": "stdout",
     "output_type": "stream",
     "text": [
      "Moviepy - Done !\n",
      "Moviepy - video ready d:\\Desktop\\reps\\TUM WS22\\tum-adlr-ws22-06\\final_validations\\sac2_no_env_params\\gravity_-11.999_wind_0.0_turbulence_0.75\\rl-video-episode-0.mp4\n",
      "gravity: -11.999, wind_power: 0.0, turbulence_power: 0.75, reward: 278.55592344564866\n",
      "Moviepy - Building video d:\\Desktop\\reps\\TUM WS22\\tum-adlr-ws22-06\\final_validations\\sac2_no_env_params\\gravity_-11.999_wind_0.0_turbulence_1.0\\rl-video-episode-0.mp4.\n",
      "Moviepy - Writing video d:\\Desktop\\reps\\TUM WS22\\tum-adlr-ws22-06\\final_validations\\sac2_no_env_params\\gravity_-11.999_wind_0.0_turbulence_1.0\\rl-video-episode-0.mp4\n",
      "\n"
     ]
    },
    {
     "name": "stderr",
     "output_type": "stream",
     "text": [
      "c:\\Users\\volob\\.conda\\envs\\adlr\\lib\\site-packages\\gymnasium\\wrappers\\record_video.py:75: UserWarning:\n",
      "\n",
      "\u001b[33mWARN: Overwriting existing videos at d:\\Desktop\\reps\\TUM WS22\\tum-adlr-ws22-06\\final_validations\\sac2_no_env_params\\gravity_-11.999_wind_2.5_turbulence_0.0 folder (try specifying a different `video_folder` for the `RecordVideo` wrapper if this is not desired)\u001b[0m\n",
      "\n"
     ]
    },
    {
     "name": "stdout",
     "output_type": "stream",
     "text": [
      "Moviepy - Done !\n",
      "Moviepy - video ready d:\\Desktop\\reps\\TUM WS22\\tum-adlr-ws22-06\\final_validations\\sac2_no_env_params\\gravity_-11.999_wind_0.0_turbulence_1.0\\rl-video-episode-0.mp4\n",
      "gravity: -11.999, wind_power: 0.0, turbulence_power: 1.0, reward: 269.23716125385977\n",
      "Moviepy - Building video d:\\Desktop\\reps\\TUM WS22\\tum-adlr-ws22-06\\final_validations\\sac2_no_env_params\\gravity_-11.999_wind_2.5_turbulence_0.0\\rl-video-episode-0.mp4.\n",
      "Moviepy - Writing video d:\\Desktop\\reps\\TUM WS22\\tum-adlr-ws22-06\\final_validations\\sac2_no_env_params\\gravity_-11.999_wind_2.5_turbulence_0.0\\rl-video-episode-0.mp4\n",
      "\n"
     ]
    },
    {
     "name": "stderr",
     "output_type": "stream",
     "text": [
      "c:\\Users\\volob\\.conda\\envs\\adlr\\lib\\site-packages\\gymnasium\\wrappers\\record_video.py:75: UserWarning:\n",
      "\n",
      "\u001b[33mWARN: Overwriting existing videos at d:\\Desktop\\reps\\TUM WS22\\tum-adlr-ws22-06\\final_validations\\sac2_no_env_params\\gravity_-11.999_wind_2.5_turbulence_0.25 folder (try specifying a different `video_folder` for the `RecordVideo` wrapper if this is not desired)\u001b[0m\n",
      "\n"
     ]
    },
    {
     "name": "stdout",
     "output_type": "stream",
     "text": [
      "Moviepy - Done !\n",
      "Moviepy - video ready d:\\Desktop\\reps\\TUM WS22\\tum-adlr-ws22-06\\final_validations\\sac2_no_env_params\\gravity_-11.999_wind_2.5_turbulence_0.0\\rl-video-episode-0.mp4\n",
      "gravity: -11.999, wind_power: 2.5, turbulence_power: 0.0, reward: 270.6086616707518\n",
      "Moviepy - Building video d:\\Desktop\\reps\\TUM WS22\\tum-adlr-ws22-06\\final_validations\\sac2_no_env_params\\gravity_-11.999_wind_2.5_turbulence_0.25\\rl-video-episode-0.mp4.\n",
      "Moviepy - Writing video d:\\Desktop\\reps\\TUM WS22\\tum-adlr-ws22-06\\final_validations\\sac2_no_env_params\\gravity_-11.999_wind_2.5_turbulence_0.25\\rl-video-episode-0.mp4\n",
      "\n"
     ]
    },
    {
     "name": "stderr",
     "output_type": "stream",
     "text": [
      "c:\\Users\\volob\\.conda\\envs\\adlr\\lib\\site-packages\\gymnasium\\wrappers\\record_video.py:75: UserWarning:\n",
      "\n",
      "\u001b[33mWARN: Overwriting existing videos at d:\\Desktop\\reps\\TUM WS22\\tum-adlr-ws22-06\\final_validations\\sac2_no_env_params\\gravity_-11.999_wind_2.5_turbulence_0.5 folder (try specifying a different `video_folder` for the `RecordVideo` wrapper if this is not desired)\u001b[0m\n",
      "\n"
     ]
    },
    {
     "name": "stdout",
     "output_type": "stream",
     "text": [
      "Moviepy - Done !\n",
      "Moviepy - video ready d:\\Desktop\\reps\\TUM WS22\\tum-adlr-ws22-06\\final_validations\\sac2_no_env_params\\gravity_-11.999_wind_2.5_turbulence_0.25\\rl-video-episode-0.mp4\n",
      "gravity: -11.999, wind_power: 2.5, turbulence_power: 0.25, reward: 279.8492344344254\n",
      "Moviepy - Building video d:\\Desktop\\reps\\TUM WS22\\tum-adlr-ws22-06\\final_validations\\sac2_no_env_params\\gravity_-11.999_wind_2.5_turbulence_0.5\\rl-video-episode-0.mp4.\n",
      "Moviepy - Writing video d:\\Desktop\\reps\\TUM WS22\\tum-adlr-ws22-06\\final_validations\\sac2_no_env_params\\gravity_-11.999_wind_2.5_turbulence_0.5\\rl-video-episode-0.mp4\n",
      "\n"
     ]
    },
    {
     "name": "stderr",
     "output_type": "stream",
     "text": [
      "c:\\Users\\volob\\.conda\\envs\\adlr\\lib\\site-packages\\gymnasium\\wrappers\\record_video.py:75: UserWarning:\n",
      "\n",
      "\u001b[33mWARN: Overwriting existing videos at d:\\Desktop\\reps\\TUM WS22\\tum-adlr-ws22-06\\final_validations\\sac2_no_env_params\\gravity_-11.999_wind_2.5_turbulence_0.75 folder (try specifying a different `video_folder` for the `RecordVideo` wrapper if this is not desired)\u001b[0m\n",
      "\n"
     ]
    },
    {
     "name": "stdout",
     "output_type": "stream",
     "text": [
      "Moviepy - Done !\n",
      "Moviepy - video ready d:\\Desktop\\reps\\TUM WS22\\tum-adlr-ws22-06\\final_validations\\sac2_no_env_params\\gravity_-11.999_wind_2.5_turbulence_0.5\\rl-video-episode-0.mp4\n",
      "gravity: -11.999, wind_power: 2.5, turbulence_power: 0.5, reward: 278.8372611717285\n",
      "Moviepy - Building video d:\\Desktop\\reps\\TUM WS22\\tum-adlr-ws22-06\\final_validations\\sac2_no_env_params\\gravity_-11.999_wind_2.5_turbulence_0.75\\rl-video-episode-0.mp4.\n",
      "Moviepy - Writing video d:\\Desktop\\reps\\TUM WS22\\tum-adlr-ws22-06\\final_validations\\sac2_no_env_params\\gravity_-11.999_wind_2.5_turbulence_0.75\\rl-video-episode-0.mp4\n",
      "\n"
     ]
    },
    {
     "name": "stderr",
     "output_type": "stream",
     "text": [
      "c:\\Users\\volob\\.conda\\envs\\adlr\\lib\\site-packages\\gymnasium\\wrappers\\record_video.py:75: UserWarning:\n",
      "\n",
      "\u001b[33mWARN: Overwriting existing videos at d:\\Desktop\\reps\\TUM WS22\\tum-adlr-ws22-06\\final_validations\\sac2_no_env_params\\gravity_-11.999_wind_2.5_turbulence_1.0 folder (try specifying a different `video_folder` for the `RecordVideo` wrapper if this is not desired)\u001b[0m\n",
      "\n"
     ]
    },
    {
     "name": "stdout",
     "output_type": "stream",
     "text": [
      "Moviepy - Done !\n",
      "Moviepy - video ready d:\\Desktop\\reps\\TUM WS22\\tum-adlr-ws22-06\\final_validations\\sac2_no_env_params\\gravity_-11.999_wind_2.5_turbulence_0.75\\rl-video-episode-0.mp4\n",
      "gravity: -11.999, wind_power: 2.5, turbulence_power: 0.75, reward: 268.24149842646204\n",
      "Moviepy - Building video d:\\Desktop\\reps\\TUM WS22\\tum-adlr-ws22-06\\final_validations\\sac2_no_env_params\\gravity_-11.999_wind_2.5_turbulence_1.0\\rl-video-episode-0.mp4.\n",
      "Moviepy - Writing video d:\\Desktop\\reps\\TUM WS22\\tum-adlr-ws22-06\\final_validations\\sac2_no_env_params\\gravity_-11.999_wind_2.5_turbulence_1.0\\rl-video-episode-0.mp4\n",
      "\n"
     ]
    },
    {
     "name": "stderr",
     "output_type": "stream",
     "text": [
      "c:\\Users\\volob\\.conda\\envs\\adlr\\lib\\site-packages\\gymnasium\\wrappers\\record_video.py:75: UserWarning:\n",
      "\n",
      "\u001b[33mWARN: Overwriting existing videos at d:\\Desktop\\reps\\TUM WS22\\tum-adlr-ws22-06\\final_validations\\sac2_no_env_params\\gravity_-11.999_wind_5.0_turbulence_0.0 folder (try specifying a different `video_folder` for the `RecordVideo` wrapper if this is not desired)\u001b[0m\n",
      "\n"
     ]
    },
    {
     "name": "stdout",
     "output_type": "stream",
     "text": [
      "Moviepy - Done !\n",
      "Moviepy - video ready d:\\Desktop\\reps\\TUM WS22\\tum-adlr-ws22-06\\final_validations\\sac2_no_env_params\\gravity_-11.999_wind_2.5_turbulence_1.0\\rl-video-episode-0.mp4\n",
      "gravity: -11.999, wind_power: 2.5, turbulence_power: 1.0, reward: 271.92375716040317\n",
      "Moviepy - Building video d:\\Desktop\\reps\\TUM WS22\\tum-adlr-ws22-06\\final_validations\\sac2_no_env_params\\gravity_-11.999_wind_5.0_turbulence_0.0\\rl-video-episode-0.mp4.\n",
      "Moviepy - Writing video d:\\Desktop\\reps\\TUM WS22\\tum-adlr-ws22-06\\final_validations\\sac2_no_env_params\\gravity_-11.999_wind_5.0_turbulence_0.0\\rl-video-episode-0.mp4\n",
      "\n"
     ]
    },
    {
     "name": "stderr",
     "output_type": "stream",
     "text": [
      "c:\\Users\\volob\\.conda\\envs\\adlr\\lib\\site-packages\\gymnasium\\wrappers\\record_video.py:75: UserWarning:\n",
      "\n",
      "\u001b[33mWARN: Overwriting existing videos at d:\\Desktop\\reps\\TUM WS22\\tum-adlr-ws22-06\\final_validations\\sac2_no_env_params\\gravity_-11.999_wind_5.0_turbulence_0.25 folder (try specifying a different `video_folder` for the `RecordVideo` wrapper if this is not desired)\u001b[0m\n",
      "\n"
     ]
    },
    {
     "name": "stdout",
     "output_type": "stream",
     "text": [
      "Moviepy - Done !\n",
      "Moviepy - video ready d:\\Desktop\\reps\\TUM WS22\\tum-adlr-ws22-06\\final_validations\\sac2_no_env_params\\gravity_-11.999_wind_5.0_turbulence_0.0\\rl-video-episode-0.mp4\n",
      "gravity: -11.999, wind_power: 5.0, turbulence_power: 0.0, reward: 288.7448211495237\n",
      "Moviepy - Building video d:\\Desktop\\reps\\TUM WS22\\tum-adlr-ws22-06\\final_validations\\sac2_no_env_params\\gravity_-11.999_wind_5.0_turbulence_0.25\\rl-video-episode-0.mp4.\n",
      "Moviepy - Writing video d:\\Desktop\\reps\\TUM WS22\\tum-adlr-ws22-06\\final_validations\\sac2_no_env_params\\gravity_-11.999_wind_5.0_turbulence_0.25\\rl-video-episode-0.mp4\n",
      "\n"
     ]
    },
    {
     "name": "stderr",
     "output_type": "stream",
     "text": [
      "c:\\Users\\volob\\.conda\\envs\\adlr\\lib\\site-packages\\gymnasium\\wrappers\\record_video.py:75: UserWarning:\n",
      "\n",
      "\u001b[33mWARN: Overwriting existing videos at d:\\Desktop\\reps\\TUM WS22\\tum-adlr-ws22-06\\final_validations\\sac2_no_env_params\\gravity_-11.999_wind_5.0_turbulence_0.5 folder (try specifying a different `video_folder` for the `RecordVideo` wrapper if this is not desired)\u001b[0m\n",
      "\n"
     ]
    },
    {
     "name": "stdout",
     "output_type": "stream",
     "text": [
      "Moviepy - Done !\n",
      "Moviepy - video ready d:\\Desktop\\reps\\TUM WS22\\tum-adlr-ws22-06\\final_validations\\sac2_no_env_params\\gravity_-11.999_wind_5.0_turbulence_0.25\\rl-video-episode-0.mp4\n",
      "gravity: -11.999, wind_power: 5.0, turbulence_power: 0.25, reward: 279.0118824512639\n",
      "Moviepy - Building video d:\\Desktop\\reps\\TUM WS22\\tum-adlr-ws22-06\\final_validations\\sac2_no_env_params\\gravity_-11.999_wind_5.0_turbulence_0.5\\rl-video-episode-0.mp4.\n",
      "Moviepy - Writing video d:\\Desktop\\reps\\TUM WS22\\tum-adlr-ws22-06\\final_validations\\sac2_no_env_params\\gravity_-11.999_wind_5.0_turbulence_0.5\\rl-video-episode-0.mp4\n",
      "\n"
     ]
    },
    {
     "name": "stderr",
     "output_type": "stream",
     "text": [
      "c:\\Users\\volob\\.conda\\envs\\adlr\\lib\\site-packages\\gymnasium\\wrappers\\record_video.py:75: UserWarning:\n",
      "\n",
      "\u001b[33mWARN: Overwriting existing videos at d:\\Desktop\\reps\\TUM WS22\\tum-adlr-ws22-06\\final_validations\\sac2_no_env_params\\gravity_-11.999_wind_5.0_turbulence_0.75 folder (try specifying a different `video_folder` for the `RecordVideo` wrapper if this is not desired)\u001b[0m\n",
      "\n"
     ]
    },
    {
     "name": "stdout",
     "output_type": "stream",
     "text": [
      "Moviepy - Done !\n",
      "Moviepy - video ready d:\\Desktop\\reps\\TUM WS22\\tum-adlr-ws22-06\\final_validations\\sac2_no_env_params\\gravity_-11.999_wind_5.0_turbulence_0.5\\rl-video-episode-0.mp4\n",
      "gravity: -11.999, wind_power: 5.0, turbulence_power: 0.5, reward: 277.83345760990073\n",
      "Moviepy - Building video d:\\Desktop\\reps\\TUM WS22\\tum-adlr-ws22-06\\final_validations\\sac2_no_env_params\\gravity_-11.999_wind_5.0_turbulence_0.75\\rl-video-episode-0.mp4.\n",
      "Moviepy - Writing video d:\\Desktop\\reps\\TUM WS22\\tum-adlr-ws22-06\\final_validations\\sac2_no_env_params\\gravity_-11.999_wind_5.0_turbulence_0.75\\rl-video-episode-0.mp4\n",
      "\n"
     ]
    },
    {
     "name": "stderr",
     "output_type": "stream",
     "text": [
      "c:\\Users\\volob\\.conda\\envs\\adlr\\lib\\site-packages\\gymnasium\\wrappers\\record_video.py:75: UserWarning:\n",
      "\n",
      "\u001b[33mWARN: Overwriting existing videos at d:\\Desktop\\reps\\TUM WS22\\tum-adlr-ws22-06\\final_validations\\sac2_no_env_params\\gravity_-11.999_wind_5.0_turbulence_1.0 folder (try specifying a different `video_folder` for the `RecordVideo` wrapper if this is not desired)\u001b[0m\n",
      "\n"
     ]
    },
    {
     "name": "stdout",
     "output_type": "stream",
     "text": [
      "Moviepy - Done !\n",
      "Moviepy - video ready d:\\Desktop\\reps\\TUM WS22\\tum-adlr-ws22-06\\final_validations\\sac2_no_env_params\\gravity_-11.999_wind_5.0_turbulence_0.75\\rl-video-episode-0.mp4\n",
      "gravity: -11.999, wind_power: 5.0, turbulence_power: 0.75, reward: 288.4098110869962\n",
      "Moviepy - Building video d:\\Desktop\\reps\\TUM WS22\\tum-adlr-ws22-06\\final_validations\\sac2_no_env_params\\gravity_-11.999_wind_5.0_turbulence_1.0\\rl-video-episode-0.mp4.\n",
      "Moviepy - Writing video d:\\Desktop\\reps\\TUM WS22\\tum-adlr-ws22-06\\final_validations\\sac2_no_env_params\\gravity_-11.999_wind_5.0_turbulence_1.0\\rl-video-episode-0.mp4\n",
      "\n"
     ]
    },
    {
     "name": "stderr",
     "output_type": "stream",
     "text": [
      "c:\\Users\\volob\\.conda\\envs\\adlr\\lib\\site-packages\\gymnasium\\wrappers\\record_video.py:75: UserWarning:\n",
      "\n",
      "\u001b[33mWARN: Overwriting existing videos at d:\\Desktop\\reps\\TUM WS22\\tum-adlr-ws22-06\\final_validations\\sac2_no_env_params\\gravity_-11.999_wind_7.5_turbulence_0.0 folder (try specifying a different `video_folder` for the `RecordVideo` wrapper if this is not desired)\u001b[0m\n",
      "\n"
     ]
    },
    {
     "name": "stdout",
     "output_type": "stream",
     "text": [
      "Moviepy - Done !\n",
      "Moviepy - video ready d:\\Desktop\\reps\\TUM WS22\\tum-adlr-ws22-06\\final_validations\\sac2_no_env_params\\gravity_-11.999_wind_5.0_turbulence_1.0\\rl-video-episode-0.mp4\n",
      "gravity: -11.999, wind_power: 5.0, turbulence_power: 1.0, reward: 287.5620630528158\n",
      "Moviepy - Building video d:\\Desktop\\reps\\TUM WS22\\tum-adlr-ws22-06\\final_validations\\sac2_no_env_params\\gravity_-11.999_wind_7.5_turbulence_0.0\\rl-video-episode-0.mp4.\n",
      "Moviepy - Writing video d:\\Desktop\\reps\\TUM WS22\\tum-adlr-ws22-06\\final_validations\\sac2_no_env_params\\gravity_-11.999_wind_7.5_turbulence_0.0\\rl-video-episode-0.mp4\n",
      "\n"
     ]
    },
    {
     "name": "stderr",
     "output_type": "stream",
     "text": [
      "c:\\Users\\volob\\.conda\\envs\\adlr\\lib\\site-packages\\gymnasium\\wrappers\\record_video.py:75: UserWarning:\n",
      "\n",
      "\u001b[33mWARN: Overwriting existing videos at d:\\Desktop\\reps\\TUM WS22\\tum-adlr-ws22-06\\final_validations\\sac2_no_env_params\\gravity_-11.999_wind_7.5_turbulence_0.25 folder (try specifying a different `video_folder` for the `RecordVideo` wrapper if this is not desired)\u001b[0m\n",
      "\n"
     ]
    },
    {
     "name": "stdout",
     "output_type": "stream",
     "text": [
      "Moviepy - Done !\n",
      "Moviepy - video ready d:\\Desktop\\reps\\TUM WS22\\tum-adlr-ws22-06\\final_validations\\sac2_no_env_params\\gravity_-11.999_wind_7.5_turbulence_0.0\\rl-video-episode-0.mp4\n",
      "gravity: -11.999, wind_power: 7.5, turbulence_power: 0.0, reward: 288.72383494023086\n",
      "Moviepy - Building video d:\\Desktop\\reps\\TUM WS22\\tum-adlr-ws22-06\\final_validations\\sac2_no_env_params\\gravity_-11.999_wind_7.5_turbulence_0.25\\rl-video-episode-0.mp4.\n",
      "Moviepy - Writing video d:\\Desktop\\reps\\TUM WS22\\tum-adlr-ws22-06\\final_validations\\sac2_no_env_params\\gravity_-11.999_wind_7.5_turbulence_0.25\\rl-video-episode-0.mp4\n",
      "\n"
     ]
    },
    {
     "name": "stderr",
     "output_type": "stream",
     "text": [
      "c:\\Users\\volob\\.conda\\envs\\adlr\\lib\\site-packages\\gymnasium\\wrappers\\record_video.py:75: UserWarning:\n",
      "\n",
      "\u001b[33mWARN: Overwriting existing videos at d:\\Desktop\\reps\\TUM WS22\\tum-adlr-ws22-06\\final_validations\\sac2_no_env_params\\gravity_-11.999_wind_7.5_turbulence_0.5 folder (try specifying a different `video_folder` for the `RecordVideo` wrapper if this is not desired)\u001b[0m\n",
      "\n"
     ]
    },
    {
     "name": "stdout",
     "output_type": "stream",
     "text": [
      "Moviepy - Done !\n",
      "Moviepy - video ready d:\\Desktop\\reps\\TUM WS22\\tum-adlr-ws22-06\\final_validations\\sac2_no_env_params\\gravity_-11.999_wind_7.5_turbulence_0.25\\rl-video-episode-0.mp4\n",
      "gravity: -11.999, wind_power: 7.5, turbulence_power: 0.25, reward: 290.68018354577316\n",
      "Moviepy - Building video d:\\Desktop\\reps\\TUM WS22\\tum-adlr-ws22-06\\final_validations\\sac2_no_env_params\\gravity_-11.999_wind_7.5_turbulence_0.5\\rl-video-episode-0.mp4.\n",
      "Moviepy - Writing video d:\\Desktop\\reps\\TUM WS22\\tum-adlr-ws22-06\\final_validations\\sac2_no_env_params\\gravity_-11.999_wind_7.5_turbulence_0.5\\rl-video-episode-0.mp4\n",
      "\n"
     ]
    },
    {
     "name": "stderr",
     "output_type": "stream",
     "text": [
      "c:\\Users\\volob\\.conda\\envs\\adlr\\lib\\site-packages\\gymnasium\\wrappers\\record_video.py:75: UserWarning:\n",
      "\n",
      "\u001b[33mWARN: Overwriting existing videos at d:\\Desktop\\reps\\TUM WS22\\tum-adlr-ws22-06\\final_validations\\sac2_no_env_params\\gravity_-11.999_wind_7.5_turbulence_0.75 folder (try specifying a different `video_folder` for the `RecordVideo` wrapper if this is not desired)\u001b[0m\n",
      "\n"
     ]
    },
    {
     "name": "stdout",
     "output_type": "stream",
     "text": [
      "Moviepy - Done !\n",
      "Moviepy - video ready d:\\Desktop\\reps\\TUM WS22\\tum-adlr-ws22-06\\final_validations\\sac2_no_env_params\\gravity_-11.999_wind_7.5_turbulence_0.5\\rl-video-episode-0.mp4\n",
      "gravity: -11.999, wind_power: 7.5, turbulence_power: 0.5, reward: 293.5519912577503\n",
      "Moviepy - Building video d:\\Desktop\\reps\\TUM WS22\\tum-adlr-ws22-06\\final_validations\\sac2_no_env_params\\gravity_-11.999_wind_7.5_turbulence_0.75\\rl-video-episode-0.mp4.\n",
      "Moviepy - Writing video d:\\Desktop\\reps\\TUM WS22\\tum-adlr-ws22-06\\final_validations\\sac2_no_env_params\\gravity_-11.999_wind_7.5_turbulence_0.75\\rl-video-episode-0.mp4\n",
      "\n"
     ]
    },
    {
     "name": "stderr",
     "output_type": "stream",
     "text": [
      "c:\\Users\\volob\\.conda\\envs\\adlr\\lib\\site-packages\\gymnasium\\wrappers\\record_video.py:75: UserWarning:\n",
      "\n",
      "\u001b[33mWARN: Overwriting existing videos at d:\\Desktop\\reps\\TUM WS22\\tum-adlr-ws22-06\\final_validations\\sac2_no_env_params\\gravity_-11.999_wind_7.5_turbulence_1.0 folder (try specifying a different `video_folder` for the `RecordVideo` wrapper if this is not desired)\u001b[0m\n",
      "\n"
     ]
    },
    {
     "name": "stdout",
     "output_type": "stream",
     "text": [
      "Moviepy - Done !\n",
      "Moviepy - video ready d:\\Desktop\\reps\\TUM WS22\\tum-adlr-ws22-06\\final_validations\\sac2_no_env_params\\gravity_-11.999_wind_7.5_turbulence_0.75\\rl-video-episode-0.mp4\n",
      "gravity: -11.999, wind_power: 7.5, turbulence_power: 0.75, reward: 289.07090478923794\n",
      "Moviepy - Building video d:\\Desktop\\reps\\TUM WS22\\tum-adlr-ws22-06\\final_validations\\sac2_no_env_params\\gravity_-11.999_wind_7.5_turbulence_1.0\\rl-video-episode-0.mp4.\n",
      "Moviepy - Writing video d:\\Desktop\\reps\\TUM WS22\\tum-adlr-ws22-06\\final_validations\\sac2_no_env_params\\gravity_-11.999_wind_7.5_turbulence_1.0\\rl-video-episode-0.mp4\n",
      "\n"
     ]
    },
    {
     "name": "stderr",
     "output_type": "stream",
     "text": [
      "c:\\Users\\volob\\.conda\\envs\\adlr\\lib\\site-packages\\gymnasium\\wrappers\\record_video.py:75: UserWarning:\n",
      "\n",
      "\u001b[33mWARN: Overwriting existing videos at d:\\Desktop\\reps\\TUM WS22\\tum-adlr-ws22-06\\final_validations\\sac2_no_env_params\\gravity_-11.999_wind_10.0_turbulence_0.0 folder (try specifying a different `video_folder` for the `RecordVideo` wrapper if this is not desired)\u001b[0m\n",
      "\n"
     ]
    },
    {
     "name": "stdout",
     "output_type": "stream",
     "text": [
      "Moviepy - Done !\n",
      "Moviepy - video ready d:\\Desktop\\reps\\TUM WS22\\tum-adlr-ws22-06\\final_validations\\sac2_no_env_params\\gravity_-11.999_wind_7.5_turbulence_1.0\\rl-video-episode-0.mp4\n",
      "gravity: -11.999, wind_power: 7.5, turbulence_power: 1.0, reward: 288.4897354372339\n",
      "Moviepy - Building video d:\\Desktop\\reps\\TUM WS22\\tum-adlr-ws22-06\\final_validations\\sac2_no_env_params\\gravity_-11.999_wind_10.0_turbulence_0.0\\rl-video-episode-0.mp4.\n",
      "Moviepy - Writing video d:\\Desktop\\reps\\TUM WS22\\tum-adlr-ws22-06\\final_validations\\sac2_no_env_params\\gravity_-11.999_wind_10.0_turbulence_0.0\\rl-video-episode-0.mp4\n",
      "\n"
     ]
    },
    {
     "name": "stderr",
     "output_type": "stream",
     "text": [
      "c:\\Users\\volob\\.conda\\envs\\adlr\\lib\\site-packages\\gymnasium\\wrappers\\record_video.py:75: UserWarning:\n",
      "\n",
      "\u001b[33mWARN: Overwriting existing videos at d:\\Desktop\\reps\\TUM WS22\\tum-adlr-ws22-06\\final_validations\\sac2_no_env_params\\gravity_-11.999_wind_10.0_turbulence_0.25 folder (try specifying a different `video_folder` for the `RecordVideo` wrapper if this is not desired)\u001b[0m\n",
      "\n"
     ]
    },
    {
     "name": "stdout",
     "output_type": "stream",
     "text": [
      "Moviepy - Done !\n",
      "Moviepy - video ready d:\\Desktop\\reps\\TUM WS22\\tum-adlr-ws22-06\\final_validations\\sac2_no_env_params\\gravity_-11.999_wind_10.0_turbulence_0.0\\rl-video-episode-0.mp4\n",
      "gravity: -11.999, wind_power: 10.0, turbulence_power: 0.0, reward: 296.4409786842417\n",
      "Moviepy - Building video d:\\Desktop\\reps\\TUM WS22\\tum-adlr-ws22-06\\final_validations\\sac2_no_env_params\\gravity_-11.999_wind_10.0_turbulence_0.25\\rl-video-episode-0.mp4.\n",
      "Moviepy - Writing video d:\\Desktop\\reps\\TUM WS22\\tum-adlr-ws22-06\\final_validations\\sac2_no_env_params\\gravity_-11.999_wind_10.0_turbulence_0.25\\rl-video-episode-0.mp4\n",
      "\n"
     ]
    },
    {
     "name": "stderr",
     "output_type": "stream",
     "text": [
      "c:\\Users\\volob\\.conda\\envs\\adlr\\lib\\site-packages\\gymnasium\\wrappers\\record_video.py:75: UserWarning:\n",
      "\n",
      "\u001b[33mWARN: Overwriting existing videos at d:\\Desktop\\reps\\TUM WS22\\tum-adlr-ws22-06\\final_validations\\sac2_no_env_params\\gravity_-11.999_wind_10.0_turbulence_0.5 folder (try specifying a different `video_folder` for the `RecordVideo` wrapper if this is not desired)\u001b[0m\n",
      "\n"
     ]
    },
    {
     "name": "stdout",
     "output_type": "stream",
     "text": [
      "Moviepy - Done !\n",
      "Moviepy - video ready d:\\Desktop\\reps\\TUM WS22\\tum-adlr-ws22-06\\final_validations\\sac2_no_env_params\\gravity_-11.999_wind_10.0_turbulence_0.25\\rl-video-episode-0.mp4\n",
      "gravity: -11.999, wind_power: 10.0, turbulence_power: 0.25, reward: 298.958423319234\n",
      "Moviepy - Building video d:\\Desktop\\reps\\TUM WS22\\tum-adlr-ws22-06\\final_validations\\sac2_no_env_params\\gravity_-11.999_wind_10.0_turbulence_0.5\\rl-video-episode-0.mp4.\n",
      "Moviepy - Writing video d:\\Desktop\\reps\\TUM WS22\\tum-adlr-ws22-06\\final_validations\\sac2_no_env_params\\gravity_-11.999_wind_10.0_turbulence_0.5\\rl-video-episode-0.mp4\n",
      "\n"
     ]
    },
    {
     "name": "stderr",
     "output_type": "stream",
     "text": [
      "c:\\Users\\volob\\.conda\\envs\\adlr\\lib\\site-packages\\gymnasium\\wrappers\\record_video.py:75: UserWarning:\n",
      "\n",
      "\u001b[33mWARN: Overwriting existing videos at d:\\Desktop\\reps\\TUM WS22\\tum-adlr-ws22-06\\final_validations\\sac2_no_env_params\\gravity_-11.999_wind_10.0_turbulence_0.75 folder (try specifying a different `video_folder` for the `RecordVideo` wrapper if this is not desired)\u001b[0m\n",
      "\n"
     ]
    },
    {
     "name": "stdout",
     "output_type": "stream",
     "text": [
      "Moviepy - Done !\n",
      "Moviepy - video ready d:\\Desktop\\reps\\TUM WS22\\tum-adlr-ws22-06\\final_validations\\sac2_no_env_params\\gravity_-11.999_wind_10.0_turbulence_0.5\\rl-video-episode-0.mp4\n",
      "gravity: -11.999, wind_power: 10.0, turbulence_power: 0.5, reward: 300.020304508546\n",
      "Moviepy - Building video d:\\Desktop\\reps\\TUM WS22\\tum-adlr-ws22-06\\final_validations\\sac2_no_env_params\\gravity_-11.999_wind_10.0_turbulence_0.75\\rl-video-episode-0.mp4.\n",
      "Moviepy - Writing video d:\\Desktop\\reps\\TUM WS22\\tum-adlr-ws22-06\\final_validations\\sac2_no_env_params\\gravity_-11.999_wind_10.0_turbulence_0.75\\rl-video-episode-0.mp4\n",
      "\n"
     ]
    },
    {
     "name": "stderr",
     "output_type": "stream",
     "text": [
      "c:\\Users\\volob\\.conda\\envs\\adlr\\lib\\site-packages\\gymnasium\\wrappers\\record_video.py:75: UserWarning:\n",
      "\n",
      "\u001b[33mWARN: Overwriting existing videos at d:\\Desktop\\reps\\TUM WS22\\tum-adlr-ws22-06\\final_validations\\sac2_no_env_params\\gravity_-11.999_wind_10.0_turbulence_1.0 folder (try specifying a different `video_folder` for the `RecordVideo` wrapper if this is not desired)\u001b[0m\n",
      "\n"
     ]
    },
    {
     "name": "stdout",
     "output_type": "stream",
     "text": [
      "Moviepy - Done !\n",
      "Moviepy - video ready d:\\Desktop\\reps\\TUM WS22\\tum-adlr-ws22-06\\final_validations\\sac2_no_env_params\\gravity_-11.999_wind_10.0_turbulence_0.75\\rl-video-episode-0.mp4\n",
      "gravity: -11.999, wind_power: 10.0, turbulence_power: 0.75, reward: 292.83274805485445\n",
      "Moviepy - Building video d:\\Desktop\\reps\\TUM WS22\\tum-adlr-ws22-06\\final_validations\\sac2_no_env_params\\gravity_-11.999_wind_10.0_turbulence_1.0\\rl-video-episode-0.mp4.\n",
      "Moviepy - Writing video d:\\Desktop\\reps\\TUM WS22\\tum-adlr-ws22-06\\final_validations\\sac2_no_env_params\\gravity_-11.999_wind_10.0_turbulence_1.0\\rl-video-episode-0.mp4\n",
      "\n"
     ]
    },
    {
     "name": "stderr",
     "output_type": "stream",
     "text": [
      "c:\\Users\\volob\\.conda\\envs\\adlr\\lib\\site-packages\\gymnasium\\wrappers\\record_video.py:75: UserWarning:\n",
      "\n",
      "\u001b[33mWARN: Overwriting existing videos at d:\\Desktop\\reps\\TUM WS22\\tum-adlr-ws22-06\\final_validations\\sac2_no_env_params\\gravity_-8.999275_wind_0.0_turbulence_0.0 folder (try specifying a different `video_folder` for the `RecordVideo` wrapper if this is not desired)\u001b[0m\n",
      "\n"
     ]
    },
    {
     "name": "stdout",
     "output_type": "stream",
     "text": [
      "Moviepy - Done !\n",
      "Moviepy - video ready d:\\Desktop\\reps\\TUM WS22\\tum-adlr-ws22-06\\final_validations\\sac2_no_env_params\\gravity_-11.999_wind_10.0_turbulence_1.0\\rl-video-episode-0.mp4\n",
      "gravity: -11.999, wind_power: 10.0, turbulence_power: 1.0, reward: 296.7360887861672\n",
      "Moviepy - Building video d:\\Desktop\\reps\\TUM WS22\\tum-adlr-ws22-06\\final_validations\\sac2_no_env_params\\gravity_-8.999275_wind_0.0_turbulence_0.0\\rl-video-episode-0.mp4.\n",
      "Moviepy - Writing video d:\\Desktop\\reps\\TUM WS22\\tum-adlr-ws22-06\\final_validations\\sac2_no_env_params\\gravity_-8.999275_wind_0.0_turbulence_0.0\\rl-video-episode-0.mp4\n",
      "\n"
     ]
    },
    {
     "name": "stderr",
     "output_type": "stream",
     "text": [
      "c:\\Users\\volob\\.conda\\envs\\adlr\\lib\\site-packages\\gymnasium\\wrappers\\record_video.py:75: UserWarning:\n",
      "\n",
      "\u001b[33mWARN: Overwriting existing videos at d:\\Desktop\\reps\\TUM WS22\\tum-adlr-ws22-06\\final_validations\\sac2_no_env_params\\gravity_-8.999275_wind_0.0_turbulence_0.25 folder (try specifying a different `video_folder` for the `RecordVideo` wrapper if this is not desired)\u001b[0m\n",
      "\n"
     ]
    },
    {
     "name": "stdout",
     "output_type": "stream",
     "text": [
      "Moviepy - Done !\n",
      "Moviepy - video ready d:\\Desktop\\reps\\TUM WS22\\tum-adlr-ws22-06\\final_validations\\sac2_no_env_params\\gravity_-8.999275_wind_0.0_turbulence_0.0\\rl-video-episode-0.mp4\n",
      "gravity: -8.999275, wind_power: 0.0, turbulence_power: 0.0, reward: 294.8153713040875\n",
      "Moviepy - Building video d:\\Desktop\\reps\\TUM WS22\\tum-adlr-ws22-06\\final_validations\\sac2_no_env_params\\gravity_-8.999275_wind_0.0_turbulence_0.25\\rl-video-episode-0.mp4.\n",
      "Moviepy - Writing video d:\\Desktop\\reps\\TUM WS22\\tum-adlr-ws22-06\\final_validations\\sac2_no_env_params\\gravity_-8.999275_wind_0.0_turbulence_0.25\\rl-video-episode-0.mp4\n",
      "\n"
     ]
    },
    {
     "name": "stderr",
     "output_type": "stream",
     "text": [
      "c:\\Users\\volob\\.conda\\envs\\adlr\\lib\\site-packages\\gymnasium\\wrappers\\record_video.py:75: UserWarning:\n",
      "\n",
      "\u001b[33mWARN: Overwriting existing videos at d:\\Desktop\\reps\\TUM WS22\\tum-adlr-ws22-06\\final_validations\\sac2_no_env_params\\gravity_-8.999275_wind_0.0_turbulence_0.5 folder (try specifying a different `video_folder` for the `RecordVideo` wrapper if this is not desired)\u001b[0m\n",
      "\n"
     ]
    },
    {
     "name": "stdout",
     "output_type": "stream",
     "text": [
      "Moviepy - Done !\n",
      "Moviepy - video ready d:\\Desktop\\reps\\TUM WS22\\tum-adlr-ws22-06\\final_validations\\sac2_no_env_params\\gravity_-8.999275_wind_0.0_turbulence_0.25\\rl-video-episode-0.mp4\n",
      "gravity: -8.999275, wind_power: 0.0, turbulence_power: 0.25, reward: 297.04121486660085\n",
      "Moviepy - Building video d:\\Desktop\\reps\\TUM WS22\\tum-adlr-ws22-06\\final_validations\\sac2_no_env_params\\gravity_-8.999275_wind_0.0_turbulence_0.5\\rl-video-episode-0.mp4.\n",
      "Moviepy - Writing video d:\\Desktop\\reps\\TUM WS22\\tum-adlr-ws22-06\\final_validations\\sac2_no_env_params\\gravity_-8.999275_wind_0.0_turbulence_0.5\\rl-video-episode-0.mp4\n",
      "\n"
     ]
    },
    {
     "name": "stderr",
     "output_type": "stream",
     "text": [
      "c:\\Users\\volob\\.conda\\envs\\adlr\\lib\\site-packages\\gymnasium\\wrappers\\record_video.py:75: UserWarning:\n",
      "\n",
      "\u001b[33mWARN: Overwriting existing videos at d:\\Desktop\\reps\\TUM WS22\\tum-adlr-ws22-06\\final_validations\\sac2_no_env_params\\gravity_-8.999275_wind_0.0_turbulence_0.75 folder (try specifying a different `video_folder` for the `RecordVideo` wrapper if this is not desired)\u001b[0m\n",
      "\n"
     ]
    },
    {
     "name": "stdout",
     "output_type": "stream",
     "text": [
      "Moviepy - Done !\n",
      "Moviepy - video ready d:\\Desktop\\reps\\TUM WS22\\tum-adlr-ws22-06\\final_validations\\sac2_no_env_params\\gravity_-8.999275_wind_0.0_turbulence_0.5\\rl-video-episode-0.mp4\n",
      "gravity: -8.999275, wind_power: 0.0, turbulence_power: 0.5, reward: 287.3732918893458\n",
      "Moviepy - Building video d:\\Desktop\\reps\\TUM WS22\\tum-adlr-ws22-06\\final_validations\\sac2_no_env_params\\gravity_-8.999275_wind_0.0_turbulence_0.75\\rl-video-episode-0.mp4.\n",
      "Moviepy - Writing video d:\\Desktop\\reps\\TUM WS22\\tum-adlr-ws22-06\\final_validations\\sac2_no_env_params\\gravity_-8.999275_wind_0.0_turbulence_0.75\\rl-video-episode-0.mp4\n",
      "\n"
     ]
    },
    {
     "name": "stderr",
     "output_type": "stream",
     "text": [
      "c:\\Users\\volob\\.conda\\envs\\adlr\\lib\\site-packages\\gymnasium\\wrappers\\record_video.py:75: UserWarning:\n",
      "\n",
      "\u001b[33mWARN: Overwriting existing videos at d:\\Desktop\\reps\\TUM WS22\\tum-adlr-ws22-06\\final_validations\\sac2_no_env_params\\gravity_-8.999275_wind_0.0_turbulence_1.0 folder (try specifying a different `video_folder` for the `RecordVideo` wrapper if this is not desired)\u001b[0m\n",
      "\n"
     ]
    },
    {
     "name": "stdout",
     "output_type": "stream",
     "text": [
      "Moviepy - Done !\n",
      "Moviepy - video ready d:\\Desktop\\reps\\TUM WS22\\tum-adlr-ws22-06\\final_validations\\sac2_no_env_params\\gravity_-8.999275_wind_0.0_turbulence_0.75\\rl-video-episode-0.mp4\n",
      "gravity: -8.999275, wind_power: 0.0, turbulence_power: 0.75, reward: 299.63098969537145\n",
      "Moviepy - Building video d:\\Desktop\\reps\\TUM WS22\\tum-adlr-ws22-06\\final_validations\\sac2_no_env_params\\gravity_-8.999275_wind_0.0_turbulence_1.0\\rl-video-episode-0.mp4.\n",
      "Moviepy - Writing video d:\\Desktop\\reps\\TUM WS22\\tum-adlr-ws22-06\\final_validations\\sac2_no_env_params\\gravity_-8.999275_wind_0.0_turbulence_1.0\\rl-video-episode-0.mp4\n",
      "\n"
     ]
    },
    {
     "name": "stderr",
     "output_type": "stream",
     "text": [
      "c:\\Users\\volob\\.conda\\envs\\adlr\\lib\\site-packages\\gymnasium\\wrappers\\record_video.py:75: UserWarning:\n",
      "\n",
      "\u001b[33mWARN: Overwriting existing videos at d:\\Desktop\\reps\\TUM WS22\\tum-adlr-ws22-06\\final_validations\\sac2_no_env_params\\gravity_-8.999275_wind_2.5_turbulence_0.0 folder (try specifying a different `video_folder` for the `RecordVideo` wrapper if this is not desired)\u001b[0m\n",
      "\n"
     ]
    },
    {
     "name": "stdout",
     "output_type": "stream",
     "text": [
      "Moviepy - Done !\n",
      "Moviepy - video ready d:\\Desktop\\reps\\TUM WS22\\tum-adlr-ws22-06\\final_validations\\sac2_no_env_params\\gravity_-8.999275_wind_0.0_turbulence_1.0\\rl-video-episode-0.mp4\n",
      "gravity: -8.999275, wind_power: 0.0, turbulence_power: 1.0, reward: 299.59823178941974\n",
      "Moviepy - Building video d:\\Desktop\\reps\\TUM WS22\\tum-adlr-ws22-06\\final_validations\\sac2_no_env_params\\gravity_-8.999275_wind_2.5_turbulence_0.0\\rl-video-episode-0.mp4.\n",
      "Moviepy - Writing video d:\\Desktop\\reps\\TUM WS22\\tum-adlr-ws22-06\\final_validations\\sac2_no_env_params\\gravity_-8.999275_wind_2.5_turbulence_0.0\\rl-video-episode-0.mp4\n",
      "\n"
     ]
    },
    {
     "name": "stderr",
     "output_type": "stream",
     "text": [
      "c:\\Users\\volob\\.conda\\envs\\adlr\\lib\\site-packages\\gymnasium\\wrappers\\record_video.py:75: UserWarning:\n",
      "\n",
      "\u001b[33mWARN: Overwriting existing videos at d:\\Desktop\\reps\\TUM WS22\\tum-adlr-ws22-06\\final_validations\\sac2_no_env_params\\gravity_-8.999275_wind_2.5_turbulence_0.25 folder (try specifying a different `video_folder` for the `RecordVideo` wrapper if this is not desired)\u001b[0m\n",
      "\n"
     ]
    },
    {
     "name": "stdout",
     "output_type": "stream",
     "text": [
      "Moviepy - Done !\n",
      "Moviepy - video ready d:\\Desktop\\reps\\TUM WS22\\tum-adlr-ws22-06\\final_validations\\sac2_no_env_params\\gravity_-8.999275_wind_2.5_turbulence_0.0\\rl-video-episode-0.mp4\n",
      "gravity: -8.999275, wind_power: 2.5, turbulence_power: 0.0, reward: 289.99689327820954\n",
      "Moviepy - Building video d:\\Desktop\\reps\\TUM WS22\\tum-adlr-ws22-06\\final_validations\\sac2_no_env_params\\gravity_-8.999275_wind_2.5_turbulence_0.25\\rl-video-episode-0.mp4.\n",
      "Moviepy - Writing video d:\\Desktop\\reps\\TUM WS22\\tum-adlr-ws22-06\\final_validations\\sac2_no_env_params\\gravity_-8.999275_wind_2.5_turbulence_0.25\\rl-video-episode-0.mp4\n",
      "\n"
     ]
    },
    {
     "name": "stderr",
     "output_type": "stream",
     "text": [
      "c:\\Users\\volob\\.conda\\envs\\adlr\\lib\\site-packages\\gymnasium\\wrappers\\record_video.py:75: UserWarning:\n",
      "\n",
      "\u001b[33mWARN: Overwriting existing videos at d:\\Desktop\\reps\\TUM WS22\\tum-adlr-ws22-06\\final_validations\\sac2_no_env_params\\gravity_-8.999275_wind_2.5_turbulence_0.5 folder (try specifying a different `video_folder` for the `RecordVideo` wrapper if this is not desired)\u001b[0m\n",
      "\n"
     ]
    },
    {
     "name": "stdout",
     "output_type": "stream",
     "text": [
      "Moviepy - Done !\n",
      "Moviepy - video ready d:\\Desktop\\reps\\TUM WS22\\tum-adlr-ws22-06\\final_validations\\sac2_no_env_params\\gravity_-8.999275_wind_2.5_turbulence_0.25\\rl-video-episode-0.mp4\n",
      "gravity: -8.999275, wind_power: 2.5, turbulence_power: 0.25, reward: 278.3824594813257\n",
      "Moviepy - Building video d:\\Desktop\\reps\\TUM WS22\\tum-adlr-ws22-06\\final_validations\\sac2_no_env_params\\gravity_-8.999275_wind_2.5_turbulence_0.5\\rl-video-episode-0.mp4.\n",
      "Moviepy - Writing video d:\\Desktop\\reps\\TUM WS22\\tum-adlr-ws22-06\\final_validations\\sac2_no_env_params\\gravity_-8.999275_wind_2.5_turbulence_0.5\\rl-video-episode-0.mp4\n",
      "\n"
     ]
    },
    {
     "name": "stderr",
     "output_type": "stream",
     "text": [
      "c:\\Users\\volob\\.conda\\envs\\adlr\\lib\\site-packages\\gymnasium\\wrappers\\record_video.py:75: UserWarning:\n",
      "\n",
      "\u001b[33mWARN: Overwriting existing videos at d:\\Desktop\\reps\\TUM WS22\\tum-adlr-ws22-06\\final_validations\\sac2_no_env_params\\gravity_-8.999275_wind_2.5_turbulence_0.75 folder (try specifying a different `video_folder` for the `RecordVideo` wrapper if this is not desired)\u001b[0m\n",
      "\n"
     ]
    },
    {
     "name": "stdout",
     "output_type": "stream",
     "text": [
      "Moviepy - Done !\n",
      "Moviepy - video ready d:\\Desktop\\reps\\TUM WS22\\tum-adlr-ws22-06\\final_validations\\sac2_no_env_params\\gravity_-8.999275_wind_2.5_turbulence_0.5\\rl-video-episode-0.mp4\n",
      "gravity: -8.999275, wind_power: 2.5, turbulence_power: 0.5, reward: 294.13015149549915\n",
      "Moviepy - Building video d:\\Desktop\\reps\\TUM WS22\\tum-adlr-ws22-06\\final_validations\\sac2_no_env_params\\gravity_-8.999275_wind_2.5_turbulence_0.75\\rl-video-episode-0.mp4.\n",
      "Moviepy - Writing video d:\\Desktop\\reps\\TUM WS22\\tum-adlr-ws22-06\\final_validations\\sac2_no_env_params\\gravity_-8.999275_wind_2.5_turbulence_0.75\\rl-video-episode-0.mp4\n",
      "\n"
     ]
    },
    {
     "name": "stderr",
     "output_type": "stream",
     "text": [
      "c:\\Users\\volob\\.conda\\envs\\adlr\\lib\\site-packages\\gymnasium\\wrappers\\record_video.py:75: UserWarning:\n",
      "\n",
      "\u001b[33mWARN: Overwriting existing videos at d:\\Desktop\\reps\\TUM WS22\\tum-adlr-ws22-06\\final_validations\\sac2_no_env_params\\gravity_-8.999275_wind_2.5_turbulence_1.0 folder (try specifying a different `video_folder` for the `RecordVideo` wrapper if this is not desired)\u001b[0m\n",
      "\n"
     ]
    },
    {
     "name": "stdout",
     "output_type": "stream",
     "text": [
      "Moviepy - Done !\n",
      "Moviepy - video ready d:\\Desktop\\reps\\TUM WS22\\tum-adlr-ws22-06\\final_validations\\sac2_no_env_params\\gravity_-8.999275_wind_2.5_turbulence_0.75\\rl-video-episode-0.mp4\n",
      "gravity: -8.999275, wind_power: 2.5, turbulence_power: 0.75, reward: 272.58720808476085\n",
      "Moviepy - Building video d:\\Desktop\\reps\\TUM WS22\\tum-adlr-ws22-06\\final_validations\\sac2_no_env_params\\gravity_-8.999275_wind_2.5_turbulence_1.0\\rl-video-episode-0.mp4.\n",
      "Moviepy - Writing video d:\\Desktop\\reps\\TUM WS22\\tum-adlr-ws22-06\\final_validations\\sac2_no_env_params\\gravity_-8.999275_wind_2.5_turbulence_1.0\\rl-video-episode-0.mp4\n",
      "\n"
     ]
    },
    {
     "name": "stderr",
     "output_type": "stream",
     "text": [
      "c:\\Users\\volob\\.conda\\envs\\adlr\\lib\\site-packages\\gymnasium\\wrappers\\record_video.py:75: UserWarning:\n",
      "\n",
      "\u001b[33mWARN: Overwriting existing videos at d:\\Desktop\\reps\\TUM WS22\\tum-adlr-ws22-06\\final_validations\\sac2_no_env_params\\gravity_-8.999275_wind_5.0_turbulence_0.0 folder (try specifying a different `video_folder` for the `RecordVideo` wrapper if this is not desired)\u001b[0m\n",
      "\n"
     ]
    },
    {
     "name": "stdout",
     "output_type": "stream",
     "text": [
      "Moviepy - Done !\n",
      "Moviepy - video ready d:\\Desktop\\reps\\TUM WS22\\tum-adlr-ws22-06\\final_validations\\sac2_no_env_params\\gravity_-8.999275_wind_2.5_turbulence_1.0\\rl-video-episode-0.mp4\n",
      "gravity: -8.999275, wind_power: 2.5, turbulence_power: 1.0, reward: 272.71626658188325\n",
      "Moviepy - Building video d:\\Desktop\\reps\\TUM WS22\\tum-adlr-ws22-06\\final_validations\\sac2_no_env_params\\gravity_-8.999275_wind_5.0_turbulence_0.0\\rl-video-episode-0.mp4.\n",
      "Moviepy - Writing video d:\\Desktop\\reps\\TUM WS22\\tum-adlr-ws22-06\\final_validations\\sac2_no_env_params\\gravity_-8.999275_wind_5.0_turbulence_0.0\\rl-video-episode-0.mp4\n",
      "\n"
     ]
    },
    {
     "name": "stderr",
     "output_type": "stream",
     "text": [
      "c:\\Users\\volob\\.conda\\envs\\adlr\\lib\\site-packages\\gymnasium\\wrappers\\record_video.py:75: UserWarning:\n",
      "\n",
      "\u001b[33mWARN: Overwriting existing videos at d:\\Desktop\\reps\\TUM WS22\\tum-adlr-ws22-06\\final_validations\\sac2_no_env_params\\gravity_-8.999275_wind_5.0_turbulence_0.25 folder (try specifying a different `video_folder` for the `RecordVideo` wrapper if this is not desired)\u001b[0m\n",
      "\n"
     ]
    },
    {
     "name": "stdout",
     "output_type": "stream",
     "text": [
      "Moviepy - Done !\n",
      "Moviepy - video ready d:\\Desktop\\reps\\TUM WS22\\tum-adlr-ws22-06\\final_validations\\sac2_no_env_params\\gravity_-8.999275_wind_5.0_turbulence_0.0\\rl-video-episode-0.mp4\n",
      "gravity: -8.999275, wind_power: 5.0, turbulence_power: 0.0, reward: 301.09342920369477\n",
      "Moviepy - Building video d:\\Desktop\\reps\\TUM WS22\\tum-adlr-ws22-06\\final_validations\\sac2_no_env_params\\gravity_-8.999275_wind_5.0_turbulence_0.25\\rl-video-episode-0.mp4.\n",
      "Moviepy - Writing video d:\\Desktop\\reps\\TUM WS22\\tum-adlr-ws22-06\\final_validations\\sac2_no_env_params\\gravity_-8.999275_wind_5.0_turbulence_0.25\\rl-video-episode-0.mp4\n",
      "\n"
     ]
    },
    {
     "name": "stderr",
     "output_type": "stream",
     "text": [
      "c:\\Users\\volob\\.conda\\envs\\adlr\\lib\\site-packages\\gymnasium\\wrappers\\record_video.py:75: UserWarning:\n",
      "\n",
      "\u001b[33mWARN: Overwriting existing videos at d:\\Desktop\\reps\\TUM WS22\\tum-adlr-ws22-06\\final_validations\\sac2_no_env_params\\gravity_-8.999275_wind_5.0_turbulence_0.5 folder (try specifying a different `video_folder` for the `RecordVideo` wrapper if this is not desired)\u001b[0m\n",
      "\n"
     ]
    },
    {
     "name": "stdout",
     "output_type": "stream",
     "text": [
      "Moviepy - Done !\n",
      "Moviepy - video ready d:\\Desktop\\reps\\TUM WS22\\tum-adlr-ws22-06\\final_validations\\sac2_no_env_params\\gravity_-8.999275_wind_5.0_turbulence_0.25\\rl-video-episode-0.mp4\n",
      "gravity: -8.999275, wind_power: 5.0, turbulence_power: 0.25, reward: 285.9822176796164\n",
      "Moviepy - Building video d:\\Desktop\\reps\\TUM WS22\\tum-adlr-ws22-06\\final_validations\\sac2_no_env_params\\gravity_-8.999275_wind_5.0_turbulence_0.5\\rl-video-episode-0.mp4.\n",
      "Moviepy - Writing video d:\\Desktop\\reps\\TUM WS22\\tum-adlr-ws22-06\\final_validations\\sac2_no_env_params\\gravity_-8.999275_wind_5.0_turbulence_0.5\\rl-video-episode-0.mp4\n",
      "\n"
     ]
    },
    {
     "name": "stderr",
     "output_type": "stream",
     "text": [
      "c:\\Users\\volob\\.conda\\envs\\adlr\\lib\\site-packages\\gymnasium\\wrappers\\record_video.py:75: UserWarning:\n",
      "\n",
      "\u001b[33mWARN: Overwriting existing videos at d:\\Desktop\\reps\\TUM WS22\\tum-adlr-ws22-06\\final_validations\\sac2_no_env_params\\gravity_-8.999275_wind_5.0_turbulence_0.75 folder (try specifying a different `video_folder` for the `RecordVideo` wrapper if this is not desired)\u001b[0m\n",
      "\n"
     ]
    },
    {
     "name": "stdout",
     "output_type": "stream",
     "text": [
      "Moviepy - Done !\n",
      "Moviepy - video ready d:\\Desktop\\reps\\TUM WS22\\tum-adlr-ws22-06\\final_validations\\sac2_no_env_params\\gravity_-8.999275_wind_5.0_turbulence_0.5\\rl-video-episode-0.mp4\n",
      "gravity: -8.999275, wind_power: 5.0, turbulence_power: 0.5, reward: 287.9227335481628\n",
      "Moviepy - Building video d:\\Desktop\\reps\\TUM WS22\\tum-adlr-ws22-06\\final_validations\\sac2_no_env_params\\gravity_-8.999275_wind_5.0_turbulence_0.75\\rl-video-episode-0.mp4.\n",
      "Moviepy - Writing video d:\\Desktop\\reps\\TUM WS22\\tum-adlr-ws22-06\\final_validations\\sac2_no_env_params\\gravity_-8.999275_wind_5.0_turbulence_0.75\\rl-video-episode-0.mp4\n",
      "\n"
     ]
    },
    {
     "name": "stderr",
     "output_type": "stream",
     "text": [
      "c:\\Users\\volob\\.conda\\envs\\adlr\\lib\\site-packages\\gymnasium\\wrappers\\record_video.py:75: UserWarning:\n",
      "\n",
      "\u001b[33mWARN: Overwriting existing videos at d:\\Desktop\\reps\\TUM WS22\\tum-adlr-ws22-06\\final_validations\\sac2_no_env_params\\gravity_-8.999275_wind_5.0_turbulence_1.0 folder (try specifying a different `video_folder` for the `RecordVideo` wrapper if this is not desired)\u001b[0m\n",
      "\n"
     ]
    },
    {
     "name": "stdout",
     "output_type": "stream",
     "text": [
      "Moviepy - Done !\n",
      "Moviepy - video ready d:\\Desktop\\reps\\TUM WS22\\tum-adlr-ws22-06\\final_validations\\sac2_no_env_params\\gravity_-8.999275_wind_5.0_turbulence_0.75\\rl-video-episode-0.mp4\n",
      "gravity: -8.999275, wind_power: 5.0, turbulence_power: 0.75, reward: 267.21675297177205\n",
      "Moviepy - Building video d:\\Desktop\\reps\\TUM WS22\\tum-adlr-ws22-06\\final_validations\\sac2_no_env_params\\gravity_-8.999275_wind_5.0_turbulence_1.0\\rl-video-episode-0.mp4.\n",
      "Moviepy - Writing video d:\\Desktop\\reps\\TUM WS22\\tum-adlr-ws22-06\\final_validations\\sac2_no_env_params\\gravity_-8.999275_wind_5.0_turbulence_1.0\\rl-video-episode-0.mp4\n",
      "\n"
     ]
    },
    {
     "name": "stderr",
     "output_type": "stream",
     "text": [
      "c:\\Users\\volob\\.conda\\envs\\adlr\\lib\\site-packages\\gymnasium\\wrappers\\record_video.py:75: UserWarning:\n",
      "\n",
      "\u001b[33mWARN: Overwriting existing videos at d:\\Desktop\\reps\\TUM WS22\\tum-adlr-ws22-06\\final_validations\\sac2_no_env_params\\gravity_-8.999275_wind_7.5_turbulence_0.0 folder (try specifying a different `video_folder` for the `RecordVideo` wrapper if this is not desired)\u001b[0m\n",
      "\n"
     ]
    },
    {
     "name": "stdout",
     "output_type": "stream",
     "text": [
      "Moviepy - Done !\n",
      "Moviepy - video ready d:\\Desktop\\reps\\TUM WS22\\tum-adlr-ws22-06\\final_validations\\sac2_no_env_params\\gravity_-8.999275_wind_5.0_turbulence_1.0\\rl-video-episode-0.mp4\n",
      "gravity: -8.999275, wind_power: 5.0, turbulence_power: 1.0, reward: 290.6454014860383\n",
      "Moviepy - Building video d:\\Desktop\\reps\\TUM WS22\\tum-adlr-ws22-06\\final_validations\\sac2_no_env_params\\gravity_-8.999275_wind_7.5_turbulence_0.0\\rl-video-episode-0.mp4.\n",
      "Moviepy - Writing video d:\\Desktop\\reps\\TUM WS22\\tum-adlr-ws22-06\\final_validations\\sac2_no_env_params\\gravity_-8.999275_wind_7.5_turbulence_0.0\\rl-video-episode-0.mp4\n",
      "\n"
     ]
    },
    {
     "name": "stderr",
     "output_type": "stream",
     "text": [
      "c:\\Users\\volob\\.conda\\envs\\adlr\\lib\\site-packages\\gymnasium\\wrappers\\record_video.py:75: UserWarning:\n",
      "\n",
      "\u001b[33mWARN: Overwriting existing videos at d:\\Desktop\\reps\\TUM WS22\\tum-adlr-ws22-06\\final_validations\\sac2_no_env_params\\gravity_-8.999275_wind_7.5_turbulence_0.25 folder (try specifying a different `video_folder` for the `RecordVideo` wrapper if this is not desired)\u001b[0m\n",
      "\n"
     ]
    },
    {
     "name": "stdout",
     "output_type": "stream",
     "text": [
      "Moviepy - Done !\n",
      "Moviepy - video ready d:\\Desktop\\reps\\TUM WS22\\tum-adlr-ws22-06\\final_validations\\sac2_no_env_params\\gravity_-8.999275_wind_7.5_turbulence_0.0\\rl-video-episode-0.mp4\n",
      "gravity: -8.999275, wind_power: 7.5, turbulence_power: 0.0, reward: 293.4021057988196\n",
      "Moviepy - Building video d:\\Desktop\\reps\\TUM WS22\\tum-adlr-ws22-06\\final_validations\\sac2_no_env_params\\gravity_-8.999275_wind_7.5_turbulence_0.25\\rl-video-episode-0.mp4.\n",
      "Moviepy - Writing video d:\\Desktop\\reps\\TUM WS22\\tum-adlr-ws22-06\\final_validations\\sac2_no_env_params\\gravity_-8.999275_wind_7.5_turbulence_0.25\\rl-video-episode-0.mp4\n",
      "\n"
     ]
    },
    {
     "name": "stderr",
     "output_type": "stream",
     "text": [
      "c:\\Users\\volob\\.conda\\envs\\adlr\\lib\\site-packages\\gymnasium\\wrappers\\record_video.py:75: UserWarning:\n",
      "\n",
      "\u001b[33mWARN: Overwriting existing videos at d:\\Desktop\\reps\\TUM WS22\\tum-adlr-ws22-06\\final_validations\\sac2_no_env_params\\gravity_-8.999275_wind_7.5_turbulence_0.5 folder (try specifying a different `video_folder` for the `RecordVideo` wrapper if this is not desired)\u001b[0m\n",
      "\n"
     ]
    },
    {
     "name": "stdout",
     "output_type": "stream",
     "text": [
      "Moviepy - Done !\n",
      "Moviepy - video ready d:\\Desktop\\reps\\TUM WS22\\tum-adlr-ws22-06\\final_validations\\sac2_no_env_params\\gravity_-8.999275_wind_7.5_turbulence_0.25\\rl-video-episode-0.mp4\n",
      "gravity: -8.999275, wind_power: 7.5, turbulence_power: 0.25, reward: 302.05849558962706\n",
      "Moviepy - Building video d:\\Desktop\\reps\\TUM WS22\\tum-adlr-ws22-06\\final_validations\\sac2_no_env_params\\gravity_-8.999275_wind_7.5_turbulence_0.5\\rl-video-episode-0.mp4.\n",
      "Moviepy - Writing video d:\\Desktop\\reps\\TUM WS22\\tum-adlr-ws22-06\\final_validations\\sac2_no_env_params\\gravity_-8.999275_wind_7.5_turbulence_0.5\\rl-video-episode-0.mp4\n",
      "\n"
     ]
    },
    {
     "name": "stderr",
     "output_type": "stream",
     "text": [
      "c:\\Users\\volob\\.conda\\envs\\adlr\\lib\\site-packages\\gymnasium\\wrappers\\record_video.py:75: UserWarning:\n",
      "\n",
      "\u001b[33mWARN: Overwriting existing videos at d:\\Desktop\\reps\\TUM WS22\\tum-adlr-ws22-06\\final_validations\\sac2_no_env_params\\gravity_-8.999275_wind_7.5_turbulence_0.75 folder (try specifying a different `video_folder` for the `RecordVideo` wrapper if this is not desired)\u001b[0m\n",
      "\n"
     ]
    },
    {
     "name": "stdout",
     "output_type": "stream",
     "text": [
      "Moviepy - Done !\n",
      "Moviepy - video ready d:\\Desktop\\reps\\TUM WS22\\tum-adlr-ws22-06\\final_validations\\sac2_no_env_params\\gravity_-8.999275_wind_7.5_turbulence_0.5\\rl-video-episode-0.mp4\n",
      "gravity: -8.999275, wind_power: 7.5, turbulence_power: 0.5, reward: 290.9772625390116\n",
      "Moviepy - Building video d:\\Desktop\\reps\\TUM WS22\\tum-adlr-ws22-06\\final_validations\\sac2_no_env_params\\gravity_-8.999275_wind_7.5_turbulence_0.75\\rl-video-episode-0.mp4.\n",
      "Moviepy - Writing video d:\\Desktop\\reps\\TUM WS22\\tum-adlr-ws22-06\\final_validations\\sac2_no_env_params\\gravity_-8.999275_wind_7.5_turbulence_0.75\\rl-video-episode-0.mp4\n",
      "\n"
     ]
    },
    {
     "name": "stderr",
     "output_type": "stream",
     "text": [
      "c:\\Users\\volob\\.conda\\envs\\adlr\\lib\\site-packages\\gymnasium\\wrappers\\record_video.py:75: UserWarning:\n",
      "\n",
      "\u001b[33mWARN: Overwriting existing videos at d:\\Desktop\\reps\\TUM WS22\\tum-adlr-ws22-06\\final_validations\\sac2_no_env_params\\gravity_-8.999275_wind_7.5_turbulence_1.0 folder (try specifying a different `video_folder` for the `RecordVideo` wrapper if this is not desired)\u001b[0m\n",
      "\n"
     ]
    },
    {
     "name": "stdout",
     "output_type": "stream",
     "text": [
      "Moviepy - Done !\n",
      "Moviepy - video ready d:\\Desktop\\reps\\TUM WS22\\tum-adlr-ws22-06\\final_validations\\sac2_no_env_params\\gravity_-8.999275_wind_7.5_turbulence_0.75\\rl-video-episode-0.mp4\n",
      "gravity: -8.999275, wind_power: 7.5, turbulence_power: 0.75, reward: 298.8519032550721\n",
      "Moviepy - Building video d:\\Desktop\\reps\\TUM WS22\\tum-adlr-ws22-06\\final_validations\\sac2_no_env_params\\gravity_-8.999275_wind_7.5_turbulence_1.0\\rl-video-episode-0.mp4.\n",
      "Moviepy - Writing video d:\\Desktop\\reps\\TUM WS22\\tum-adlr-ws22-06\\final_validations\\sac2_no_env_params\\gravity_-8.999275_wind_7.5_turbulence_1.0\\rl-video-episode-0.mp4\n",
      "\n"
     ]
    },
    {
     "name": "stderr",
     "output_type": "stream",
     "text": [
      "c:\\Users\\volob\\.conda\\envs\\adlr\\lib\\site-packages\\gymnasium\\wrappers\\record_video.py:75: UserWarning:\n",
      "\n",
      "\u001b[33mWARN: Overwriting existing videos at d:\\Desktop\\reps\\TUM WS22\\tum-adlr-ws22-06\\final_validations\\sac2_no_env_params\\gravity_-8.999275_wind_10.0_turbulence_0.0 folder (try specifying a different `video_folder` for the `RecordVideo` wrapper if this is not desired)\u001b[0m\n",
      "\n"
     ]
    },
    {
     "name": "stdout",
     "output_type": "stream",
     "text": [
      "Moviepy - Done !\n",
      "Moviepy - video ready d:\\Desktop\\reps\\TUM WS22\\tum-adlr-ws22-06\\final_validations\\sac2_no_env_params\\gravity_-8.999275_wind_7.5_turbulence_1.0\\rl-video-episode-0.mp4\n",
      "gravity: -8.999275, wind_power: 7.5, turbulence_power: 1.0, reward: 304.60550536886916\n",
      "Moviepy - Building video d:\\Desktop\\reps\\TUM WS22\\tum-adlr-ws22-06\\final_validations\\sac2_no_env_params\\gravity_-8.999275_wind_10.0_turbulence_0.0\\rl-video-episode-0.mp4.\n",
      "Moviepy - Writing video d:\\Desktop\\reps\\TUM WS22\\tum-adlr-ws22-06\\final_validations\\sac2_no_env_params\\gravity_-8.999275_wind_10.0_turbulence_0.0\\rl-video-episode-0.mp4\n",
      "\n"
     ]
    },
    {
     "name": "stderr",
     "output_type": "stream",
     "text": [
      "c:\\Users\\volob\\.conda\\envs\\adlr\\lib\\site-packages\\gymnasium\\wrappers\\record_video.py:75: UserWarning:\n",
      "\n",
      "\u001b[33mWARN: Overwriting existing videos at d:\\Desktop\\reps\\TUM WS22\\tum-adlr-ws22-06\\final_validations\\sac2_no_env_params\\gravity_-8.999275_wind_10.0_turbulence_0.25 folder (try specifying a different `video_folder` for the `RecordVideo` wrapper if this is not desired)\u001b[0m\n",
      "\n"
     ]
    },
    {
     "name": "stdout",
     "output_type": "stream",
     "text": [
      "Moviepy - Done !\n",
      "Moviepy - video ready d:\\Desktop\\reps\\TUM WS22\\tum-adlr-ws22-06\\final_validations\\sac2_no_env_params\\gravity_-8.999275_wind_10.0_turbulence_0.0\\rl-video-episode-0.mp4\n",
      "gravity: -8.999275, wind_power: 10.0, turbulence_power: 0.0, reward: 288.08357532676314\n",
      "Moviepy - Building video d:\\Desktop\\reps\\TUM WS22\\tum-adlr-ws22-06\\final_validations\\sac2_no_env_params\\gravity_-8.999275_wind_10.0_turbulence_0.25\\rl-video-episode-0.mp4.\n",
      "Moviepy - Writing video d:\\Desktop\\reps\\TUM WS22\\tum-adlr-ws22-06\\final_validations\\sac2_no_env_params\\gravity_-8.999275_wind_10.0_turbulence_0.25\\rl-video-episode-0.mp4\n",
      "\n"
     ]
    },
    {
     "name": "stderr",
     "output_type": "stream",
     "text": [
      "c:\\Users\\volob\\.conda\\envs\\adlr\\lib\\site-packages\\gymnasium\\wrappers\\record_video.py:75: UserWarning:\n",
      "\n",
      "\u001b[33mWARN: Overwriting existing videos at d:\\Desktop\\reps\\TUM WS22\\tum-adlr-ws22-06\\final_validations\\sac2_no_env_params\\gravity_-8.999275_wind_10.0_turbulence_0.5 folder (try specifying a different `video_folder` for the `RecordVideo` wrapper if this is not desired)\u001b[0m\n",
      "\n"
     ]
    },
    {
     "name": "stdout",
     "output_type": "stream",
     "text": [
      "Moviepy - Done !\n",
      "Moviepy - video ready d:\\Desktop\\reps\\TUM WS22\\tum-adlr-ws22-06\\final_validations\\sac2_no_env_params\\gravity_-8.999275_wind_10.0_turbulence_0.25\\rl-video-episode-0.mp4\n",
      "gravity: -8.999275, wind_power: 10.0, turbulence_power: 0.25, reward: 301.2625174193527\n",
      "Moviepy - Building video d:\\Desktop\\reps\\TUM WS22\\tum-adlr-ws22-06\\final_validations\\sac2_no_env_params\\gravity_-8.999275_wind_10.0_turbulence_0.5\\rl-video-episode-0.mp4.\n",
      "Moviepy - Writing video d:\\Desktop\\reps\\TUM WS22\\tum-adlr-ws22-06\\final_validations\\sac2_no_env_params\\gravity_-8.999275_wind_10.0_turbulence_0.5\\rl-video-episode-0.mp4\n",
      "\n"
     ]
    },
    {
     "name": "stderr",
     "output_type": "stream",
     "text": [
      "c:\\Users\\volob\\.conda\\envs\\adlr\\lib\\site-packages\\gymnasium\\wrappers\\record_video.py:75: UserWarning:\n",
      "\n",
      "\u001b[33mWARN: Overwriting existing videos at d:\\Desktop\\reps\\TUM WS22\\tum-adlr-ws22-06\\final_validations\\sac2_no_env_params\\gravity_-8.999275_wind_10.0_turbulence_0.75 folder (try specifying a different `video_folder` for the `RecordVideo` wrapper if this is not desired)\u001b[0m\n",
      "\n"
     ]
    },
    {
     "name": "stdout",
     "output_type": "stream",
     "text": [
      "Moviepy - Done !\n",
      "Moviepy - video ready d:\\Desktop\\reps\\TUM WS22\\tum-adlr-ws22-06\\final_validations\\sac2_no_env_params\\gravity_-8.999275_wind_10.0_turbulence_0.5\\rl-video-episode-0.mp4\n",
      "gravity: -8.999275, wind_power: 10.0, turbulence_power: 0.5, reward: 277.8421675991612\n",
      "Moviepy - Building video d:\\Desktop\\reps\\TUM WS22\\tum-adlr-ws22-06\\final_validations\\sac2_no_env_params\\gravity_-8.999275_wind_10.0_turbulence_0.75\\rl-video-episode-0.mp4.\n",
      "Moviepy - Writing video d:\\Desktop\\reps\\TUM WS22\\tum-adlr-ws22-06\\final_validations\\sac2_no_env_params\\gravity_-8.999275_wind_10.0_turbulence_0.75\\rl-video-episode-0.mp4\n",
      "\n"
     ]
    },
    {
     "name": "stderr",
     "output_type": "stream",
     "text": [
      "c:\\Users\\volob\\.conda\\envs\\adlr\\lib\\site-packages\\gymnasium\\wrappers\\record_video.py:75: UserWarning:\n",
      "\n",
      "\u001b[33mWARN: Overwriting existing videos at d:\\Desktop\\reps\\TUM WS22\\tum-adlr-ws22-06\\final_validations\\sac2_no_env_params\\gravity_-8.999275_wind_10.0_turbulence_1.0 folder (try specifying a different `video_folder` for the `RecordVideo` wrapper if this is not desired)\u001b[0m\n",
      "\n"
     ]
    },
    {
     "name": "stdout",
     "output_type": "stream",
     "text": [
      "Moviepy - Done !\n",
      "Moviepy - video ready d:\\Desktop\\reps\\TUM WS22\\tum-adlr-ws22-06\\final_validations\\sac2_no_env_params\\gravity_-8.999275_wind_10.0_turbulence_0.75\\rl-video-episode-0.mp4\n",
      "gravity: -8.999275, wind_power: 10.0, turbulence_power: 0.75, reward: 305.56355212888076\n",
      "Moviepy - Building video d:\\Desktop\\reps\\TUM WS22\\tum-adlr-ws22-06\\final_validations\\sac2_no_env_params\\gravity_-8.999275_wind_10.0_turbulence_1.0\\rl-video-episode-0.mp4.\n",
      "Moviepy - Writing video d:\\Desktop\\reps\\TUM WS22\\tum-adlr-ws22-06\\final_validations\\sac2_no_env_params\\gravity_-8.999275_wind_10.0_turbulence_1.0\\rl-video-episode-0.mp4\n",
      "\n"
     ]
    },
    {
     "name": "stderr",
     "output_type": "stream",
     "text": [
      "c:\\Users\\volob\\.conda\\envs\\adlr\\lib\\site-packages\\gymnasium\\wrappers\\record_video.py:75: UserWarning:\n",
      "\n",
      "\u001b[33mWARN: Overwriting existing videos at d:\\Desktop\\reps\\TUM WS22\\tum-adlr-ws22-06\\final_validations\\sac2_no_env_params\\gravity_-5.99955_wind_0.0_turbulence_0.0 folder (try specifying a different `video_folder` for the `RecordVideo` wrapper if this is not desired)\u001b[0m\n",
      "\n"
     ]
    },
    {
     "name": "stdout",
     "output_type": "stream",
     "text": [
      "Moviepy - Done !\n",
      "Moviepy - video ready d:\\Desktop\\reps\\TUM WS22\\tum-adlr-ws22-06\\final_validations\\sac2_no_env_params\\gravity_-8.999275_wind_10.0_turbulence_1.0\\rl-video-episode-0.mp4\n",
      "gravity: -8.999275, wind_power: 10.0, turbulence_power: 1.0, reward: 295.2188441357496\n",
      "Moviepy - Building video d:\\Desktop\\reps\\TUM WS22\\tum-adlr-ws22-06\\final_validations\\sac2_no_env_params\\gravity_-5.99955_wind_0.0_turbulence_0.0\\rl-video-episode-0.mp4.\n",
      "Moviepy - Writing video d:\\Desktop\\reps\\TUM WS22\\tum-adlr-ws22-06\\final_validations\\sac2_no_env_params\\gravity_-5.99955_wind_0.0_turbulence_0.0\\rl-video-episode-0.mp4\n",
      "\n"
     ]
    },
    {
     "name": "stderr",
     "output_type": "stream",
     "text": [
      "c:\\Users\\volob\\.conda\\envs\\adlr\\lib\\site-packages\\gymnasium\\wrappers\\record_video.py:75: UserWarning:\n",
      "\n",
      "\u001b[33mWARN: Overwriting existing videos at d:\\Desktop\\reps\\TUM WS22\\tum-adlr-ws22-06\\final_validations\\sac2_no_env_params\\gravity_-5.99955_wind_0.0_turbulence_0.25 folder (try specifying a different `video_folder` for the `RecordVideo` wrapper if this is not desired)\u001b[0m\n",
      "\n"
     ]
    },
    {
     "name": "stdout",
     "output_type": "stream",
     "text": [
      "Moviepy - Done !\n",
      "Moviepy - video ready d:\\Desktop\\reps\\TUM WS22\\tum-adlr-ws22-06\\final_validations\\sac2_no_env_params\\gravity_-5.99955_wind_0.0_turbulence_0.0\\rl-video-episode-0.mp4\n",
      "gravity: -5.99955, wind_power: 0.0, turbulence_power: 0.0, reward: 293.5009211154557\n",
      "Moviepy - Building video d:\\Desktop\\reps\\TUM WS22\\tum-adlr-ws22-06\\final_validations\\sac2_no_env_params\\gravity_-5.99955_wind_0.0_turbulence_0.25\\rl-video-episode-0.mp4.\n",
      "Moviepy - Writing video d:\\Desktop\\reps\\TUM WS22\\tum-adlr-ws22-06\\final_validations\\sac2_no_env_params\\gravity_-5.99955_wind_0.0_turbulence_0.25\\rl-video-episode-0.mp4\n",
      "\n"
     ]
    },
    {
     "name": "stderr",
     "output_type": "stream",
     "text": [
      "c:\\Users\\volob\\.conda\\envs\\adlr\\lib\\site-packages\\gymnasium\\wrappers\\record_video.py:75: UserWarning:\n",
      "\n",
      "\u001b[33mWARN: Overwriting existing videos at d:\\Desktop\\reps\\TUM WS22\\tum-adlr-ws22-06\\final_validations\\sac2_no_env_params\\gravity_-5.99955_wind_0.0_turbulence_0.5 folder (try specifying a different `video_folder` for the `RecordVideo` wrapper if this is not desired)\u001b[0m\n",
      "\n"
     ]
    },
    {
     "name": "stdout",
     "output_type": "stream",
     "text": [
      "Moviepy - Done !\n",
      "Moviepy - video ready d:\\Desktop\\reps\\TUM WS22\\tum-adlr-ws22-06\\final_validations\\sac2_no_env_params\\gravity_-5.99955_wind_0.0_turbulence_0.25\\rl-video-episode-0.mp4\n",
      "gravity: -5.99955, wind_power: 0.0, turbulence_power: 0.25, reward: 287.5917321864923\n",
      "Moviepy - Building video d:\\Desktop\\reps\\TUM WS22\\tum-adlr-ws22-06\\final_validations\\sac2_no_env_params\\gravity_-5.99955_wind_0.0_turbulence_0.5\\rl-video-episode-0.mp4.\n",
      "Moviepy - Writing video d:\\Desktop\\reps\\TUM WS22\\tum-adlr-ws22-06\\final_validations\\sac2_no_env_params\\gravity_-5.99955_wind_0.0_turbulence_0.5\\rl-video-episode-0.mp4\n",
      "\n"
     ]
    },
    {
     "name": "stderr",
     "output_type": "stream",
     "text": [
      "c:\\Users\\volob\\.conda\\envs\\adlr\\lib\\site-packages\\gymnasium\\wrappers\\record_video.py:75: UserWarning:\n",
      "\n",
      "\u001b[33mWARN: Overwriting existing videos at d:\\Desktop\\reps\\TUM WS22\\tum-adlr-ws22-06\\final_validations\\sac2_no_env_params\\gravity_-5.99955_wind_0.0_turbulence_0.75 folder (try specifying a different `video_folder` for the `RecordVideo` wrapper if this is not desired)\u001b[0m\n",
      "\n"
     ]
    },
    {
     "name": "stdout",
     "output_type": "stream",
     "text": [
      "Moviepy - Done !\n",
      "Moviepy - video ready d:\\Desktop\\reps\\TUM WS22\\tum-adlr-ws22-06\\final_validations\\sac2_no_env_params\\gravity_-5.99955_wind_0.0_turbulence_0.5\\rl-video-episode-0.mp4\n",
      "gravity: -5.99955, wind_power: 0.0, turbulence_power: 0.5, reward: 297.9237790090132\n",
      "Moviepy - Building video d:\\Desktop\\reps\\TUM WS22\\tum-adlr-ws22-06\\final_validations\\sac2_no_env_params\\gravity_-5.99955_wind_0.0_turbulence_0.75\\rl-video-episode-0.mp4.\n",
      "Moviepy - Writing video d:\\Desktop\\reps\\TUM WS22\\tum-adlr-ws22-06\\final_validations\\sac2_no_env_params\\gravity_-5.99955_wind_0.0_turbulence_0.75\\rl-video-episode-0.mp4\n",
      "\n"
     ]
    },
    {
     "name": "stderr",
     "output_type": "stream",
     "text": [
      "c:\\Users\\volob\\.conda\\envs\\adlr\\lib\\site-packages\\gymnasium\\wrappers\\record_video.py:75: UserWarning:\n",
      "\n",
      "\u001b[33mWARN: Overwriting existing videos at d:\\Desktop\\reps\\TUM WS22\\tum-adlr-ws22-06\\final_validations\\sac2_no_env_params\\gravity_-5.99955_wind_0.0_turbulence_1.0 folder (try specifying a different `video_folder` for the `RecordVideo` wrapper if this is not desired)\u001b[0m\n",
      "\n"
     ]
    },
    {
     "name": "stdout",
     "output_type": "stream",
     "text": [
      "Moviepy - Done !\n",
      "Moviepy - video ready d:\\Desktop\\reps\\TUM WS22\\tum-adlr-ws22-06\\final_validations\\sac2_no_env_params\\gravity_-5.99955_wind_0.0_turbulence_0.75\\rl-video-episode-0.mp4\n",
      "gravity: -5.99955, wind_power: 0.0, turbulence_power: 0.75, reward: 303.50221783186186\n",
      "Moviepy - Building video d:\\Desktop\\reps\\TUM WS22\\tum-adlr-ws22-06\\final_validations\\sac2_no_env_params\\gravity_-5.99955_wind_0.0_turbulence_1.0\\rl-video-episode-0.mp4.\n",
      "Moviepy - Writing video d:\\Desktop\\reps\\TUM WS22\\tum-adlr-ws22-06\\final_validations\\sac2_no_env_params\\gravity_-5.99955_wind_0.0_turbulence_1.0\\rl-video-episode-0.mp4\n",
      "\n"
     ]
    },
    {
     "name": "stderr",
     "output_type": "stream",
     "text": [
      "c:\\Users\\volob\\.conda\\envs\\adlr\\lib\\site-packages\\gymnasium\\wrappers\\record_video.py:75: UserWarning:\n",
      "\n",
      "\u001b[33mWARN: Overwriting existing videos at d:\\Desktop\\reps\\TUM WS22\\tum-adlr-ws22-06\\final_validations\\sac2_no_env_params\\gravity_-5.99955_wind_2.5_turbulence_0.0 folder (try specifying a different `video_folder` for the `RecordVideo` wrapper if this is not desired)\u001b[0m\n",
      "\n"
     ]
    },
    {
     "name": "stdout",
     "output_type": "stream",
     "text": [
      "Moviepy - Done !\n",
      "Moviepy - video ready d:\\Desktop\\reps\\TUM WS22\\tum-adlr-ws22-06\\final_validations\\sac2_no_env_params\\gravity_-5.99955_wind_0.0_turbulence_1.0\\rl-video-episode-0.mp4\n",
      "gravity: -5.99955, wind_power: 0.0, turbulence_power: 1.0, reward: 304.4154495205272\n",
      "Moviepy - Building video d:\\Desktop\\reps\\TUM WS22\\tum-adlr-ws22-06\\final_validations\\sac2_no_env_params\\gravity_-5.99955_wind_2.5_turbulence_0.0\\rl-video-episode-0.mp4.\n",
      "Moviepy - Writing video d:\\Desktop\\reps\\TUM WS22\\tum-adlr-ws22-06\\final_validations\\sac2_no_env_params\\gravity_-5.99955_wind_2.5_turbulence_0.0\\rl-video-episode-0.mp4\n",
      "\n"
     ]
    },
    {
     "name": "stderr",
     "output_type": "stream",
     "text": [
      "c:\\Users\\volob\\.conda\\envs\\adlr\\lib\\site-packages\\gymnasium\\wrappers\\record_video.py:75: UserWarning:\n",
      "\n",
      "\u001b[33mWARN: Overwriting existing videos at d:\\Desktop\\reps\\TUM WS22\\tum-adlr-ws22-06\\final_validations\\sac2_no_env_params\\gravity_-5.99955_wind_2.5_turbulence_0.25 folder (try specifying a different `video_folder` for the `RecordVideo` wrapper if this is not desired)\u001b[0m\n",
      "\n"
     ]
    },
    {
     "name": "stdout",
     "output_type": "stream",
     "text": [
      "Moviepy - Done !\n",
      "Moviepy - video ready d:\\Desktop\\reps\\TUM WS22\\tum-adlr-ws22-06\\final_validations\\sac2_no_env_params\\gravity_-5.99955_wind_2.5_turbulence_0.0\\rl-video-episode-0.mp4\n",
      "gravity: -5.99955, wind_power: 2.5, turbulence_power: 0.0, reward: 284.0155408956791\n",
      "Moviepy - Building video d:\\Desktop\\reps\\TUM WS22\\tum-adlr-ws22-06\\final_validations\\sac2_no_env_params\\gravity_-5.99955_wind_2.5_turbulence_0.25\\rl-video-episode-0.mp4.\n",
      "Moviepy - Writing video d:\\Desktop\\reps\\TUM WS22\\tum-adlr-ws22-06\\final_validations\\sac2_no_env_params\\gravity_-5.99955_wind_2.5_turbulence_0.25\\rl-video-episode-0.mp4\n",
      "\n"
     ]
    },
    {
     "name": "stderr",
     "output_type": "stream",
     "text": [
      "c:\\Users\\volob\\.conda\\envs\\adlr\\lib\\site-packages\\gymnasium\\wrappers\\record_video.py:75: UserWarning:\n",
      "\n",
      "\u001b[33mWARN: Overwriting existing videos at d:\\Desktop\\reps\\TUM WS22\\tum-adlr-ws22-06\\final_validations\\sac2_no_env_params\\gravity_-5.99955_wind_2.5_turbulence_0.5 folder (try specifying a different `video_folder` for the `RecordVideo` wrapper if this is not desired)\u001b[0m\n",
      "\n"
     ]
    },
    {
     "name": "stdout",
     "output_type": "stream",
     "text": [
      "Moviepy - Done !\n",
      "Moviepy - video ready d:\\Desktop\\reps\\TUM WS22\\tum-adlr-ws22-06\\final_validations\\sac2_no_env_params\\gravity_-5.99955_wind_2.5_turbulence_0.25\\rl-video-episode-0.mp4\n",
      "gravity: -5.99955, wind_power: 2.5, turbulence_power: 0.25, reward: 303.9225170461432\n",
      "Moviepy - Building video d:\\Desktop\\reps\\TUM WS22\\tum-adlr-ws22-06\\final_validations\\sac2_no_env_params\\gravity_-5.99955_wind_2.5_turbulence_0.5\\rl-video-episode-0.mp4.\n",
      "Moviepy - Writing video d:\\Desktop\\reps\\TUM WS22\\tum-adlr-ws22-06\\final_validations\\sac2_no_env_params\\gravity_-5.99955_wind_2.5_turbulence_0.5\\rl-video-episode-0.mp4\n",
      "\n"
     ]
    },
    {
     "name": "stderr",
     "output_type": "stream",
     "text": [
      "c:\\Users\\volob\\.conda\\envs\\adlr\\lib\\site-packages\\gymnasium\\wrappers\\record_video.py:75: UserWarning:\n",
      "\n",
      "\u001b[33mWARN: Overwriting existing videos at d:\\Desktop\\reps\\TUM WS22\\tum-adlr-ws22-06\\final_validations\\sac2_no_env_params\\gravity_-5.99955_wind_2.5_turbulence_0.75 folder (try specifying a different `video_folder` for the `RecordVideo` wrapper if this is not desired)\u001b[0m\n",
      "\n"
     ]
    },
    {
     "name": "stdout",
     "output_type": "stream",
     "text": [
      "Moviepy - Done !\n",
      "Moviepy - video ready d:\\Desktop\\reps\\TUM WS22\\tum-adlr-ws22-06\\final_validations\\sac2_no_env_params\\gravity_-5.99955_wind_2.5_turbulence_0.5\\rl-video-episode-0.mp4\n",
      "gravity: -5.99955, wind_power: 2.5, turbulence_power: 0.5, reward: 300.54171438498463\n",
      "Moviepy - Building video d:\\Desktop\\reps\\TUM WS22\\tum-adlr-ws22-06\\final_validations\\sac2_no_env_params\\gravity_-5.99955_wind_2.5_turbulence_0.75\\rl-video-episode-0.mp4.\n",
      "Moviepy - Writing video d:\\Desktop\\reps\\TUM WS22\\tum-adlr-ws22-06\\final_validations\\sac2_no_env_params\\gravity_-5.99955_wind_2.5_turbulence_0.75\\rl-video-episode-0.mp4\n",
      "\n"
     ]
    },
    {
     "name": "stderr",
     "output_type": "stream",
     "text": [
      "c:\\Users\\volob\\.conda\\envs\\adlr\\lib\\site-packages\\gymnasium\\wrappers\\record_video.py:75: UserWarning:\n",
      "\n",
      "\u001b[33mWARN: Overwriting existing videos at d:\\Desktop\\reps\\TUM WS22\\tum-adlr-ws22-06\\final_validations\\sac2_no_env_params\\gravity_-5.99955_wind_2.5_turbulence_1.0 folder (try specifying a different `video_folder` for the `RecordVideo` wrapper if this is not desired)\u001b[0m\n",
      "\n"
     ]
    },
    {
     "name": "stdout",
     "output_type": "stream",
     "text": [
      "Moviepy - Done !\n",
      "Moviepy - video ready d:\\Desktop\\reps\\TUM WS22\\tum-adlr-ws22-06\\final_validations\\sac2_no_env_params\\gravity_-5.99955_wind_2.5_turbulence_0.75\\rl-video-episode-0.mp4\n",
      "gravity: -5.99955, wind_power: 2.5, turbulence_power: 0.75, reward: 302.3302613567539\n",
      "Moviepy - Building video d:\\Desktop\\reps\\TUM WS22\\tum-adlr-ws22-06\\final_validations\\sac2_no_env_params\\gravity_-5.99955_wind_2.5_turbulence_1.0\\rl-video-episode-0.mp4.\n",
      "Moviepy - Writing video d:\\Desktop\\reps\\TUM WS22\\tum-adlr-ws22-06\\final_validations\\sac2_no_env_params\\gravity_-5.99955_wind_2.5_turbulence_1.0\\rl-video-episode-0.mp4\n",
      "\n"
     ]
    },
    {
     "name": "stderr",
     "output_type": "stream",
     "text": [
      "c:\\Users\\volob\\.conda\\envs\\adlr\\lib\\site-packages\\gymnasium\\wrappers\\record_video.py:75: UserWarning:\n",
      "\n",
      "\u001b[33mWARN: Overwriting existing videos at d:\\Desktop\\reps\\TUM WS22\\tum-adlr-ws22-06\\final_validations\\sac2_no_env_params\\gravity_-5.99955_wind_5.0_turbulence_0.0 folder (try specifying a different `video_folder` for the `RecordVideo` wrapper if this is not desired)\u001b[0m\n",
      "\n"
     ]
    },
    {
     "name": "stdout",
     "output_type": "stream",
     "text": [
      "Moviepy - Done !\n",
      "Moviepy - video ready d:\\Desktop\\reps\\TUM WS22\\tum-adlr-ws22-06\\final_validations\\sac2_no_env_params\\gravity_-5.99955_wind_2.5_turbulence_1.0\\rl-video-episode-0.mp4\n",
      "gravity: -5.99955, wind_power: 2.5, turbulence_power: 1.0, reward: 281.72762999586234\n",
      "Moviepy - Building video d:\\Desktop\\reps\\TUM WS22\\tum-adlr-ws22-06\\final_validations\\sac2_no_env_params\\gravity_-5.99955_wind_5.0_turbulence_0.0\\rl-video-episode-0.mp4.\n",
      "Moviepy - Writing video d:\\Desktop\\reps\\TUM WS22\\tum-adlr-ws22-06\\final_validations\\sac2_no_env_params\\gravity_-5.99955_wind_5.0_turbulence_0.0\\rl-video-episode-0.mp4\n",
      "\n"
     ]
    },
    {
     "name": "stderr",
     "output_type": "stream",
     "text": [
      "c:\\Users\\volob\\.conda\\envs\\adlr\\lib\\site-packages\\gymnasium\\wrappers\\record_video.py:75: UserWarning:\n",
      "\n",
      "\u001b[33mWARN: Overwriting existing videos at d:\\Desktop\\reps\\TUM WS22\\tum-adlr-ws22-06\\final_validations\\sac2_no_env_params\\gravity_-5.99955_wind_5.0_turbulence_0.25 folder (try specifying a different `video_folder` for the `RecordVideo` wrapper if this is not desired)\u001b[0m\n",
      "\n"
     ]
    },
    {
     "name": "stdout",
     "output_type": "stream",
     "text": [
      "Moviepy - Done !\n",
      "Moviepy - video ready d:\\Desktop\\reps\\TUM WS22\\tum-adlr-ws22-06\\final_validations\\sac2_no_env_params\\gravity_-5.99955_wind_5.0_turbulence_0.0\\rl-video-episode-0.mp4\n",
      "gravity: -5.99955, wind_power: 5.0, turbulence_power: 0.0, reward: 309.17999958709515\n",
      "Moviepy - Building video d:\\Desktop\\reps\\TUM WS22\\tum-adlr-ws22-06\\final_validations\\sac2_no_env_params\\gravity_-5.99955_wind_5.0_turbulence_0.25\\rl-video-episode-0.mp4.\n",
      "Moviepy - Writing video d:\\Desktop\\reps\\TUM WS22\\tum-adlr-ws22-06\\final_validations\\sac2_no_env_params\\gravity_-5.99955_wind_5.0_turbulence_0.25\\rl-video-episode-0.mp4\n",
      "\n"
     ]
    },
    {
     "name": "stderr",
     "output_type": "stream",
     "text": [
      "c:\\Users\\volob\\.conda\\envs\\adlr\\lib\\site-packages\\gymnasium\\wrappers\\record_video.py:75: UserWarning:\n",
      "\n",
      "\u001b[33mWARN: Overwriting existing videos at d:\\Desktop\\reps\\TUM WS22\\tum-adlr-ws22-06\\final_validations\\sac2_no_env_params\\gravity_-5.99955_wind_5.0_turbulence_0.5 folder (try specifying a different `video_folder` for the `RecordVideo` wrapper if this is not desired)\u001b[0m\n",
      "\n"
     ]
    },
    {
     "name": "stdout",
     "output_type": "stream",
     "text": [
      "Moviepy - Done !\n",
      "Moviepy - video ready d:\\Desktop\\reps\\TUM WS22\\tum-adlr-ws22-06\\final_validations\\sac2_no_env_params\\gravity_-5.99955_wind_5.0_turbulence_0.25\\rl-video-episode-0.mp4\n",
      "gravity: -5.99955, wind_power: 5.0, turbulence_power: 0.25, reward: 301.00352501927796\n",
      "Moviepy - Building video d:\\Desktop\\reps\\TUM WS22\\tum-adlr-ws22-06\\final_validations\\sac2_no_env_params\\gravity_-5.99955_wind_5.0_turbulence_0.5\\rl-video-episode-0.mp4.\n",
      "Moviepy - Writing video d:\\Desktop\\reps\\TUM WS22\\tum-adlr-ws22-06\\final_validations\\sac2_no_env_params\\gravity_-5.99955_wind_5.0_turbulence_0.5\\rl-video-episode-0.mp4\n",
      "\n"
     ]
    },
    {
     "name": "stderr",
     "output_type": "stream",
     "text": [
      "c:\\Users\\volob\\.conda\\envs\\adlr\\lib\\site-packages\\gymnasium\\wrappers\\record_video.py:75: UserWarning:\n",
      "\n",
      "\u001b[33mWARN: Overwriting existing videos at d:\\Desktop\\reps\\TUM WS22\\tum-adlr-ws22-06\\final_validations\\sac2_no_env_params\\gravity_-5.99955_wind_5.0_turbulence_0.75 folder (try specifying a different `video_folder` for the `RecordVideo` wrapper if this is not desired)\u001b[0m\n",
      "\n"
     ]
    },
    {
     "name": "stdout",
     "output_type": "stream",
     "text": [
      "Moviepy - Done !\n",
      "Moviepy - video ready d:\\Desktop\\reps\\TUM WS22\\tum-adlr-ws22-06\\final_validations\\sac2_no_env_params\\gravity_-5.99955_wind_5.0_turbulence_0.5\\rl-video-episode-0.mp4\n",
      "gravity: -5.99955, wind_power: 5.0, turbulence_power: 0.5, reward: 286.4652090384641\n",
      "Moviepy - Building video d:\\Desktop\\reps\\TUM WS22\\tum-adlr-ws22-06\\final_validations\\sac2_no_env_params\\gravity_-5.99955_wind_5.0_turbulence_0.75\\rl-video-episode-0.mp4.\n",
      "Moviepy - Writing video d:\\Desktop\\reps\\TUM WS22\\tum-adlr-ws22-06\\final_validations\\sac2_no_env_params\\gravity_-5.99955_wind_5.0_turbulence_0.75\\rl-video-episode-0.mp4\n",
      "\n"
     ]
    },
    {
     "name": "stderr",
     "output_type": "stream",
     "text": [
      "c:\\Users\\volob\\.conda\\envs\\adlr\\lib\\site-packages\\gymnasium\\wrappers\\record_video.py:75: UserWarning:\n",
      "\n",
      "\u001b[33mWARN: Overwriting existing videos at d:\\Desktop\\reps\\TUM WS22\\tum-adlr-ws22-06\\final_validations\\sac2_no_env_params\\gravity_-5.99955_wind_5.0_turbulence_1.0 folder (try specifying a different `video_folder` for the `RecordVideo` wrapper if this is not desired)\u001b[0m\n",
      "\n"
     ]
    },
    {
     "name": "stdout",
     "output_type": "stream",
     "text": [
      "Moviepy - Done !\n",
      "Moviepy - video ready d:\\Desktop\\reps\\TUM WS22\\tum-adlr-ws22-06\\final_validations\\sac2_no_env_params\\gravity_-5.99955_wind_5.0_turbulence_0.75\\rl-video-episode-0.mp4\n",
      "gravity: -5.99955, wind_power: 5.0, turbulence_power: 0.75, reward: 266.9640974804296\n",
      "Moviepy - Building video d:\\Desktop\\reps\\TUM WS22\\tum-adlr-ws22-06\\final_validations\\sac2_no_env_params\\gravity_-5.99955_wind_5.0_turbulence_1.0\\rl-video-episode-0.mp4.\n",
      "Moviepy - Writing video d:\\Desktop\\reps\\TUM WS22\\tum-adlr-ws22-06\\final_validations\\sac2_no_env_params\\gravity_-5.99955_wind_5.0_turbulence_1.0\\rl-video-episode-0.mp4\n",
      "\n"
     ]
    },
    {
     "name": "stderr",
     "output_type": "stream",
     "text": [
      "c:\\Users\\volob\\.conda\\envs\\adlr\\lib\\site-packages\\gymnasium\\wrappers\\record_video.py:75: UserWarning:\n",
      "\n",
      "\u001b[33mWARN: Overwriting existing videos at d:\\Desktop\\reps\\TUM WS22\\tum-adlr-ws22-06\\final_validations\\sac2_no_env_params\\gravity_-5.99955_wind_7.5_turbulence_0.0 folder (try specifying a different `video_folder` for the `RecordVideo` wrapper if this is not desired)\u001b[0m\n",
      "\n"
     ]
    },
    {
     "name": "stdout",
     "output_type": "stream",
     "text": [
      "Moviepy - Done !\n",
      "Moviepy - video ready d:\\Desktop\\reps\\TUM WS22\\tum-adlr-ws22-06\\final_validations\\sac2_no_env_params\\gravity_-5.99955_wind_5.0_turbulence_1.0\\rl-video-episode-0.mp4\n",
      "gravity: -5.99955, wind_power: 5.0, turbulence_power: 1.0, reward: 308.66817925919725\n",
      "Moviepy - Building video d:\\Desktop\\reps\\TUM WS22\\tum-adlr-ws22-06\\final_validations\\sac2_no_env_params\\gravity_-5.99955_wind_7.5_turbulence_0.0\\rl-video-episode-0.mp4.\n",
      "Moviepy - Writing video d:\\Desktop\\reps\\TUM WS22\\tum-adlr-ws22-06\\final_validations\\sac2_no_env_params\\gravity_-5.99955_wind_7.5_turbulence_0.0\\rl-video-episode-0.mp4\n",
      "\n"
     ]
    },
    {
     "name": "stderr",
     "output_type": "stream",
     "text": [
      "c:\\Users\\volob\\.conda\\envs\\adlr\\lib\\site-packages\\gymnasium\\wrappers\\record_video.py:75: UserWarning:\n",
      "\n",
      "\u001b[33mWARN: Overwriting existing videos at d:\\Desktop\\reps\\TUM WS22\\tum-adlr-ws22-06\\final_validations\\sac2_no_env_params\\gravity_-5.99955_wind_7.5_turbulence_0.25 folder (try specifying a different `video_folder` for the `RecordVideo` wrapper if this is not desired)\u001b[0m\n",
      "\n"
     ]
    },
    {
     "name": "stdout",
     "output_type": "stream",
     "text": [
      "Moviepy - Done !\n",
      "Moviepy - video ready d:\\Desktop\\reps\\TUM WS22\\tum-adlr-ws22-06\\final_validations\\sac2_no_env_params\\gravity_-5.99955_wind_7.5_turbulence_0.0\\rl-video-episode-0.mp4\n",
      "gravity: -5.99955, wind_power: 7.5, turbulence_power: 0.0, reward: 296.2314629413171\n",
      "Moviepy - Building video d:\\Desktop\\reps\\TUM WS22\\tum-adlr-ws22-06\\final_validations\\sac2_no_env_params\\gravity_-5.99955_wind_7.5_turbulence_0.25\\rl-video-episode-0.mp4.\n",
      "Moviepy - Writing video d:\\Desktop\\reps\\TUM WS22\\tum-adlr-ws22-06\\final_validations\\sac2_no_env_params\\gravity_-5.99955_wind_7.5_turbulence_0.25\\rl-video-episode-0.mp4\n",
      "\n"
     ]
    },
    {
     "name": "stderr",
     "output_type": "stream",
     "text": [
      "c:\\Users\\volob\\.conda\\envs\\adlr\\lib\\site-packages\\gymnasium\\wrappers\\record_video.py:75: UserWarning:\n",
      "\n",
      "\u001b[33mWARN: Overwriting existing videos at d:\\Desktop\\reps\\TUM WS22\\tum-adlr-ws22-06\\final_validations\\sac2_no_env_params\\gravity_-5.99955_wind_7.5_turbulence_0.5 folder (try specifying a different `video_folder` for the `RecordVideo` wrapper if this is not desired)\u001b[0m\n",
      "\n"
     ]
    },
    {
     "name": "stdout",
     "output_type": "stream",
     "text": [
      "Moviepy - Done !\n",
      "Moviepy - video ready d:\\Desktop\\reps\\TUM WS22\\tum-adlr-ws22-06\\final_validations\\sac2_no_env_params\\gravity_-5.99955_wind_7.5_turbulence_0.25\\rl-video-episode-0.mp4\n",
      "gravity: -5.99955, wind_power: 7.5, turbulence_power: 0.25, reward: 290.98641464225943\n",
      "Moviepy - Building video d:\\Desktop\\reps\\TUM WS22\\tum-adlr-ws22-06\\final_validations\\sac2_no_env_params\\gravity_-5.99955_wind_7.5_turbulence_0.5\\rl-video-episode-0.mp4.\n",
      "Moviepy - Writing video d:\\Desktop\\reps\\TUM WS22\\tum-adlr-ws22-06\\final_validations\\sac2_no_env_params\\gravity_-5.99955_wind_7.5_turbulence_0.5\\rl-video-episode-0.mp4\n",
      "\n"
     ]
    },
    {
     "name": "stderr",
     "output_type": "stream",
     "text": [
      "c:\\Users\\volob\\.conda\\envs\\adlr\\lib\\site-packages\\gymnasium\\wrappers\\record_video.py:75: UserWarning:\n",
      "\n",
      "\u001b[33mWARN: Overwriting existing videos at d:\\Desktop\\reps\\TUM WS22\\tum-adlr-ws22-06\\final_validations\\sac2_no_env_params\\gravity_-5.99955_wind_7.5_turbulence_0.75 folder (try specifying a different `video_folder` for the `RecordVideo` wrapper if this is not desired)\u001b[0m\n",
      "\n"
     ]
    },
    {
     "name": "stdout",
     "output_type": "stream",
     "text": [
      "Moviepy - Done !\n",
      "Moviepy - video ready d:\\Desktop\\reps\\TUM WS22\\tum-adlr-ws22-06\\final_validations\\sac2_no_env_params\\gravity_-5.99955_wind_7.5_turbulence_0.5\\rl-video-episode-0.mp4\n",
      "gravity: -5.99955, wind_power: 7.5, turbulence_power: 0.5, reward: 292.1214351943154\n",
      "Moviepy - Building video d:\\Desktop\\reps\\TUM WS22\\tum-adlr-ws22-06\\final_validations\\sac2_no_env_params\\gravity_-5.99955_wind_7.5_turbulence_0.75\\rl-video-episode-0.mp4.\n",
      "Moviepy - Writing video d:\\Desktop\\reps\\TUM WS22\\tum-adlr-ws22-06\\final_validations\\sac2_no_env_params\\gravity_-5.99955_wind_7.5_turbulence_0.75\\rl-video-episode-0.mp4\n",
      "\n"
     ]
    },
    {
     "name": "stderr",
     "output_type": "stream",
     "text": [
      "c:\\Users\\volob\\.conda\\envs\\adlr\\lib\\site-packages\\gymnasium\\wrappers\\record_video.py:75: UserWarning:\n",
      "\n",
      "\u001b[33mWARN: Overwriting existing videos at d:\\Desktop\\reps\\TUM WS22\\tum-adlr-ws22-06\\final_validations\\sac2_no_env_params\\gravity_-5.99955_wind_7.5_turbulence_1.0 folder (try specifying a different `video_folder` for the `RecordVideo` wrapper if this is not desired)\u001b[0m\n",
      "\n"
     ]
    },
    {
     "name": "stdout",
     "output_type": "stream",
     "text": [
      "Moviepy - Done !\n",
      "Moviepy - video ready d:\\Desktop\\reps\\TUM WS22\\tum-adlr-ws22-06\\final_validations\\sac2_no_env_params\\gravity_-5.99955_wind_7.5_turbulence_0.75\\rl-video-episode-0.mp4\n",
      "gravity: -5.99955, wind_power: 7.5, turbulence_power: 0.75, reward: 319.3268691408432\n",
      "Moviepy - Building video d:\\Desktop\\reps\\TUM WS22\\tum-adlr-ws22-06\\final_validations\\sac2_no_env_params\\gravity_-5.99955_wind_7.5_turbulence_1.0\\rl-video-episode-0.mp4.\n",
      "Moviepy - Writing video d:\\Desktop\\reps\\TUM WS22\\tum-adlr-ws22-06\\final_validations\\sac2_no_env_params\\gravity_-5.99955_wind_7.5_turbulence_1.0\\rl-video-episode-0.mp4\n",
      "\n"
     ]
    },
    {
     "name": "stderr",
     "output_type": "stream",
     "text": [
      "c:\\Users\\volob\\.conda\\envs\\adlr\\lib\\site-packages\\gymnasium\\wrappers\\record_video.py:75: UserWarning:\n",
      "\n",
      "\u001b[33mWARN: Overwriting existing videos at d:\\Desktop\\reps\\TUM WS22\\tum-adlr-ws22-06\\final_validations\\sac2_no_env_params\\gravity_-5.99955_wind_10.0_turbulence_0.0 folder (try specifying a different `video_folder` for the `RecordVideo` wrapper if this is not desired)\u001b[0m\n",
      "\n"
     ]
    },
    {
     "name": "stdout",
     "output_type": "stream",
     "text": [
      "Moviepy - Done !\n",
      "Moviepy - video ready d:\\Desktop\\reps\\TUM WS22\\tum-adlr-ws22-06\\final_validations\\sac2_no_env_params\\gravity_-5.99955_wind_7.5_turbulence_1.0\\rl-video-episode-0.mp4\n",
      "gravity: -5.99955, wind_power: 7.5, turbulence_power: 1.0, reward: 278.6765433039377\n",
      "Moviepy - Building video d:\\Desktop\\reps\\TUM WS22\\tum-adlr-ws22-06\\final_validations\\sac2_no_env_params\\gravity_-5.99955_wind_10.0_turbulence_0.0\\rl-video-episode-0.mp4.\n",
      "Moviepy - Writing video d:\\Desktop\\reps\\TUM WS22\\tum-adlr-ws22-06\\final_validations\\sac2_no_env_params\\gravity_-5.99955_wind_10.0_turbulence_0.0\\rl-video-episode-0.mp4\n",
      "\n"
     ]
    },
    {
     "name": "stderr",
     "output_type": "stream",
     "text": [
      "c:\\Users\\volob\\.conda\\envs\\adlr\\lib\\site-packages\\gymnasium\\wrappers\\record_video.py:75: UserWarning:\n",
      "\n",
      "\u001b[33mWARN: Overwriting existing videos at d:\\Desktop\\reps\\TUM WS22\\tum-adlr-ws22-06\\final_validations\\sac2_no_env_params\\gravity_-5.99955_wind_10.0_turbulence_0.25 folder (try specifying a different `video_folder` for the `RecordVideo` wrapper if this is not desired)\u001b[0m\n",
      "\n"
     ]
    },
    {
     "name": "stdout",
     "output_type": "stream",
     "text": [
      "Moviepy - Done !\n",
      "Moviepy - video ready d:\\Desktop\\reps\\TUM WS22\\tum-adlr-ws22-06\\final_validations\\sac2_no_env_params\\gravity_-5.99955_wind_10.0_turbulence_0.0\\rl-video-episode-0.mp4\n",
      "gravity: -5.99955, wind_power: 10.0, turbulence_power: 0.0, reward: 313.4152593044689\n",
      "Moviepy - Building video d:\\Desktop\\reps\\TUM WS22\\tum-adlr-ws22-06\\final_validations\\sac2_no_env_params\\gravity_-5.99955_wind_10.0_turbulence_0.25\\rl-video-episode-0.mp4.\n",
      "Moviepy - Writing video d:\\Desktop\\reps\\TUM WS22\\tum-adlr-ws22-06\\final_validations\\sac2_no_env_params\\gravity_-5.99955_wind_10.0_turbulence_0.25\\rl-video-episode-0.mp4\n",
      "\n"
     ]
    },
    {
     "name": "stderr",
     "output_type": "stream",
     "text": [
      "c:\\Users\\volob\\.conda\\envs\\adlr\\lib\\site-packages\\gymnasium\\wrappers\\record_video.py:75: UserWarning:\n",
      "\n",
      "\u001b[33mWARN: Overwriting existing videos at d:\\Desktop\\reps\\TUM WS22\\tum-adlr-ws22-06\\final_validations\\sac2_no_env_params\\gravity_-5.99955_wind_10.0_turbulence_0.5 folder (try specifying a different `video_folder` for the `RecordVideo` wrapper if this is not desired)\u001b[0m\n",
      "\n"
     ]
    },
    {
     "name": "stdout",
     "output_type": "stream",
     "text": [
      "Moviepy - Done !\n",
      "Moviepy - video ready d:\\Desktop\\reps\\TUM WS22\\tum-adlr-ws22-06\\final_validations\\sac2_no_env_params\\gravity_-5.99955_wind_10.0_turbulence_0.25\\rl-video-episode-0.mp4\n",
      "gravity: -5.99955, wind_power: 10.0, turbulence_power: 0.25, reward: 295.3553415701642\n",
      "Moviepy - Building video d:\\Desktop\\reps\\TUM WS22\\tum-adlr-ws22-06\\final_validations\\sac2_no_env_params\\gravity_-5.99955_wind_10.0_turbulence_0.5\\rl-video-episode-0.mp4.\n",
      "Moviepy - Writing video d:\\Desktop\\reps\\TUM WS22\\tum-adlr-ws22-06\\final_validations\\sac2_no_env_params\\gravity_-5.99955_wind_10.0_turbulence_0.5\\rl-video-episode-0.mp4\n",
      "\n"
     ]
    },
    {
     "name": "stderr",
     "output_type": "stream",
     "text": [
      "c:\\Users\\volob\\.conda\\envs\\adlr\\lib\\site-packages\\gymnasium\\wrappers\\record_video.py:75: UserWarning:\n",
      "\n",
      "\u001b[33mWARN: Overwriting existing videos at d:\\Desktop\\reps\\TUM WS22\\tum-adlr-ws22-06\\final_validations\\sac2_no_env_params\\gravity_-5.99955_wind_10.0_turbulence_0.75 folder (try specifying a different `video_folder` for the `RecordVideo` wrapper if this is not desired)\u001b[0m\n",
      "\n"
     ]
    },
    {
     "name": "stdout",
     "output_type": "stream",
     "text": [
      "Moviepy - Done !\n",
      "Moviepy - video ready d:\\Desktop\\reps\\TUM WS22\\tum-adlr-ws22-06\\final_validations\\sac2_no_env_params\\gravity_-5.99955_wind_10.0_turbulence_0.5\\rl-video-episode-0.mp4\n",
      "gravity: -5.99955, wind_power: 10.0, turbulence_power: 0.5, reward: 301.93691071691705\n",
      "Moviepy - Building video d:\\Desktop\\reps\\TUM WS22\\tum-adlr-ws22-06\\final_validations\\sac2_no_env_params\\gravity_-5.99955_wind_10.0_turbulence_0.75\\rl-video-episode-0.mp4.\n",
      "Moviepy - Writing video d:\\Desktop\\reps\\TUM WS22\\tum-adlr-ws22-06\\final_validations\\sac2_no_env_params\\gravity_-5.99955_wind_10.0_turbulence_0.75\\rl-video-episode-0.mp4\n",
      "\n"
     ]
    },
    {
     "name": "stderr",
     "output_type": "stream",
     "text": [
      "c:\\Users\\volob\\.conda\\envs\\adlr\\lib\\site-packages\\gymnasium\\wrappers\\record_video.py:75: UserWarning:\n",
      "\n",
      "\u001b[33mWARN: Overwriting existing videos at d:\\Desktop\\reps\\TUM WS22\\tum-adlr-ws22-06\\final_validations\\sac2_no_env_params\\gravity_-5.99955_wind_10.0_turbulence_1.0 folder (try specifying a different `video_folder` for the `RecordVideo` wrapper if this is not desired)\u001b[0m\n",
      "\n"
     ]
    },
    {
     "name": "stdout",
     "output_type": "stream",
     "text": [
      "Moviepy - Done !\n",
      "Moviepy - video ready d:\\Desktop\\reps\\TUM WS22\\tum-adlr-ws22-06\\final_validations\\sac2_no_env_params\\gravity_-5.99955_wind_10.0_turbulence_0.75\\rl-video-episode-0.mp4\n",
      "gravity: -5.99955, wind_power: 10.0, turbulence_power: 0.75, reward: 305.63242758185123\n",
      "Moviepy - Building video d:\\Desktop\\reps\\TUM WS22\\tum-adlr-ws22-06\\final_validations\\sac2_no_env_params\\gravity_-5.99955_wind_10.0_turbulence_1.0\\rl-video-episode-0.mp4.\n",
      "Moviepy - Writing video d:\\Desktop\\reps\\TUM WS22\\tum-adlr-ws22-06\\final_validations\\sac2_no_env_params\\gravity_-5.99955_wind_10.0_turbulence_1.0\\rl-video-episode-0.mp4\n",
      "\n"
     ]
    },
    {
     "name": "stderr",
     "output_type": "stream",
     "text": [
      "c:\\Users\\volob\\.conda\\envs\\adlr\\lib\\site-packages\\gymnasium\\wrappers\\record_video.py:75: UserWarning:\n",
      "\n",
      "\u001b[33mWARN: Overwriting existing videos at d:\\Desktop\\reps\\TUM WS22\\tum-adlr-ws22-06\\final_validations\\sac2_no_env_params\\gravity_-2.9998249999999995_wind_0.0_turbulence_0.0 folder (try specifying a different `video_folder` for the `RecordVideo` wrapper if this is not desired)\u001b[0m\n",
      "\n"
     ]
    },
    {
     "name": "stdout",
     "output_type": "stream",
     "text": [
      "Moviepy - Done !\n",
      "Moviepy - video ready d:\\Desktop\\reps\\TUM WS22\\tum-adlr-ws22-06\\final_validations\\sac2_no_env_params\\gravity_-5.99955_wind_10.0_turbulence_1.0\\rl-video-episode-0.mp4\n",
      "gravity: -5.99955, wind_power: 10.0, turbulence_power: 1.0, reward: 295.24825723556535\n",
      "Moviepy - Building video d:\\Desktop\\reps\\TUM WS22\\tum-adlr-ws22-06\\final_validations\\sac2_no_env_params\\gravity_-2.9998249999999995_wind_0.0_turbulence_0.0\\rl-video-episode-0.mp4.\n",
      "Moviepy - Writing video d:\\Desktop\\reps\\TUM WS22\\tum-adlr-ws22-06\\final_validations\\sac2_no_env_params\\gravity_-2.9998249999999995_wind_0.0_turbulence_0.0\\rl-video-episode-0.mp4\n",
      "\n"
     ]
    },
    {
     "name": "stderr",
     "output_type": "stream",
     "text": [
      "c:\\Users\\volob\\.conda\\envs\\adlr\\lib\\site-packages\\gymnasium\\wrappers\\record_video.py:75: UserWarning:\n",
      "\n",
      "\u001b[33mWARN: Overwriting existing videos at d:\\Desktop\\reps\\TUM WS22\\tum-adlr-ws22-06\\final_validations\\sac2_no_env_params\\gravity_-2.9998249999999995_wind_0.0_turbulence_0.25 folder (try specifying a different `video_folder` for the `RecordVideo` wrapper if this is not desired)\u001b[0m\n",
      "\n"
     ]
    },
    {
     "name": "stdout",
     "output_type": "stream",
     "text": [
      "Moviepy - Done !\n",
      "Moviepy - video ready d:\\Desktop\\reps\\TUM WS22\\tum-adlr-ws22-06\\final_validations\\sac2_no_env_params\\gravity_-2.9998249999999995_wind_0.0_turbulence_0.0\\rl-video-episode-0.mp4\n",
      "gravity: -2.9998249999999995, wind_power: 0.0, turbulence_power: 0.0, reward: 292.6805468199638\n",
      "Moviepy - Building video d:\\Desktop\\reps\\TUM WS22\\tum-adlr-ws22-06\\final_validations\\sac2_no_env_params\\gravity_-2.9998249999999995_wind_0.0_turbulence_0.25\\rl-video-episode-0.mp4.\n",
      "Moviepy - Writing video d:\\Desktop\\reps\\TUM WS22\\tum-adlr-ws22-06\\final_validations\\sac2_no_env_params\\gravity_-2.9998249999999995_wind_0.0_turbulence_0.25\\rl-video-episode-0.mp4\n",
      "\n"
     ]
    },
    {
     "name": "stderr",
     "output_type": "stream",
     "text": [
      "c:\\Users\\volob\\.conda\\envs\\adlr\\lib\\site-packages\\gymnasium\\wrappers\\record_video.py:75: UserWarning:\n",
      "\n",
      "\u001b[33mWARN: Overwriting existing videos at d:\\Desktop\\reps\\TUM WS22\\tum-adlr-ws22-06\\final_validations\\sac2_no_env_params\\gravity_-2.9998249999999995_wind_0.0_turbulence_0.5 folder (try specifying a different `video_folder` for the `RecordVideo` wrapper if this is not desired)\u001b[0m\n",
      "\n"
     ]
    },
    {
     "name": "stdout",
     "output_type": "stream",
     "text": [
      "Moviepy - Done !\n",
      "Moviepy - video ready d:\\Desktop\\reps\\TUM WS22\\tum-adlr-ws22-06\\final_validations\\sac2_no_env_params\\gravity_-2.9998249999999995_wind_0.0_turbulence_0.25\\rl-video-episode-0.mp4\n",
      "gravity: -2.9998249999999995, wind_power: 0.0, turbulence_power: 0.25, reward: 292.9851410249411\n",
      "Moviepy - Building video d:\\Desktop\\reps\\TUM WS22\\tum-adlr-ws22-06\\final_validations\\sac2_no_env_params\\gravity_-2.9998249999999995_wind_0.0_turbulence_0.5\\rl-video-episode-0.mp4.\n",
      "Moviepy - Writing video d:\\Desktop\\reps\\TUM WS22\\tum-adlr-ws22-06\\final_validations\\sac2_no_env_params\\gravity_-2.9998249999999995_wind_0.0_turbulence_0.5\\rl-video-episode-0.mp4\n",
      "\n"
     ]
    },
    {
     "name": "stderr",
     "output_type": "stream",
     "text": [
      "c:\\Users\\volob\\.conda\\envs\\adlr\\lib\\site-packages\\gymnasium\\wrappers\\record_video.py:75: UserWarning:\n",
      "\n",
      "\u001b[33mWARN: Overwriting existing videos at d:\\Desktop\\reps\\TUM WS22\\tum-adlr-ws22-06\\final_validations\\sac2_no_env_params\\gravity_-2.9998249999999995_wind_0.0_turbulence_0.75 folder (try specifying a different `video_folder` for the `RecordVideo` wrapper if this is not desired)\u001b[0m\n",
      "\n"
     ]
    },
    {
     "name": "stdout",
     "output_type": "stream",
     "text": [
      "Moviepy - Done !\n",
      "Moviepy - video ready d:\\Desktop\\reps\\TUM WS22\\tum-adlr-ws22-06\\final_validations\\sac2_no_env_params\\gravity_-2.9998249999999995_wind_0.0_turbulence_0.5\\rl-video-episode-0.mp4\n",
      "gravity: -2.9998249999999995, wind_power: 0.0, turbulence_power: 0.5, reward: 284.2608224992115\n",
      "Moviepy - Building video d:\\Desktop\\reps\\TUM WS22\\tum-adlr-ws22-06\\final_validations\\sac2_no_env_params\\gravity_-2.9998249999999995_wind_0.0_turbulence_0.75\\rl-video-episode-0.mp4.\n",
      "Moviepy - Writing video d:\\Desktop\\reps\\TUM WS22\\tum-adlr-ws22-06\\final_validations\\sac2_no_env_params\\gravity_-2.9998249999999995_wind_0.0_turbulence_0.75\\rl-video-episode-0.mp4\n",
      "\n"
     ]
    },
    {
     "name": "stderr",
     "output_type": "stream",
     "text": [
      "c:\\Users\\volob\\.conda\\envs\\adlr\\lib\\site-packages\\gymnasium\\wrappers\\record_video.py:75: UserWarning:\n",
      "\n",
      "\u001b[33mWARN: Overwriting existing videos at d:\\Desktop\\reps\\TUM WS22\\tum-adlr-ws22-06\\final_validations\\sac2_no_env_params\\gravity_-2.9998249999999995_wind_0.0_turbulence_1.0 folder (try specifying a different `video_folder` for the `RecordVideo` wrapper if this is not desired)\u001b[0m\n",
      "\n"
     ]
    },
    {
     "name": "stdout",
     "output_type": "stream",
     "text": [
      "Moviepy - Done !\n",
      "Moviepy - video ready d:\\Desktop\\reps\\TUM WS22\\tum-adlr-ws22-06\\final_validations\\sac2_no_env_params\\gravity_-2.9998249999999995_wind_0.0_turbulence_0.75\\rl-video-episode-0.mp4\n",
      "gravity: -2.9998249999999995, wind_power: 0.0, turbulence_power: 0.75, reward: 282.7357870281935\n",
      "Moviepy - Building video d:\\Desktop\\reps\\TUM WS22\\tum-adlr-ws22-06\\final_validations\\sac2_no_env_params\\gravity_-2.9998249999999995_wind_0.0_turbulence_1.0\\rl-video-episode-0.mp4.\n",
      "Moviepy - Writing video d:\\Desktop\\reps\\TUM WS22\\tum-adlr-ws22-06\\final_validations\\sac2_no_env_params\\gravity_-2.9998249999999995_wind_0.0_turbulence_1.0\\rl-video-episode-0.mp4\n",
      "\n"
     ]
    },
    {
     "name": "stderr",
     "output_type": "stream",
     "text": [
      "c:\\Users\\volob\\.conda\\envs\\adlr\\lib\\site-packages\\gymnasium\\wrappers\\record_video.py:75: UserWarning:\n",
      "\n",
      "\u001b[33mWARN: Overwriting existing videos at d:\\Desktop\\reps\\TUM WS22\\tum-adlr-ws22-06\\final_validations\\sac2_no_env_params\\gravity_-2.9998249999999995_wind_2.5_turbulence_0.0 folder (try specifying a different `video_folder` for the `RecordVideo` wrapper if this is not desired)\u001b[0m\n",
      "\n"
     ]
    },
    {
     "name": "stdout",
     "output_type": "stream",
     "text": [
      "Moviepy - Done !\n",
      "Moviepy - video ready d:\\Desktop\\reps\\TUM WS22\\tum-adlr-ws22-06\\final_validations\\sac2_no_env_params\\gravity_-2.9998249999999995_wind_0.0_turbulence_1.0\\rl-video-episode-0.mp4\n",
      "gravity: -2.9998249999999995, wind_power: 0.0, turbulence_power: 1.0, reward: 287.8897933711827\n",
      "Moviepy - Building video d:\\Desktop\\reps\\TUM WS22\\tum-adlr-ws22-06\\final_validations\\sac2_no_env_params\\gravity_-2.9998249999999995_wind_2.5_turbulence_0.0\\rl-video-episode-0.mp4.\n",
      "Moviepy - Writing video d:\\Desktop\\reps\\TUM WS22\\tum-adlr-ws22-06\\final_validations\\sac2_no_env_params\\gravity_-2.9998249999999995_wind_2.5_turbulence_0.0\\rl-video-episode-0.mp4\n",
      "\n"
     ]
    },
    {
     "name": "stderr",
     "output_type": "stream",
     "text": [
      "c:\\Users\\volob\\.conda\\envs\\adlr\\lib\\site-packages\\gymnasium\\wrappers\\record_video.py:75: UserWarning:\n",
      "\n",
      "\u001b[33mWARN: Overwriting existing videos at d:\\Desktop\\reps\\TUM WS22\\tum-adlr-ws22-06\\final_validations\\sac2_no_env_params\\gravity_-2.9998249999999995_wind_2.5_turbulence_0.25 folder (try specifying a different `video_folder` for the `RecordVideo` wrapper if this is not desired)\u001b[0m\n",
      "\n"
     ]
    },
    {
     "name": "stdout",
     "output_type": "stream",
     "text": [
      "Moviepy - Done !\n",
      "Moviepy - video ready d:\\Desktop\\reps\\TUM WS22\\tum-adlr-ws22-06\\final_validations\\sac2_no_env_params\\gravity_-2.9998249999999995_wind_2.5_turbulence_0.0\\rl-video-episode-0.mp4\n",
      "gravity: -2.9998249999999995, wind_power: 2.5, turbulence_power: 0.0, reward: 312.49062790622355\n",
      "Moviepy - Building video d:\\Desktop\\reps\\TUM WS22\\tum-adlr-ws22-06\\final_validations\\sac2_no_env_params\\gravity_-2.9998249999999995_wind_2.5_turbulence_0.25\\rl-video-episode-0.mp4.\n",
      "Moviepy - Writing video d:\\Desktop\\reps\\TUM WS22\\tum-adlr-ws22-06\\final_validations\\sac2_no_env_params\\gravity_-2.9998249999999995_wind_2.5_turbulence_0.25\\rl-video-episode-0.mp4\n",
      "\n"
     ]
    },
    {
     "name": "stderr",
     "output_type": "stream",
     "text": [
      "c:\\Users\\volob\\.conda\\envs\\adlr\\lib\\site-packages\\gymnasium\\wrappers\\record_video.py:75: UserWarning:\n",
      "\n",
      "\u001b[33mWARN: Overwriting existing videos at d:\\Desktop\\reps\\TUM WS22\\tum-adlr-ws22-06\\final_validations\\sac2_no_env_params\\gravity_-2.9998249999999995_wind_2.5_turbulence_0.5 folder (try specifying a different `video_folder` for the `RecordVideo` wrapper if this is not desired)\u001b[0m\n",
      "\n"
     ]
    },
    {
     "name": "stdout",
     "output_type": "stream",
     "text": [
      "Moviepy - Done !\n",
      "Moviepy - video ready d:\\Desktop\\reps\\TUM WS22\\tum-adlr-ws22-06\\final_validations\\sac2_no_env_params\\gravity_-2.9998249999999995_wind_2.5_turbulence_0.25\\rl-video-episode-0.mp4\n",
      "gravity: -2.9998249999999995, wind_power: 2.5, turbulence_power: 0.25, reward: 302.3725869776234\n",
      "Moviepy - Building video d:\\Desktop\\reps\\TUM WS22\\tum-adlr-ws22-06\\final_validations\\sac2_no_env_params\\gravity_-2.9998249999999995_wind_2.5_turbulence_0.5\\rl-video-episode-0.mp4.\n",
      "Moviepy - Writing video d:\\Desktop\\reps\\TUM WS22\\tum-adlr-ws22-06\\final_validations\\sac2_no_env_params\\gravity_-2.9998249999999995_wind_2.5_turbulence_0.5\\rl-video-episode-0.mp4\n",
      "\n"
     ]
    },
    {
     "name": "stderr",
     "output_type": "stream",
     "text": [
      "c:\\Users\\volob\\.conda\\envs\\adlr\\lib\\site-packages\\gymnasium\\wrappers\\record_video.py:75: UserWarning:\n",
      "\n",
      "\u001b[33mWARN: Overwriting existing videos at d:\\Desktop\\reps\\TUM WS22\\tum-adlr-ws22-06\\final_validations\\sac2_no_env_params\\gravity_-2.9998249999999995_wind_2.5_turbulence_0.75 folder (try specifying a different `video_folder` for the `RecordVideo` wrapper if this is not desired)\u001b[0m\n",
      "\n"
     ]
    },
    {
     "name": "stdout",
     "output_type": "stream",
     "text": [
      "Moviepy - Done !\n",
      "Moviepy - video ready d:\\Desktop\\reps\\TUM WS22\\tum-adlr-ws22-06\\final_validations\\sac2_no_env_params\\gravity_-2.9998249999999995_wind_2.5_turbulence_0.5\\rl-video-episode-0.mp4\n",
      "gravity: -2.9998249999999995, wind_power: 2.5, turbulence_power: 0.5, reward: 304.438219271927\n",
      "Moviepy - Building video d:\\Desktop\\reps\\TUM WS22\\tum-adlr-ws22-06\\final_validations\\sac2_no_env_params\\gravity_-2.9998249999999995_wind_2.5_turbulence_0.75\\rl-video-episode-0.mp4.\n",
      "Moviepy - Writing video d:\\Desktop\\reps\\TUM WS22\\tum-adlr-ws22-06\\final_validations\\sac2_no_env_params\\gravity_-2.9998249999999995_wind_2.5_turbulence_0.75\\rl-video-episode-0.mp4\n",
      "\n"
     ]
    },
    {
     "name": "stderr",
     "output_type": "stream",
     "text": [
      "c:\\Users\\volob\\.conda\\envs\\adlr\\lib\\site-packages\\gymnasium\\wrappers\\record_video.py:75: UserWarning:\n",
      "\n",
      "\u001b[33mWARN: Overwriting existing videos at d:\\Desktop\\reps\\TUM WS22\\tum-adlr-ws22-06\\final_validations\\sac2_no_env_params\\gravity_-2.9998249999999995_wind_2.5_turbulence_1.0 folder (try specifying a different `video_folder` for the `RecordVideo` wrapper if this is not desired)\u001b[0m\n",
      "\n"
     ]
    },
    {
     "name": "stdout",
     "output_type": "stream",
     "text": [
      "Moviepy - Done !\n",
      "Moviepy - video ready d:\\Desktop\\reps\\TUM WS22\\tum-adlr-ws22-06\\final_validations\\sac2_no_env_params\\gravity_-2.9998249999999995_wind_2.5_turbulence_0.75\\rl-video-episode-0.mp4\n",
      "gravity: -2.9998249999999995, wind_power: 2.5, turbulence_power: 0.75, reward: 294.15927848720605\n",
      "Moviepy - Building video d:\\Desktop\\reps\\TUM WS22\\tum-adlr-ws22-06\\final_validations\\sac2_no_env_params\\gravity_-2.9998249999999995_wind_2.5_turbulence_1.0\\rl-video-episode-0.mp4.\n",
      "Moviepy - Writing video d:\\Desktop\\reps\\TUM WS22\\tum-adlr-ws22-06\\final_validations\\sac2_no_env_params\\gravity_-2.9998249999999995_wind_2.5_turbulence_1.0\\rl-video-episode-0.mp4\n",
      "\n"
     ]
    },
    {
     "name": "stderr",
     "output_type": "stream",
     "text": [
      "c:\\Users\\volob\\.conda\\envs\\adlr\\lib\\site-packages\\gymnasium\\wrappers\\record_video.py:75: UserWarning:\n",
      "\n",
      "\u001b[33mWARN: Overwriting existing videos at d:\\Desktop\\reps\\TUM WS22\\tum-adlr-ws22-06\\final_validations\\sac2_no_env_params\\gravity_-2.9998249999999995_wind_5.0_turbulence_0.0 folder (try specifying a different `video_folder` for the `RecordVideo` wrapper if this is not desired)\u001b[0m\n",
      "\n"
     ]
    },
    {
     "name": "stdout",
     "output_type": "stream",
     "text": [
      "Moviepy - Done !\n",
      "Moviepy - video ready d:\\Desktop\\reps\\TUM WS22\\tum-adlr-ws22-06\\final_validations\\sac2_no_env_params\\gravity_-2.9998249999999995_wind_2.5_turbulence_1.0\\rl-video-episode-0.mp4\n",
      "gravity: -2.9998249999999995, wind_power: 2.5, turbulence_power: 1.0, reward: 288.8197236814992\n",
      "Moviepy - Building video d:\\Desktop\\reps\\TUM WS22\\tum-adlr-ws22-06\\final_validations\\sac2_no_env_params\\gravity_-2.9998249999999995_wind_5.0_turbulence_0.0\\rl-video-episode-0.mp4.\n",
      "Moviepy - Writing video d:\\Desktop\\reps\\TUM WS22\\tum-adlr-ws22-06\\final_validations\\sac2_no_env_params\\gravity_-2.9998249999999995_wind_5.0_turbulence_0.0\\rl-video-episode-0.mp4\n",
      "\n"
     ]
    },
    {
     "name": "stderr",
     "output_type": "stream",
     "text": [
      "c:\\Users\\volob\\.conda\\envs\\adlr\\lib\\site-packages\\gymnasium\\wrappers\\record_video.py:75: UserWarning:\n",
      "\n",
      "\u001b[33mWARN: Overwriting existing videos at d:\\Desktop\\reps\\TUM WS22\\tum-adlr-ws22-06\\final_validations\\sac2_no_env_params\\gravity_-2.9998249999999995_wind_5.0_turbulence_0.25 folder (try specifying a different `video_folder` for the `RecordVideo` wrapper if this is not desired)\u001b[0m\n",
      "\n"
     ]
    },
    {
     "name": "stdout",
     "output_type": "stream",
     "text": [
      "Moviepy - Done !\n",
      "Moviepy - video ready d:\\Desktop\\reps\\TUM WS22\\tum-adlr-ws22-06\\final_validations\\sac2_no_env_params\\gravity_-2.9998249999999995_wind_5.0_turbulence_0.0\\rl-video-episode-0.mp4\n",
      "gravity: -2.9998249999999995, wind_power: 5.0, turbulence_power: 0.0, reward: 308.39587634057744\n",
      "Moviepy - Building video d:\\Desktop\\reps\\TUM WS22\\tum-adlr-ws22-06\\final_validations\\sac2_no_env_params\\gravity_-2.9998249999999995_wind_5.0_turbulence_0.25\\rl-video-episode-0.mp4.\n",
      "Moviepy - Writing video d:\\Desktop\\reps\\TUM WS22\\tum-adlr-ws22-06\\final_validations\\sac2_no_env_params\\gravity_-2.9998249999999995_wind_5.0_turbulence_0.25\\rl-video-episode-0.mp4\n",
      "\n"
     ]
    },
    {
     "name": "stderr",
     "output_type": "stream",
     "text": [
      "c:\\Users\\volob\\.conda\\envs\\adlr\\lib\\site-packages\\gymnasium\\wrappers\\record_video.py:75: UserWarning:\n",
      "\n",
      "\u001b[33mWARN: Overwriting existing videos at d:\\Desktop\\reps\\TUM WS22\\tum-adlr-ws22-06\\final_validations\\sac2_no_env_params\\gravity_-2.9998249999999995_wind_5.0_turbulence_0.5 folder (try specifying a different `video_folder` for the `RecordVideo` wrapper if this is not desired)\u001b[0m\n",
      "\n"
     ]
    },
    {
     "name": "stdout",
     "output_type": "stream",
     "text": [
      "Moviepy - Done !\n",
      "Moviepy - video ready d:\\Desktop\\reps\\TUM WS22\\tum-adlr-ws22-06\\final_validations\\sac2_no_env_params\\gravity_-2.9998249999999995_wind_5.0_turbulence_0.25\\rl-video-episode-0.mp4\n",
      "gravity: -2.9998249999999995, wind_power: 5.0, turbulence_power: 0.25, reward: 282.84805925588046\n",
      "Moviepy - Building video d:\\Desktop\\reps\\TUM WS22\\tum-adlr-ws22-06\\final_validations\\sac2_no_env_params\\gravity_-2.9998249999999995_wind_5.0_turbulence_0.5\\rl-video-episode-0.mp4.\n",
      "Moviepy - Writing video d:\\Desktop\\reps\\TUM WS22\\tum-adlr-ws22-06\\final_validations\\sac2_no_env_params\\gravity_-2.9998249999999995_wind_5.0_turbulence_0.5\\rl-video-episode-0.mp4\n",
      "\n"
     ]
    },
    {
     "name": "stderr",
     "output_type": "stream",
     "text": [
      "c:\\Users\\volob\\.conda\\envs\\adlr\\lib\\site-packages\\gymnasium\\wrappers\\record_video.py:75: UserWarning:\n",
      "\n",
      "\u001b[33mWARN: Overwriting existing videos at d:\\Desktop\\reps\\TUM WS22\\tum-adlr-ws22-06\\final_validations\\sac2_no_env_params\\gravity_-2.9998249999999995_wind_5.0_turbulence_0.75 folder (try specifying a different `video_folder` for the `RecordVideo` wrapper if this is not desired)\u001b[0m\n",
      "\n"
     ]
    },
    {
     "name": "stdout",
     "output_type": "stream",
     "text": [
      "Moviepy - Done !\n",
      "Moviepy - video ready d:\\Desktop\\reps\\TUM WS22\\tum-adlr-ws22-06\\final_validations\\sac2_no_env_params\\gravity_-2.9998249999999995_wind_5.0_turbulence_0.5\\rl-video-episode-0.mp4\n",
      "gravity: -2.9998249999999995, wind_power: 5.0, turbulence_power: 0.5, reward: 302.7599126781296\n",
      "Moviepy - Building video d:\\Desktop\\reps\\TUM WS22\\tum-adlr-ws22-06\\final_validations\\sac2_no_env_params\\gravity_-2.9998249999999995_wind_5.0_turbulence_0.75\\rl-video-episode-0.mp4.\n",
      "Moviepy - Writing video d:\\Desktop\\reps\\TUM WS22\\tum-adlr-ws22-06\\final_validations\\sac2_no_env_params\\gravity_-2.9998249999999995_wind_5.0_turbulence_0.75\\rl-video-episode-0.mp4\n",
      "\n"
     ]
    },
    {
     "name": "stderr",
     "output_type": "stream",
     "text": [
      "c:\\Users\\volob\\.conda\\envs\\adlr\\lib\\site-packages\\gymnasium\\wrappers\\record_video.py:75: UserWarning:\n",
      "\n",
      "\u001b[33mWARN: Overwriting existing videos at d:\\Desktop\\reps\\TUM WS22\\tum-adlr-ws22-06\\final_validations\\sac2_no_env_params\\gravity_-2.9998249999999995_wind_5.0_turbulence_1.0 folder (try specifying a different `video_folder` for the `RecordVideo` wrapper if this is not desired)\u001b[0m\n",
      "\n"
     ]
    },
    {
     "name": "stdout",
     "output_type": "stream",
     "text": [
      "Moviepy - Done !\n",
      "Moviepy - video ready d:\\Desktop\\reps\\TUM WS22\\tum-adlr-ws22-06\\final_validations\\sac2_no_env_params\\gravity_-2.9998249999999995_wind_5.0_turbulence_0.75\\rl-video-episode-0.mp4\n",
      "gravity: -2.9998249999999995, wind_power: 5.0, turbulence_power: 0.75, reward: 272.39342804847627\n",
      "Moviepy - Building video d:\\Desktop\\reps\\TUM WS22\\tum-adlr-ws22-06\\final_validations\\sac2_no_env_params\\gravity_-2.9998249999999995_wind_5.0_turbulence_1.0\\rl-video-episode-0.mp4.\n",
      "Moviepy - Writing video d:\\Desktop\\reps\\TUM WS22\\tum-adlr-ws22-06\\final_validations\\sac2_no_env_params\\gravity_-2.9998249999999995_wind_5.0_turbulence_1.0\\rl-video-episode-0.mp4\n",
      "\n"
     ]
    },
    {
     "name": "stderr",
     "output_type": "stream",
     "text": [
      "c:\\Users\\volob\\.conda\\envs\\adlr\\lib\\site-packages\\gymnasium\\wrappers\\record_video.py:75: UserWarning:\n",
      "\n",
      "\u001b[33mWARN: Overwriting existing videos at d:\\Desktop\\reps\\TUM WS22\\tum-adlr-ws22-06\\final_validations\\sac2_no_env_params\\gravity_-2.9998249999999995_wind_7.5_turbulence_0.0 folder (try specifying a different `video_folder` for the `RecordVideo` wrapper if this is not desired)\u001b[0m\n",
      "\n"
     ]
    },
    {
     "name": "stdout",
     "output_type": "stream",
     "text": [
      "Moviepy - Done !\n",
      "Moviepy - video ready d:\\Desktop\\reps\\TUM WS22\\tum-adlr-ws22-06\\final_validations\\sac2_no_env_params\\gravity_-2.9998249999999995_wind_5.0_turbulence_1.0\\rl-video-episode-0.mp4\n",
      "gravity: -2.9998249999999995, wind_power: 5.0, turbulence_power: 1.0, reward: 294.2832496256691\n",
      "Moviepy - Building video d:\\Desktop\\reps\\TUM WS22\\tum-adlr-ws22-06\\final_validations\\sac2_no_env_params\\gravity_-2.9998249999999995_wind_7.5_turbulence_0.0\\rl-video-episode-0.mp4.\n",
      "Moviepy - Writing video d:\\Desktop\\reps\\TUM WS22\\tum-adlr-ws22-06\\final_validations\\sac2_no_env_params\\gravity_-2.9998249999999995_wind_7.5_turbulence_0.0\\rl-video-episode-0.mp4\n",
      "\n"
     ]
    },
    {
     "name": "stderr",
     "output_type": "stream",
     "text": [
      "c:\\Users\\volob\\.conda\\envs\\adlr\\lib\\site-packages\\gymnasium\\wrappers\\record_video.py:75: UserWarning:\n",
      "\n",
      "\u001b[33mWARN: Overwriting existing videos at d:\\Desktop\\reps\\TUM WS22\\tum-adlr-ws22-06\\final_validations\\sac2_no_env_params\\gravity_-2.9998249999999995_wind_7.5_turbulence_0.25 folder (try specifying a different `video_folder` for the `RecordVideo` wrapper if this is not desired)\u001b[0m\n",
      "\n"
     ]
    },
    {
     "name": "stdout",
     "output_type": "stream",
     "text": [
      "Moviepy - Done !\n",
      "Moviepy - video ready d:\\Desktop\\reps\\TUM WS22\\tum-adlr-ws22-06\\final_validations\\sac2_no_env_params\\gravity_-2.9998249999999995_wind_7.5_turbulence_0.0\\rl-video-episode-0.mp4\n",
      "gravity: -2.9998249999999995, wind_power: 7.5, turbulence_power: 0.0, reward: 303.5287269085235\n",
      "Moviepy - Building video d:\\Desktop\\reps\\TUM WS22\\tum-adlr-ws22-06\\final_validations\\sac2_no_env_params\\gravity_-2.9998249999999995_wind_7.5_turbulence_0.25\\rl-video-episode-0.mp4.\n",
      "Moviepy - Writing video d:\\Desktop\\reps\\TUM WS22\\tum-adlr-ws22-06\\final_validations\\sac2_no_env_params\\gravity_-2.9998249999999995_wind_7.5_turbulence_0.25\\rl-video-episode-0.mp4\n",
      "\n"
     ]
    },
    {
     "name": "stderr",
     "output_type": "stream",
     "text": [
      "c:\\Users\\volob\\.conda\\envs\\adlr\\lib\\site-packages\\gymnasium\\wrappers\\record_video.py:75: UserWarning:\n",
      "\n",
      "\u001b[33mWARN: Overwriting existing videos at d:\\Desktop\\reps\\TUM WS22\\tum-adlr-ws22-06\\final_validations\\sac2_no_env_params\\gravity_-2.9998249999999995_wind_7.5_turbulence_0.5 folder (try specifying a different `video_folder` for the `RecordVideo` wrapper if this is not desired)\u001b[0m\n",
      "\n"
     ]
    },
    {
     "name": "stdout",
     "output_type": "stream",
     "text": [
      "Moviepy - Done !\n",
      "Moviepy - video ready d:\\Desktop\\reps\\TUM WS22\\tum-adlr-ws22-06\\final_validations\\sac2_no_env_params\\gravity_-2.9998249999999995_wind_7.5_turbulence_0.25\\rl-video-episode-0.mp4\n",
      "gravity: -2.9998249999999995, wind_power: 7.5, turbulence_power: 0.25, reward: 306.89395060598116\n",
      "Moviepy - Building video d:\\Desktop\\reps\\TUM WS22\\tum-adlr-ws22-06\\final_validations\\sac2_no_env_params\\gravity_-2.9998249999999995_wind_7.5_turbulence_0.5\\rl-video-episode-0.mp4.\n",
      "Moviepy - Writing video d:\\Desktop\\reps\\TUM WS22\\tum-adlr-ws22-06\\final_validations\\sac2_no_env_params\\gravity_-2.9998249999999995_wind_7.5_turbulence_0.5\\rl-video-episode-0.mp4\n",
      "\n"
     ]
    },
    {
     "name": "stderr",
     "output_type": "stream",
     "text": [
      "c:\\Users\\volob\\.conda\\envs\\adlr\\lib\\site-packages\\gymnasium\\wrappers\\record_video.py:75: UserWarning:\n",
      "\n",
      "\u001b[33mWARN: Overwriting existing videos at d:\\Desktop\\reps\\TUM WS22\\tum-adlr-ws22-06\\final_validations\\sac2_no_env_params\\gravity_-2.9998249999999995_wind_7.5_turbulence_0.75 folder (try specifying a different `video_folder` for the `RecordVideo` wrapper if this is not desired)\u001b[0m\n",
      "\n"
     ]
    },
    {
     "name": "stdout",
     "output_type": "stream",
     "text": [
      "Moviepy - Done !\n",
      "Moviepy - video ready d:\\Desktop\\reps\\TUM WS22\\tum-adlr-ws22-06\\final_validations\\sac2_no_env_params\\gravity_-2.9998249999999995_wind_7.5_turbulence_0.5\\rl-video-episode-0.mp4\n",
      "gravity: -2.9998249999999995, wind_power: 7.5, turbulence_power: 0.5, reward: 311.0166805691289\n",
      "Moviepy - Building video d:\\Desktop\\reps\\TUM WS22\\tum-adlr-ws22-06\\final_validations\\sac2_no_env_params\\gravity_-2.9998249999999995_wind_7.5_turbulence_0.75\\rl-video-episode-0.mp4.\n",
      "Moviepy - Writing video d:\\Desktop\\reps\\TUM WS22\\tum-adlr-ws22-06\\final_validations\\sac2_no_env_params\\gravity_-2.9998249999999995_wind_7.5_turbulence_0.75\\rl-video-episode-0.mp4\n",
      "\n"
     ]
    },
    {
     "name": "stderr",
     "output_type": "stream",
     "text": [
      "c:\\Users\\volob\\.conda\\envs\\adlr\\lib\\site-packages\\gymnasium\\wrappers\\record_video.py:75: UserWarning:\n",
      "\n",
      "\u001b[33mWARN: Overwriting existing videos at d:\\Desktop\\reps\\TUM WS22\\tum-adlr-ws22-06\\final_validations\\sac2_no_env_params\\gravity_-2.9998249999999995_wind_7.5_turbulence_1.0 folder (try specifying a different `video_folder` for the `RecordVideo` wrapper if this is not desired)\u001b[0m\n",
      "\n"
     ]
    },
    {
     "name": "stdout",
     "output_type": "stream",
     "text": [
      "Moviepy - Done !\n",
      "Moviepy - video ready d:\\Desktop\\reps\\TUM WS22\\tum-adlr-ws22-06\\final_validations\\sac2_no_env_params\\gravity_-2.9998249999999995_wind_7.5_turbulence_0.75\\rl-video-episode-0.mp4\n",
      "gravity: -2.9998249999999995, wind_power: 7.5, turbulence_power: 0.75, reward: 298.18721246415197\n",
      "Moviepy - Building video d:\\Desktop\\reps\\TUM WS22\\tum-adlr-ws22-06\\final_validations\\sac2_no_env_params\\gravity_-2.9998249999999995_wind_7.5_turbulence_1.0\\rl-video-episode-0.mp4.\n",
      "Moviepy - Writing video d:\\Desktop\\reps\\TUM WS22\\tum-adlr-ws22-06\\final_validations\\sac2_no_env_params\\gravity_-2.9998249999999995_wind_7.5_turbulence_1.0\\rl-video-episode-0.mp4\n",
      "\n"
     ]
    },
    {
     "name": "stderr",
     "output_type": "stream",
     "text": [
      "c:\\Users\\volob\\.conda\\envs\\adlr\\lib\\site-packages\\gymnasium\\wrappers\\record_video.py:75: UserWarning:\n",
      "\n",
      "\u001b[33mWARN: Overwriting existing videos at d:\\Desktop\\reps\\TUM WS22\\tum-adlr-ws22-06\\final_validations\\sac2_no_env_params\\gravity_-2.9998249999999995_wind_10.0_turbulence_0.0 folder (try specifying a different `video_folder` for the `RecordVideo` wrapper if this is not desired)\u001b[0m\n",
      "\n"
     ]
    },
    {
     "name": "stdout",
     "output_type": "stream",
     "text": [
      "Moviepy - Done !\n",
      "Moviepy - video ready d:\\Desktop\\reps\\TUM WS22\\tum-adlr-ws22-06\\final_validations\\sac2_no_env_params\\gravity_-2.9998249999999995_wind_7.5_turbulence_1.0\\rl-video-episode-0.mp4\n",
      "gravity: -2.9998249999999995, wind_power: 7.5, turbulence_power: 1.0, reward: 312.51527496648737\n",
      "Moviepy - Building video d:\\Desktop\\reps\\TUM WS22\\tum-adlr-ws22-06\\final_validations\\sac2_no_env_params\\gravity_-2.9998249999999995_wind_10.0_turbulence_0.0\\rl-video-episode-0.mp4.\n",
      "Moviepy - Writing video d:\\Desktop\\reps\\TUM WS22\\tum-adlr-ws22-06\\final_validations\\sac2_no_env_params\\gravity_-2.9998249999999995_wind_10.0_turbulence_0.0\\rl-video-episode-0.mp4\n",
      "\n"
     ]
    },
    {
     "name": "stderr",
     "output_type": "stream",
     "text": [
      "c:\\Users\\volob\\.conda\\envs\\adlr\\lib\\site-packages\\gymnasium\\wrappers\\record_video.py:75: UserWarning:\n",
      "\n",
      "\u001b[33mWARN: Overwriting existing videos at d:\\Desktop\\reps\\TUM WS22\\tum-adlr-ws22-06\\final_validations\\sac2_no_env_params\\gravity_-2.9998249999999995_wind_10.0_turbulence_0.25 folder (try specifying a different `video_folder` for the `RecordVideo` wrapper if this is not desired)\u001b[0m\n",
      "\n"
     ]
    },
    {
     "name": "stdout",
     "output_type": "stream",
     "text": [
      "Moviepy - Done !\n",
      "Moviepy - video ready d:\\Desktop\\reps\\TUM WS22\\tum-adlr-ws22-06\\final_validations\\sac2_no_env_params\\gravity_-2.9998249999999995_wind_10.0_turbulence_0.0\\rl-video-episode-0.mp4\n",
      "gravity: -2.9998249999999995, wind_power: 10.0, turbulence_power: 0.0, reward: 307.23221029899076\n",
      "Moviepy - Building video d:\\Desktop\\reps\\TUM WS22\\tum-adlr-ws22-06\\final_validations\\sac2_no_env_params\\gravity_-2.9998249999999995_wind_10.0_turbulence_0.25\\rl-video-episode-0.mp4.\n",
      "Moviepy - Writing video d:\\Desktop\\reps\\TUM WS22\\tum-adlr-ws22-06\\final_validations\\sac2_no_env_params\\gravity_-2.9998249999999995_wind_10.0_turbulence_0.25\\rl-video-episode-0.mp4\n",
      "\n"
     ]
    },
    {
     "name": "stderr",
     "output_type": "stream",
     "text": [
      "c:\\Users\\volob\\.conda\\envs\\adlr\\lib\\site-packages\\gymnasium\\wrappers\\record_video.py:75: UserWarning:\n",
      "\n",
      "\u001b[33mWARN: Overwriting existing videos at d:\\Desktop\\reps\\TUM WS22\\tum-adlr-ws22-06\\final_validations\\sac2_no_env_params\\gravity_-2.9998249999999995_wind_10.0_turbulence_0.5 folder (try specifying a different `video_folder` for the `RecordVideo` wrapper if this is not desired)\u001b[0m\n",
      "\n"
     ]
    },
    {
     "name": "stdout",
     "output_type": "stream",
     "text": [
      "Moviepy - Done !\n",
      "Moviepy - video ready d:\\Desktop\\reps\\TUM WS22\\tum-adlr-ws22-06\\final_validations\\sac2_no_env_params\\gravity_-2.9998249999999995_wind_10.0_turbulence_0.25\\rl-video-episode-0.mp4\n",
      "gravity: -2.9998249999999995, wind_power: 10.0, turbulence_power: 0.25, reward: 282.850173707318\n",
      "Moviepy - Building video d:\\Desktop\\reps\\TUM WS22\\tum-adlr-ws22-06\\final_validations\\sac2_no_env_params\\gravity_-2.9998249999999995_wind_10.0_turbulence_0.5\\rl-video-episode-0.mp4.\n",
      "Moviepy - Writing video d:\\Desktop\\reps\\TUM WS22\\tum-adlr-ws22-06\\final_validations\\sac2_no_env_params\\gravity_-2.9998249999999995_wind_10.0_turbulence_0.5\\rl-video-episode-0.mp4\n",
      "\n"
     ]
    },
    {
     "name": "stderr",
     "output_type": "stream",
     "text": [
      "c:\\Users\\volob\\.conda\\envs\\adlr\\lib\\site-packages\\gymnasium\\wrappers\\record_video.py:75: UserWarning:\n",
      "\n",
      "\u001b[33mWARN: Overwriting existing videos at d:\\Desktop\\reps\\TUM WS22\\tum-adlr-ws22-06\\final_validations\\sac2_no_env_params\\gravity_-2.9998249999999995_wind_10.0_turbulence_0.75 folder (try specifying a different `video_folder` for the `RecordVideo` wrapper if this is not desired)\u001b[0m\n",
      "\n"
     ]
    },
    {
     "name": "stdout",
     "output_type": "stream",
     "text": [
      "Moviepy - Done !\n",
      "Moviepy - video ready d:\\Desktop\\reps\\TUM WS22\\tum-adlr-ws22-06\\final_validations\\sac2_no_env_params\\gravity_-2.9998249999999995_wind_10.0_turbulence_0.5\\rl-video-episode-0.mp4\n",
      "gravity: -2.9998249999999995, wind_power: 10.0, turbulence_power: 0.5, reward: 306.4331144148674\n",
      "Moviepy - Building video d:\\Desktop\\reps\\TUM WS22\\tum-adlr-ws22-06\\final_validations\\sac2_no_env_params\\gravity_-2.9998249999999995_wind_10.0_turbulence_0.75\\rl-video-episode-0.mp4.\n",
      "Moviepy - Writing video d:\\Desktop\\reps\\TUM WS22\\tum-adlr-ws22-06\\final_validations\\sac2_no_env_params\\gravity_-2.9998249999999995_wind_10.0_turbulence_0.75\\rl-video-episode-0.mp4\n",
      "\n"
     ]
    },
    {
     "name": "stderr",
     "output_type": "stream",
     "text": [
      "c:\\Users\\volob\\.conda\\envs\\adlr\\lib\\site-packages\\gymnasium\\wrappers\\record_video.py:75: UserWarning:\n",
      "\n",
      "\u001b[33mWARN: Overwriting existing videos at d:\\Desktop\\reps\\TUM WS22\\tum-adlr-ws22-06\\final_validations\\sac2_no_env_params\\gravity_-2.9998249999999995_wind_10.0_turbulence_1.0 folder (try specifying a different `video_folder` for the `RecordVideo` wrapper if this is not desired)\u001b[0m\n",
      "\n"
     ]
    },
    {
     "name": "stdout",
     "output_type": "stream",
     "text": [
      "Moviepy - Done !\n",
      "Moviepy - video ready d:\\Desktop\\reps\\TUM WS22\\tum-adlr-ws22-06\\final_validations\\sac2_no_env_params\\gravity_-2.9998249999999995_wind_10.0_turbulence_0.75\\rl-video-episode-0.mp4\n",
      "gravity: -2.9998249999999995, wind_power: 10.0, turbulence_power: 0.75, reward: 310.3837923912878\n",
      "Moviepy - Building video d:\\Desktop\\reps\\TUM WS22\\tum-adlr-ws22-06\\final_validations\\sac2_no_env_params\\gravity_-2.9998249999999995_wind_10.0_turbulence_1.0\\rl-video-episode-0.mp4.\n",
      "Moviepy - Writing video d:\\Desktop\\reps\\TUM WS22\\tum-adlr-ws22-06\\final_validations\\sac2_no_env_params\\gravity_-2.9998249999999995_wind_10.0_turbulence_1.0\\rl-video-episode-0.mp4\n",
      "\n"
     ]
    },
    {
     "name": "stderr",
     "output_type": "stream",
     "text": [
      "c:\\Users\\volob\\.conda\\envs\\adlr\\lib\\site-packages\\gymnasium\\wrappers\\record_video.py:75: UserWarning:\n",
      "\n",
      "\u001b[33mWARN: Overwriting existing videos at d:\\Desktop\\reps\\TUM WS22\\tum-adlr-ws22-06\\final_validations\\sac2_no_env_params\\gravity_-0.0001_wind_0.0_turbulence_0.0 folder (try specifying a different `video_folder` for the `RecordVideo` wrapper if this is not desired)\u001b[0m\n",
      "\n"
     ]
    },
    {
     "name": "stdout",
     "output_type": "stream",
     "text": [
      "Moviepy - Done !\n",
      "Moviepy - video ready d:\\Desktop\\reps\\TUM WS22\\tum-adlr-ws22-06\\final_validations\\sac2_no_env_params\\gravity_-2.9998249999999995_wind_10.0_turbulence_1.0\\rl-video-episode-0.mp4\n",
      "gravity: -2.9998249999999995, wind_power: 10.0, turbulence_power: 1.0, reward: 305.4321410310097\n",
      "Moviepy - Building video d:\\Desktop\\reps\\TUM WS22\\tum-adlr-ws22-06\\final_validations\\sac2_no_env_params\\gravity_-0.0001_wind_0.0_turbulence_0.0\\rl-video-episode-0.mp4.\n",
      "Moviepy - Writing video d:\\Desktop\\reps\\TUM WS22\\tum-adlr-ws22-06\\final_validations\\sac2_no_env_params\\gravity_-0.0001_wind_0.0_turbulence_0.0\\rl-video-episode-0.mp4\n",
      "\n"
     ]
    },
    {
     "name": "stderr",
     "output_type": "stream",
     "text": [
      "c:\\Users\\volob\\.conda\\envs\\adlr\\lib\\site-packages\\gymnasium\\wrappers\\record_video.py:75: UserWarning:\n",
      "\n",
      "\u001b[33mWARN: Overwriting existing videos at d:\\Desktop\\reps\\TUM WS22\\tum-adlr-ws22-06\\final_validations\\sac2_no_env_params\\gravity_-0.0001_wind_0.0_turbulence_0.25 folder (try specifying a different `video_folder` for the `RecordVideo` wrapper if this is not desired)\u001b[0m\n",
      "\n"
     ]
    },
    {
     "name": "stdout",
     "output_type": "stream",
     "text": [
      "Moviepy - Done !\n",
      "Moviepy - video ready d:\\Desktop\\reps\\TUM WS22\\tum-adlr-ws22-06\\final_validations\\sac2_no_env_params\\gravity_-0.0001_wind_0.0_turbulence_0.0\\rl-video-episode-0.mp4\n",
      "gravity: -0.0001, wind_power: 0.0, turbulence_power: 0.0, reward: -110.30138579100176\n",
      "Moviepy - Building video d:\\Desktop\\reps\\TUM WS22\\tum-adlr-ws22-06\\final_validations\\sac2_no_env_params\\gravity_-0.0001_wind_0.0_turbulence_0.25\\rl-video-episode-0.mp4.\n",
      "Moviepy - Writing video d:\\Desktop\\reps\\TUM WS22\\tum-adlr-ws22-06\\final_validations\\sac2_no_env_params\\gravity_-0.0001_wind_0.0_turbulence_0.25\\rl-video-episode-0.mp4\n",
      "\n"
     ]
    },
    {
     "name": "stderr",
     "output_type": "stream",
     "text": [
      "c:\\Users\\volob\\.conda\\envs\\adlr\\lib\\site-packages\\gymnasium\\wrappers\\record_video.py:75: UserWarning:\n",
      "\n",
      "\u001b[33mWARN: Overwriting existing videos at d:\\Desktop\\reps\\TUM WS22\\tum-adlr-ws22-06\\final_validations\\sac2_no_env_params\\gravity_-0.0001_wind_0.0_turbulence_0.5 folder (try specifying a different `video_folder` for the `RecordVideo` wrapper if this is not desired)\u001b[0m\n",
      "\n"
     ]
    },
    {
     "name": "stdout",
     "output_type": "stream",
     "text": [
      "Moviepy - Done !\n",
      "Moviepy - video ready d:\\Desktop\\reps\\TUM WS22\\tum-adlr-ws22-06\\final_validations\\sac2_no_env_params\\gravity_-0.0001_wind_0.0_turbulence_0.25\\rl-video-episode-0.mp4\n",
      "gravity: -0.0001, wind_power: 0.0, turbulence_power: 0.25, reward: -100.12319929438621\n",
      "Moviepy - Building video d:\\Desktop\\reps\\TUM WS22\\tum-adlr-ws22-06\\final_validations\\sac2_no_env_params\\gravity_-0.0001_wind_0.0_turbulence_0.5\\rl-video-episode-0.mp4.\n",
      "Moviepy - Writing video d:\\Desktop\\reps\\TUM WS22\\tum-adlr-ws22-06\\final_validations\\sac2_no_env_params\\gravity_-0.0001_wind_0.0_turbulence_0.5\\rl-video-episode-0.mp4\n",
      "\n"
     ]
    },
    {
     "name": "stderr",
     "output_type": "stream",
     "text": [
      "c:\\Users\\volob\\.conda\\envs\\adlr\\lib\\site-packages\\gymnasium\\wrappers\\record_video.py:75: UserWarning:\n",
      "\n",
      "\u001b[33mWARN: Overwriting existing videos at d:\\Desktop\\reps\\TUM WS22\\tum-adlr-ws22-06\\final_validations\\sac2_no_env_params\\gravity_-0.0001_wind_0.0_turbulence_0.75 folder (try specifying a different `video_folder` for the `RecordVideo` wrapper if this is not desired)\u001b[0m\n",
      "\n"
     ]
    },
    {
     "name": "stdout",
     "output_type": "stream",
     "text": [
      "Moviepy - Done !\n",
      "Moviepy - video ready d:\\Desktop\\reps\\TUM WS22\\tum-adlr-ws22-06\\final_validations\\sac2_no_env_params\\gravity_-0.0001_wind_0.0_turbulence_0.5\\rl-video-episode-0.mp4\n",
      "gravity: -0.0001, wind_power: 0.0, turbulence_power: 0.5, reward: -130.32661263797942\n",
      "Moviepy - Building video d:\\Desktop\\reps\\TUM WS22\\tum-adlr-ws22-06\\final_validations\\sac2_no_env_params\\gravity_-0.0001_wind_0.0_turbulence_0.75\\rl-video-episode-0.mp4.\n",
      "Moviepy - Writing video d:\\Desktop\\reps\\TUM WS22\\tum-adlr-ws22-06\\final_validations\\sac2_no_env_params\\gravity_-0.0001_wind_0.0_turbulence_0.75\\rl-video-episode-0.mp4\n",
      "\n"
     ]
    },
    {
     "name": "stderr",
     "output_type": "stream",
     "text": [
      "c:\\Users\\volob\\.conda\\envs\\adlr\\lib\\site-packages\\gymnasium\\wrappers\\record_video.py:75: UserWarning:\n",
      "\n",
      "\u001b[33mWARN: Overwriting existing videos at d:\\Desktop\\reps\\TUM WS22\\tum-adlr-ws22-06\\final_validations\\sac2_no_env_params\\gravity_-0.0001_wind_0.0_turbulence_1.0 folder (try specifying a different `video_folder` for the `RecordVideo` wrapper if this is not desired)\u001b[0m\n",
      "\n"
     ]
    },
    {
     "name": "stdout",
     "output_type": "stream",
     "text": [
      "Moviepy - Done !\n",
      "Moviepy - video ready d:\\Desktop\\reps\\TUM WS22\\tum-adlr-ws22-06\\final_validations\\sac2_no_env_params\\gravity_-0.0001_wind_0.0_turbulence_0.75\\rl-video-episode-0.mp4\n",
      "gravity: -0.0001, wind_power: 0.0, turbulence_power: 0.75, reward: -136.84906006032222\n",
      "Moviepy - Building video d:\\Desktop\\reps\\TUM WS22\\tum-adlr-ws22-06\\final_validations\\sac2_no_env_params\\gravity_-0.0001_wind_0.0_turbulence_1.0\\rl-video-episode-0.mp4.\n",
      "Moviepy - Writing video d:\\Desktop\\reps\\TUM WS22\\tum-adlr-ws22-06\\final_validations\\sac2_no_env_params\\gravity_-0.0001_wind_0.0_turbulence_1.0\\rl-video-episode-0.mp4\n",
      "\n"
     ]
    },
    {
     "name": "stderr",
     "output_type": "stream",
     "text": [
      "c:\\Users\\volob\\.conda\\envs\\adlr\\lib\\site-packages\\gymnasium\\wrappers\\record_video.py:75: UserWarning:\n",
      "\n",
      "\u001b[33mWARN: Overwriting existing videos at d:\\Desktop\\reps\\TUM WS22\\tum-adlr-ws22-06\\final_validations\\sac2_no_env_params\\gravity_-0.0001_wind_2.5_turbulence_0.0 folder (try specifying a different `video_folder` for the `RecordVideo` wrapper if this is not desired)\u001b[0m\n",
      "\n"
     ]
    },
    {
     "name": "stdout",
     "output_type": "stream",
     "text": [
      "Moviepy - Done !\n",
      "Moviepy - video ready d:\\Desktop\\reps\\TUM WS22\\tum-adlr-ws22-06\\final_validations\\sac2_no_env_params\\gravity_-0.0001_wind_0.0_turbulence_1.0\\rl-video-episode-0.mp4\n",
      "gravity: -0.0001, wind_power: 0.0, turbulence_power: 1.0, reward: -152.40490895352778\n",
      "Moviepy - Building video d:\\Desktop\\reps\\TUM WS22\\tum-adlr-ws22-06\\final_validations\\sac2_no_env_params\\gravity_-0.0001_wind_2.5_turbulence_0.0\\rl-video-episode-0.mp4.\n",
      "Moviepy - Writing video d:\\Desktop\\reps\\TUM WS22\\tum-adlr-ws22-06\\final_validations\\sac2_no_env_params\\gravity_-0.0001_wind_2.5_turbulence_0.0\\rl-video-episode-0.mp4\n",
      "\n"
     ]
    },
    {
     "name": "stderr",
     "output_type": "stream",
     "text": [
      "c:\\Users\\volob\\.conda\\envs\\adlr\\lib\\site-packages\\gymnasium\\wrappers\\record_video.py:75: UserWarning:\n",
      "\n",
      "\u001b[33mWARN: Overwriting existing videos at d:\\Desktop\\reps\\TUM WS22\\tum-adlr-ws22-06\\final_validations\\sac2_no_env_params\\gravity_-0.0001_wind_2.5_turbulence_0.25 folder (try specifying a different `video_folder` for the `RecordVideo` wrapper if this is not desired)\u001b[0m\n",
      "\n"
     ]
    },
    {
     "name": "stdout",
     "output_type": "stream",
     "text": [
      "Moviepy - Done !\n",
      "Moviepy - video ready d:\\Desktop\\reps\\TUM WS22\\tum-adlr-ws22-06\\final_validations\\sac2_no_env_params\\gravity_-0.0001_wind_2.5_turbulence_0.0\\rl-video-episode-0.mp4\n",
      "gravity: -0.0001, wind_power: 2.5, turbulence_power: 0.0, reward: -169.62257201013222\n",
      "Moviepy - Building video d:\\Desktop\\reps\\TUM WS22\\tum-adlr-ws22-06\\final_validations\\sac2_no_env_params\\gravity_-0.0001_wind_2.5_turbulence_0.25\\rl-video-episode-0.mp4.\n",
      "Moviepy - Writing video d:\\Desktop\\reps\\TUM WS22\\tum-adlr-ws22-06\\final_validations\\sac2_no_env_params\\gravity_-0.0001_wind_2.5_turbulence_0.25\\rl-video-episode-0.mp4\n",
      "\n"
     ]
    },
    {
     "name": "stderr",
     "output_type": "stream",
     "text": [
      "c:\\Users\\volob\\.conda\\envs\\adlr\\lib\\site-packages\\gymnasium\\wrappers\\record_video.py:75: UserWarning:\n",
      "\n",
      "\u001b[33mWARN: Overwriting existing videos at d:\\Desktop\\reps\\TUM WS22\\tum-adlr-ws22-06\\final_validations\\sac2_no_env_params\\gravity_-0.0001_wind_2.5_turbulence_0.5 folder (try specifying a different `video_folder` for the `RecordVideo` wrapper if this is not desired)\u001b[0m\n",
      "\n"
     ]
    },
    {
     "name": "stdout",
     "output_type": "stream",
     "text": [
      "Moviepy - Done !\n",
      "Moviepy - video ready d:\\Desktop\\reps\\TUM WS22\\tum-adlr-ws22-06\\final_validations\\sac2_no_env_params\\gravity_-0.0001_wind_2.5_turbulence_0.25\\rl-video-episode-0.mp4\n",
      "gravity: -0.0001, wind_power: 2.5, turbulence_power: 0.25, reward: -130.80556822397523\n",
      "Moviepy - Building video d:\\Desktop\\reps\\TUM WS22\\tum-adlr-ws22-06\\final_validations\\sac2_no_env_params\\gravity_-0.0001_wind_2.5_turbulence_0.5\\rl-video-episode-0.mp4.\n",
      "Moviepy - Writing video d:\\Desktop\\reps\\TUM WS22\\tum-adlr-ws22-06\\final_validations\\sac2_no_env_params\\gravity_-0.0001_wind_2.5_turbulence_0.5\\rl-video-episode-0.mp4\n",
      "\n"
     ]
    },
    {
     "name": "stderr",
     "output_type": "stream",
     "text": [
      "c:\\Users\\volob\\.conda\\envs\\adlr\\lib\\site-packages\\gymnasium\\wrappers\\record_video.py:75: UserWarning:\n",
      "\n",
      "\u001b[33mWARN: Overwriting existing videos at d:\\Desktop\\reps\\TUM WS22\\tum-adlr-ws22-06\\final_validations\\sac2_no_env_params\\gravity_-0.0001_wind_2.5_turbulence_0.75 folder (try specifying a different `video_folder` for the `RecordVideo` wrapper if this is not desired)\u001b[0m\n",
      "\n"
     ]
    },
    {
     "name": "stdout",
     "output_type": "stream",
     "text": [
      "Moviepy - Done !\n",
      "Moviepy - video ready d:\\Desktop\\reps\\TUM WS22\\tum-adlr-ws22-06\\final_validations\\sac2_no_env_params\\gravity_-0.0001_wind_2.5_turbulence_0.5\\rl-video-episode-0.mp4\n",
      "gravity: -0.0001, wind_power: 2.5, turbulence_power: 0.5, reward: -141.83925771838815\n",
      "Moviepy - Building video d:\\Desktop\\reps\\TUM WS22\\tum-adlr-ws22-06\\final_validations\\sac2_no_env_params\\gravity_-0.0001_wind_2.5_turbulence_0.75\\rl-video-episode-0.mp4.\n",
      "Moviepy - Writing video d:\\Desktop\\reps\\TUM WS22\\tum-adlr-ws22-06\\final_validations\\sac2_no_env_params\\gravity_-0.0001_wind_2.5_turbulence_0.75\\rl-video-episode-0.mp4\n",
      "\n"
     ]
    },
    {
     "name": "stderr",
     "output_type": "stream",
     "text": [
      "c:\\Users\\volob\\.conda\\envs\\adlr\\lib\\site-packages\\gymnasium\\wrappers\\record_video.py:75: UserWarning:\n",
      "\n",
      "\u001b[33mWARN: Overwriting existing videos at d:\\Desktop\\reps\\TUM WS22\\tum-adlr-ws22-06\\final_validations\\sac2_no_env_params\\gravity_-0.0001_wind_2.5_turbulence_1.0 folder (try specifying a different `video_folder` for the `RecordVideo` wrapper if this is not desired)\u001b[0m\n",
      "\n"
     ]
    },
    {
     "name": "stdout",
     "output_type": "stream",
     "text": [
      "Moviepy - Done !\n",
      "Moviepy - video ready d:\\Desktop\\reps\\TUM WS22\\tum-adlr-ws22-06\\final_validations\\sac2_no_env_params\\gravity_-0.0001_wind_2.5_turbulence_0.75\\rl-video-episode-0.mp4\n",
      "gravity: -0.0001, wind_power: 2.5, turbulence_power: 0.75, reward: -84.97415368334521\n",
      "Moviepy - Building video d:\\Desktop\\reps\\TUM WS22\\tum-adlr-ws22-06\\final_validations\\sac2_no_env_params\\gravity_-0.0001_wind_2.5_turbulence_1.0\\rl-video-episode-0.mp4.\n",
      "Moviepy - Writing video d:\\Desktop\\reps\\TUM WS22\\tum-adlr-ws22-06\\final_validations\\sac2_no_env_params\\gravity_-0.0001_wind_2.5_turbulence_1.0\\rl-video-episode-0.mp4\n",
      "\n"
     ]
    },
    {
     "name": "stderr",
     "output_type": "stream",
     "text": [
      "c:\\Users\\volob\\.conda\\envs\\adlr\\lib\\site-packages\\gymnasium\\wrappers\\record_video.py:75: UserWarning:\n",
      "\n",
      "\u001b[33mWARN: Overwriting existing videos at d:\\Desktop\\reps\\TUM WS22\\tum-adlr-ws22-06\\final_validations\\sac2_no_env_params\\gravity_-0.0001_wind_5.0_turbulence_0.0 folder (try specifying a different `video_folder` for the `RecordVideo` wrapper if this is not desired)\u001b[0m\n",
      "\n"
     ]
    },
    {
     "name": "stdout",
     "output_type": "stream",
     "text": [
      "Moviepy - Done !\n",
      "Moviepy - video ready d:\\Desktop\\reps\\TUM WS22\\tum-adlr-ws22-06\\final_validations\\sac2_no_env_params\\gravity_-0.0001_wind_2.5_turbulence_1.0\\rl-video-episode-0.mp4\n",
      "gravity: -0.0001, wind_power: 2.5, turbulence_power: 1.0, reward: -183.1704979468352\n",
      "Moviepy - Building video d:\\Desktop\\reps\\TUM WS22\\tum-adlr-ws22-06\\final_validations\\sac2_no_env_params\\gravity_-0.0001_wind_5.0_turbulence_0.0\\rl-video-episode-0.mp4.\n",
      "Moviepy - Writing video d:\\Desktop\\reps\\TUM WS22\\tum-adlr-ws22-06\\final_validations\\sac2_no_env_params\\gravity_-0.0001_wind_5.0_turbulence_0.0\\rl-video-episode-0.mp4\n",
      "\n"
     ]
    },
    {
     "name": "stderr",
     "output_type": "stream",
     "text": [
      "c:\\Users\\volob\\.conda\\envs\\adlr\\lib\\site-packages\\gymnasium\\wrappers\\record_video.py:75: UserWarning:\n",
      "\n",
      "\u001b[33mWARN: Overwriting existing videos at d:\\Desktop\\reps\\TUM WS22\\tum-adlr-ws22-06\\final_validations\\sac2_no_env_params\\gravity_-0.0001_wind_5.0_turbulence_0.25 folder (try specifying a different `video_folder` for the `RecordVideo` wrapper if this is not desired)\u001b[0m\n",
      "\n"
     ]
    },
    {
     "name": "stdout",
     "output_type": "stream",
     "text": [
      "Moviepy - Done !\n",
      "Moviepy - video ready d:\\Desktop\\reps\\TUM WS22\\tum-adlr-ws22-06\\final_validations\\sac2_no_env_params\\gravity_-0.0001_wind_5.0_turbulence_0.0\\rl-video-episode-0.mp4\n",
      "gravity: -0.0001, wind_power: 5.0, turbulence_power: 0.0, reward: -160.31649346593127\n",
      "Moviepy - Building video d:\\Desktop\\reps\\TUM WS22\\tum-adlr-ws22-06\\final_validations\\sac2_no_env_params\\gravity_-0.0001_wind_5.0_turbulence_0.25\\rl-video-episode-0.mp4.\n",
      "Moviepy - Writing video d:\\Desktop\\reps\\TUM WS22\\tum-adlr-ws22-06\\final_validations\\sac2_no_env_params\\gravity_-0.0001_wind_5.0_turbulence_0.25\\rl-video-episode-0.mp4\n",
      "\n"
     ]
    },
    {
     "name": "stderr",
     "output_type": "stream",
     "text": [
      "c:\\Users\\volob\\.conda\\envs\\adlr\\lib\\site-packages\\gymnasium\\wrappers\\record_video.py:75: UserWarning:\n",
      "\n",
      "\u001b[33mWARN: Overwriting existing videos at d:\\Desktop\\reps\\TUM WS22\\tum-adlr-ws22-06\\final_validations\\sac2_no_env_params\\gravity_-0.0001_wind_5.0_turbulence_0.5 folder (try specifying a different `video_folder` for the `RecordVideo` wrapper if this is not desired)\u001b[0m\n",
      "\n"
     ]
    },
    {
     "name": "stdout",
     "output_type": "stream",
     "text": [
      "Moviepy - Done !\n",
      "Moviepy - video ready d:\\Desktop\\reps\\TUM WS22\\tum-adlr-ws22-06\\final_validations\\sac2_no_env_params\\gravity_-0.0001_wind_5.0_turbulence_0.25\\rl-video-episode-0.mp4\n",
      "gravity: -0.0001, wind_power: 5.0, turbulence_power: 0.25, reward: -75.7806537676529\n",
      "Moviepy - Building video d:\\Desktop\\reps\\TUM WS22\\tum-adlr-ws22-06\\final_validations\\sac2_no_env_params\\gravity_-0.0001_wind_5.0_turbulence_0.5\\rl-video-episode-0.mp4.\n",
      "Moviepy - Writing video d:\\Desktop\\reps\\TUM WS22\\tum-adlr-ws22-06\\final_validations\\sac2_no_env_params\\gravity_-0.0001_wind_5.0_turbulence_0.5\\rl-video-episode-0.mp4\n",
      "\n"
     ]
    },
    {
     "name": "stderr",
     "output_type": "stream",
     "text": [
      "c:\\Users\\volob\\.conda\\envs\\adlr\\lib\\site-packages\\gymnasium\\wrappers\\record_video.py:75: UserWarning:\n",
      "\n",
      "\u001b[33mWARN: Overwriting existing videos at d:\\Desktop\\reps\\TUM WS22\\tum-adlr-ws22-06\\final_validations\\sac2_no_env_params\\gravity_-0.0001_wind_5.0_turbulence_0.75 folder (try specifying a different `video_folder` for the `RecordVideo` wrapper if this is not desired)\u001b[0m\n",
      "\n"
     ]
    },
    {
     "name": "stdout",
     "output_type": "stream",
     "text": [
      "Moviepy - Done !\n",
      "Moviepy - video ready d:\\Desktop\\reps\\TUM WS22\\tum-adlr-ws22-06\\final_validations\\sac2_no_env_params\\gravity_-0.0001_wind_5.0_turbulence_0.5\\rl-video-episode-0.mp4\n",
      "gravity: -0.0001, wind_power: 5.0, turbulence_power: 0.5, reward: -207.03799200155575\n",
      "Moviepy - Building video d:\\Desktop\\reps\\TUM WS22\\tum-adlr-ws22-06\\final_validations\\sac2_no_env_params\\gravity_-0.0001_wind_5.0_turbulence_0.75\\rl-video-episode-0.mp4.\n",
      "Moviepy - Writing video d:\\Desktop\\reps\\TUM WS22\\tum-adlr-ws22-06\\final_validations\\sac2_no_env_params\\gravity_-0.0001_wind_5.0_turbulence_0.75\\rl-video-episode-0.mp4\n",
      "\n"
     ]
    },
    {
     "name": "stderr",
     "output_type": "stream",
     "text": [
      "c:\\Users\\volob\\.conda\\envs\\adlr\\lib\\site-packages\\gymnasium\\wrappers\\record_video.py:75: UserWarning:\n",
      "\n",
      "\u001b[33mWARN: Overwriting existing videos at d:\\Desktop\\reps\\TUM WS22\\tum-adlr-ws22-06\\final_validations\\sac2_no_env_params\\gravity_-0.0001_wind_5.0_turbulence_1.0 folder (try specifying a different `video_folder` for the `RecordVideo` wrapper if this is not desired)\u001b[0m\n",
      "\n"
     ]
    },
    {
     "name": "stdout",
     "output_type": "stream",
     "text": [
      "Moviepy - Done !\n",
      "Moviepy - video ready d:\\Desktop\\reps\\TUM WS22\\tum-adlr-ws22-06\\final_validations\\sac2_no_env_params\\gravity_-0.0001_wind_5.0_turbulence_0.75\\rl-video-episode-0.mp4\n",
      "gravity: -0.0001, wind_power: 5.0, turbulence_power: 0.75, reward: -281.0724980129918\n",
      "Moviepy - Building video d:\\Desktop\\reps\\TUM WS22\\tum-adlr-ws22-06\\final_validations\\sac2_no_env_params\\gravity_-0.0001_wind_5.0_turbulence_1.0\\rl-video-episode-0.mp4.\n",
      "Moviepy - Writing video d:\\Desktop\\reps\\TUM WS22\\tum-adlr-ws22-06\\final_validations\\sac2_no_env_params\\gravity_-0.0001_wind_5.0_turbulence_1.0\\rl-video-episode-0.mp4\n",
      "\n"
     ]
    },
    {
     "name": "stderr",
     "output_type": "stream",
     "text": [
      "c:\\Users\\volob\\.conda\\envs\\adlr\\lib\\site-packages\\gymnasium\\wrappers\\record_video.py:75: UserWarning:\n",
      "\n",
      "\u001b[33mWARN: Overwriting existing videos at d:\\Desktop\\reps\\TUM WS22\\tum-adlr-ws22-06\\final_validations\\sac2_no_env_params\\gravity_-0.0001_wind_7.5_turbulence_0.0 folder (try specifying a different `video_folder` for the `RecordVideo` wrapper if this is not desired)\u001b[0m\n",
      "\n"
     ]
    },
    {
     "name": "stdout",
     "output_type": "stream",
     "text": [
      "Moviepy - Done !\n",
      "Moviepy - video ready d:\\Desktop\\reps\\TUM WS22\\tum-adlr-ws22-06\\final_validations\\sac2_no_env_params\\gravity_-0.0001_wind_5.0_turbulence_1.0\\rl-video-episode-0.mp4\n",
      "gravity: -0.0001, wind_power: 5.0, turbulence_power: 1.0, reward: -120.29082160958097\n",
      "Moviepy - Building video d:\\Desktop\\reps\\TUM WS22\\tum-adlr-ws22-06\\final_validations\\sac2_no_env_params\\gravity_-0.0001_wind_7.5_turbulence_0.0\\rl-video-episode-0.mp4.\n",
      "Moviepy - Writing video d:\\Desktop\\reps\\TUM WS22\\tum-adlr-ws22-06\\final_validations\\sac2_no_env_params\\gravity_-0.0001_wind_7.5_turbulence_0.0\\rl-video-episode-0.mp4\n",
      "\n"
     ]
    },
    {
     "name": "stderr",
     "output_type": "stream",
     "text": [
      "c:\\Users\\volob\\.conda\\envs\\adlr\\lib\\site-packages\\gymnasium\\wrappers\\record_video.py:75: UserWarning:\n",
      "\n",
      "\u001b[33mWARN: Overwriting existing videos at d:\\Desktop\\reps\\TUM WS22\\tum-adlr-ws22-06\\final_validations\\sac2_no_env_params\\gravity_-0.0001_wind_7.5_turbulence_0.25 folder (try specifying a different `video_folder` for the `RecordVideo` wrapper if this is not desired)\u001b[0m\n",
      "\n"
     ]
    },
    {
     "name": "stdout",
     "output_type": "stream",
     "text": [
      "Moviepy - Done !\n",
      "Moviepy - video ready d:\\Desktop\\reps\\TUM WS22\\tum-adlr-ws22-06\\final_validations\\sac2_no_env_params\\gravity_-0.0001_wind_7.5_turbulence_0.0\\rl-video-episode-0.mp4\n",
      "gravity: -0.0001, wind_power: 7.5, turbulence_power: 0.0, reward: -142.3839805070299\n",
      "Moviepy - Building video d:\\Desktop\\reps\\TUM WS22\\tum-adlr-ws22-06\\final_validations\\sac2_no_env_params\\gravity_-0.0001_wind_7.5_turbulence_0.25\\rl-video-episode-0.mp4.\n",
      "Moviepy - Writing video d:\\Desktop\\reps\\TUM WS22\\tum-adlr-ws22-06\\final_validations\\sac2_no_env_params\\gravity_-0.0001_wind_7.5_turbulence_0.25\\rl-video-episode-0.mp4\n",
      "\n"
     ]
    },
    {
     "name": "stderr",
     "output_type": "stream",
     "text": [
      "c:\\Users\\volob\\.conda\\envs\\adlr\\lib\\site-packages\\gymnasium\\wrappers\\record_video.py:75: UserWarning:\n",
      "\n",
      "\u001b[33mWARN: Overwriting existing videos at d:\\Desktop\\reps\\TUM WS22\\tum-adlr-ws22-06\\final_validations\\sac2_no_env_params\\gravity_-0.0001_wind_7.5_turbulence_0.5 folder (try specifying a different `video_folder` for the `RecordVideo` wrapper if this is not desired)\u001b[0m\n",
      "\n"
     ]
    },
    {
     "name": "stdout",
     "output_type": "stream",
     "text": [
      "Moviepy - Done !\n",
      "Moviepy - video ready d:\\Desktop\\reps\\TUM WS22\\tum-adlr-ws22-06\\final_validations\\sac2_no_env_params\\gravity_-0.0001_wind_7.5_turbulence_0.25\\rl-video-episode-0.mp4\n",
      "gravity: -0.0001, wind_power: 7.5, turbulence_power: 0.25, reward: -131.4014643237236\n",
      "Moviepy - Building video d:\\Desktop\\reps\\TUM WS22\\tum-adlr-ws22-06\\final_validations\\sac2_no_env_params\\gravity_-0.0001_wind_7.5_turbulence_0.5\\rl-video-episode-0.mp4.\n",
      "Moviepy - Writing video d:\\Desktop\\reps\\TUM WS22\\tum-adlr-ws22-06\\final_validations\\sac2_no_env_params\\gravity_-0.0001_wind_7.5_turbulence_0.5\\rl-video-episode-0.mp4\n",
      "\n"
     ]
    },
    {
     "name": "stderr",
     "output_type": "stream",
     "text": [
      "c:\\Users\\volob\\.conda\\envs\\adlr\\lib\\site-packages\\gymnasium\\wrappers\\record_video.py:75: UserWarning:\n",
      "\n",
      "\u001b[33mWARN: Overwriting existing videos at d:\\Desktop\\reps\\TUM WS22\\tum-adlr-ws22-06\\final_validations\\sac2_no_env_params\\gravity_-0.0001_wind_7.5_turbulence_0.75 folder (try specifying a different `video_folder` for the `RecordVideo` wrapper if this is not desired)\u001b[0m\n",
      "\n"
     ]
    },
    {
     "name": "stdout",
     "output_type": "stream",
     "text": [
      "Moviepy - Done !\n",
      "Moviepy - video ready d:\\Desktop\\reps\\TUM WS22\\tum-adlr-ws22-06\\final_validations\\sac2_no_env_params\\gravity_-0.0001_wind_7.5_turbulence_0.5\\rl-video-episode-0.mp4\n",
      "gravity: -0.0001, wind_power: 7.5, turbulence_power: 0.5, reward: -82.34284775506498\n",
      "Moviepy - Building video d:\\Desktop\\reps\\TUM WS22\\tum-adlr-ws22-06\\final_validations\\sac2_no_env_params\\gravity_-0.0001_wind_7.5_turbulence_0.75\\rl-video-episode-0.mp4.\n",
      "Moviepy - Writing video d:\\Desktop\\reps\\TUM WS22\\tum-adlr-ws22-06\\final_validations\\sac2_no_env_params\\gravity_-0.0001_wind_7.5_turbulence_0.75\\rl-video-episode-0.mp4\n",
      "\n"
     ]
    },
    {
     "name": "stderr",
     "output_type": "stream",
     "text": [
      "                                                                 \r"
     ]
    },
    {
     "name": "stdout",
     "output_type": "stream",
     "text": [
      "Moviepy - Done !\n",
      "Moviepy - video ready d:\\Desktop\\reps\\TUM WS22\\tum-adlr-ws22-06\\final_validations\\sac2_no_env_params\\gravity_-0.0001_wind_7.5_turbulence_0.75\\rl-video-episode-0.mp4\n",
      "gravity: -0.0001, wind_power: 7.5, turbulence_power: 0.75, reward: -2216.1475190402393\n"
     ]
    },
    {
     "name": "stderr",
     "output_type": "stream",
     "text": [
      "c:\\Users\\volob\\.conda\\envs\\adlr\\lib\\site-packages\\gymnasium\\wrappers\\record_video.py:75: UserWarning:\n",
      "\n",
      "\u001b[33mWARN: Overwriting existing videos at d:\\Desktop\\reps\\TUM WS22\\tum-adlr-ws22-06\\final_validations\\sac2_no_env_params\\gravity_-0.0001_wind_7.5_turbulence_1.0 folder (try specifying a different `video_folder` for the `RecordVideo` wrapper if this is not desired)\u001b[0m\n",
      "\n"
     ]
    },
    {
     "name": "stdout",
     "output_type": "stream",
     "text": [
      "Moviepy - Building video d:\\Desktop\\reps\\TUM WS22\\tum-adlr-ws22-06\\final_validations\\sac2_no_env_params\\gravity_-0.0001_wind_7.5_turbulence_1.0\\rl-video-episode-0.mp4.\n",
      "Moviepy - Writing video d:\\Desktop\\reps\\TUM WS22\\tum-adlr-ws22-06\\final_validations\\sac2_no_env_params\\gravity_-0.0001_wind_7.5_turbulence_1.0\\rl-video-episode-0.mp4\n",
      "\n"
     ]
    },
    {
     "name": "stderr",
     "output_type": "stream",
     "text": [
      "                                                                 \r"
     ]
    },
    {
     "name": "stdout",
     "output_type": "stream",
     "text": [
      "Moviepy - Done !\n",
      "Moviepy - video ready d:\\Desktop\\reps\\TUM WS22\\tum-adlr-ws22-06\\final_validations\\sac2_no_env_params\\gravity_-0.0001_wind_7.5_turbulence_1.0\\rl-video-episode-0.mp4\n",
      "gravity: -0.0001, wind_power: 7.5, turbulence_power: 1.0, reward: -484.125429819874\n"
     ]
    },
    {
     "name": "stderr",
     "output_type": "stream",
     "text": [
      "c:\\Users\\volob\\.conda\\envs\\adlr\\lib\\site-packages\\gymnasium\\wrappers\\record_video.py:75: UserWarning:\n",
      "\n",
      "\u001b[33mWARN: Overwriting existing videos at d:\\Desktop\\reps\\TUM WS22\\tum-adlr-ws22-06\\final_validations\\sac2_no_env_params\\gravity_-0.0001_wind_10.0_turbulence_0.0 folder (try specifying a different `video_folder` for the `RecordVideo` wrapper if this is not desired)\u001b[0m\n",
      "\n"
     ]
    },
    {
     "name": "stdout",
     "output_type": "stream",
     "text": [
      "Moviepy - Building video d:\\Desktop\\reps\\TUM WS22\\tum-adlr-ws22-06\\final_validations\\sac2_no_env_params\\gravity_-0.0001_wind_10.0_turbulence_0.0\\rl-video-episode-0.mp4.\n",
      "Moviepy - Writing video d:\\Desktop\\reps\\TUM WS22\\tum-adlr-ws22-06\\final_validations\\sac2_no_env_params\\gravity_-0.0001_wind_10.0_turbulence_0.0\\rl-video-episode-0.mp4\n",
      "\n"
     ]
    },
    {
     "name": "stderr",
     "output_type": "stream",
     "text": [
      "c:\\Users\\volob\\.conda\\envs\\adlr\\lib\\site-packages\\gymnasium\\wrappers\\record_video.py:75: UserWarning:\n",
      "\n",
      "\u001b[33mWARN: Overwriting existing videos at d:\\Desktop\\reps\\TUM WS22\\tum-adlr-ws22-06\\final_validations\\sac2_no_env_params\\gravity_-0.0001_wind_10.0_turbulence_0.25 folder (try specifying a different `video_folder` for the `RecordVideo` wrapper if this is not desired)\u001b[0m\n",
      "\n"
     ]
    },
    {
     "name": "stdout",
     "output_type": "stream",
     "text": [
      "Moviepy - Done !\n",
      "Moviepy - video ready d:\\Desktop\\reps\\TUM WS22\\tum-adlr-ws22-06\\final_validations\\sac2_no_env_params\\gravity_-0.0001_wind_10.0_turbulence_0.0\\rl-video-episode-0.mp4\n",
      "gravity: -0.0001, wind_power: 10.0, turbulence_power: 0.0, reward: -183.92860441661992\n",
      "Moviepy - Building video d:\\Desktop\\reps\\TUM WS22\\tum-adlr-ws22-06\\final_validations\\sac2_no_env_params\\gravity_-0.0001_wind_10.0_turbulence_0.25\\rl-video-episode-0.mp4.\n",
      "Moviepy - Writing video d:\\Desktop\\reps\\TUM WS22\\tum-adlr-ws22-06\\final_validations\\sac2_no_env_params\\gravity_-0.0001_wind_10.0_turbulence_0.25\\rl-video-episode-0.mp4\n",
      "\n"
     ]
    },
    {
     "name": "stderr",
     "output_type": "stream",
     "text": [
      "                                                                 \r"
     ]
    },
    {
     "name": "stdout",
     "output_type": "stream",
     "text": [
      "Moviepy - Done !\n",
      "Moviepy - video ready d:\\Desktop\\reps\\TUM WS22\\tum-adlr-ws22-06\\final_validations\\sac2_no_env_params\\gravity_-0.0001_wind_10.0_turbulence_0.25\\rl-video-episode-0.mp4\n",
      "gravity: -0.0001, wind_power: 10.0, turbulence_power: 0.25, reward: -244.20096245119095\n"
     ]
    },
    {
     "name": "stderr",
     "output_type": "stream",
     "text": [
      "c:\\Users\\volob\\.conda\\envs\\adlr\\lib\\site-packages\\gymnasium\\wrappers\\record_video.py:75: UserWarning:\n",
      "\n",
      "\u001b[33mWARN: Overwriting existing videos at d:\\Desktop\\reps\\TUM WS22\\tum-adlr-ws22-06\\final_validations\\sac2_no_env_params\\gravity_-0.0001_wind_10.0_turbulence_0.5 folder (try specifying a different `video_folder` for the `RecordVideo` wrapper if this is not desired)\u001b[0m\n",
      "\n"
     ]
    },
    {
     "name": "stdout",
     "output_type": "stream",
     "text": [
      "Moviepy - Building video d:\\Desktop\\reps\\TUM WS22\\tum-adlr-ws22-06\\final_validations\\sac2_no_env_params\\gravity_-0.0001_wind_10.0_turbulence_0.5\\rl-video-episode-0.mp4.\n",
      "Moviepy - Writing video d:\\Desktop\\reps\\TUM WS22\\tum-adlr-ws22-06\\final_validations\\sac2_no_env_params\\gravity_-0.0001_wind_10.0_turbulence_0.5\\rl-video-episode-0.mp4\n",
      "\n"
     ]
    },
    {
     "name": "stderr",
     "output_type": "stream",
     "text": [
      "                                                                 \r"
     ]
    },
    {
     "name": "stdout",
     "output_type": "stream",
     "text": [
      "Moviepy - Done !\n",
      "Moviepy - video ready d:\\Desktop\\reps\\TUM WS22\\tum-adlr-ws22-06\\final_validations\\sac2_no_env_params\\gravity_-0.0001_wind_10.0_turbulence_0.5\\rl-video-episode-0.mp4\n",
      "gravity: -0.0001, wind_power: 10.0, turbulence_power: 0.5, reward: -521.3293231515952\n"
     ]
    },
    {
     "name": "stderr",
     "output_type": "stream",
     "text": [
      "c:\\Users\\volob\\.conda\\envs\\adlr\\lib\\site-packages\\gymnasium\\wrappers\\record_video.py:75: UserWarning:\n",
      "\n",
      "\u001b[33mWARN: Overwriting existing videos at d:\\Desktop\\reps\\TUM WS22\\tum-adlr-ws22-06\\final_validations\\sac2_no_env_params\\gravity_-0.0001_wind_10.0_turbulence_0.75 folder (try specifying a different `video_folder` for the `RecordVideo` wrapper if this is not desired)\u001b[0m\n",
      "\n"
     ]
    },
    {
     "name": "stdout",
     "output_type": "stream",
     "text": [
      "Moviepy - Building video d:\\Desktop\\reps\\TUM WS22\\tum-adlr-ws22-06\\final_validations\\sac2_no_env_params\\gravity_-0.0001_wind_10.0_turbulence_0.75\\rl-video-episode-0.mp4.\n",
      "Moviepy - Writing video d:\\Desktop\\reps\\TUM WS22\\tum-adlr-ws22-06\\final_validations\\sac2_no_env_params\\gravity_-0.0001_wind_10.0_turbulence_0.75\\rl-video-episode-0.mp4\n",
      "\n"
     ]
    },
    {
     "name": "stderr",
     "output_type": "stream",
     "text": [
      "c:\\Users\\volob\\.conda\\envs\\adlr\\lib\\site-packages\\gymnasium\\wrappers\\record_video.py:75: UserWarning:\n",
      "\n",
      "\u001b[33mWARN: Overwriting existing videos at d:\\Desktop\\reps\\TUM WS22\\tum-adlr-ws22-06\\final_validations\\sac2_no_env_params\\gravity_-0.0001_wind_10.0_turbulence_1.0 folder (try specifying a different `video_folder` for the `RecordVideo` wrapper if this is not desired)\u001b[0m\n",
      "\n"
     ]
    },
    {
     "name": "stdout",
     "output_type": "stream",
     "text": [
      "Moviepy - Done !\n",
      "Moviepy - video ready d:\\Desktop\\reps\\TUM WS22\\tum-adlr-ws22-06\\final_validations\\sac2_no_env_params\\gravity_-0.0001_wind_10.0_turbulence_0.75\\rl-video-episode-0.mp4\n",
      "gravity: -0.0001, wind_power: 10.0, turbulence_power: 0.75, reward: -209.87352464494865\n",
      "Moviepy - Building video d:\\Desktop\\reps\\TUM WS22\\tum-adlr-ws22-06\\final_validations\\sac2_no_env_params\\gravity_-0.0001_wind_10.0_turbulence_1.0\\rl-video-episode-0.mp4.\n",
      "Moviepy - Writing video d:\\Desktop\\reps\\TUM WS22\\tum-adlr-ws22-06\\final_validations\\sac2_no_env_params\\gravity_-0.0001_wind_10.0_turbulence_1.0\\rl-video-episode-0.mp4\n",
      "\n"
     ]
    },
    {
     "name": "stderr",
     "output_type": "stream",
     "text": [
      "                                                                "
     ]
    },
    {
     "name": "stdout",
     "output_type": "stream",
     "text": [
      "Moviepy - Done !\n",
      "Moviepy - video ready d:\\Desktop\\reps\\TUM WS22\\tum-adlr-ws22-06\\final_validations\\sac2_no_env_params\\gravity_-0.0001_wind_10.0_turbulence_1.0\\rl-video-episode-0.mp4\n",
      "gravity: -0.0001, wind_power: 10.0, turbulence_power: 1.0, reward: -123.29877900978963\n"
     ]
    },
    {
     "name": "stderr",
     "output_type": "stream",
     "text": [
      "\r"
     ]
    }
   ],
   "source": [
    "\n",
    "for run_name in runs:\n",
    "    res = []\n",
    "    run = api.run(run_name)\n",
    "    folder = f\"final_validations/{run.name}\"\n",
    "    if os.path.exists(folder):\n",
    "        shutil.rmtree(folder, ignore_errors=True)\n",
    "    os.mkdir(folder)\n",
    "    print(run.name)\n",
    "    agent = load_best_model(get_agent_from_run_cfg(run.config), run)\n",
    "    fabric = LunarEnvHypercubeFabric(run.config['training']['pass_env_parameters'], run.config['env'], points_per_axis=5, render_mode='rgb_array') \n",
    "    number_points = fabric.number_of_test_points()\n",
    "    for i in range(number_points):\n",
    "        env = fabric.generate_env()\n",
    "        gravity, wind_power, turbulence_power = env.gravity, env.wind_power, env.turbulence_power\n",
    "        video_path = f\"{folder}/gravity_{gravity}_wind_{wind_power}_turbulence_{turbulence_power}/\"\n",
    "        os.mkdir(video_path)\n",
    "        env = RecordVideo(env, video_folder=video_path)\n",
    "        obs, _ = env.reset()\n",
    "        rewards = 0\n",
    "        while True:\n",
    "\n",
    "            # Get deterministic action\n",
    "            with T.no_grad():\n",
    "                action = agent.action(obs, addNoise=False)\n",
    "                \n",
    "\n",
    "            # Take step in environment\n",
    "            new_obs, reward, done, _, _ = env.step(action)\n",
    "\n",
    "            # Update obs\n",
    "            obs = new_obs\n",
    "\n",
    "            # Update rewards\n",
    "            rewards += reward\n",
    "\n",
    "            # End episode if done\n",
    "            if done:\n",
    "                break\n",
    "        print(f\"gravity: {gravity}, wind_power: {wind_power}, turbulence_power: {turbulence_power}, reward: {rewards}\")\n",
    "        res.append({\"gravity\": gravity, \"wind_power\": wind_power, \"turbulence_power\": turbulence_power, \"reward\": rewards})\n",
    "    df = pd.DataFrame(res)\n",
    "    df.to_csv(f\"{folder}/results.csv\", index=False)"
   ]
  },
  {
   "cell_type": "code",
   "execution_count": 8,
   "metadata": {},
   "outputs": [],
   "source": [
    "df = pd.DataFrame(res)\n"
   ]
  },
  {
   "cell_type": "code",
   "execution_count": 10,
   "metadata": {},
   "outputs": [
    {
     "data": {
      "text/plain": [
       "Index(['gravity', 'wind_power', 'turbulence_power', 'reward'], dtype='object')"
      ]
     },
     "execution_count": 10,
     "metadata": {},
     "output_type": "execute_result"
    }
   ],
   "source": [
    "df.columns"
   ]
  },
  {
   "cell_type": "code",
   "execution_count": 11,
   "metadata": {},
   "outputs": [
    {
     "data": {
      "application/vnd.plotly.v1+json": {
       "config": {
        "plotlyServerURL": "https://plot.ly"
       },
       "data": [
        {
         "hovertemplate": "gravity=%{x}<br>wind_power=%{y}<br>turbulence_power=%{z}<br>reward=%{marker.color}<extra></extra>",
         "legendgroup": "",
         "marker": {
          "color": [
           -50.50733376321047,
           299.34459264571285,
           -386.0489342204303,
           -68.63559087139706,
           32.18606298525111,
           198.17288847092578,
           267.07646446234094,
           289.8575827307832,
           295.103735378293,
           297.35092315014253,
           305.4568607487145,
           293.69123303503505,
           283.6917334529623,
           302.93386867718357,
           290.2190931916889,
           292.86233328120034,
           298.19619062584286,
           297.13763361827233,
           305.24869308796286,
           293.5103647214652,
           297.8483044701055,
           -147.32483468996105,
           -169.38114751076267,
           -134.53062797498518,
           -117.15039237548291,
           -93.77096715799038,
           -126.17893936161452,
           -283.6822148952268,
           -847.2287051797624,
           -2254.03165565213
          ],
          "coloraxis": "coloraxis",
          "symbol": "circle"
         },
         "mode": "markers",
         "name": "",
         "scene": "scene",
         "showlegend": false,
         "type": "scatter3d",
         "x": [
          -11.999,
          -5.99955,
          -0.0001,
          -11.999,
          -11.999,
          -11.999,
          -11.999,
          -11.999,
          -11.999,
          -11.999,
          -11.999,
          -11.999,
          -5.99955,
          -5.99955,
          -5.99955,
          -5.99955,
          -5.99955,
          -5.99955,
          -5.99955,
          -5.99955,
          -5.99955,
          -0.0001,
          -0.0001,
          -0.0001,
          -0.0001,
          -0.0001,
          -0.0001,
          -0.0001,
          -0.0001,
          -0.0001
         ],
         "y": [
          0,
          0,
          0,
          0,
          0,
          0,
          5,
          5,
          5,
          10,
          10,
          10,
          0,
          0,
          0,
          5,
          5,
          5,
          10,
          10,
          10,
          0,
          0,
          0,
          5,
          5,
          5,
          10,
          10,
          10
         ],
         "z": [
          0,
          0,
          0,
          0,
          0.5,
          1,
          0,
          0.5,
          1,
          0,
          0.5,
          1,
          0,
          0.5,
          1,
          0,
          0.5,
          1,
          0,
          0.5,
          1,
          0,
          0.5,
          1,
          0,
          0.5,
          1,
          0,
          0.5,
          1
         ]
        }
       ],
       "layout": {
        "coloraxis": {
         "colorbar": {
          "title": {
           "text": "reward"
          }
         },
         "colorscale": [
          [
           0,
           "#0d0887"
          ],
          [
           0.1111111111111111,
           "#46039f"
          ],
          [
           0.2222222222222222,
           "#7201a8"
          ],
          [
           0.3333333333333333,
           "#9c179e"
          ],
          [
           0.4444444444444444,
           "#bd3786"
          ],
          [
           0.5555555555555556,
           "#d8576b"
          ],
          [
           0.6666666666666666,
           "#ed7953"
          ],
          [
           0.7777777777777778,
           "#fb9f3a"
          ],
          [
           0.8888888888888888,
           "#fdca26"
          ],
          [
           1,
           "#f0f921"
          ]
         ]
        },
        "legend": {
         "tracegroupgap": 0
        },
        "margin": {
         "t": 60
        },
        "scene": {
         "domain": {
          "x": [
           0,
           1
          ],
          "y": [
           0,
           1
          ]
         },
         "xaxis": {
          "title": {
           "text": "gravity"
          }
         },
         "yaxis": {
          "title": {
           "text": "wind_power"
          }
         },
         "zaxis": {
          "title": {
           "text": "turbulence_power"
          }
         }
        },
        "template": {
         "data": {
          "bar": [
           {
            "error_x": {
             "color": "#2a3f5f"
            },
            "error_y": {
             "color": "#2a3f5f"
            },
            "marker": {
             "line": {
              "color": "#E5ECF6",
              "width": 0.5
             },
             "pattern": {
              "fillmode": "overlay",
              "size": 10,
              "solidity": 0.2
             }
            },
            "type": "bar"
           }
          ],
          "barpolar": [
           {
            "marker": {
             "line": {
              "color": "#E5ECF6",
              "width": 0.5
             },
             "pattern": {
              "fillmode": "overlay",
              "size": 10,
              "solidity": 0.2
             }
            },
            "type": "barpolar"
           }
          ],
          "carpet": [
           {
            "aaxis": {
             "endlinecolor": "#2a3f5f",
             "gridcolor": "white",
             "linecolor": "white",
             "minorgridcolor": "white",
             "startlinecolor": "#2a3f5f"
            },
            "baxis": {
             "endlinecolor": "#2a3f5f",
             "gridcolor": "white",
             "linecolor": "white",
             "minorgridcolor": "white",
             "startlinecolor": "#2a3f5f"
            },
            "type": "carpet"
           }
          ],
          "choropleth": [
           {
            "colorbar": {
             "outlinewidth": 0,
             "ticks": ""
            },
            "type": "choropleth"
           }
          ],
          "contour": [
           {
            "colorbar": {
             "outlinewidth": 0,
             "ticks": ""
            },
            "colorscale": [
             [
              0,
              "#0d0887"
             ],
             [
              0.1111111111111111,
              "#46039f"
             ],
             [
              0.2222222222222222,
              "#7201a8"
             ],
             [
              0.3333333333333333,
              "#9c179e"
             ],
             [
              0.4444444444444444,
              "#bd3786"
             ],
             [
              0.5555555555555556,
              "#d8576b"
             ],
             [
              0.6666666666666666,
              "#ed7953"
             ],
             [
              0.7777777777777778,
              "#fb9f3a"
             ],
             [
              0.8888888888888888,
              "#fdca26"
             ],
             [
              1,
              "#f0f921"
             ]
            ],
            "type": "contour"
           }
          ],
          "contourcarpet": [
           {
            "colorbar": {
             "outlinewidth": 0,
             "ticks": ""
            },
            "type": "contourcarpet"
           }
          ],
          "heatmap": [
           {
            "colorbar": {
             "outlinewidth": 0,
             "ticks": ""
            },
            "colorscale": [
             [
              0,
              "#0d0887"
             ],
             [
              0.1111111111111111,
              "#46039f"
             ],
             [
              0.2222222222222222,
              "#7201a8"
             ],
             [
              0.3333333333333333,
              "#9c179e"
             ],
             [
              0.4444444444444444,
              "#bd3786"
             ],
             [
              0.5555555555555556,
              "#d8576b"
             ],
             [
              0.6666666666666666,
              "#ed7953"
             ],
             [
              0.7777777777777778,
              "#fb9f3a"
             ],
             [
              0.8888888888888888,
              "#fdca26"
             ],
             [
              1,
              "#f0f921"
             ]
            ],
            "type": "heatmap"
           }
          ],
          "heatmapgl": [
           {
            "colorbar": {
             "outlinewidth": 0,
             "ticks": ""
            },
            "colorscale": [
             [
              0,
              "#0d0887"
             ],
             [
              0.1111111111111111,
              "#46039f"
             ],
             [
              0.2222222222222222,
              "#7201a8"
             ],
             [
              0.3333333333333333,
              "#9c179e"
             ],
             [
              0.4444444444444444,
              "#bd3786"
             ],
             [
              0.5555555555555556,
              "#d8576b"
             ],
             [
              0.6666666666666666,
              "#ed7953"
             ],
             [
              0.7777777777777778,
              "#fb9f3a"
             ],
             [
              0.8888888888888888,
              "#fdca26"
             ],
             [
              1,
              "#f0f921"
             ]
            ],
            "type": "heatmapgl"
           }
          ],
          "histogram": [
           {
            "marker": {
             "pattern": {
              "fillmode": "overlay",
              "size": 10,
              "solidity": 0.2
             }
            },
            "type": "histogram"
           }
          ],
          "histogram2d": [
           {
            "colorbar": {
             "outlinewidth": 0,
             "ticks": ""
            },
            "colorscale": [
             [
              0,
              "#0d0887"
             ],
             [
              0.1111111111111111,
              "#46039f"
             ],
             [
              0.2222222222222222,
              "#7201a8"
             ],
             [
              0.3333333333333333,
              "#9c179e"
             ],
             [
              0.4444444444444444,
              "#bd3786"
             ],
             [
              0.5555555555555556,
              "#d8576b"
             ],
             [
              0.6666666666666666,
              "#ed7953"
             ],
             [
              0.7777777777777778,
              "#fb9f3a"
             ],
             [
              0.8888888888888888,
              "#fdca26"
             ],
             [
              1,
              "#f0f921"
             ]
            ],
            "type": "histogram2d"
           }
          ],
          "histogram2dcontour": [
           {
            "colorbar": {
             "outlinewidth": 0,
             "ticks": ""
            },
            "colorscale": [
             [
              0,
              "#0d0887"
             ],
             [
              0.1111111111111111,
              "#46039f"
             ],
             [
              0.2222222222222222,
              "#7201a8"
             ],
             [
              0.3333333333333333,
              "#9c179e"
             ],
             [
              0.4444444444444444,
              "#bd3786"
             ],
             [
              0.5555555555555556,
              "#d8576b"
             ],
             [
              0.6666666666666666,
              "#ed7953"
             ],
             [
              0.7777777777777778,
              "#fb9f3a"
             ],
             [
              0.8888888888888888,
              "#fdca26"
             ],
             [
              1,
              "#f0f921"
             ]
            ],
            "type": "histogram2dcontour"
           }
          ],
          "mesh3d": [
           {
            "colorbar": {
             "outlinewidth": 0,
             "ticks": ""
            },
            "type": "mesh3d"
           }
          ],
          "parcoords": [
           {
            "line": {
             "colorbar": {
              "outlinewidth": 0,
              "ticks": ""
             }
            },
            "type": "parcoords"
           }
          ],
          "pie": [
           {
            "automargin": true,
            "type": "pie"
           }
          ],
          "scatter": [
           {
            "fillpattern": {
             "fillmode": "overlay",
             "size": 10,
             "solidity": 0.2
            },
            "type": "scatter"
           }
          ],
          "scatter3d": [
           {
            "line": {
             "colorbar": {
              "outlinewidth": 0,
              "ticks": ""
             }
            },
            "marker": {
             "colorbar": {
              "outlinewidth": 0,
              "ticks": ""
             }
            },
            "type": "scatter3d"
           }
          ],
          "scattercarpet": [
           {
            "marker": {
             "colorbar": {
              "outlinewidth": 0,
              "ticks": ""
             }
            },
            "type": "scattercarpet"
           }
          ],
          "scattergeo": [
           {
            "marker": {
             "colorbar": {
              "outlinewidth": 0,
              "ticks": ""
             }
            },
            "type": "scattergeo"
           }
          ],
          "scattergl": [
           {
            "marker": {
             "colorbar": {
              "outlinewidth": 0,
              "ticks": ""
             }
            },
            "type": "scattergl"
           }
          ],
          "scattermapbox": [
           {
            "marker": {
             "colorbar": {
              "outlinewidth": 0,
              "ticks": ""
             }
            },
            "type": "scattermapbox"
           }
          ],
          "scatterpolar": [
           {
            "marker": {
             "colorbar": {
              "outlinewidth": 0,
              "ticks": ""
             }
            },
            "type": "scatterpolar"
           }
          ],
          "scatterpolargl": [
           {
            "marker": {
             "colorbar": {
              "outlinewidth": 0,
              "ticks": ""
             }
            },
            "type": "scatterpolargl"
           }
          ],
          "scatterternary": [
           {
            "marker": {
             "colorbar": {
              "outlinewidth": 0,
              "ticks": ""
             }
            },
            "type": "scatterternary"
           }
          ],
          "surface": [
           {
            "colorbar": {
             "outlinewidth": 0,
             "ticks": ""
            },
            "colorscale": [
             [
              0,
              "#0d0887"
             ],
             [
              0.1111111111111111,
              "#46039f"
             ],
             [
              0.2222222222222222,
              "#7201a8"
             ],
             [
              0.3333333333333333,
              "#9c179e"
             ],
             [
              0.4444444444444444,
              "#bd3786"
             ],
             [
              0.5555555555555556,
              "#d8576b"
             ],
             [
              0.6666666666666666,
              "#ed7953"
             ],
             [
              0.7777777777777778,
              "#fb9f3a"
             ],
             [
              0.8888888888888888,
              "#fdca26"
             ],
             [
              1,
              "#f0f921"
             ]
            ],
            "type": "surface"
           }
          ],
          "table": [
           {
            "cells": {
             "fill": {
              "color": "#EBF0F8"
             },
             "line": {
              "color": "white"
             }
            },
            "header": {
             "fill": {
              "color": "#C8D4E3"
             },
             "line": {
              "color": "white"
             }
            },
            "type": "table"
           }
          ]
         },
         "layout": {
          "annotationdefaults": {
           "arrowcolor": "#2a3f5f",
           "arrowhead": 0,
           "arrowwidth": 1
          },
          "autotypenumbers": "strict",
          "coloraxis": {
           "colorbar": {
            "outlinewidth": 0,
            "ticks": ""
           }
          },
          "colorscale": {
           "diverging": [
            [
             0,
             "#8e0152"
            ],
            [
             0.1,
             "#c51b7d"
            ],
            [
             0.2,
             "#de77ae"
            ],
            [
             0.3,
             "#f1b6da"
            ],
            [
             0.4,
             "#fde0ef"
            ],
            [
             0.5,
             "#f7f7f7"
            ],
            [
             0.6,
             "#e6f5d0"
            ],
            [
             0.7,
             "#b8e186"
            ],
            [
             0.8,
             "#7fbc41"
            ],
            [
             0.9,
             "#4d9221"
            ],
            [
             1,
             "#276419"
            ]
           ],
           "sequential": [
            [
             0,
             "#0d0887"
            ],
            [
             0.1111111111111111,
             "#46039f"
            ],
            [
             0.2222222222222222,
             "#7201a8"
            ],
            [
             0.3333333333333333,
             "#9c179e"
            ],
            [
             0.4444444444444444,
             "#bd3786"
            ],
            [
             0.5555555555555556,
             "#d8576b"
            ],
            [
             0.6666666666666666,
             "#ed7953"
            ],
            [
             0.7777777777777778,
             "#fb9f3a"
            ],
            [
             0.8888888888888888,
             "#fdca26"
            ],
            [
             1,
             "#f0f921"
            ]
           ],
           "sequentialminus": [
            [
             0,
             "#0d0887"
            ],
            [
             0.1111111111111111,
             "#46039f"
            ],
            [
             0.2222222222222222,
             "#7201a8"
            ],
            [
             0.3333333333333333,
             "#9c179e"
            ],
            [
             0.4444444444444444,
             "#bd3786"
            ],
            [
             0.5555555555555556,
             "#d8576b"
            ],
            [
             0.6666666666666666,
             "#ed7953"
            ],
            [
             0.7777777777777778,
             "#fb9f3a"
            ],
            [
             0.8888888888888888,
             "#fdca26"
            ],
            [
             1,
             "#f0f921"
            ]
           ]
          },
          "colorway": [
           "#636efa",
           "#EF553B",
           "#00cc96",
           "#ab63fa",
           "#FFA15A",
           "#19d3f3",
           "#FF6692",
           "#B6E880",
           "#FF97FF",
           "#FECB52"
          ],
          "font": {
           "color": "#2a3f5f"
          },
          "geo": {
           "bgcolor": "white",
           "lakecolor": "white",
           "landcolor": "#E5ECF6",
           "showlakes": true,
           "showland": true,
           "subunitcolor": "white"
          },
          "hoverlabel": {
           "align": "left"
          },
          "hovermode": "closest",
          "mapbox": {
           "style": "light"
          },
          "paper_bgcolor": "white",
          "plot_bgcolor": "#E5ECF6",
          "polar": {
           "angularaxis": {
            "gridcolor": "white",
            "linecolor": "white",
            "ticks": ""
           },
           "bgcolor": "#E5ECF6",
           "radialaxis": {
            "gridcolor": "white",
            "linecolor": "white",
            "ticks": ""
           }
          },
          "scene": {
           "xaxis": {
            "backgroundcolor": "#E5ECF6",
            "gridcolor": "white",
            "gridwidth": 2,
            "linecolor": "white",
            "showbackground": true,
            "ticks": "",
            "zerolinecolor": "white"
           },
           "yaxis": {
            "backgroundcolor": "#E5ECF6",
            "gridcolor": "white",
            "gridwidth": 2,
            "linecolor": "white",
            "showbackground": true,
            "ticks": "",
            "zerolinecolor": "white"
           },
           "zaxis": {
            "backgroundcolor": "#E5ECF6",
            "gridcolor": "white",
            "gridwidth": 2,
            "linecolor": "white",
            "showbackground": true,
            "ticks": "",
            "zerolinecolor": "white"
           }
          },
          "shapedefaults": {
           "line": {
            "color": "#2a3f5f"
           }
          },
          "ternary": {
           "aaxis": {
            "gridcolor": "white",
            "linecolor": "white",
            "ticks": ""
           },
           "baxis": {
            "gridcolor": "white",
            "linecolor": "white",
            "ticks": ""
           },
           "bgcolor": "#E5ECF6",
           "caxis": {
            "gridcolor": "white",
            "linecolor": "white",
            "ticks": ""
           }
          },
          "title": {
           "x": 0.05
          },
          "xaxis": {
           "automargin": true,
           "gridcolor": "white",
           "linecolor": "white",
           "ticks": "",
           "title": {
            "standoff": 15
           },
           "zerolinecolor": "white",
           "zerolinewidth": 2
          },
          "yaxis": {
           "automargin": true,
           "gridcolor": "white",
           "linecolor": "white",
           "ticks": "",
           "title": {
            "standoff": 15
           },
           "zerolinecolor": "white",
           "zerolinewidth": 2
          }
         }
        }
       }
      }
     },
     "metadata": {},
     "output_type": "display_data"
    }
   ],
   "source": [
    "fig = px.scatter_3d(df, x='gravity', y='wind_power', z='turbulence_power',\n",
    "              color='reward')\n",
    "fig.show()"
   ]
  },
  {
   "cell_type": "code",
   "execution_count": 7,
   "metadata": {},
   "outputs": [],
   "source": [
    "with initialize(version_base=None, config_path=\"conf\"):\n",
    "    cfg = compose(config_name=\"config\")\n",
    "    "
   ]
  },
  {
   "cell_type": "code",
   "execution_count": 10,
   "metadata": {},
   "outputs": [
    {
     "name": "stderr",
     "output_type": "stream",
     "text": [
      "c:\\Users\\volob\\.conda\\envs\\adlr\\lib\\site-packages\\gymnasium\\spaces\\box.py:127: UserWarning: \u001b[33mWARN: Box bound precision lowered by casting to float32\u001b[0m\n",
      "  logger.warn(f\"Box bound precision lowered by casting to {self.dtype}\")\n"
     ]
    }
   ],
   "source": [
    "env_fabric = LunarEnvHypercubeFabric(env_params=cfg.env, pass_env_params=True)\n",
    "env = env_fabric.generate_env()\n",
    "env_info = {\"input_dims\":env.observation_space.shape, \"n_actions\": env.action_space.shape[0], \"max_action\": env.action_space.high}"
   ]
  },
  {
   "cell_type": "code",
   "execution_count": 19,
   "metadata": {},
   "outputs": [
    {
     "data": {
      "application/vnd.jupyter.widget-view+json": {
       "model_id": "3228a8334dc64712b89ecd842dd91a0e",
       "version_major": 2,
       "version_minor": 0
      },
      "text/plain": [
       "interactive(children=(FloatSlider(value=-10.0, description='g', max=0.0, min=-12.0), FloatSlider(value=0.0, de…"
      ]
     },
     "metadata": {},
     "output_type": "display_data"
    }
   ],
   "source": [
    "@widgets.interact_manual(g=(-12.0, 0.0), wind_power=(0.0, 20.0), turbulence_power=(0.0, 2.0)\n",
    "                         )\n",
    "def make_video(g=-10, wind_power=0.0, turbulence_power=0.0, plot_every_action=5):\n",
    "    env = gym.make('LunarLander-v2', continuous=True, render_mode='rgb_array', gravity=g , enable_wind=True, wind_power=wind_power, \n",
    "             turbulence_power=turbulence_power)\n",
    "    obs, info = env.reset()\n",
    "    step = 0\n",
    "    while True:\n",
    "        action = agent.action(obs, addNoise=False)\n",
    "        new_obs, reward, done, _, _ = env.step(action)\n",
    "        if step % plot_every_action == 0:\n",
    "            clear_output(wait=True)\n",
    "            plt.imshow( env.render())\n",
    "            plt.show()\n",
    "        step += 1\n",
    "        if done:\n",
    "            break\n",
    "    env.close()"
   ]
  }
 ],
 "metadata": {
  "kernelspec": {
   "display_name": "adlr",
   "language": "python",
   "name": "python3"
  },
  "language_info": {
   "codemirror_mode": {
    "name": "ipython",
    "version": 3
   },
   "file_extension": ".py",
   "mimetype": "text/x-python",
   "name": "python",
   "nbconvert_exporter": "python",
   "pygments_lexer": "ipython3",
   "version": "3.10.6"
  },
  "orig_nbformat": 4,
  "vscode": {
   "interpreter": {
    "hash": "c91d451bd703414ea6641230092ee74a3e06cec0bad9897d20ace1c483b6d6d8"
   }
  }
 },
 "nbformat": 4,
 "nbformat_minor": 2
}
