{
 "cells": [
  {
   "cell_type": "code",
   "execution_count": 2,
   "metadata": {},
   "outputs": [],
   "source": [
    "import wandb"
   ]
  },
  {
   "cell_type": "code",
   "execution_count": 3,
   "metadata": {},
   "outputs": [
    {
     "name": "stderr",
     "output_type": "stream",
     "text": [
      "Failed to detect the name of this notebook, you can set it manually with the WANDB_NOTEBOOK_NAME environment variable to enable code saving.\n",
      "\u001b[34m\u001b[1mwandb\u001b[0m: Currently logged in as: \u001b[33msergeyer\u001b[0m (\u001b[33mtum-adlr-ws22-06\u001b[0m). Use \u001b[1m`wandb login --relogin`\u001b[0m to force relogin\n"
     ]
    },
    {
     "data": {
      "text/plain": [
       "True"
      ]
     },
     "execution_count": 3,
     "metadata": {},
     "output_type": "execute_result"
    }
   ],
   "source": [
    "wandb.login()"
   ]
  },
  {
   "cell_type": "code",
   "execution_count": 4,
   "metadata": {},
   "outputs": [],
   "source": [
    "#python run_sweep.py agent=sac2 sweep.sweep_id=tum-adlr-ws22-06/adlr_sweeps/73g46jzj\n",
    "sac2_env_params_sweep_configuration = {\n",
    "    'name': 'sac_2_input_env_params',\n",
    "    'method': 'bayes',\n",
    "    'metric': {'goal': 'maximize', 'name': 'Max eval reward'},\n",
    "    'parameters': \n",
    "    {\n",
    "        'agent_sweep': {\n",
    "            'parameters': {\n",
    "                'pi_lr': {'max': 0.1, 'min': 0.0001, 'distribution': 'log_uniform_values'},\n",
    "                'q_lr' : {'max': 0.1, 'min': 0.0001, 'distribution': 'log_uniform_values'},\n",
    "            }\n",
    "        },\n",
    "        \n",
    "        'training_sweep': {\n",
    "            'parameters': {\n",
    "                'pass_env_parameters': {'values': [True]}\n",
    "            }\n",
    "        \n",
    "     }\n",
    "    }\n",
    "}"
   ]
  },
  {
   "cell_type": "code",
   "execution_count": 5,
   "metadata": {},
   "outputs": [
    {
     "name": "stdout",
     "output_type": "stream",
     "text": [
      "Create sweep with ID: 73g46jzj\n",
      "Sweep URL: https://wandb.ai/tum-adlr-ws22-06/adlr_sweeps/sweeps/73g46jzj\n"
     ]
    }
   ],
   "source": [
    "sweep_id = wandb.sweep(sweep=sac2_env_params_sweep_configuration, project=\"adlr_sweeps\", entity=\"tum-adlr-ws22-06\")"
   ]
  },
  {
   "cell_type": "code",
   "execution_count": 7,
   "metadata": {},
   "outputs": [],
   "source": [
    "#python run_sweep.py agent=sac2 sweep.sweep_id=tum-adlr-ws22-06/adlr_sweeps/zm25vry1\n",
    "sac2_no_env_params_sweep_configuration = {\n",
    "    'name': 'sac_2_without_env_params',\n",
    "    'method': 'bayes',\n",
    "    'metric': {'goal': 'maximize', 'name': 'Max eval reward'},\n",
    "    'parameters': \n",
    "    {\n",
    "        'agent_sweep': {\n",
    "            'parameters': {\n",
    "                'pi_lr': {'max': 0.1, 'min': 0.0001, 'distribution': 'log_uniform_values'},\n",
    "                'q_lr' : {'max': 0.1, 'min': 0.0001, 'distribution': 'log_uniform_values'},\n",
    "            }\n",
    "        },\n",
    "        \n",
    "        'training_sweep': {\n",
    "            'parameters': {\n",
    "                'pass_env_parameters': {'values': [False]}\n",
    "            }\n",
    "        \n",
    "     }\n",
    "    }\n",
    "}"
   ]
  },
  {
   "cell_type": "code",
   "execution_count": 8,
   "metadata": {},
   "outputs": [
    {
     "name": "stdout",
     "output_type": "stream",
     "text": [
      "Create sweep with ID: zm25vry1\n",
      "Sweep URL: https://wandb.ai/tum-adlr-ws22-06/adlr_sweeps/sweeps/zm25vry1\n"
     ]
    }
   ],
   "source": [
    "sweep_id = wandb.sweep(sweep=sac2_no_env_params_sweep_configuration, project=\"adlr_sweeps\", entity=\"tum-adlr-ws22-06\")"
   ]
  },
  {
   "cell_type": "code",
   "execution_count": 10,
   "metadata": {},
   "outputs": [],
   "source": [
    "#python run_sweep.py agent=sac sweep.sweep_id=tum-adlr-ws22-06/adlr_sweeps/jhb4afc9\n",
    "sac_env_params_sweep_configuration = {\n",
    "    'name': 'sac_input_env_params',\n",
    "    'method': 'bayes',\n",
    "    'metric': {'goal': 'maximize', 'name': 'Max eval reward'},\n",
    "    'parameters': \n",
    "    {\n",
    "        'agent_sweep': {\n",
    "            'parameters': {\n",
    "                'pi_lr': {'max': 0.1, 'min': 0.0001, 'distribution': 'log_uniform_values'},\n",
    "                'q_lr' : {'max': 0.1, 'min': 0.0001, 'distribution': 'log_uniform_values'},\n",
    "            }\n",
    "        },\n",
    "        \n",
    "        'training_sweep': {\n",
    "            'parameters': {\n",
    "                'pass_env_parameters': {'values': [True]}\n",
    "            }\n",
    "        \n",
    "     }\n",
    "    }\n",
    "}"
   ]
  },
  {
   "cell_type": "code",
   "execution_count": 11,
   "metadata": {},
   "outputs": [
    {
     "name": "stdout",
     "output_type": "stream",
     "text": [
      "Create sweep with ID: jhb4afc9\n",
      "Sweep URL: https://wandb.ai/tum-adlr-ws22-06/adlr_sweeps/sweeps/jhb4afc9\n"
     ]
    }
   ],
   "source": [
    "sweep_id = wandb.sweep(sweep=sac_env_params_sweep_configuration, project=\"adlr_sweeps\", entity=\"tum-adlr-ws22-06\")"
   ]
  },
  {
   "cell_type": "code",
   "execution_count": 12,
   "metadata": {},
   "outputs": [],
   "source": [
    "#python run_sweep.py agent=sac sweep.sweep_id=tum-adlr-ws22-06/adlr_sweeps/77etvwi6\n",
    "sac_no_env_params_sweep_configuration = {\n",
    "    'name': 'sac_without_env_params',\n",
    "    'method': 'bayes',\n",
    "    'metric': {'goal': 'maximize', 'name': 'Max eval reward'},\n",
    "    'parameters': \n",
    "    {\n",
    "        'agent_sweep': {\n",
    "            'parameters': {\n",
    "                'pi_lr': {'max': 0.1, 'min': 0.0001, 'distribution': 'log_uniform_values'},\n",
    "                'q_lr' : {'max': 0.1, 'min': 0.0001, 'distribution': 'log_uniform_values'},\n",
    "            }\n",
    "        },\n",
    "        \n",
    "        'training_sweep': {\n",
    "            'parameters': {\n",
    "                'pass_env_parameters': {'values': [False]}\n",
    "            }\n",
    "        \n",
    "     }\n",
    "    }\n",
    "}"
   ]
  },
  {
   "cell_type": "code",
   "execution_count": 13,
   "metadata": {},
   "outputs": [
    {
     "name": "stdout",
     "output_type": "stream",
     "text": [
      "Create sweep with ID: 77etvwi6\n",
      "Sweep URL: https://wandb.ai/tum-adlr-ws22-06/adlr_sweeps/sweeps/77etvwi6\n"
     ]
    }
   ],
   "source": [
    "sweep_id = wandb.sweep(sweep=sac_no_env_params_sweep_configuration, project=\"adlr_sweeps\", entity=\"tum-adlr-ws22-06\")"
   ]
  }
 ],
 "metadata": {
  "kernelspec": {
   "display_name": "adlr",
   "language": "python",
   "name": "python3"
  },
  "language_info": {
   "codemirror_mode": {
    "name": "ipython",
    "version": 3
   },
   "file_extension": ".py",
   "mimetype": "text/x-python",
   "name": "python",
   "nbconvert_exporter": "python",
   "pygments_lexer": "ipython3",
   "version": "3.10.6"
  },
  "orig_nbformat": 4,
  "vscode": {
   "interpreter": {
    "hash": "c91d451bd703414ea6641230092ee74a3e06cec0bad9897d20ace1c483b6d6d8"
   }
  }
 },
 "nbformat": 4,
 "nbformat_minor": 2
}
